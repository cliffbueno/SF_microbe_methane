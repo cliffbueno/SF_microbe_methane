{
 "cells": [
  {
   "cell_type": "markdown",
   "metadata": {},
   "source": [
    "# Get 16S correlations \n",
    "- calculate corr tables used for 16S & guilds\n",
    "- CH4 ~ genus, OTU (genus preferred for tables/figs) \n",
    "- This is slow (very slow for OTUs) - correlation cells commented out\n",
    "- ...\n",
    "- note an older method exisited for separate OTU & genus corrs, appended at end \n",
    "- not sure what bug was, recreated sloppy code patch\n"
   ]
  },
  {
   "cell_type": "raw",
   "metadata": {},
   "source": [
    "- NEED TO LOG 2 transform OTU counts first?"
   ]
  },
  {
   "cell_type": "markdown",
   "metadata": {},
   "source": [
    "# 1) import data\n",
    "\n",
    "- post processing here, should be in a different module...but isn't"
   ]
  },
  {
   "cell_type": "code",
   "execution_count": 30,
   "metadata": {},
   "outputs": [
    {
     "name": "stderr",
     "output_type": "stream",
     "text": [
      "You're using mctoolsr (v.0.1.1.2). Direct inquiries to:\n",
      "'https://github.com/leffj/mctoolsr'\n",
      "\n"
     ]
    }
   ],
   "source": [
    "suppressMessages(library(dplyr))\n",
    "suppressMessages(library(rlang))\n",
    "library(mctoolsr)"
   ]
  },
  {
   "cell_type": "code",
   "execution_count": 1,
   "metadata": {},
   "outputs": [],
   "source": [
    "# Import OTU Table\n",
    "SilvaOTUs <- read.table(\"../silvaOTUs/Silva_OTU_VSTcpm.txt\", sep='\\t')#, row.names=1)\n",
    "#iTaggerOTUs <- read.table(\"../data/iTaggerOTUs/SF_Sal_OTU_VSTcpm.txt\", sep='\\t', row.names=1, header=T)\n",
    "row.names(SilvaOTUs) <- SilvaOTUs[,\"OTU\"]                                # Make OTU row names -- required!!!  only for silva?\n",
    "SilvaOTUs <- SilvaOTUs[,-1]"
   ]
  },
  {
   "cell_type": "code",
   "execution_count": 18,
   "metadata": {},
   "outputs": [],
   "source": [
    "# SilvaOTUs"
   ]
  },
  {
   "cell_type": "code",
   "execution_count": 3,
   "metadata": {},
   "outputs": [],
   "source": [
    "# otu_V <- iTaggerOTUs \n",
    "otu_V <- SilvaOTUs"
   ]
  },
  {
   "cell_type": "code",
   "execution_count": 4,
   "metadata": {},
   "outputs": [],
   "source": [
    "# Sort OTU table                                                                      \n",
    "otu_V <- otu_V[order(otu_V$Consensus.lineage),]                                                         # sort by lineage\n",
    "\n",
    "# Make new top level plotting var (should be in PRE-PROCESS ? )\n",
    "otu_V$Taxonomy <- ifelse(otu_V$Phylum == \"Proteobacteria\", paste(otu_V$Class), paste(otu_V$Phylum))    # head(otu_V)\n",
    "otu_V <- data.frame(otu_V)"
   ]
  },
  {
   "cell_type": "code",
   "execution_count": 5,
   "metadata": {},
   "outputs": [],
   "source": [
    "# METADATA\n",
    "metaDB <-read.table(\"../data/meta/SF_sal_meta_FIX3.txt\", sep=\"\\t\", header=TRUE)               # import Mapping    # # try keeping all params...\n"
   ]
  },
  {
   "cell_type": "code",
   "execution_count": 6,
   "metadata": {
    "tags": []
   },
   "outputs": [],
   "source": [
    "# Prune metadata to only iTag samples\n",
    "# Get Sample names in OTU table               \n",
    "OTU_samps <- data.frame('Sample'=colnames(otu_V))                                        # OTU_samps\n",
    "\n",
    "# Merge site order and Samples\n",
    "Meta_iTag <- merge(metaDB, OTU_samps, by='Sample')                                       #colnames(metaDB)\n",
    "rownames(Meta_iTag) <- Meta_iTag$Sample"
   ]
  },
  {
   "cell_type": "code",
   "execution_count": 7,
   "metadata": {
    "tags": []
   },
   "outputs": [],
   "source": [
    "# add any extra variables as needed                                                      # head(Meta_iTag)  #colnames(Meta_iTag)\n",
    "CH4 <- Meta_iTag$CH4_ug_m2_h\n",
    "Meta_iTag$CH4_logn1 <- log10(CH4 - (1.05*min(CH4)))   "
   ]
  },
  {
   "cell_type": "code",
   "execution_count": 8,
   "metadata": {},
   "outputs": [],
   "source": [
    "#metaDB\n",
    "# Meta_iTag['CH4_logn1']"
   ]
  },
  {
   "cell_type": "markdown",
   "metadata": {},
   "source": [
    "## 1a) log2 transform count data\n",
    "- equivalent code somewhere?"
   ]
  },
  {
   "cell_type": "code",
   "execution_count": 9,
   "metadata": {},
   "outputs": [],
   "source": [
    "# otu_V"
   ]
  },
  {
   "cell_type": "markdown",
   "metadata": {},
   "source": [
    "# 2) Corr ranks to OTU & genus level\n",
    "- OTUs are a separate call as slow"
   ]
  },
  {
   "cell_type": "code",
   "execution_count": 10,
   "metadata": {},
   "outputs": [
    {
     "name": "stderr",
     "output_type": "stream",
     "text": [
      "Loading required package: lattice\n",
      "\n",
      "Loading required package: survival\n",
      "\n",
      "Loading required package: Formula\n",
      "\n",
      "Loading required package: ggplot2\n",
      "\n",
      "\n",
      "Attaching package: ‘Hmisc’\n",
      "\n",
      "\n",
      "The following objects are masked from ‘package:base’:\n",
      "\n",
      "    format.pval, units\n",
      "\n",
      "\n",
      "\n",
      "Attaching package: ‘gplots’\n",
      "\n",
      "\n",
      "The following object is masked from ‘package:stats’:\n",
      "\n",
      "    lowess\n",
      "\n",
      "\n"
     ]
    }
   ],
   "source": [
    "source(\"../modules/6_Corr_ranks_module_v0.3.3_strip.R\")"
   ]
  },
  {
   "cell_type": "code",
   "execution_count": 11,
   "metadata": {},
   "outputs": [
    {
     "data": {
      "text/html": [
       "<table class=\"dataframe\">\n",
       "<caption>A data.frame: 6 × 17</caption>\n",
       "<thead>\n",
       "\t<tr><th></th><th scope=col>Consensus.lineage</th><th scope=col>Kingdom</th><th scope=col>Phylum</th><th scope=col>Class</th><th scope=col>Order</th><th scope=col>Family</th><th scope=col>Genus</th><th scope=col>Taxonomy</th><th scope=col>OTU</th><th scope=col>Kingdom_r</th><th scope=col>Phylum_r</th><th scope=col>Class_r</th><th scope=col>Order_r</th><th scope=col>Family_r</th><th scope=col>Genus_r</th><th scope=col>Taxonomy_r</th><th scope=col>OTU_r</th></tr>\n",
       "\t<tr><th></th><th scope=col>&lt;chr&gt;</th><th scope=col>&lt;chr&gt;</th><th scope=col>&lt;chr&gt;</th><th scope=col>&lt;chr&gt;</th><th scope=col>&lt;chr&gt;</th><th scope=col>&lt;chr&gt;</th><th scope=col>&lt;chr&gt;</th><th scope=col>&lt;chr&gt;</th><th scope=col>&lt;chr&gt;</th><th scope=col>&lt;dbl&gt;</th><th scope=col>&lt;dbl&gt;</th><th scope=col>&lt;dbl&gt;</th><th scope=col>&lt;dbl&gt;</th><th scope=col>&lt;dbl&gt;</th><th scope=col>&lt;dbl&gt;</th><th scope=col>&lt;dbl&gt;</th><th scope=col>&lt;dbl&gt;</th></tr>\n",
       "</thead>\n",
       "<tbody>\n",
       "\t<tr><th scope=row>684</th><td>k__Archaea;p__;c__;o__;f__;g__                                                                        </td><td>Archaea</td><td>               </td><td>PH            </td><td>PH              </td><td>PH                </td><td>PH                </td><td>               </td><td>otu_1614</td><td>0.4277461</td><td>0.0000000</td><td>-0.5364815</td><td>-0.5364815</td><td>-0.5364815</td><td>-0.5364815</td><td>0.0000000</td><td>-0.3116288</td></tr>\n",
       "\t<tr><th scope=row>2938</th><td>k__Archaea;p__;c__;o__;f__;g__                                                                        </td><td>Archaea</td><td>               </td><td>PH            </td><td>PH              </td><td>PH                </td><td>PH                </td><td>               </td><td>otu_3660</td><td>0.4277461</td><td>0.0000000</td><td>-0.5364815</td><td>-0.5364815</td><td>-0.5364815</td><td>-0.5364815</td><td>0.0000000</td><td>-0.2996046</td></tr>\n",
       "\t<tr><th scope=row>3770</th><td>k__Archaea;p__;c__;o__;f__;g__                                                                        </td><td>Archaea</td><td>               </td><td>PH            </td><td>PH              </td><td>PH                </td><td>PH                </td><td>               </td><td>otu_4420</td><td>0.4277461</td><td>0.0000000</td><td>-0.5364815</td><td>-0.5364815</td><td>-0.5364815</td><td>-0.5364815</td><td>0.0000000</td><td> 0.0000000</td></tr>\n",
       "\t<tr><th scope=row>4198</th><td>k__Archaea;p__Aenigmarchaeota;c__Aenigmarchaeia;o__Aenigmarchaeales;f__;g__                           </td><td>Archaea</td><td>Aenigmarchaeota</td><td>Aenigmarchaeia</td><td>Aenigmarchaeales</td><td>AenigmarchaealesOR</td><td>AenigmarchaealesOR</td><td>Aenigmarchaeota</td><td>otu_4814</td><td>0.4277461</td><td>0.0000000</td><td> 0.0000000</td><td> 0.0000000</td><td> 0.0000000</td><td> 0.0000000</td><td>0.0000000</td><td> 0.0000000</td></tr>\n",
       "\t<tr><th scope=row>1013</th><td>k__Archaea;p__Altiarchaeota;c__Altiarchaeia;o__Altiarchaeales;f__Altiarchaeaceae;g__Cand. Altiarchaeum</td><td>Archaea</td><td>Altiarchaeota  </td><td>Altiarchaeia  </td><td>Altiarchaeales  </td><td>Altiarchaeaceae   </td><td>Cand. Altiarchaeum</td><td>Altiarchaeota  </td><td>otu_1912</td><td>0.4277461</td><td>0.6131857</td><td> 0.6131857</td><td> 0.6131857</td><td> 0.6131857</td><td> 0.0000000</td><td>0.6131857</td><td> 0.5978474</td></tr>\n",
       "\t<tr><th scope=row>5439</th><td>k__Archaea;p__Altiarchaeota;c__Altiarchaeia;o__Altiarchaeales;f__Altiarchaeaceae;g__Cand. Altiarchaeum</td><td>Archaea</td><td>Altiarchaeota  </td><td>Altiarchaeia  </td><td>Altiarchaeales  </td><td>Altiarchaeaceae   </td><td>Cand. Altiarchaeum</td><td>Altiarchaeota  </td><td>otu_5947</td><td>0.4277461</td><td>0.6131857</td><td> 0.6131857</td><td> 0.6131857</td><td> 0.6131857</td><td> 0.0000000</td><td>0.6131857</td><td> 0.5190304</td></tr>\n",
       "</tbody>\n",
       "</table>\n"
      ],
      "text/latex": [
       "A data.frame: 6 × 17\n",
       "\\begin{tabular}{r|lllllllllllllllll}\n",
       "  & Consensus.lineage & Kingdom & Phylum & Class & Order & Family & Genus & Taxonomy & OTU & Kingdom\\_r & Phylum\\_r & Class\\_r & Order\\_r & Family\\_r & Genus\\_r & Taxonomy\\_r & OTU\\_r\\\\\n",
       "  & <chr> & <chr> & <chr> & <chr> & <chr> & <chr> & <chr> & <chr> & <chr> & <dbl> & <dbl> & <dbl> & <dbl> & <dbl> & <dbl> & <dbl> & <dbl>\\\\\n",
       "\\hline\n",
       "\t684 & k\\_\\_Archaea;p\\_\\_;c\\_\\_;o\\_\\_;f\\_\\_;g\\_\\_                                                                         & Archaea &                 & PH             & PH               & PH                 & PH                 &                 & otu\\_1614 & 0.4277461 & 0.0000000 & -0.5364815 & -0.5364815 & -0.5364815 & -0.5364815 & 0.0000000 & -0.3116288\\\\\n",
       "\t2938 & k\\_\\_Archaea;p\\_\\_;c\\_\\_;o\\_\\_;f\\_\\_;g\\_\\_                                                                         & Archaea &                 & PH             & PH               & PH                 & PH                 &                 & otu\\_3660 & 0.4277461 & 0.0000000 & -0.5364815 & -0.5364815 & -0.5364815 & -0.5364815 & 0.0000000 & -0.2996046\\\\\n",
       "\t3770 & k\\_\\_Archaea;p\\_\\_;c\\_\\_;o\\_\\_;f\\_\\_;g\\_\\_                                                                         & Archaea &                 & PH             & PH               & PH                 & PH                 &                 & otu\\_4420 & 0.4277461 & 0.0000000 & -0.5364815 & -0.5364815 & -0.5364815 & -0.5364815 & 0.0000000 &  0.0000000\\\\\n",
       "\t4198 & k\\_\\_Archaea;p\\_\\_Aenigmarchaeota;c\\_\\_Aenigmarchaeia;o\\_\\_Aenigmarchaeales;f\\_\\_;g\\_\\_                            & Archaea & Aenigmarchaeota & Aenigmarchaeia & Aenigmarchaeales & AenigmarchaealesOR & AenigmarchaealesOR & Aenigmarchaeota & otu\\_4814 & 0.4277461 & 0.0000000 &  0.0000000 &  0.0000000 &  0.0000000 &  0.0000000 & 0.0000000 &  0.0000000\\\\\n",
       "\t1013 & k\\_\\_Archaea;p\\_\\_Altiarchaeota;c\\_\\_Altiarchaeia;o\\_\\_Altiarchaeales;f\\_\\_Altiarchaeaceae;g\\_\\_Cand. Altiarchaeum & Archaea & Altiarchaeota   & Altiarchaeia   & Altiarchaeales   & Altiarchaeaceae    & Cand. Altiarchaeum & Altiarchaeota   & otu\\_1912 & 0.4277461 & 0.6131857 &  0.6131857 &  0.6131857 &  0.6131857 &  0.0000000 & 0.6131857 &  0.5978474\\\\\n",
       "\t5439 & k\\_\\_Archaea;p\\_\\_Altiarchaeota;c\\_\\_Altiarchaeia;o\\_\\_Altiarchaeales;f\\_\\_Altiarchaeaceae;g\\_\\_Cand. Altiarchaeum & Archaea & Altiarchaeota   & Altiarchaeia   & Altiarchaeales   & Altiarchaeaceae    & Cand. Altiarchaeum & Altiarchaeota   & otu\\_5947 & 0.4277461 & 0.6131857 &  0.6131857 &  0.6131857 &  0.6131857 &  0.0000000 & 0.6131857 &  0.5190304\\\\\n",
       "\\end{tabular}\n"
      ],
      "text/markdown": [
       "\n",
       "A data.frame: 6 × 17\n",
       "\n",
       "| <!--/--> | Consensus.lineage &lt;chr&gt; | Kingdom &lt;chr&gt; | Phylum &lt;chr&gt; | Class &lt;chr&gt; | Order &lt;chr&gt; | Family &lt;chr&gt; | Genus &lt;chr&gt; | Taxonomy &lt;chr&gt; | OTU &lt;chr&gt; | Kingdom_r &lt;dbl&gt; | Phylum_r &lt;dbl&gt; | Class_r &lt;dbl&gt; | Order_r &lt;dbl&gt; | Family_r &lt;dbl&gt; | Genus_r &lt;dbl&gt; | Taxonomy_r &lt;dbl&gt; | OTU_r &lt;dbl&gt; |\n",
       "|---|---|---|---|---|---|---|---|---|---|---|---|---|---|---|---|---|---|\n",
       "| 684 | k__Archaea;p__;c__;o__;f__;g__                                                                         | Archaea | <!----> | PH             | PH               | PH                 | PH                 | <!----> | otu_1614 | 0.4277461 | 0.0000000 | -0.5364815 | -0.5364815 | -0.5364815 | -0.5364815 | 0.0000000 | -0.3116288 |\n",
       "| 2938 | k__Archaea;p__;c__;o__;f__;g__                                                                         | Archaea | <!----> | PH             | PH               | PH                 | PH                 | <!----> | otu_3660 | 0.4277461 | 0.0000000 | -0.5364815 | -0.5364815 | -0.5364815 | -0.5364815 | 0.0000000 | -0.2996046 |\n",
       "| 3770 | k__Archaea;p__;c__;o__;f__;g__                                                                         | Archaea | <!----> | PH             | PH               | PH                 | PH                 | <!----> | otu_4420 | 0.4277461 | 0.0000000 | -0.5364815 | -0.5364815 | -0.5364815 | -0.5364815 | 0.0000000 |  0.0000000 |\n",
       "| 4198 | k__Archaea;p__Aenigmarchaeota;c__Aenigmarchaeia;o__Aenigmarchaeales;f__;g__                            | Archaea | Aenigmarchaeota | Aenigmarchaeia | Aenigmarchaeales | AenigmarchaealesOR | AenigmarchaealesOR | Aenigmarchaeota | otu_4814 | 0.4277461 | 0.0000000 |  0.0000000 |  0.0000000 |  0.0000000 |  0.0000000 | 0.0000000 |  0.0000000 |\n",
       "| 1013 | k__Archaea;p__Altiarchaeota;c__Altiarchaeia;o__Altiarchaeales;f__Altiarchaeaceae;g__Cand. Altiarchaeum | Archaea | Altiarchaeota   | Altiarchaeia   | Altiarchaeales   | Altiarchaeaceae    | Cand. Altiarchaeum | Altiarchaeota   | otu_1912 | 0.4277461 | 0.6131857 |  0.6131857 |  0.6131857 |  0.6131857 |  0.0000000 | 0.6131857 |  0.5978474 |\n",
       "| 5439 | k__Archaea;p__Altiarchaeota;c__Altiarchaeia;o__Altiarchaeales;f__Altiarchaeaceae;g__Cand. Altiarchaeum | Archaea | Altiarchaeota   | Altiarchaeia   | Altiarchaeales   | Altiarchaeaceae    | Cand. Altiarchaeum | Altiarchaeota   | otu_5947 | 0.4277461 | 0.6131857 |  0.6131857 |  0.6131857 |  0.6131857 |  0.0000000 | 0.6131857 |  0.5190304 |\n",
       "\n"
      ],
      "text/plain": [
       "     Consensus.lineage                                                                                     \n",
       "684  k__Archaea;p__;c__;o__;f__;g__                                                                        \n",
       "2938 k__Archaea;p__;c__;o__;f__;g__                                                                        \n",
       "3770 k__Archaea;p__;c__;o__;f__;g__                                                                        \n",
       "4198 k__Archaea;p__Aenigmarchaeota;c__Aenigmarchaeia;o__Aenigmarchaeales;f__;g__                           \n",
       "1013 k__Archaea;p__Altiarchaeota;c__Altiarchaeia;o__Altiarchaeales;f__Altiarchaeaceae;g__Cand. Altiarchaeum\n",
       "5439 k__Archaea;p__Altiarchaeota;c__Altiarchaeia;o__Altiarchaeales;f__Altiarchaeaceae;g__Cand. Altiarchaeum\n",
       "     Kingdom Phylum          Class          Order            Family            \n",
       "684  Archaea                 PH             PH               PH                \n",
       "2938 Archaea                 PH             PH               PH                \n",
       "3770 Archaea                 PH             PH               PH                \n",
       "4198 Archaea Aenigmarchaeota Aenigmarchaeia Aenigmarchaeales AenigmarchaealesOR\n",
       "1013 Archaea Altiarchaeota   Altiarchaeia   Altiarchaeales   Altiarchaeaceae   \n",
       "5439 Archaea Altiarchaeota   Altiarchaeia   Altiarchaeales   Altiarchaeaceae   \n",
       "     Genus              Taxonomy        OTU      Kingdom_r Phylum_r  Class_r   \n",
       "684  PH                                 otu_1614 0.4277461 0.0000000 -0.5364815\n",
       "2938 PH                                 otu_3660 0.4277461 0.0000000 -0.5364815\n",
       "3770 PH                                 otu_4420 0.4277461 0.0000000 -0.5364815\n",
       "4198 AenigmarchaealesOR Aenigmarchaeota otu_4814 0.4277461 0.0000000  0.0000000\n",
       "1013 Cand. Altiarchaeum Altiarchaeota   otu_1912 0.4277461 0.6131857  0.6131857\n",
       "5439 Cand. Altiarchaeum Altiarchaeota   otu_5947 0.4277461 0.6131857  0.6131857\n",
       "     Order_r    Family_r   Genus_r    Taxonomy_r OTU_r     \n",
       "684  -0.5364815 -0.5364815 -0.5364815 0.0000000  -0.3116288\n",
       "2938 -0.5364815 -0.5364815 -0.5364815 0.0000000  -0.2996046\n",
       "3770 -0.5364815 -0.5364815 -0.5364815 0.0000000   0.0000000\n",
       "4198  0.0000000  0.0000000  0.0000000 0.0000000   0.0000000\n",
       "1013  0.6131857  0.6131857  0.0000000 0.6131857   0.5978474\n",
       "5439  0.6131857  0.6131857  0.0000000 0.6131857   0.5190304"
      ]
     },
     "metadata": {},
     "output_type": "display_data"
    }
   ],
   "source": [
    "# Only to genus level: --- OOPS THIS IS OTU somehow, bugs.  Genus should still be valid via aggregation?\n",
    "CH4corrRanks <- corr_TaxRanks(otu_V, Meta_iTag, \"CH4_logn1\")                                  \n",
    "head(CH4corrRanks)"
   ]
  },
  {
   "cell_type": "code",
   "execution_count": 31,
   "metadata": {},
   "outputs": [],
   "source": [
    "# CH4corrRanks"
   ]
  },
  {
   "cell_type": "code",
   "execution_count": 32,
   "metadata": {},
   "outputs": [],
   "source": [
    "write.table(CH4corrRanks, \"correlations/CH4corrRanks_SilvaOTU.txt\", sep = '\\t')"
   ]
  },
  {
   "cell_type": "markdown",
   "metadata": {},
   "source": [
    "### b) Genus only\n",
    "- sloppy, forgot how to R -- this should really use subset by numeric cols\n",
    "- here grab column lists, need to reorder outplut"
   ]
  },
  {
   "cell_type": "code",
   "execution_count": 33,
   "metadata": {},
   "outputs": [],
   "source": [
    "# Get columns for taxa\n",
    "otu_cols <- colnames(otu_V)\n",
    "tax_cols <- unlist(list(\"Consensus.lineage\", \"Kingdom\", \"Phylum\", \"Class\", \"Order\", \"Family\", \"Genus\", \"Taxonomy\"))\n",
    "\n",
    "# taxa only data to append to aggregated\n",
    "tax_data = otu_V[tax_cols]\n",
    "\n",
    "# aggregate counts by genus \n",
    "otu_V_Gagg <- agg_by_cat(otu_V, \"Genus\")\n",
    "otu_V_G <- unique(merge(otu_V_Gagg, tax_data))\n",
    "\n",
    "# reorder columns as initial\n",
    "otu_V_G <- otu_V_G[otu_cols]"
   ]
  },
  {
   "cell_type": "markdown",
   "metadata": {},
   "source": [
    "#### GET CORRS - not esp fast"
   ]
  },
  {
   "cell_type": "code",
   "execution_count": 34,
   "metadata": {},
   "outputs": [],
   "source": [
    "# GET CORRS\n",
    "CH4corrRanks_genus <- corr_TaxRanks(otu_V_G, Meta_iTag, \"CH4_logn1\")                                  # head(CH4corrRanks)"
   ]
  },
  {
   "cell_type": "code",
   "execution_count": 35,
   "metadata": {},
   "outputs": [],
   "source": [
    "# Drop extra columns\n",
    "CH4corrRanks_genus$OTU <-NULL\n",
    "CH4corrRanks_genus$OTU_r <-NULL"
   ]
  },
  {
   "cell_type": "code",
   "execution_count": 36,
   "metadata": {},
   "outputs": [
    {
     "data": {
      "text/html": [
       "<table class=\"dataframe\">\n",
       "<caption>A data.frame: 6 × 15</caption>\n",
       "<thead>\n",
       "\t<tr><th></th><th scope=col>Consensus.lineage</th><th scope=col>Kingdom</th><th scope=col>Phylum</th><th scope=col>Class</th><th scope=col>Order</th><th scope=col>Family</th><th scope=col>Genus</th><th scope=col>Taxonomy</th><th scope=col>Kingdom_r</th><th scope=col>Phylum_r</th><th scope=col>Class_r</th><th scope=col>Order_r</th><th scope=col>Family_r</th><th scope=col>Genus_r</th><th scope=col>Taxonomy_r</th></tr>\n",
       "\t<tr><th></th><th scope=col>&lt;chr&gt;</th><th scope=col>&lt;chr&gt;</th><th scope=col>&lt;chr&gt;</th><th scope=col>&lt;chr&gt;</th><th scope=col>&lt;chr&gt;</th><th scope=col>&lt;chr&gt;</th><th scope=col>&lt;chr&gt;</th><th scope=col>&lt;chr&gt;</th><th scope=col>&lt;dbl&gt;</th><th scope=col>&lt;dbl&gt;</th><th scope=col>&lt;dbl&gt;</th><th scope=col>&lt;dbl&gt;</th><th scope=col>&lt;dbl&gt;</th><th scope=col>&lt;dbl&gt;</th><th scope=col>&lt;dbl&gt;</th></tr>\n",
       "</thead>\n",
       "<tbody>\n",
       "\t<tr><th scope=row>663</th><td>k__Archaea;p__;c__;o__;f__;g__                                                                        </td><td>Archaea</td><td>               </td><td>PH             </td><td>PH              </td><td>PH                </td><td>PH                </td><td>               </td><td>0.2746068</td><td>0.0000000</td><td>-0.5364815</td><td>-0.5364815</td><td>-0.5364815</td><td>-0.5364815</td><td>0.0000000</td></tr>\n",
       "\t<tr><th scope=row>407</th><td>k__Archaea;p__Aenigmarchaeota;c__Aenigmarchaeia;o__Aenigmarchaeales;f__;g__                           </td><td>Archaea</td><td>Aenigmarchaeota</td><td>Aenigmarchaeia </td><td>Aenigmarchaeales</td><td>AenigmarchaealesOR</td><td>AenigmarchaealesOR</td><td>Aenigmarchaeota</td><td>0.2746068</td><td>0.0000000</td><td> 0.0000000</td><td> 0.0000000</td><td> 0.0000000</td><td> 0.0000000</td><td>0.0000000</td></tr>\n",
       "\t<tr><th scope=row>45</th><td>k__Archaea;p__Altiarchaeota;c__Altiarchaeia;o__Altiarchaeales;f__Altiarchaeaceae;g__Cand. Altiarchaeum</td><td>Archaea</td><td>Altiarchaeota  </td><td>Altiarchaeia   </td><td>Altiarchaeales  </td><td>Altiarchaeaceae   </td><td>Cand. Altiarchaeum</td><td>Altiarchaeota  </td><td>0.2746068</td><td>0.6131857</td><td> 0.6131857</td><td> 0.6131857</td><td> 0.6131857</td><td> 0.0000000</td><td>0.6131857</td></tr>\n",
       "\t<tr><th scope=row>478</th><td>k__Archaea;p__Asgardarchaeota;c__Lokiarchaeia;o__;f__;g__                                             </td><td>Archaea</td><td>Asgardarchaeota</td><td>Lokiarchaeia   </td><td>LokiarchaeiaCL  </td><td>LokiarchaeiaCL    </td><td>LokiarchaeiaCL    </td><td>Asgardarchaeota</td><td>0.2746068</td><td>0.0000000</td><td> 0.0000000</td><td> 0.0000000</td><td> 0.0000000</td><td> 0.0000000</td><td>0.0000000</td></tr>\n",
       "\t<tr><th scope=row>152</th><td>k__Archaea;p__Crenarchaeota;c__;o__;f__;g__                                                           </td><td>Archaea</td><td>Crenarchaeota  </td><td>CrenarchaeotaPH</td><td>CrenarchaeotaPH </td><td>CrenarchaeotaPH   </td><td>CrenarchaeotaPH   </td><td>Crenarchaeota  </td><td>0.2746068</td><td>0.1863573</td><td>-0.3348913</td><td>-0.3348913</td><td>-0.3348913</td><td>-0.3348913</td><td>0.1863573</td></tr>\n",
       "\t<tr><th scope=row>1053</th><td>k__Archaea;p__Crenarchaeota;c__Bathyarchaeia;o__;f__;g__                                              </td><td>Archaea</td><td>Crenarchaeota  </td><td>Bathyarchaeia  </td><td>BathyarchaeiaCL </td><td>BathyarchaeiaCL   </td><td>BathyarchaeiaCL   </td><td>Crenarchaeota  </td><td>0.2746068</td><td>0.1863573</td><td> 0.1676165</td><td> 0.1676165</td><td> 0.1676165</td><td> 0.1676165</td><td>0.1863573</td></tr>\n",
       "</tbody>\n",
       "</table>\n"
      ],
      "text/latex": [
       "A data.frame: 6 × 15\n",
       "\\begin{tabular}{r|lllllllllllllll}\n",
       "  & Consensus.lineage & Kingdom & Phylum & Class & Order & Family & Genus & Taxonomy & Kingdom\\_r & Phylum\\_r & Class\\_r & Order\\_r & Family\\_r & Genus\\_r & Taxonomy\\_r\\\\\n",
       "  & <chr> & <chr> & <chr> & <chr> & <chr> & <chr> & <chr> & <chr> & <dbl> & <dbl> & <dbl> & <dbl> & <dbl> & <dbl> & <dbl>\\\\\n",
       "\\hline\n",
       "\t663 & k\\_\\_Archaea;p\\_\\_;c\\_\\_;o\\_\\_;f\\_\\_;g\\_\\_                                                                         & Archaea &                 & PH              & PH               & PH                 & PH                 &                 & 0.2746068 & 0.0000000 & -0.5364815 & -0.5364815 & -0.5364815 & -0.5364815 & 0.0000000\\\\\n",
       "\t407 & k\\_\\_Archaea;p\\_\\_Aenigmarchaeota;c\\_\\_Aenigmarchaeia;o\\_\\_Aenigmarchaeales;f\\_\\_;g\\_\\_                            & Archaea & Aenigmarchaeota & Aenigmarchaeia  & Aenigmarchaeales & AenigmarchaealesOR & AenigmarchaealesOR & Aenigmarchaeota & 0.2746068 & 0.0000000 &  0.0000000 &  0.0000000 &  0.0000000 &  0.0000000 & 0.0000000\\\\\n",
       "\t45 & k\\_\\_Archaea;p\\_\\_Altiarchaeota;c\\_\\_Altiarchaeia;o\\_\\_Altiarchaeales;f\\_\\_Altiarchaeaceae;g\\_\\_Cand. Altiarchaeum & Archaea & Altiarchaeota   & Altiarchaeia    & Altiarchaeales   & Altiarchaeaceae    & Cand. Altiarchaeum & Altiarchaeota   & 0.2746068 & 0.6131857 &  0.6131857 &  0.6131857 &  0.6131857 &  0.0000000 & 0.6131857\\\\\n",
       "\t478 & k\\_\\_Archaea;p\\_\\_Asgardarchaeota;c\\_\\_Lokiarchaeia;o\\_\\_;f\\_\\_;g\\_\\_                                              & Archaea & Asgardarchaeota & Lokiarchaeia    & LokiarchaeiaCL   & LokiarchaeiaCL     & LokiarchaeiaCL     & Asgardarchaeota & 0.2746068 & 0.0000000 &  0.0000000 &  0.0000000 &  0.0000000 &  0.0000000 & 0.0000000\\\\\n",
       "\t152 & k\\_\\_Archaea;p\\_\\_Crenarchaeota;c\\_\\_;o\\_\\_;f\\_\\_;g\\_\\_                                                            & Archaea & Crenarchaeota   & CrenarchaeotaPH & CrenarchaeotaPH  & CrenarchaeotaPH    & CrenarchaeotaPH    & Crenarchaeota   & 0.2746068 & 0.1863573 & -0.3348913 & -0.3348913 & -0.3348913 & -0.3348913 & 0.1863573\\\\\n",
       "\t1053 & k\\_\\_Archaea;p\\_\\_Crenarchaeota;c\\_\\_Bathyarchaeia;o\\_\\_;f\\_\\_;g\\_\\_                                               & Archaea & Crenarchaeota   & Bathyarchaeia   & BathyarchaeiaCL  & BathyarchaeiaCL    & BathyarchaeiaCL    & Crenarchaeota   & 0.2746068 & 0.1863573 &  0.1676165 &  0.1676165 &  0.1676165 &  0.1676165 & 0.1863573\\\\\n",
       "\\end{tabular}\n"
      ],
      "text/markdown": [
       "\n",
       "A data.frame: 6 × 15\n",
       "\n",
       "| <!--/--> | Consensus.lineage &lt;chr&gt; | Kingdom &lt;chr&gt; | Phylum &lt;chr&gt; | Class &lt;chr&gt; | Order &lt;chr&gt; | Family &lt;chr&gt; | Genus &lt;chr&gt; | Taxonomy &lt;chr&gt; | Kingdom_r &lt;dbl&gt; | Phylum_r &lt;dbl&gt; | Class_r &lt;dbl&gt; | Order_r &lt;dbl&gt; | Family_r &lt;dbl&gt; | Genus_r &lt;dbl&gt; | Taxonomy_r &lt;dbl&gt; |\n",
       "|---|---|---|---|---|---|---|---|---|---|---|---|---|---|---|---|\n",
       "| 663 | k__Archaea;p__;c__;o__;f__;g__                                                                         | Archaea | <!----> | PH              | PH               | PH                 | PH                 | <!----> | 0.2746068 | 0.0000000 | -0.5364815 | -0.5364815 | -0.5364815 | -0.5364815 | 0.0000000 |\n",
       "| 407 | k__Archaea;p__Aenigmarchaeota;c__Aenigmarchaeia;o__Aenigmarchaeales;f__;g__                            | Archaea | Aenigmarchaeota | Aenigmarchaeia  | Aenigmarchaeales | AenigmarchaealesOR | AenigmarchaealesOR | Aenigmarchaeota | 0.2746068 | 0.0000000 |  0.0000000 |  0.0000000 |  0.0000000 |  0.0000000 | 0.0000000 |\n",
       "| 45 | k__Archaea;p__Altiarchaeota;c__Altiarchaeia;o__Altiarchaeales;f__Altiarchaeaceae;g__Cand. Altiarchaeum | Archaea | Altiarchaeota   | Altiarchaeia    | Altiarchaeales   | Altiarchaeaceae    | Cand. Altiarchaeum | Altiarchaeota   | 0.2746068 | 0.6131857 |  0.6131857 |  0.6131857 |  0.6131857 |  0.0000000 | 0.6131857 |\n",
       "| 478 | k__Archaea;p__Asgardarchaeota;c__Lokiarchaeia;o__;f__;g__                                              | Archaea | Asgardarchaeota | Lokiarchaeia    | LokiarchaeiaCL   | LokiarchaeiaCL     | LokiarchaeiaCL     | Asgardarchaeota | 0.2746068 | 0.0000000 |  0.0000000 |  0.0000000 |  0.0000000 |  0.0000000 | 0.0000000 |\n",
       "| 152 | k__Archaea;p__Crenarchaeota;c__;o__;f__;g__                                                            | Archaea | Crenarchaeota   | CrenarchaeotaPH | CrenarchaeotaPH  | CrenarchaeotaPH    | CrenarchaeotaPH    | Crenarchaeota   | 0.2746068 | 0.1863573 | -0.3348913 | -0.3348913 | -0.3348913 | -0.3348913 | 0.1863573 |\n",
       "| 1053 | k__Archaea;p__Crenarchaeota;c__Bathyarchaeia;o__;f__;g__                                               | Archaea | Crenarchaeota   | Bathyarchaeia   | BathyarchaeiaCL  | BathyarchaeiaCL    | BathyarchaeiaCL    | Crenarchaeota   | 0.2746068 | 0.1863573 |  0.1676165 |  0.1676165 |  0.1676165 |  0.1676165 | 0.1863573 |\n",
       "\n"
      ],
      "text/plain": [
       "     Consensus.lineage                                                                                     \n",
       "663  k__Archaea;p__;c__;o__;f__;g__                                                                        \n",
       "407  k__Archaea;p__Aenigmarchaeota;c__Aenigmarchaeia;o__Aenigmarchaeales;f__;g__                           \n",
       "45   k__Archaea;p__Altiarchaeota;c__Altiarchaeia;o__Altiarchaeales;f__Altiarchaeaceae;g__Cand. Altiarchaeum\n",
       "478  k__Archaea;p__Asgardarchaeota;c__Lokiarchaeia;o__;f__;g__                                             \n",
       "152  k__Archaea;p__Crenarchaeota;c__;o__;f__;g__                                                           \n",
       "1053 k__Archaea;p__Crenarchaeota;c__Bathyarchaeia;o__;f__;g__                                              \n",
       "     Kingdom Phylum          Class           Order           \n",
       "663  Archaea                 PH              PH              \n",
       "407  Archaea Aenigmarchaeota Aenigmarchaeia  Aenigmarchaeales\n",
       "45   Archaea Altiarchaeota   Altiarchaeia    Altiarchaeales  \n",
       "478  Archaea Asgardarchaeota Lokiarchaeia    LokiarchaeiaCL  \n",
       "152  Archaea Crenarchaeota   CrenarchaeotaPH CrenarchaeotaPH \n",
       "1053 Archaea Crenarchaeota   Bathyarchaeia   BathyarchaeiaCL \n",
       "     Family             Genus              Taxonomy        Kingdom_r Phylum_r \n",
       "663  PH                 PH                                 0.2746068 0.0000000\n",
       "407  AenigmarchaealesOR AenigmarchaealesOR Aenigmarchaeota 0.2746068 0.0000000\n",
       "45   Altiarchaeaceae    Cand. Altiarchaeum Altiarchaeota   0.2746068 0.6131857\n",
       "478  LokiarchaeiaCL     LokiarchaeiaCL     Asgardarchaeota 0.2746068 0.0000000\n",
       "152  CrenarchaeotaPH    CrenarchaeotaPH    Crenarchaeota   0.2746068 0.1863573\n",
       "1053 BathyarchaeiaCL    BathyarchaeiaCL    Crenarchaeota   0.2746068 0.1863573\n",
       "     Class_r    Order_r    Family_r   Genus_r    Taxonomy_r\n",
       "663  -0.5364815 -0.5364815 -0.5364815 -0.5364815 0.0000000 \n",
       "407   0.0000000  0.0000000  0.0000000  0.0000000 0.0000000 \n",
       "45    0.6131857  0.6131857  0.6131857  0.0000000 0.6131857 \n",
       "478   0.0000000  0.0000000  0.0000000  0.0000000 0.0000000 \n",
       "152  -0.3348913 -0.3348913 -0.3348913 -0.3348913 0.1863573 \n",
       "1053  0.1676165  0.1676165  0.1676165  0.1676165 0.1863573 "
      ]
     },
     "metadata": {},
     "output_type": "display_data"
    }
   ],
   "source": [
    "# CH4corrRanks_genus\n",
    "head(CH4corrRanks_genus)"
   ]
  },
  {
   "cell_type": "code",
   "execution_count": 37,
   "metadata": {},
   "outputs": [],
   "source": [
    "write.table(CH4corrRanks_genus, \"correlations/CH4corrRanks_Silva_genus.txt\", sep = '\\t')"
   ]
  },
  {
   "cell_type": "markdown",
   "metadata": {},
   "source": [
    "# 3) Delta Only"
   ]
  },
  {
   "cell_type": "code",
   "execution_count": 38,
   "metadata": {},
   "outputs": [],
   "source": [
    "# Meta_iTag"
   ]
  },
  {
   "cell_type": "code",
   "execution_count": 39,
   "metadata": {},
   "outputs": [],
   "source": [
    "# Separate Delta Sites (oligo and FW)\n",
    "# levels(Meta_iTag$SALTgroup)\n",
    "Meta_iTag_FW <- Meta_iTag[Meta_iTag$SALTgroup ==\"FW\",]\n",
    "Meta_iTag_Oligo <- Meta_iTag[Meta_iTag$SALTgroup ==\"Oligo\",]\n",
    "\n",
    "Meta_iTag_Delta <-rbind(Meta_iTag_FW, Meta_iTag_Oligo)                  # Meta_iTag_Delta\n",
    "\n",
    "Delta_sites <-Meta_iTag_Delta[,\"Sample\"]                                # Delta sites"
   ]
  },
  {
   "cell_type": "code",
   "execution_count": 40,
   "metadata": {},
   "outputs": [],
   "source": [
    "# Get taxonomy columns, combine with Delta sites\n",
    "tax_cols <- unlist(list(\"Consensus.lineage\", \"Kingdom\", \"Phylum\", \"Class\", \"Order\", \"Family\", \"Genus\", \"Taxonomy\"))\n",
    "Delta_tax <- append(Delta_sites, tax_cols)"
   ]
  },
  {
   "cell_type": "code",
   "execution_count": 41,
   "metadata": {},
   "outputs": [],
   "source": [
    "otu_V_Delta <- otu_V[Delta_tax]\n",
    "# otu_V_Delta"
   ]
  },
  {
   "cell_type": "markdown",
   "metadata": {},
   "source": [
    "### a) Get correlations by OTU"
   ]
  },
  {
   "cell_type": "code",
   "execution_count": 42,
   "metadata": {},
   "outputs": [
    {
     "data": {
      "text/html": [
       "<table class=\"dataframe\">\n",
       "<caption>A data.frame: 6 × 17</caption>\n",
       "<thead>\n",
       "\t<tr><th></th><th scope=col>Consensus.lineage</th><th scope=col>Kingdom</th><th scope=col>Phylum</th><th scope=col>Class</th><th scope=col>Order</th><th scope=col>Family</th><th scope=col>Genus</th><th scope=col>Taxonomy</th><th scope=col>OTU</th><th scope=col>Kingdom_r</th><th scope=col>Phylum_r</th><th scope=col>Class_r</th><th scope=col>Order_r</th><th scope=col>Family_r</th><th scope=col>Genus_r</th><th scope=col>Taxonomy_r</th><th scope=col>OTU_r</th></tr>\n",
       "\t<tr><th></th><th scope=col>&lt;chr&gt;</th><th scope=col>&lt;chr&gt;</th><th scope=col>&lt;chr&gt;</th><th scope=col>&lt;chr&gt;</th><th scope=col>&lt;chr&gt;</th><th scope=col>&lt;chr&gt;</th><th scope=col>&lt;chr&gt;</th><th scope=col>&lt;chr&gt;</th><th scope=col>&lt;chr&gt;</th><th scope=col>&lt;dbl&gt;</th><th scope=col>&lt;dbl&gt;</th><th scope=col>&lt;dbl&gt;</th><th scope=col>&lt;dbl&gt;</th><th scope=col>&lt;dbl&gt;</th><th scope=col>&lt;dbl&gt;</th><th scope=col>&lt;dbl&gt;</th><th scope=col>&lt;dbl&gt;</th></tr>\n",
       "</thead>\n",
       "<tbody>\n",
       "\t<tr><th scope=row>684</th><td>k__Archaea;p__;c__;o__;f__;g__                                                                        </td><td>Archaea</td><td>               </td><td>PH            </td><td>PH              </td><td>PH                </td><td>PH                </td><td>               </td><td>otu_1614</td><td>0.4277461</td><td>0.0000000</td><td>-0.5364815</td><td>-0.5364815</td><td>-0.5364815</td><td>-0.5364815</td><td>0.0000000</td><td>-0.3116288</td></tr>\n",
       "\t<tr><th scope=row>2938</th><td>k__Archaea;p__;c__;o__;f__;g__                                                                        </td><td>Archaea</td><td>               </td><td>PH            </td><td>PH              </td><td>PH                </td><td>PH                </td><td>               </td><td>otu_3660</td><td>0.4277461</td><td>0.0000000</td><td>-0.5364815</td><td>-0.5364815</td><td>-0.5364815</td><td>-0.5364815</td><td>0.0000000</td><td>-0.2996046</td></tr>\n",
       "\t<tr><th scope=row>3770</th><td>k__Archaea;p__;c__;o__;f__;g__                                                                        </td><td>Archaea</td><td>               </td><td>PH            </td><td>PH              </td><td>PH                </td><td>PH                </td><td>               </td><td>otu_4420</td><td>0.4277461</td><td>0.0000000</td><td>-0.5364815</td><td>-0.5364815</td><td>-0.5364815</td><td>-0.5364815</td><td>0.0000000</td><td> 0.0000000</td></tr>\n",
       "\t<tr><th scope=row>4198</th><td>k__Archaea;p__Aenigmarchaeota;c__Aenigmarchaeia;o__Aenigmarchaeales;f__;g__                           </td><td>Archaea</td><td>Aenigmarchaeota</td><td>Aenigmarchaeia</td><td>Aenigmarchaeales</td><td>AenigmarchaealesOR</td><td>AenigmarchaealesOR</td><td>Aenigmarchaeota</td><td>otu_4814</td><td>0.4277461</td><td>0.0000000</td><td> 0.0000000</td><td> 0.0000000</td><td> 0.0000000</td><td> 0.0000000</td><td>0.0000000</td><td> 0.0000000</td></tr>\n",
       "\t<tr><th scope=row>1013</th><td>k__Archaea;p__Altiarchaeota;c__Altiarchaeia;o__Altiarchaeales;f__Altiarchaeaceae;g__Cand. Altiarchaeum</td><td>Archaea</td><td>Altiarchaeota  </td><td>Altiarchaeia  </td><td>Altiarchaeales  </td><td>Altiarchaeaceae   </td><td>Cand. Altiarchaeum</td><td>Altiarchaeota  </td><td>otu_1912</td><td>0.4277461</td><td>0.6131857</td><td> 0.6131857</td><td> 0.6131857</td><td> 0.6131857</td><td> 0.0000000</td><td>0.6131857</td><td> 0.5978474</td></tr>\n",
       "\t<tr><th scope=row>5439</th><td>k__Archaea;p__Altiarchaeota;c__Altiarchaeia;o__Altiarchaeales;f__Altiarchaeaceae;g__Cand. Altiarchaeum</td><td>Archaea</td><td>Altiarchaeota  </td><td>Altiarchaeia  </td><td>Altiarchaeales  </td><td>Altiarchaeaceae   </td><td>Cand. Altiarchaeum</td><td>Altiarchaeota  </td><td>otu_5947</td><td>0.4277461</td><td>0.6131857</td><td> 0.6131857</td><td> 0.6131857</td><td> 0.6131857</td><td> 0.0000000</td><td>0.6131857</td><td> 0.5190304</td></tr>\n",
       "</tbody>\n",
       "</table>\n"
      ],
      "text/latex": [
       "A data.frame: 6 × 17\n",
       "\\begin{tabular}{r|lllllllllllllllll}\n",
       "  & Consensus.lineage & Kingdom & Phylum & Class & Order & Family & Genus & Taxonomy & OTU & Kingdom\\_r & Phylum\\_r & Class\\_r & Order\\_r & Family\\_r & Genus\\_r & Taxonomy\\_r & OTU\\_r\\\\\n",
       "  & <chr> & <chr> & <chr> & <chr> & <chr> & <chr> & <chr> & <chr> & <chr> & <dbl> & <dbl> & <dbl> & <dbl> & <dbl> & <dbl> & <dbl> & <dbl>\\\\\n",
       "\\hline\n",
       "\t684 & k\\_\\_Archaea;p\\_\\_;c\\_\\_;o\\_\\_;f\\_\\_;g\\_\\_                                                                         & Archaea &                 & PH             & PH               & PH                 & PH                 &                 & otu\\_1614 & 0.4277461 & 0.0000000 & -0.5364815 & -0.5364815 & -0.5364815 & -0.5364815 & 0.0000000 & -0.3116288\\\\\n",
       "\t2938 & k\\_\\_Archaea;p\\_\\_;c\\_\\_;o\\_\\_;f\\_\\_;g\\_\\_                                                                         & Archaea &                 & PH             & PH               & PH                 & PH                 &                 & otu\\_3660 & 0.4277461 & 0.0000000 & -0.5364815 & -0.5364815 & -0.5364815 & -0.5364815 & 0.0000000 & -0.2996046\\\\\n",
       "\t3770 & k\\_\\_Archaea;p\\_\\_;c\\_\\_;o\\_\\_;f\\_\\_;g\\_\\_                                                                         & Archaea &                 & PH             & PH               & PH                 & PH                 &                 & otu\\_4420 & 0.4277461 & 0.0000000 & -0.5364815 & -0.5364815 & -0.5364815 & -0.5364815 & 0.0000000 &  0.0000000\\\\\n",
       "\t4198 & k\\_\\_Archaea;p\\_\\_Aenigmarchaeota;c\\_\\_Aenigmarchaeia;o\\_\\_Aenigmarchaeales;f\\_\\_;g\\_\\_                            & Archaea & Aenigmarchaeota & Aenigmarchaeia & Aenigmarchaeales & AenigmarchaealesOR & AenigmarchaealesOR & Aenigmarchaeota & otu\\_4814 & 0.4277461 & 0.0000000 &  0.0000000 &  0.0000000 &  0.0000000 &  0.0000000 & 0.0000000 &  0.0000000\\\\\n",
       "\t1013 & k\\_\\_Archaea;p\\_\\_Altiarchaeota;c\\_\\_Altiarchaeia;o\\_\\_Altiarchaeales;f\\_\\_Altiarchaeaceae;g\\_\\_Cand. Altiarchaeum & Archaea & Altiarchaeota   & Altiarchaeia   & Altiarchaeales   & Altiarchaeaceae    & Cand. Altiarchaeum & Altiarchaeota   & otu\\_1912 & 0.4277461 & 0.6131857 &  0.6131857 &  0.6131857 &  0.6131857 &  0.0000000 & 0.6131857 &  0.5978474\\\\\n",
       "\t5439 & k\\_\\_Archaea;p\\_\\_Altiarchaeota;c\\_\\_Altiarchaeia;o\\_\\_Altiarchaeales;f\\_\\_Altiarchaeaceae;g\\_\\_Cand. Altiarchaeum & Archaea & Altiarchaeota   & Altiarchaeia   & Altiarchaeales   & Altiarchaeaceae    & Cand. Altiarchaeum & Altiarchaeota   & otu\\_5947 & 0.4277461 & 0.6131857 &  0.6131857 &  0.6131857 &  0.6131857 &  0.0000000 & 0.6131857 &  0.5190304\\\\\n",
       "\\end{tabular}\n"
      ],
      "text/markdown": [
       "\n",
       "A data.frame: 6 × 17\n",
       "\n",
       "| <!--/--> | Consensus.lineage &lt;chr&gt; | Kingdom &lt;chr&gt; | Phylum &lt;chr&gt; | Class &lt;chr&gt; | Order &lt;chr&gt; | Family &lt;chr&gt; | Genus &lt;chr&gt; | Taxonomy &lt;chr&gt; | OTU &lt;chr&gt; | Kingdom_r &lt;dbl&gt; | Phylum_r &lt;dbl&gt; | Class_r &lt;dbl&gt; | Order_r &lt;dbl&gt; | Family_r &lt;dbl&gt; | Genus_r &lt;dbl&gt; | Taxonomy_r &lt;dbl&gt; | OTU_r &lt;dbl&gt; |\n",
       "|---|---|---|---|---|---|---|---|---|---|---|---|---|---|---|---|---|---|\n",
       "| 684 | k__Archaea;p__;c__;o__;f__;g__                                                                         | Archaea | <!----> | PH             | PH               | PH                 | PH                 | <!----> | otu_1614 | 0.4277461 | 0.0000000 | -0.5364815 | -0.5364815 | -0.5364815 | -0.5364815 | 0.0000000 | -0.3116288 |\n",
       "| 2938 | k__Archaea;p__;c__;o__;f__;g__                                                                         | Archaea | <!----> | PH             | PH               | PH                 | PH                 | <!----> | otu_3660 | 0.4277461 | 0.0000000 | -0.5364815 | -0.5364815 | -0.5364815 | -0.5364815 | 0.0000000 | -0.2996046 |\n",
       "| 3770 | k__Archaea;p__;c__;o__;f__;g__                                                                         | Archaea | <!----> | PH             | PH               | PH                 | PH                 | <!----> | otu_4420 | 0.4277461 | 0.0000000 | -0.5364815 | -0.5364815 | -0.5364815 | -0.5364815 | 0.0000000 |  0.0000000 |\n",
       "| 4198 | k__Archaea;p__Aenigmarchaeota;c__Aenigmarchaeia;o__Aenigmarchaeales;f__;g__                            | Archaea | Aenigmarchaeota | Aenigmarchaeia | Aenigmarchaeales | AenigmarchaealesOR | AenigmarchaealesOR | Aenigmarchaeota | otu_4814 | 0.4277461 | 0.0000000 |  0.0000000 |  0.0000000 |  0.0000000 |  0.0000000 | 0.0000000 |  0.0000000 |\n",
       "| 1013 | k__Archaea;p__Altiarchaeota;c__Altiarchaeia;o__Altiarchaeales;f__Altiarchaeaceae;g__Cand. Altiarchaeum | Archaea | Altiarchaeota   | Altiarchaeia   | Altiarchaeales   | Altiarchaeaceae    | Cand. Altiarchaeum | Altiarchaeota   | otu_1912 | 0.4277461 | 0.6131857 |  0.6131857 |  0.6131857 |  0.6131857 |  0.0000000 | 0.6131857 |  0.5978474 |\n",
       "| 5439 | k__Archaea;p__Altiarchaeota;c__Altiarchaeia;o__Altiarchaeales;f__Altiarchaeaceae;g__Cand. Altiarchaeum | Archaea | Altiarchaeota   | Altiarchaeia   | Altiarchaeales   | Altiarchaeaceae    | Cand. Altiarchaeum | Altiarchaeota   | otu_5947 | 0.4277461 | 0.6131857 |  0.6131857 |  0.6131857 |  0.6131857 |  0.0000000 | 0.6131857 |  0.5190304 |\n",
       "\n"
      ],
      "text/plain": [
       "     Consensus.lineage                                                                                     \n",
       "684  k__Archaea;p__;c__;o__;f__;g__                                                                        \n",
       "2938 k__Archaea;p__;c__;o__;f__;g__                                                                        \n",
       "3770 k__Archaea;p__;c__;o__;f__;g__                                                                        \n",
       "4198 k__Archaea;p__Aenigmarchaeota;c__Aenigmarchaeia;o__Aenigmarchaeales;f__;g__                           \n",
       "1013 k__Archaea;p__Altiarchaeota;c__Altiarchaeia;o__Altiarchaeales;f__Altiarchaeaceae;g__Cand. Altiarchaeum\n",
       "5439 k__Archaea;p__Altiarchaeota;c__Altiarchaeia;o__Altiarchaeales;f__Altiarchaeaceae;g__Cand. Altiarchaeum\n",
       "     Kingdom Phylum          Class          Order            Family            \n",
       "684  Archaea                 PH             PH               PH                \n",
       "2938 Archaea                 PH             PH               PH                \n",
       "3770 Archaea                 PH             PH               PH                \n",
       "4198 Archaea Aenigmarchaeota Aenigmarchaeia Aenigmarchaeales AenigmarchaealesOR\n",
       "1013 Archaea Altiarchaeota   Altiarchaeia   Altiarchaeales   Altiarchaeaceae   \n",
       "5439 Archaea Altiarchaeota   Altiarchaeia   Altiarchaeales   Altiarchaeaceae   \n",
       "     Genus              Taxonomy        OTU      Kingdom_r Phylum_r  Class_r   \n",
       "684  PH                                 otu_1614 0.4277461 0.0000000 -0.5364815\n",
       "2938 PH                                 otu_3660 0.4277461 0.0000000 -0.5364815\n",
       "3770 PH                                 otu_4420 0.4277461 0.0000000 -0.5364815\n",
       "4198 AenigmarchaealesOR Aenigmarchaeota otu_4814 0.4277461 0.0000000  0.0000000\n",
       "1013 Cand. Altiarchaeum Altiarchaeota   otu_1912 0.4277461 0.6131857  0.6131857\n",
       "5439 Cand. Altiarchaeum Altiarchaeota   otu_5947 0.4277461 0.6131857  0.6131857\n",
       "     Order_r    Family_r   Genus_r    Taxonomy_r OTU_r     \n",
       "684  -0.5364815 -0.5364815 -0.5364815 0.0000000  -0.3116288\n",
       "2938 -0.5364815 -0.5364815 -0.5364815 0.0000000  -0.2996046\n",
       "3770 -0.5364815 -0.5364815 -0.5364815 0.0000000   0.0000000\n",
       "4198  0.0000000  0.0000000  0.0000000 0.0000000   0.0000000\n",
       "1013  0.6131857  0.6131857  0.0000000 0.6131857   0.5978474\n",
       "5439  0.6131857  0.6131857  0.0000000 0.6131857   0.5190304"
      ]
     },
     "metadata": {},
     "output_type": "display_data"
    }
   ],
   "source": [
    "CH4corrRanks_Delta <- corr_TaxRanks(otu_V_Delta, Meta_iTag_Delta, \"CH4_logn1\")                                  \n",
    "head(CH4corrRanks)"
   ]
  },
  {
   "cell_type": "code",
   "execution_count": 43,
   "metadata": {},
   "outputs": [],
   "source": [
    "# CH4corrRanks_Delta"
   ]
  },
  {
   "cell_type": "code",
   "execution_count": 44,
   "metadata": {},
   "outputs": [],
   "source": [
    "write.table(CH4corrRanks_Delta, \"correlations/CH4corrRanks_Silva_Delta_OTU.txt\", sep = '\\t')"
   ]
  },
  {
   "cell_type": "markdown",
   "metadata": {},
   "source": [
    "### b) Genus only\n",
    "- sloppy, forgot how to R."
   ]
  },
  {
   "cell_type": "code",
   "execution_count": 45,
   "metadata": {},
   "outputs": [],
   "source": [
    "# taxa only data\n",
    "# tax_data = otu_V[tax_cols]"
   ]
  },
  {
   "cell_type": "code",
   "execution_count": 46,
   "metadata": {},
   "outputs": [],
   "source": [
    "# aggregate counts \n",
    "otu_V_Delta_Gagg <- agg_by_cat(otu_V_Delta, \"Genus\")\n",
    "otu_V_Delta_G <- unique(merge(otu_V_Delta_Gagg, tax_data))"
   ]
  },
  {
   "cell_type": "code",
   "execution_count": 47,
   "metadata": {},
   "outputs": [],
   "source": [
    "# otu_V_Delta_G"
   ]
  },
  {
   "cell_type": "code",
   "execution_count": 48,
   "metadata": {},
   "outputs": [],
   "source": [
    "# Reorder data\n",
    "otu_V_Delta_G <- otu_V_Delta_G[Delta_tax]"
   ]
  },
  {
   "cell_type": "code",
   "execution_count": 49,
   "metadata": {},
   "outputs": [],
   "source": [
    "# GET CORRS\n",
    "CH4corrRanks_Delta_genus <- corr_TaxRanks(otu_V_Delta_G, Meta_iTag_Delta, \"CH4_logn1\")                                  # head(CH4corrRanks)"
   ]
  },
  {
   "cell_type": "code",
   "execution_count": 50,
   "metadata": {},
   "outputs": [],
   "source": [
    "# Drop extra columns\n",
    "CH4corrRanks_Delta_genus$OTU <-NULL\n",
    "CH4corrRanks_Delta_genus$OTU_r <-NULL"
   ]
  },
  {
   "cell_type": "code",
   "execution_count": 32,
   "metadata": {},
   "outputs": [],
   "source": [
    "# CH4corrRanks_Delta_genus"
   ]
  },
  {
   "cell_type": "code",
   "execution_count": 51,
   "metadata": {},
   "outputs": [],
   "source": [
    "write.table(CH4corrRanks_Delta_genus, \"correlations/CH4corrRanks_Silva_Delta_genus.txt\", sep = '\\t')"
   ]
  },
  {
   "cell_type": "markdown",
   "metadata": {},
   "source": [
    "## 4) Older method \n",
    "- cleaner but didn't work?   \n",
    "- possibly OTU formatting problem"
   ]
  },
  {
   "cell_type": "code",
   "execution_count": 34,
   "metadata": {},
   "outputs": [],
   "source": [
    "## A) Recalculate corr METHODS for controller, using functions from correlations module:\n",
    "# source(\"Corr_ranks_module_v0.3.2_strip.R\")\n",
    "\n",
    "# Only to genus level:\n",
    "# CH4corrRanks <- corr_TaxRanks(otu_V, Meta_iTag, \"CH4_logn1\")                                  # head(CH4corrRanks)\n",
    "\n",
    "# Append corrs at OTU level --  SLOW (10 min), need only for iTol? \n",
    "# OTU_ra <-append_OTU_corr_v(otu_V, CH4corr_ranks, \"CH4_logn1\")            \n",
    "\n",
    "# For Delta samples subset\n",
    "# CH4corrRanks_Delta_OTU <-append_OTU_corr_v(Delta_OTU, CH4corrRanks_Delta, \"CH4_logn1\")   \n",
    "# head(CH4corrRanks_Delta_OTU)\n",
    "\n",
    "# typically saved to file\n",
    "# write.table(OTU_ra, \"CH4_TaxRankOTU_corr_tab_all_sites.txt\", sep=\"\\t\", col.names = TRUE, row.names = FALSE, quote=FALSE)\n",
    "# write.table(CH4corrRanks_Delta_OTU, \"CH4_TaxRankOTU_corr_tab_Delta_sites.txt\", sep=\"\\t\", col.names = TRUE, row.names = FALSE, quote=FALSE)\n",
    "\n",
    "## B) Read EXISTING corr table: \n",
    "# CH4corrRanksOTU <-read.table(\"CH4_TaxRankOTU_corr_tab_all_sites.txt\", sep=\"\\t\", header=T)      #head(CH4corrRanksOTU)\n",
    "\n",
    "## C) Read EXISTING Delta corr table: \n",
    "# CH4corrRanksOTU_Delta <-read.table(\"CH4_TaxRankOTU_corr_tab_Delta_sites.txt\", sep=\"\\t\", header=T)  #head(CH4corrRanksOTU_Delta)\n"
   ]
  }
 ],
 "metadata": {
  "anaconda-cloud": {},
  "kernelspec": {
   "display_name": "R",
   "language": "R",
   "name": "ir"
  },
  "language_info": {
   "codemirror_mode": "r",
   "file_extension": ".r",
   "mimetype": "text/x-r-source",
   "name": "R",
   "pygments_lexer": "r",
   "version": "4.0.2"
  }
 },
 "nbformat": 4,
 "nbformat_minor": 4
}
