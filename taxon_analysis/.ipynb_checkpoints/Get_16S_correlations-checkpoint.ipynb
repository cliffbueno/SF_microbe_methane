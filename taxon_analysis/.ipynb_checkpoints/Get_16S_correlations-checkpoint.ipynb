{
 "cells": [
  {
   "cell_type": "markdown",
   "metadata": {},
   "source": [
    "# Get 16S correlations \n",
    "- calculate corr tables used for 16S & guilds\n",
    "- CH4 ~ genus, OTU (genus preferred for tables/figs) \n",
    "- This is slow (very slow for OTUs) - correlation cells commented out\n",
    "- ...\n",
    "- note an older method exisited for separate OTU & genus corrs, appended at end \n",
    "- not sure what bug was, recreated sloppy code patch\n"
   ]
  },
  {
   "cell_type": "raw",
   "metadata": {},
   "source": [
    "- NEED TO LOG 2 transform OTU counts first?"
   ]
  },
  {
   "cell_type": "markdown",
   "metadata": {},
   "source": [
    "# 1) import data\n",
    "\n",
    "- post processing here, should be in a different module...but isn't"
   ]
  },
  {
   "cell_type": "code",
   "execution_count": 1,
   "metadata": {},
   "outputs": [],
   "source": [
    "# Import OTU Table\n",
    "SilvaOTUs <- read.table(\"../silvaOTUs/Silva_OTU_VSTcpm.txt\", sep='\\t')#, row.names=1)\n",
    "#iTaggerOTUs <- read.table(\"../data/iTaggerOTUs/SF_Sal_OTU_VSTcpm.txt\", sep='\\t', row.names=1, header=T)\n",
    "row.names(SilvaOTUs) <- SilvaOTUs[,\"OTU\"]                                # Make OTU row names -- required!!!  only for silva?\n",
    "SilvaOTUs <- SilvaOTUs[,-1]"
   ]
  },
  {
   "cell_type": "code",
   "execution_count": 2,
   "metadata": {},
   "outputs": [],
   "source": [
    "# SilvaOTUs"
   ]
  },
  {
   "cell_type": "code",
   "execution_count": 3,
   "metadata": {},
   "outputs": [],
   "source": [
    "# otu_V <- iTaggerOTUs \n",
    "otu_V <- SilvaOTUs"
   ]
  },
  {
   "cell_type": "code",
   "execution_count": 4,
   "metadata": {},
   "outputs": [],
   "source": [
    "# Sort OTU table                                                                      \n",
    "otu_V <-otu_V[order(otu_V$Consensus.lineage),]                                                         # sort by lineage\n",
    "\n",
    "# Make new top level plotting var (should be in PRE-PROCESS ? )\n",
    "otu_V$Taxonomy <- ifelse(otu_V$Phylum == \"Proteobacteria\", paste(otu_V$Class), paste(otu_V$Phylum))    # head(otu_V)\n",
    "otu_V <- data.frame(otu_V)"
   ]
  },
  {
   "cell_type": "code",
   "execution_count": 5,
   "metadata": {},
   "outputs": [],
   "source": [
    "# METADATA\n",
    "metaDB <-read.table(\"../data/meta/SF_sal_meta_FIX3.txt\", sep=\"\\t\", header=TRUE)               # import Mapping    # # try keeping all params...\n"
   ]
  },
  {
   "cell_type": "code",
   "execution_count": 6,
   "metadata": {},
   "outputs": [],
   "source": [
    "# Prune metadata to only iTag samples\n",
    "# Get Sample names in OTU table               \n",
    "OTU_samps <- data.frame('Sample'=colnames(otu_V))                                        # OTU_samps\n",
    "\n",
    "# Merge site order and Samples\n",
    "Meta_iTag <- merge(metaDB, OTU_samps, by='Sample')                                       #colnames(metaDB)\n",
    "rownames(Meta_iTag) <- Meta_iTag$Sample"
   ]
  },
  {
   "cell_type": "code",
   "execution_count": 7,
   "metadata": {},
   "outputs": [],
   "source": [
    "# add any extra variables as needed                                                      # head(Meta_iTag)  #colnames(Meta_iTag)\n",
    "CH4 <-Meta_iTag$CH4_ug_m2_h\n",
    "Meta_iTag$CH4_logn1 <- log10(CH4 - (1.05*min(CH4)))   "
   ]
  },
  {
   "cell_type": "code",
   "execution_count": 8,
   "metadata": {},
   "outputs": [],
   "source": [
    "#metaDB\n",
    "# Meta_iTag['CH4_logn1']"
   ]
  },
  {
   "cell_type": "markdown",
   "metadata": {},
   "source": [
    "## 1a) log2 transform count data\n",
    "- equivalent code somewhere?"
   ]
  },
  {
   "cell_type": "code",
   "execution_count": 9,
   "metadata": {},
   "outputs": [],
   "source": [
    "# otu_V"
   ]
  },
  {
   "cell_type": "markdown",
   "metadata": {},
   "source": [
    "# 2) Corr ranks to OTU & genus level\n",
    "- OTUs are a separate call as slow"
   ]
  },
  {
   "cell_type": "code",
   "execution_count": 10,
   "metadata": {},
   "outputs": [
    {
     "name": "stderr",
     "output_type": "stream",
     "text": [
      "Loading required package: lattice\n",
      "\n",
      "Loading required package: survival\n",
      "\n",
      "Loading required package: Formula\n",
      "\n",
      "Loading required package: ggplot2\n",
      "\n",
      "\n",
      "Attaching package: ‘Hmisc’\n",
      "\n",
      "\n",
      "The following objects are masked from ‘package:base’:\n",
      "\n",
      "    format.pval, units\n",
      "\n",
      "\n",
      "\n",
      "Attaching package: ‘gplots’\n",
      "\n",
      "\n",
      "The following object is masked from ‘package:stats’:\n",
      "\n",
      "    lowess\n",
      "\n",
      "\n"
     ]
    }
   ],
   "source": [
    "source(\"../modules/6_Corr_ranks_module_v0.3.3_strip.R\")"
   ]
  },
  {
   "cell_type": "code",
   "execution_count": 11,
   "metadata": {},
   "outputs": [],
   "source": [
    "# Only to genus level: --- OOPS THIS IS OTU somehow, bugs.  Genus should still be valid via aggregation?\n",
    "# CH4corrRanks <- corr_TaxRanks(otu_V, Meta_iTag, \"CH4_logn1\")                                  # head(CH4corrRanks)"
   ]
  },
  {
   "cell_type": "code",
   "execution_count": 12,
   "metadata": {},
   "outputs": [],
   "source": [
    "# CH4corrRanks"
   ]
  },
  {
   "cell_type": "code",
   "execution_count": 13,
   "metadata": {},
   "outputs": [],
   "source": [
    "# write.table(CH4corrRanks, \"correlations/CH4corrRanks_SilvaOTU.txt\", sep = '\\t')"
   ]
  },
  {
   "cell_type": "markdown",
   "metadata": {},
   "source": [
    "### b) Genus only\n",
    "- sloppy, forgot how to R -- this should really use subset by numeric cols\n",
    "- here grab column lists, need to reorder outplut"
   ]
  },
  {
   "cell_type": "code",
   "execution_count": 14,
   "metadata": {},
   "outputs": [],
   "source": [
    "# Get columns for taxa\n",
    "otu_cols <- colnames(otu_V)\n",
    "tax_cols <- unlist(list(\"Consensus.lineage\", \"Kingdom\", \"Phylum\", \"Class\", \"Order\", \"Family\", \"Genus\", \"Taxonomy\"))\n",
    "\n",
    "# taxa only data to append to aggregated\n",
    "tax_data = otu_V[tax_cols]\n",
    "\n",
    "# aggregate counts by genus \n",
    "otu_V_Gagg <- agg_by_cat(otu_V, \"Genus\")\n",
    "otu_V_G <- unique(merge(otu_V_Gagg, tax_data))\n",
    "\n",
    "# reorder columns as initial\n",
    "otu_V_G <- otu_V_G[otu_cols]"
   ]
  },
  {
   "cell_type": "markdown",
   "metadata": {},
   "source": [
    "#### GET CORRS - not esp fast"
   ]
  },
  {
   "cell_type": "code",
   "execution_count": 15,
   "metadata": {},
   "outputs": [],
   "source": [
    "# GET CORRS\n",
    "CH4corrRanks_genus <- corr_TaxRanks(otu_V_G, Meta_iTag, \"CH4_logn1\")                                  # head(CH4corrRanks)"
   ]
  },
  {
   "cell_type": "code",
   "execution_count": 16,
   "metadata": {},
   "outputs": [],
   "source": [
    "# Drop extra columns\n",
    "CH4corrRanks_genus$OTU <-NULL\n",
    "CH4corrRanks_genus$OTU_r <-NULL"
   ]
  },
  {
   "cell_type": "code",
   "execution_count": 17,
   "metadata": {},
   "outputs": [],
   "source": [
    "# CH4corrRanks_genus"
   ]
  },
  {
   "cell_type": "code",
   "execution_count": 18,
   "metadata": {},
   "outputs": [],
   "source": [
    "# write.table(CH4corrRanks_genus, \"correlations/CH4corrRanks_Silva_genus.txt\", sep = '\\t')"
   ]
  },
  {
   "cell_type": "markdown",
   "metadata": {},
   "source": [
    "# 3) Delta Only"
   ]
  },
  {
   "cell_type": "code",
   "execution_count": 19,
   "metadata": {},
   "outputs": [],
   "source": [
    "# Meta_iTag"
   ]
  },
  {
   "cell_type": "code",
   "execution_count": 20,
   "metadata": {},
   "outputs": [],
   "source": [
    "# Separate Delta Sites (oligo and FW)\n",
    "# levels(Meta_iTag$SALTgroup)\n",
    "Meta_iTag_FW <- Meta_iTag[Meta_iTag$SALTgroup ==\"FW\",]\n",
    "Meta_iTag_Oligo <- Meta_iTag[Meta_iTag$SALTgroup ==\"Oligo\",]\n",
    "\n",
    "Meta_iTag_Delta <-rbind(Meta_iTag_FW, Meta_iTag_Oligo)                  # Meta_iTag_Delta\n",
    "\n",
    "Delta_sites <-Meta_iTag_Delta[,\"Sample\"]                                # Delta sites"
   ]
  },
  {
   "cell_type": "code",
   "execution_count": 21,
   "metadata": {},
   "outputs": [],
   "source": [
    "# Get taxonomy columns, combine with Delta sites\n",
    "tax_cols <- unlist(list(\"Consensus.lineage\", \"Kingdom\", \"Phylum\", \"Class\", \"Order\", \"Family\", \"Genus\", \"Taxonomy\"))\n",
    "Delta_tax <- append(Delta_sites, tax_cols)"
   ]
  },
  {
   "cell_type": "code",
   "execution_count": 22,
   "metadata": {},
   "outputs": [],
   "source": [
    "otu_V_Delta <- otu_V[Delta_tax]\n",
    "# otu_V_Delta"
   ]
  },
  {
   "cell_type": "markdown",
   "metadata": {},
   "source": [
    "### a) Get correlations by OTU"
   ]
  },
  {
   "cell_type": "code",
   "execution_count": 23,
   "metadata": {},
   "outputs": [],
   "source": [
    "# CH4corrRanks_Delta <- corr_TaxRanks(otu_V_Delta, Meta_iTag_Delta, \"CH4_logn1\")                                  # head(CH4corrRanks)"
   ]
  },
  {
   "cell_type": "code",
   "execution_count": 24,
   "metadata": {},
   "outputs": [],
   "source": [
    "# CH4corrRanks_Delta"
   ]
  },
  {
   "cell_type": "code",
   "execution_count": 25,
   "metadata": {},
   "outputs": [],
   "source": [
    "# write.table(CH4corrRanks_Delta, \"correlations/CH4corrRanks_Silva_Delta_OTU.txt\", sep = '\\t')"
   ]
  },
  {
   "cell_type": "markdown",
   "metadata": {},
   "source": [
    "### b) Genus only\n",
    "- sloppy, forgot how to R."
   ]
  },
  {
   "cell_type": "code",
   "execution_count": 26,
   "metadata": {},
   "outputs": [],
   "source": [
    "# taxa only data\n",
    "# tax_data = otu_V[tax_cols]"
   ]
  },
  {
   "cell_type": "code",
   "execution_count": 27,
   "metadata": {},
   "outputs": [],
   "source": [
    "# aggregate counts \n",
    "otu_V_Delta_Gagg <- agg_by_cat(otu_V_Delta, \"Genus\")\n",
    "otu_V_Delta_G <- unique(merge(otu_V_Delta_Gagg, tax_data))"
   ]
  },
  {
   "cell_type": "code",
   "execution_count": 28,
   "metadata": {},
   "outputs": [],
   "source": [
    "# otu_V_Delta_G"
   ]
  },
  {
   "cell_type": "code",
   "execution_count": 29,
   "metadata": {},
   "outputs": [],
   "source": [
    "# Reorder data\n",
    "otu_V_Delta_G <- otu_V_Delta_G[Delta_tax]"
   ]
  },
  {
   "cell_type": "code",
   "execution_count": 30,
   "metadata": {},
   "outputs": [],
   "source": [
    "# GET CORRS\n",
    "CH4corrRanks_Delta_genus <- corr_TaxRanks(otu_V_Delta_G, Meta_iTag_Delta, \"CH4_logn1\")                                  # head(CH4corrRanks)"
   ]
  },
  {
   "cell_type": "code",
   "execution_count": 31,
   "metadata": {},
   "outputs": [],
   "source": [
    "# Drop extra columns\n",
    "CH4corrRanks_Delta_genus$OTU <-NULL\n",
    "CH4corrRanks_Delta_genus$OTU_r <-NULL"
   ]
  },
  {
   "cell_type": "code",
   "execution_count": 32,
   "metadata": {},
   "outputs": [],
   "source": [
    "# CH4corrRanks_Delta_genus"
   ]
  },
  {
   "cell_type": "code",
   "execution_count": 33,
   "metadata": {},
   "outputs": [],
   "source": [
    "# write.table(CH4corrRanks_Delta_genus, \"correlations/CH4corrRanks_Silva_Delta_genus.txt\", sep = '\\t')"
   ]
  },
  {
   "cell_type": "markdown",
   "metadata": {},
   "source": [
    "## 4) Older method \n",
    "- cleaner but didn't work?   \n",
    "- possibly OTU formatting problem"
   ]
  },
  {
   "cell_type": "code",
   "execution_count": 34,
   "metadata": {},
   "outputs": [],
   "source": [
    "## A) Recalculate corr METHODS for controller, using functions from correlations module:\n",
    "# source(\"Corr_ranks_module_v0.3.2_strip.R\")\n",
    "\n",
    "# Only to genus level:\n",
    "# CH4corrRanks <- corr_TaxRanks(otu_V, Meta_iTag, \"CH4_logn1\")                                  # head(CH4corrRanks)\n",
    "\n",
    "# Append corrs at OTU level --  SLOW (10 min), need only for iTol? \n",
    "# OTU_ra <-append_OTU_corr_v(otu_V, CH4corr_ranks, \"CH4_logn1\")            \n",
    "\n",
    "# For Delta samples subset\n",
    "# CH4corrRanks_Delta_OTU <-append_OTU_corr_v(Delta_OTU, CH4corrRanks_Delta, \"CH4_logn1\")   \n",
    "# head(CH4corrRanks_Delta_OTU)\n",
    "\n",
    "# typically saved to file\n",
    "# write.table(OTU_ra, \"CH4_TaxRankOTU_corr_tab_all_sites.txt\", sep=\"\\t\", col.names = TRUE, row.names = FALSE, quote=FALSE)\n",
    "# write.table(CH4corrRanks_Delta_OTU, \"CH4_TaxRankOTU_corr_tab_Delta_sites.txt\", sep=\"\\t\", col.names = TRUE, row.names = FALSE, quote=FALSE)\n",
    "\n",
    "## B) Read EXISTING corr table: \n",
    "# CH4corrRanksOTU <-read.table(\"CH4_TaxRankOTU_corr_tab_all_sites.txt\", sep=\"\\t\", header=T)      #head(CH4corrRanksOTU)\n",
    "\n",
    "## C) Read EXISTING Delta corr table: \n",
    "# CH4corrRanksOTU_Delta <-read.table(\"CH4_TaxRankOTU_corr_tab_Delta_sites.txt\", sep=\"\\t\", header=T)  #head(CH4corrRanksOTU_Delta)\n"
   ]
  }
 ],
 "metadata": {
  "anaconda-cloud": {},
  "kernelspec": {
   "display_name": "R",
   "language": "R",
   "name": "ir"
  },
  "language_info": {
   "codemirror_mode": "r",
   "file_extension": ".r",
   "mimetype": "text/x-r-source",
   "name": "R",
   "pygments_lexer": "r",
   "version": "4.0.2"
  }
 },
 "nbformat": 4,
 "nbformat_minor": 4
}
