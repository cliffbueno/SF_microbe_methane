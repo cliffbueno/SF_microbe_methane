{
 "cells": [
  {
   "cell_type": "markdown",
   "metadata": {},
   "source": [
    "# 16S Taxa correlation heatmaps\n",
    "- Note subsetting may be possible here, e.g. by class, family etc.\n",
    "- subsets and detailed taxa correlations w/ CH4 shown as barplots in \"Taxonomic composition and patterns.ipynb\"\n",
    "- subsets by guild are shown in \"guilds/Guild corrleation heatmaps.ipynb\""
   ]
  },
  {
   "cell_type": "code",
   "execution_count": null,
   "metadata": {},
   "outputs": [],
   "source": [
    "# Import module\n",
    "source(\"../modules/7_Corr_heatmap_module_v0.1.R\")  \n",
    "\n",
    "# note ^ module calls \n",
    "# source(\"../modules/3_OTU_subsetting_modules_v.0.4_strip.r\")\n",
    "# source(\"../modules/5_OTU_barplots_module_v0.4.R\")  # uses ColorMap_other() to map colors"
   ]
  },
  {
   "cell_type": "code",
   "execution_count": null,
   "metadata": {},
   "outputs": [],
   "source": [
    "# Import data\n",
    "\n",
    "# Taxonomy color pallete (Precalculated)          -- varNAME IS HARDCODED in module, careful. \n",
    "# Taxons3d <-read.table(\"../data/colors/Test_taxonomy_color_pallete.txt\", sep=\"\\t\", header = T)\n",
    "Taxons3d <-read.table(\"../data/colors/Silva_taxonomy_color_pallete.txt\", sep=\"\\t\", header = T)"
   ]
  },
  {
   "cell_type": "code",
   "execution_count": null,
   "metadata": {},
   "outputs": [],
   "source": [
    "# Pre-calculated correlation grid -- here at OTU level...\n",
    "# CH4corrRanksOTU <- read.table(\"correlations/CH4corrRanks_iTagger.txt\", sep = '\\t')\n",
    "CH4corrRanksOTU <- read.table(\"correlations/CH4corrRanks_SilvaOTU.txt\", sep = '\\t')"
   ]
  },
  {
   "cell_type": "code",
   "execution_count": null,
   "metadata": {},
   "outputs": [],
   "source": []
  },
  {
   "cell_type": "code",
   "execution_count": null,
   "metadata": {},
   "outputs": [],
   "source": [
    "# drop OTU level data\n",
    "# Drop OTU vars or heatmap will never render\n",
    "CH4corrRanks <-CH4corrRanksOTU[,1:(ncol(CH4corrRanksOTU)-2)]           # if need be, drop OTU data for unique at genus / Consensus.lineage\n",
    "Tax_corrU <- unique(CH4corrRanks)            "
   ]
  },
  {
   "cell_type": "markdown",
   "metadata": {},
   "source": [
    "#### make the plot"
   ]
  },
  {
   "cell_type": "code",
   "execution_count": null,
   "metadata": {},
   "outputs": [],
   "source": [
    "# Test corrRanks heatmap w taxon color bar\n",
    "options(repr.plot.width=5, repr.plot.height=6)\n",
    "\n",
    "Tax_heat_corrRanks(Taxons3d, Tax_corrU, heat_cols=grey_red)               # grey_red <- c(\"slategray\",\"white\",\"red4\") "
   ]
  },
  {
   "cell_type": "code",
   "execution_count": null,
   "metadata": {},
   "outputs": [],
   "source": [
    "# correlation filtered (more fun elsewhere)\n",
    "\n",
    "# Use corrRanks_Filt function - GENUS\n",
    "Corr_filt_r <- unique(corrRanks_filt(Tax_corrU, \"Genus\", 0.5))\n",
    "Tax_heat_corrRanks(Taxons3d, Corr_filt_r, heat_cols=grey_red)               # grey_red <- c(\"slategray\",\"white\",\"red4\")\n",
    "\n",
    "\n"
   ]
  },
  {
   "cell_type": "code",
   "execution_count": null,
   "metadata": {},
   "outputs": [],
   "source": []
  }
 ],
 "metadata": {
  "anaconda-cloud": {},
  "kernelspec": {
   "display_name": "R",
   "language": "R",
   "name": "ir"
  },
  "language_info": {
   "codemirror_mode": "r",
   "file_extension": ".r",
   "mimetype": "text/x-r-source",
   "name": "R",
   "pygments_lexer": "r",
   "version": "4.0.2"
  }
 },
 "nbformat": 4,
 "nbformat_minor": 4
}
