{
 "cells": [
  {
   "cell_type": "markdown",
   "metadata": {
    "nbpresent": {
     "id": "1885a16c-422d-48b7-88f2-e1f91bb98103"
    }
   },
   "source": [
    "# SF Salinity KOs, LASSO CV to predict methane v.11 -- plot figs vers 2021"
   ]
  },
  {
   "cell_type": "markdown",
   "metadata": {
    "nbpresent": {
     "id": "23c78fd6-8044-41dd-b474-52fa51309006"
    }
   },
   "source": [
    "- v.10 working functions, consistent, cleans v0.9 cruft\n",
    "- v0.9 Finds / fixes inconsistencies among versions, comments out old code\n",
    "- v0.8 uses / reorgs new Lasso functions\n",
    "- v0.7 makes new functions for Lasso\n",
    "- v0.6 cleans guild features, data still below\n",
    "- v0.5 redoes import functions, v0.4 was last but data issues, last figs from v0.2 UMX.."
   ]
  },
  {
   "cell_type": "markdown",
   "metadata": {
    "nbpresent": {
     "id": "56b85615-3fa8-4038-ba20-dcca5e826ecb"
    }
   },
   "source": [
    "- note this vers. also uses cdips2017 py version, others may be missing SKlearn components like Robust Scaler, scorers, etc."
   ]
  },
  {
   "cell_type": "markdown",
   "metadata": {
    "heading_collapsed": true,
    "nbpresent": {
     "id": "a24ac02d-1cfe-4db0-b90f-5ad30904360b"
    }
   },
   "source": [
    "### 0) Import modules"
   ]
  },
  {
   "cell_type": "code",
   "execution_count": 70,
   "metadata": {
    "hidden": true,
    "nbpresent": {
     "id": "7ed51f07-bcd5-42b7-8e16-b8b8f30a4862"
    }
   },
   "outputs": [],
   "source": [
    "import numpy as np\n",
    "import pandas as pd\n",
    "import matplotlib.pyplot as plt\n",
    "import seaborn as sns\n",
    "from scipy import stats\n",
    "import matplotlib\n",
    "import scipy\n",
    "\n",
    "import warnings\n",
    "warnings.filterwarnings('ignore')\n",
    "\n",
    "import sklearn as sk\n",
    "\n",
    "%matplotlib inline\n",
    "from matplotlib import gridspec\n",
    "from matplotlib.backends.backend_pdf import PdfPages\n",
    "sns.set_style(\"white\")\n",
    "sns.set_style(\"ticks\")"
   ]
  },
  {
   "cell_type": "code",
   "execution_count": 71,
   "metadata": {
    "hidden": true,
    "nbpresent": {
     "id": "3b0d3f1d-e3b8-49f3-8fe5-872bd8851fdf"
    }
   },
   "outputs": [],
   "source": [
    "from sklearn import preprocessing\n",
    "from sklearn.preprocessing import StandardScaler\n",
    "from sklearn.preprocessing import RobustScaler"
   ]
  },
  {
   "cell_type": "code",
   "execution_count": 72,
   "metadata": {
    "hidden": true,
    "nbpresent": {
     "id": "62969b37-c058-4e97-8520-9afdf74a8fd9"
    }
   },
   "outputs": [],
   "source": [
    "from sklearn.model_selection import cross_val_score, train_test_split\n",
    "from sklearn.linear_model import LinearRegression, RidgeCV, LassoCV, ElasticNetCV\n",
    "from sklearn.metrics import mean_squared_error, make_scorer\n",
    "from sklearn import metrics"
   ]
  },
  {
   "cell_type": "code",
   "execution_count": 73,
   "metadata": {
    "hidden": true,
    "nbpresent": {
     "id": "352b928e-78a6-4a5a-ae56-29f6ef78f63c"
    }
   },
   "outputs": [
    {
     "ename": "ImportError",
     "evalue": "cannot import name 'RandomizedLasso' from 'sklearn.linear_model' (/Users/cliftonbdemesquita/miniconda3/lib/python3.8/site-packages/sklearn/linear_model/__init__.py)",
     "output_type": "error",
     "traceback": [
      "\u001b[0;31m---------------------------------------------------------------------------\u001b[0m",
      "\u001b[0;31mImportError\u001b[0m                               Traceback (most recent call last)",
      "\u001b[0;32m/var/folders/8p/jnsghzp91l38tytw2p0134x40000gq/T/ipykernel_54924/4198393883.py\u001b[0m in \u001b[0;36m<module>\u001b[0;34m\u001b[0m\n\u001b[0;32m----> 1\u001b[0;31m \u001b[0;32mfrom\u001b[0m \u001b[0msklearn\u001b[0m\u001b[0;34m.\u001b[0m\u001b[0mlinear_model\u001b[0m \u001b[0;32mimport\u001b[0m \u001b[0mRandomizedLasso\u001b[0m\u001b[0;34m\u001b[0m\u001b[0;34m\u001b[0m\u001b[0m\n\u001b[0m",
      "\u001b[0;31mImportError\u001b[0m: cannot import name 'RandomizedLasso' from 'sklearn.linear_model' (/Users/cliftonbdemesquita/miniconda3/lib/python3.8/site-packages/sklearn/linear_model/__init__.py)"
     ]
    }
   ],
   "source": [
    "from sklearn.linear_model import RandomizedLasso"
   ]
  },
  {
   "cell_type": "markdown",
   "metadata": {
    "nbpresent": {
     "id": "e3c199bf-f468-4b27-b7c5-7c03fabcd9f1"
    }
   },
   "source": [
    "# 1) Import data: Environment, Genes, Ontology\n",
    "\n",
    "- Env_chem, gene_ontol_colors, Gene_counts [used]\n",
    "\n",
    "- also, Gene_abund [all genes, not restricted to ontology genes as in counts]"
   ]
  },
  {
   "cell_type": "markdown",
   "metadata": {
    "nbpresent": {
     "id": "43e9d06e-7fa0-4d04-9f4c-a8ca4065759b"
    }
   },
   "source": [
    "## a) Import & clean Environment data:\n",
    "\n",
    "- Env_chem\n",
    "\n",
    "- creates DELTA ONLY subset unless commented out"
   ]
  },
  {
   "cell_type": "markdown",
   "metadata": {
    "heading_collapsed": true,
    "nbpresent": {
     "id": "fe5ce5be-f513-4586-9ec2-6f8dad1b94a4"
    }
   },
   "source": [
    "#### i) Import metadata (chemistry)"
   ]
  },
  {
   "cell_type": "code",
   "execution_count": 74,
   "metadata": {
    "hidden": true,
    "nbpresent": {
     "id": "469d27b1-dddb-423c-8bec-b80ba0517f61"
    }
   },
   "outputs": [],
   "source": [
    "# Import and clean environment data\n",
    "# Note for v0.5 input data is LINEAR (fix3, note fix 3.5 is missing some of the below vars)\n",
    "Sal_meta = pd.read_csv('../data/meta/SF_sal_meta_FIX3.txt', sep='\\t', index_col=0)\n",
    "Sal_meta['Salinity'] =  Sal_meta['Salinity.x']                                 #Sal_meta.columns # Sal_meta.head(10) # Sal_meta.EWcoastGroup.unique()"
   ]
  },
  {
   "cell_type": "markdown",
   "metadata": {
    "nbpresent": {
     "id": "c86f6482-d4bb-4a27-90bc-c5064679d267"
    }
   },
   "source": [
    "#### ii) Make environment subsets\n",
    "- for oligo / Delta sites only analysis, or comment out below"
   ]
  },
  {
   "cell_type": "code",
   "execution_count": 75,
   "metadata": {
    "nbpresent": {
     "id": "b7c3e669-93bf-43ec-aa92-b4ee6b3959a4"
    }
   },
   "outputs": [],
   "source": [
    "###  LOW Salinity sites                                       # Sal_meta.SALTgroup.unique()\n",
    "FW = Sal_meta[Sal_meta['SALTgroup'].str.contains('FW')]         # Get subsets \n",
    "Oligo = Sal_meta[Sal_meta['SALTgroup'].str.contains('Oligo')]\n",
    "# Meso = Sal_meta[Sal_meta['SALTgroup'].str.contains('Meso')]\n",
    "\n",
    "# DELTA ONLY sites\n",
    "Oligo_FW = (FW, Oligo)                                           # Make set list \n",
    "Oligo_FW_sites = pd.concat(Oligo_FW)                             # Concat SET\n",
    "Oligo_FW_sites.sort_values(by = 'Index', axis=0, inplace=True)   # Sort on Site index        \n",
    "\n",
    "### REF SITES ONLY \n",
    "Ref_sites_ONLY = Sal_meta[Sal_meta['EWcoastGroup'].str.contains('SF_Ref')]"
   ]
  },
  {
   "cell_type": "code",
   "execution_count": 76,
   "metadata": {},
   "outputs": [],
   "source": [
    "#Oligo_FW_sites['Sample']"
   ]
  },
  {
   "cell_type": "code",
   "execution_count": 77,
   "metadata": {
    "nbpresent": {
     "id": "0a80071b-d8be-4cc3-9e61-d342647a5d9b"
    }
   },
   "outputs": [],
   "source": [
    "#### Select OLIGO only sites at own risk !!\n",
    "# can just comment this line out:\n",
    "#Sal_meta=Oligo_FW_sites"
   ]
  },
  {
   "cell_type": "markdown",
   "metadata": {
    "nbpresent": {
     "id": "1b416f13-8d2f-4b86-af82-aa0fe27d9114"
    }
   },
   "source": [
    "#### iii) Select Env. Chem variables\n",
    "- ignores some features like soil metals\n",
    "- sets NA to 0.1 to fill missing porewater data (below detection)"
   ]
  },
  {
   "cell_type": "code",
   "execution_count": 78,
   "metadata": {
    "nbpresent": {
     "id": "4153306e-a0b2-4f9d-b282-7f91835f4440"
    }
   },
   "outputs": [],
   "source": [
    "## CUT Down Env. Data\n",
    "env_chem_List = ['Salinity', 'Bulk_dens', 'H2O_FPS', 'CO2_mg_m2_h',                       # with log DATA, delete 'logCH4' now is logged, except for LIN vars\n",
    "       'CO2_soilC_mg_g_d', 'CH4_ug_m2_h', 'CH4_CO2', 'CH4_soilC_ug_g_d', 'pH',            # Drop cations, corr w. Sal: 'Ca_pw', 'Sr_pw','Mg_pw', 'Na_pw', 'K_pw', 'Al_pw', 'Si_pw', 'Br_pw', 'F_pw', 'logCH4']\n",
    "       'Cl', 'SO4', 'Corg_LOI', 'C', 'N', 'P', 'NO3_N', 'NH4_N', 'Olsen_P',               # Drop soil metals for now, half NA: 'Fe', 'Mn', 'Cu', 'Zn']\n",
    "       'CN', 'CP', 'NP', 'NP_ext', 'NO3_NH4', 'C_g_m2', 'N_g_m2', 'P_g_m2',               # Drop redundant cols for PW: 'Salinity.x.1', 'CO2_mg_m2_h.1','CH4_ug_m2_h.1'\n",
    "       'DOC_mg_L','Cl_pw', 'SO4_pw', 'NO2_pw', 'NO3_pw','NH3_pw',                         # Much more DELETED here, see earlier versions... # Sal_meta.columns # Env_chem.head()  \n",
    "       'PO4_pw', 'Fe_pw', 'Mn_pw', 'Co_pw', 'Cu_pw', 'Zn_pw'] \n",
    "              \n",
    "# ABSTRACT Env_chem\n",
    "Env_chem = Sal_meta[env_chem_List]  # Get columns\n",
    "Env_chem.fillna(0.1, inplace = True)  # Fill NAs w 0, for porewater ND - careful with soil metals\n",
    "\n",
    "## ReINDEX Env. chem, MUST BE by Sample\n",
    "Sample = Sal_meta['Sample'] \n",
    "Env_chem = Env_chem.set_index(Sample,0)  "
   ]
  },
  {
   "cell_type": "code",
   "execution_count": 79,
   "metadata": {},
   "outputs": [
    {
     "data": {
      "text/plain": [
       "'Sample'"
      ]
     },
     "execution_count": 79,
     "metadata": {},
     "output_type": "execute_result"
    }
   ],
   "source": [
    "Env_chem.index.name"
   ]
  },
  {
   "cell_type": "code",
   "execution_count": 80,
   "metadata": {},
   "outputs": [
    {
     "ename": "AttributeError",
     "evalue": "can't delete attribute",
     "output_type": "error",
     "traceback": [
      "\u001b[0;31m---------------------------------------------------------------------------\u001b[0m",
      "\u001b[0;31mAttributeError\u001b[0m                            Traceback (most recent call last)",
      "\u001b[0;32m/var/folders/8p/jnsghzp91l38tytw2p0134x40000gq/T/ipykernel_54924/1892436067.py\u001b[0m in \u001b[0;36m<module>\u001b[0;34m\u001b[0m\n\u001b[0;32m----> 1\u001b[0;31m \u001b[0;32mdel\u001b[0m \u001b[0mEnv_chem\u001b[0m\u001b[0;34m.\u001b[0m\u001b[0mindex\u001b[0m\u001b[0;34m.\u001b[0m\u001b[0mname\u001b[0m\u001b[0;34m\u001b[0m\u001b[0;34m\u001b[0m\u001b[0m\n\u001b[0m",
      "\u001b[0;31mAttributeError\u001b[0m: can't delete attribute"
     ]
    }
   ],
   "source": [
    "del Env_chem.index.name "
   ]
  },
  {
   "cell_type": "code",
   "execution_count": 81,
   "metadata": {
    "nbpresent": {
     "id": "dac7da52-3666-4851-9451-2b194f1aadfb"
    }
   },
   "outputs": [],
   "source": [
    "# Drop bad porewater data from above\n",
    "drop_vars = ['NO2_pw', 'NO3_pw','NH3_pw', 'PO4_pw']              # inorg N samps ruined, PO4 mostly 0/NA due to IC method\n",
    "Env_chem.drop(drop_vars, axis = 1, inplace=True)"
   ]
  },
  {
   "cell_type": "code",
   "execution_count": 82,
   "metadata": {
    "nbpresent": {
     "id": "f178d492-02c8-498f-be9e-4bc1cba76f57"
    }
   },
   "outputs": [],
   "source": [
    "# Drop more non-sense variables "
   ]
  },
  {
   "cell_type": "markdown",
   "metadata": {
    "nbpresent": {
     "id": "ae1d9fa6-24f6-47e3-b4a0-9b72c4c8dfc8"
    }
   },
   "source": [
    "#### iv) log transform data\n",
    "- includes log n+1 for vars with negative values (like CH4 flux!)"
   ]
  },
  {
   "cell_type": "code",
   "execution_count": 14,
   "metadata": {
    "nbpresent": {
     "id": "5e7d7528-6211-46b4-9b60-c02930661cbe"
    }
   },
   "outputs": [],
   "source": [
    "# Log10 transform data set\n",
    "Env_chem_log = np.log10(Env_chem)\n",
    "# Env_chem_log.head()"
   ]
  },
  {
   "cell_type": "code",
   "execution_count": 83,
   "metadata": {
    "nbpresent": {
     "id": "0c20c8f5-807d-428e-8d05-15cd0520f3b8"
    }
   },
   "outputs": [],
   "source": [
    "# Get log(n+1 data) for select vars\n",
    "log_n1_cols = ['CH4_ug_m2_h', 'CH4_CO2', 'CH4_soilC_ug_g_d']\n",
    "#log_n1_data = np.log(Env_chem[log_n1_cols] + 1)\n",
    "# Cliff update - log10 instead of log (natural log!!)\n",
    "log_n1_data = np.log10(Env_chem[log_n1_cols] + 1)\n",
    "# log_n1_data.head()"
   ]
  },
  {
   "cell_type": "code",
   "execution_count": 84,
   "metadata": {
    "nbpresent": {
     "id": "13bd3aef-c2da-415a-bb9d-cdcba8133c15"
    }
   },
   "outputs": [],
   "source": [
    "# Replace log N + 1 data\n",
    "Env_chem_log['CH4_ug_m2_h'] =  log_n1_data['CH4_ug_m2_h']\n",
    "Env_chem_log['CH4_CO2'] =  log_n1_data['CH4_CO2']\n",
    "Env_chem_log['CH4_soilC_ug_g_d'] =  log_n1_data['CH4_soilC_ug_g_d']"
   ]
  },
  {
   "cell_type": "code",
   "execution_count": 85,
   "metadata": {
    "nbpresent": {
     "id": "dc8cc587-0b5e-4bea-ae18-ccdb94d6a4f5"
    }
   },
   "outputs": [],
   "source": [
    "# Fill NA in porewater\n",
    "#Env_chem.fillna(0.1, inplace = True)  # Fill NAs w 0, for porewater ND - careful with soil metals\n"
   ]
  },
  {
   "cell_type": "code",
   "execution_count": 86,
   "metadata": {
    "nbpresent": {
     "id": "5c44fbc2-6522-4386-a0ca-a070ef9d27c4"
    }
   },
   "outputs": [],
   "source": [
    "#Env_chem_log.head()"
   ]
  },
  {
   "cell_type": "code",
   "execution_count": 87,
   "metadata": {},
   "outputs": [
    {
     "data": {
      "text/plain": [
       "6.907755278982137"
      ]
     },
     "execution_count": 87,
     "metadata": {},
     "output_type": "execute_result"
    }
   ],
   "source": [
    "np.log(1000)"
   ]
  },
  {
   "cell_type": "markdown",
   "metadata": {
    "heading_collapsed": true,
    "nbpresent": {
     "id": "7e460580-e61c-498a-9a35-f57c0e26245f"
    }
   },
   "source": [
    "#### i) add back some vars as linear\n",
    "- might not be worth it, ignore later..."
   ]
  },
  {
   "cell_type": "code",
   "execution_count": 88,
   "metadata": {
    "hidden": true,
    "nbpresent": {
     "id": "d98ac27e-8bf7-4a5a-8f4e-e2848ddc1c0f"
    }
   },
   "outputs": [],
   "source": [
    "# Get linear data\n",
    "#linear_vars = ['CO2_mg_m2_h', 'CH4_ug_m2_h', 'Salinity']\n",
    "#linear_data = Env_chem[linear_vars]\n",
    "#linear_data.columns = ['Salinity_lin', 'CH4_m2_lin', 'CO2_m2_lin']\n",
    "\n",
    "# add linear to log df\n",
    "#Env_chem_log = pd.concat([Env_chem_log, linear_data], axis =1)\n",
    "\n",
    "# rename to Env_chem for downstream code\n",
    "Env_chem = Env_chem_log"
   ]
  },
  {
   "cell_type": "code",
   "execution_count": 89,
   "metadata": {
    "hidden": true,
    "nbpresent": {
     "id": "18a4243a-b59a-461a-97f7-b8586e5f0105"
    }
   },
   "outputs": [],
   "source": [
    "# drop first row of data (Sandmound_cattail is not a \"real\" sample)\n",
    "#Env_chem.drop([\"Sandmound_CattailA_D1\"], axis=0, inplace = True)"
   ]
  },
  {
   "cell_type": "code",
   "execution_count": 90,
   "metadata": {
    "hidden": true,
    "nbpresent": {
     "id": "df1c7fda-b71a-4cc3-b37e-65bf76ba5122"
    }
   },
   "outputs": [
    {
     "data": {
      "text/html": [
       "<div>\n",
       "<style scoped>\n",
       "    .dataframe tbody tr th:only-of-type {\n",
       "        vertical-align: middle;\n",
       "    }\n",
       "\n",
       "    .dataframe tbody tr th {\n",
       "        vertical-align: top;\n",
       "    }\n",
       "\n",
       "    .dataframe thead th {\n",
       "        text-align: right;\n",
       "    }\n",
       "</style>\n",
       "<table border=\"1\" class=\"dataframe\">\n",
       "  <thead>\n",
       "    <tr style=\"text-align: right;\">\n",
       "      <th></th>\n",
       "      <th>Salinity</th>\n",
       "      <th>Bulk_dens</th>\n",
       "      <th>H2O_FPS</th>\n",
       "      <th>CO2_mg_m2_h</th>\n",
       "      <th>CO2_soilC_mg_g_d</th>\n",
       "      <th>CH4_ug_m2_h</th>\n",
       "      <th>CH4_CO2</th>\n",
       "      <th>CH4_soilC_ug_g_d</th>\n",
       "      <th>pH</th>\n",
       "      <th>Cl</th>\n",
       "      <th>...</th>\n",
       "      <th>N_g_m2</th>\n",
       "      <th>P_g_m2</th>\n",
       "      <th>DOC_mg_L</th>\n",
       "      <th>Cl_pw</th>\n",
       "      <th>SO4_pw</th>\n",
       "      <th>Fe_pw</th>\n",
       "      <th>Mn_pw</th>\n",
       "      <th>Co_pw</th>\n",
       "      <th>Cu_pw</th>\n",
       "      <th>Zn_pw</th>\n",
       "    </tr>\n",
       "    <tr>\n",
       "      <th>Sample</th>\n",
       "      <th></th>\n",
       "      <th></th>\n",
       "      <th></th>\n",
       "      <th></th>\n",
       "      <th></th>\n",
       "      <th></th>\n",
       "      <th></th>\n",
       "      <th></th>\n",
       "      <th></th>\n",
       "      <th></th>\n",
       "      <th></th>\n",
       "      <th></th>\n",
       "      <th></th>\n",
       "      <th></th>\n",
       "      <th></th>\n",
       "      <th></th>\n",
       "      <th></th>\n",
       "      <th></th>\n",
       "      <th></th>\n",
       "      <th></th>\n",
       "      <th></th>\n",
       "    </tr>\n",
       "  </thead>\n",
       "  <tbody>\n",
       "    <tr>\n",
       "      <th>Sandmound_TuleA_D1</th>\n",
       "      <td>-0.226634</td>\n",
       "      <td>-0.576150</td>\n",
       "      <td>1.931627</td>\n",
       "      <td>0.170561</td>\n",
       "      <td>-2.213225</td>\n",
       "      <td>0.738231</td>\n",
       "      <td>0.114620</td>\n",
       "      <td>0.007955</td>\n",
       "      <td>0.789581</td>\n",
       "      <td>1.142702</td>\n",
       "      <td>...</td>\n",
       "      <td>2.628513</td>\n",
       "      <td>1.616975</td>\n",
       "      <td>-1.000000</td>\n",
       "      <td>-1.000000</td>\n",
       "      <td>-1.000000</td>\n",
       "      <td>-1.000000</td>\n",
       "      <td>-1.000000</td>\n",
       "      <td>-1.000000</td>\n",
       "      <td>-1.000000</td>\n",
       "      <td>-1.0</td>\n",
       "    </tr>\n",
       "    <tr>\n",
       "      <th>Sandmound_TuleA_D2</th>\n",
       "      <td>-0.226634</td>\n",
       "      <td>-0.561732</td>\n",
       "      <td>1.927049</td>\n",
       "      <td>0.170561</td>\n",
       "      <td>-2.264711</td>\n",
       "      <td>0.738231</td>\n",
       "      <td>0.114620</td>\n",
       "      <td>0.007073</td>\n",
       "      <td>0.771587</td>\n",
       "      <td>1.030195</td>\n",
       "      <td>...</td>\n",
       "      <td>2.598887</td>\n",
       "      <td>1.568602</td>\n",
       "      <td>0.994009</td>\n",
       "      <td>2.425115</td>\n",
       "      <td>0.536053</td>\n",
       "      <td>2.789143</td>\n",
       "      <td>2.434633</td>\n",
       "      <td>-0.366532</td>\n",
       "      <td>0.506505</td>\n",
       "      <td>-1.0</td>\n",
       "    </tr>\n",
       "    <tr>\n",
       "      <th>Sandmound_TuleB_D1</th>\n",
       "      <td>-0.219956</td>\n",
       "      <td>-0.605605</td>\n",
       "      <td>1.902172</td>\n",
       "      <td>0.620485</td>\n",
       "      <td>-1.740932</td>\n",
       "      <td>-0.144445</td>\n",
       "      <td>-0.002954</td>\n",
       "      <td>-0.000535</td>\n",
       "      <td>0.797268</td>\n",
       "      <td>1.149835</td>\n",
       "      <td>...</td>\n",
       "      <td>2.607116</td>\n",
       "      <td>1.611879</td>\n",
       "      <td>1.070776</td>\n",
       "      <td>2.337650</td>\n",
       "      <td>-0.057744</td>\n",
       "      <td>2.795477</td>\n",
       "      <td>3.070042</td>\n",
       "      <td>-0.408935</td>\n",
       "      <td>0.130334</td>\n",
       "      <td>-1.0</td>\n",
       "    </tr>\n",
       "    <tr>\n",
       "      <th>Sandmound_TuleB_D2</th>\n",
       "      <td>-0.219956</td>\n",
       "      <td>-0.587656</td>\n",
       "      <td>1.896442</td>\n",
       "      <td>0.620485</td>\n",
       "      <td>-1.760342</td>\n",
       "      <td>-0.144445</td>\n",
       "      <td>-0.002954</td>\n",
       "      <td>-0.000512</td>\n",
       "      <td>0.767156</td>\n",
       "      <td>1.123852</td>\n",
       "      <td>...</td>\n",
       "      <td>2.553637</td>\n",
       "      <td>1.542678</td>\n",
       "      <td>1.070776</td>\n",
       "      <td>2.337650</td>\n",
       "      <td>-0.057744</td>\n",
       "      <td>2.795477</td>\n",
       "      <td>3.070042</td>\n",
       "      <td>-0.408935</td>\n",
       "      <td>0.130334</td>\n",
       "      <td>-1.0</td>\n",
       "    </tr>\n",
       "    <tr>\n",
       "      <th>Sandmound_TuleC_D1</th>\n",
       "      <td>-0.246824</td>\n",
       "      <td>-0.619023</td>\n",
       "      <td>1.925604</td>\n",
       "      <td>0.246613</td>\n",
       "      <td>-2.131642</td>\n",
       "      <td>0.284630</td>\n",
       "      <td>0.022211</td>\n",
       "      <td>0.001680</td>\n",
       "      <td>0.796574</td>\n",
       "      <td>1.116608</td>\n",
       "      <td>...</td>\n",
       "      <td>2.599644</td>\n",
       "      <td>1.613973</td>\n",
       "      <td>1.250420</td>\n",
       "      <td>2.743198</td>\n",
       "      <td>1.238397</td>\n",
       "      <td>3.579373</td>\n",
       "      <td>3.481973</td>\n",
       "      <td>0.315970</td>\n",
       "      <td>0.678518</td>\n",
       "      <td>-1.0</td>\n",
       "    </tr>\n",
       "  </tbody>\n",
       "</table>\n",
       "<p>5 rows × 34 columns</p>\n",
       "</div>"
      ],
      "text/plain": [
       "                    Salinity  Bulk_dens   H2O_FPS  CO2_mg_m2_h  \\\n",
       "Sample                                                           \n",
       "Sandmound_TuleA_D1 -0.226634  -0.576150  1.931627     0.170561   \n",
       "Sandmound_TuleA_D2 -0.226634  -0.561732  1.927049     0.170561   \n",
       "Sandmound_TuleB_D1 -0.219956  -0.605605  1.902172     0.620485   \n",
       "Sandmound_TuleB_D2 -0.219956  -0.587656  1.896442     0.620485   \n",
       "Sandmound_TuleC_D1 -0.246824  -0.619023  1.925604     0.246613   \n",
       "\n",
       "                    CO2_soilC_mg_g_d  CH4_ug_m2_h   CH4_CO2  CH4_soilC_ug_g_d  \\\n",
       "Sample                                                                          \n",
       "Sandmound_TuleA_D1         -2.213225     0.738231  0.114620          0.007955   \n",
       "Sandmound_TuleA_D2         -2.264711     0.738231  0.114620          0.007073   \n",
       "Sandmound_TuleB_D1         -1.740932    -0.144445 -0.002954         -0.000535   \n",
       "Sandmound_TuleB_D2         -1.760342    -0.144445 -0.002954         -0.000512   \n",
       "Sandmound_TuleC_D1         -2.131642     0.284630  0.022211          0.001680   \n",
       "\n",
       "                          pH        Cl  ...    N_g_m2    P_g_m2  DOC_mg_L  \\\n",
       "Sample                                  ...                                 \n",
       "Sandmound_TuleA_D1  0.789581  1.142702  ...  2.628513  1.616975 -1.000000   \n",
       "Sandmound_TuleA_D2  0.771587  1.030195  ...  2.598887  1.568602  0.994009   \n",
       "Sandmound_TuleB_D1  0.797268  1.149835  ...  2.607116  1.611879  1.070776   \n",
       "Sandmound_TuleB_D2  0.767156  1.123852  ...  2.553637  1.542678  1.070776   \n",
       "Sandmound_TuleC_D1  0.796574  1.116608  ...  2.599644  1.613973  1.250420   \n",
       "\n",
       "                       Cl_pw    SO4_pw     Fe_pw     Mn_pw     Co_pw  \\\n",
       "Sample                                                                 \n",
       "Sandmound_TuleA_D1 -1.000000 -1.000000 -1.000000 -1.000000 -1.000000   \n",
       "Sandmound_TuleA_D2  2.425115  0.536053  2.789143  2.434633 -0.366532   \n",
       "Sandmound_TuleB_D1  2.337650 -0.057744  2.795477  3.070042 -0.408935   \n",
       "Sandmound_TuleB_D2  2.337650 -0.057744  2.795477  3.070042 -0.408935   \n",
       "Sandmound_TuleC_D1  2.743198  1.238397  3.579373  3.481973  0.315970   \n",
       "\n",
       "                       Cu_pw  Zn_pw  \n",
       "Sample                               \n",
       "Sandmound_TuleA_D1 -1.000000   -1.0  \n",
       "Sandmound_TuleA_D2  0.506505   -1.0  \n",
       "Sandmound_TuleB_D1  0.130334   -1.0  \n",
       "Sandmound_TuleB_D2  0.130334   -1.0  \n",
       "Sandmound_TuleC_D1  0.678518   -1.0  \n",
       "\n",
       "[5 rows x 34 columns]"
      ]
     },
     "execution_count": 90,
     "metadata": {},
     "output_type": "execute_result"
    }
   ],
   "source": [
    "#Env_chem_log.head()\n",
    "Env_chem.head()"
   ]
  },
  {
   "cell_type": "markdown",
   "metadata": {
    "heading_collapsed": true,
    "nbpresent": {
     "id": "9fcada48-957d-4c63-9045-ef7565d23860"
    }
   },
   "source": [
    "## b) Import gene (KO) abundance table\n",
    "- Gene_abund.head()"
   ]
  },
  {
   "cell_type": "code",
   "execution_count": 91,
   "metadata": {
    "hidden": true,
    "nbpresent": {
     "id": "8c5ff9c1-205c-45eb-989b-92eb8fcb18c2"
    }
   },
   "outputs": [
    {
     "ename": "AttributeError",
     "evalue": "can't delete attribute",
     "output_type": "error",
     "traceback": [
      "\u001b[0;31m---------------------------------------------------------------------------\u001b[0m",
      "\u001b[0;31mAttributeError\u001b[0m                            Traceback (most recent call last)",
      "\u001b[0;32m/var/folders/8p/jnsghzp91l38tytw2p0134x40000gq/T/ipykernel_54924/2825651939.py\u001b[0m in \u001b[0;36m<module>\u001b[0;34m\u001b[0m\n\u001b[1;32m      6\u001b[0m \u001b[0;31m#Gene_abund= pd.read_csv('FOAM_KO_ordered_F500_DESeq2_nrm.txt', sep='\\t')#, index_col=0)                # FOAM\u001b[0m\u001b[0;34m\u001b[0m\u001b[0;34m\u001b[0m\u001b[0;34m\u001b[0m\u001b[0m\n\u001b[1;32m      7\u001b[0m \u001b[0;34m\u001b[0m\u001b[0m\n\u001b[0;32m----> 8\u001b[0;31m \u001b[0;32mdel\u001b[0m \u001b[0mGene_abund\u001b[0m\u001b[0;34m.\u001b[0m\u001b[0mindex\u001b[0m\u001b[0;34m.\u001b[0m\u001b[0mname\u001b[0m   \u001b[0;31m# Drop row index name before transpose\u001b[0m\u001b[0;34m\u001b[0m\u001b[0;34m\u001b[0m\u001b[0m\n\u001b[0m\u001b[1;32m      9\u001b[0m \u001b[0;31m#Gene_abundT = Gene_abund.T  # TRANSPOSE, samples as rows for join with ENV#    #Gene_abundT.head() # Gene_abundT.head() # Gene_list = Gene_abundT.columns  # Get gene list (for later)  -- acting wonky, no methods could be use  # mgRAST_KO_de\u001b[0m\u001b[0;34m\u001b[0m\u001b[0;34m\u001b[0m\u001b[0;34m\u001b[0m\u001b[0m\n",
      "\u001b[0;31mAttributeError\u001b[0m: can't delete attribute"
     ]
    }
   ],
   "source": [
    "### IMPORT CHANGED HERE TO MAKE KO A COLUMN, not index\n",
    "# MG RAST updated KO counts (12/17)\n",
    "Gene_abund = pd.read_csv('../data/shotgun/MG_RAST_data/RAST_KO_ordered133_R2_F200_DESeq2_nrm.txt', sep='\\t')#, index_col=0)      # RAST_KO_ordered133_R2_F200_DESeq2_nrm.txt\n",
    "\n",
    "# Old FOAM data\n",
    "#Gene_abund= pd.read_csv('FOAM_KO_ordered_F500_DESeq2_nrm.txt', sep='\\t')#, index_col=0)                # FOAM\n",
    "\n",
    "del Gene_abund.index.name   # Drop row index name before transpose\n",
    "#Gene_abundT = Gene_abund.T  # TRANSPOSE, samples as rows for join with ENV#    #Gene_abundT.head() # Gene_abundT.head() # Gene_list = Gene_abundT.columns  # Get gene list (for later)  -- acting wonky, no methods could be use  # mgRAST_KO_de"
   ]
  },
  {
   "cell_type": "raw",
   "metadata": {
    "hidden": true,
    "nbpresent": {
     "id": "6953b51f-a4aa-4aba-9c4d-8d83602293c2"
    }
   },
   "source": [
    "# Alternately, import FOAMv0.1 data\n",
    "Gene_abund= pd.read_csv('FOAM_KO_ordered_F500_DESeq2_nrm.txt', sep='\\t')#, index_col=0)\n",
    "Gene_abund = Gene_abund.drop(1915,0)  # Drop SPID last row  - should remove further upstream\n",
    "\n",
    "#Gene_abund = Gene_abund.drop('SPID.1',0)  # Drop SPID last row  - should remove further upstream\n",
    "#Gene_abund.tail()"
   ]
  },
  {
   "cell_type": "code",
   "execution_count": 92,
   "metadata": {
    "hidden": true,
    "nbpresent": {
     "id": "123b54a8-6b1b-4b95-999e-3f9cdef53249"
    }
   },
   "outputs": [
    {
     "data": {
      "text/html": [
       "<div>\n",
       "<style scoped>\n",
       "    .dataframe tbody tr th:only-of-type {\n",
       "        vertical-align: middle;\n",
       "    }\n",
       "\n",
       "    .dataframe tbody tr th {\n",
       "        vertical-align: top;\n",
       "    }\n",
       "\n",
       "    .dataframe thead th {\n",
       "        text-align: right;\n",
       "    }\n",
       "</style>\n",
       "<table border=\"1\" class=\"dataframe\">\n",
       "  <thead>\n",
       "    <tr style=\"text-align: right;\">\n",
       "      <th></th>\n",
       "      <th>KO</th>\n",
       "      <th>Sandmound_TuleA_D1</th>\n",
       "      <th>Sandmound_TuleA_D2</th>\n",
       "      <th>Sandmound_TuleB_D1</th>\n",
       "      <th>Sandmound_TuleB_D2</th>\n",
       "      <th>Sandmound_TuleC_D1</th>\n",
       "      <th>Sandmound_TuleC_D2</th>\n",
       "      <th>Sandmound_ThreeSqA_D1_rd</th>\n",
       "      <th>Sandmound_ThreeSqA_D2</th>\n",
       "      <th>Sandmound_ThreeSqB_D1</th>\n",
       "      <th>...</th>\n",
       "      <th>China_Bullhead_CordC_D2</th>\n",
       "      <th>China_Galinas_PWC_D2</th>\n",
       "      <th>Muzzi_CordA_D2</th>\n",
       "      <th>Muzzi_CordB_D2</th>\n",
       "      <th>Muzzi_CordC_D2</th>\n",
       "      <th>Muzzi_PWA_D1</th>\n",
       "      <th>Muzzi_PWB_D1</th>\n",
       "      <th>Muzzi_PWB_D2</th>\n",
       "      <th>Muzzi_PWC_D1</th>\n",
       "      <th>Muzzi_PWC_D2</th>\n",
       "    </tr>\n",
       "  </thead>\n",
       "  <tbody>\n",
       "    <tr>\n",
       "      <th>0</th>\n",
       "      <td>K00001</td>\n",
       "      <td>12.0810</td>\n",
       "      <td>12.0670</td>\n",
       "      <td>12.0850</td>\n",
       "      <td>12.0530</td>\n",
       "      <td>12.0990</td>\n",
       "      <td>12.0820</td>\n",
       "      <td>12.1720</td>\n",
       "      <td>12.2380</td>\n",
       "      <td>12.2390</td>\n",
       "      <td>...</td>\n",
       "      <td>12.3380</td>\n",
       "      <td>11.9620</td>\n",
       "      <td>12.1270</td>\n",
       "      <td>12.1920</td>\n",
       "      <td>12.0940</td>\n",
       "      <td>12.1880</td>\n",
       "      <td>12.2460</td>\n",
       "      <td>12.1790</td>\n",
       "      <td>12.0850</td>\n",
       "      <td>12.1080</td>\n",
       "    </tr>\n",
       "    <tr>\n",
       "      <th>1</th>\n",
       "      <td>K00002</td>\n",
       "      <td>7.6401</td>\n",
       "      <td>7.3040</td>\n",
       "      <td>7.6218</td>\n",
       "      <td>7.3884</td>\n",
       "      <td>7.7823</td>\n",
       "      <td>7.3416</td>\n",
       "      <td>7.3164</td>\n",
       "      <td>6.9943</td>\n",
       "      <td>7.1002</td>\n",
       "      <td>...</td>\n",
       "      <td>7.9442</td>\n",
       "      <td>7.2756</td>\n",
       "      <td>7.6496</td>\n",
       "      <td>8.3934</td>\n",
       "      <td>7.3459</td>\n",
       "      <td>7.6802</td>\n",
       "      <td>8.8228</td>\n",
       "      <td>7.9038</td>\n",
       "      <td>7.6230</td>\n",
       "      <td>7.1196</td>\n",
       "    </tr>\n",
       "    <tr>\n",
       "      <th>2</th>\n",
       "      <td>K00003</td>\n",
       "      <td>12.3770</td>\n",
       "      <td>12.2920</td>\n",
       "      <td>12.3830</td>\n",
       "      <td>12.2990</td>\n",
       "      <td>12.3660</td>\n",
       "      <td>12.2190</td>\n",
       "      <td>12.2340</td>\n",
       "      <td>12.1760</td>\n",
       "      <td>12.1290</td>\n",
       "      <td>...</td>\n",
       "      <td>12.0970</td>\n",
       "      <td>12.2630</td>\n",
       "      <td>12.2760</td>\n",
       "      <td>11.9690</td>\n",
       "      <td>12.2150</td>\n",
       "      <td>12.2090</td>\n",
       "      <td>11.9320</td>\n",
       "      <td>12.0820</td>\n",
       "      <td>12.1910</td>\n",
       "      <td>12.1970</td>\n",
       "    </tr>\n",
       "    <tr>\n",
       "      <th>3</th>\n",
       "      <td>K00004</td>\n",
       "      <td>6.3600</td>\n",
       "      <td>6.4288</td>\n",
       "      <td>6.4332</td>\n",
       "      <td>6.4328</td>\n",
       "      <td>6.4940</td>\n",
       "      <td>6.5065</td>\n",
       "      <td>6.2830</td>\n",
       "      <td>6.3845</td>\n",
       "      <td>6.2491</td>\n",
       "      <td>...</td>\n",
       "      <td>6.6153</td>\n",
       "      <td>5.9874</td>\n",
       "      <td>6.4346</td>\n",
       "      <td>6.1997</td>\n",
       "      <td>6.7880</td>\n",
       "      <td>6.3572</td>\n",
       "      <td>6.0756</td>\n",
       "      <td>6.2443</td>\n",
       "      <td>5.9990</td>\n",
       "      <td>6.2685</td>\n",
       "    </tr>\n",
       "    <tr>\n",
       "      <th>4</th>\n",
       "      <td>K00005</td>\n",
       "      <td>8.1040</td>\n",
       "      <td>8.1573</td>\n",
       "      <td>8.2144</td>\n",
       "      <td>8.2496</td>\n",
       "      <td>7.7890</td>\n",
       "      <td>8.1164</td>\n",
       "      <td>7.3423</td>\n",
       "      <td>7.7433</td>\n",
       "      <td>7.4109</td>\n",
       "      <td>...</td>\n",
       "      <td>9.0236</td>\n",
       "      <td>8.5381</td>\n",
       "      <td>9.0018</td>\n",
       "      <td>8.2802</td>\n",
       "      <td>8.8035</td>\n",
       "      <td>9.0160</td>\n",
       "      <td>8.0771</td>\n",
       "      <td>8.4723</td>\n",
       "      <td>8.8899</td>\n",
       "      <td>8.5717</td>\n",
       "    </tr>\n",
       "  </tbody>\n",
       "</table>\n",
       "<p>5 rows × 134 columns</p>\n",
       "</div>"
      ],
      "text/plain": [
       "       KO  Sandmound_TuleA_D1  Sandmound_TuleA_D2  Sandmound_TuleB_D1  \\\n",
       "0  K00001             12.0810             12.0670             12.0850   \n",
       "1  K00002              7.6401              7.3040              7.6218   \n",
       "2  K00003             12.3770             12.2920             12.3830   \n",
       "3  K00004              6.3600              6.4288              6.4332   \n",
       "4  K00005              8.1040              8.1573              8.2144   \n",
       "\n",
       "   Sandmound_TuleB_D2  Sandmound_TuleC_D1  Sandmound_TuleC_D2  \\\n",
       "0             12.0530             12.0990             12.0820   \n",
       "1              7.3884              7.7823              7.3416   \n",
       "2             12.2990             12.3660             12.2190   \n",
       "3              6.4328              6.4940              6.5065   \n",
       "4              8.2496              7.7890              8.1164   \n",
       "\n",
       "   Sandmound_ThreeSqA_D1_rd  Sandmound_ThreeSqA_D2  Sandmound_ThreeSqB_D1  \\\n",
       "0                   12.1720                12.2380                12.2390   \n",
       "1                    7.3164                 6.9943                 7.1002   \n",
       "2                   12.2340                12.1760                12.1290   \n",
       "3                    6.2830                 6.3845                 6.2491   \n",
       "4                    7.3423                 7.7433                 7.4109   \n",
       "\n",
       "   ...  China_Bullhead_CordC_D2  China_Galinas_PWC_D2  Muzzi_CordA_D2  \\\n",
       "0  ...                  12.3380               11.9620         12.1270   \n",
       "1  ...                   7.9442                7.2756          7.6496   \n",
       "2  ...                  12.0970               12.2630         12.2760   \n",
       "3  ...                   6.6153                5.9874          6.4346   \n",
       "4  ...                   9.0236                8.5381          9.0018   \n",
       "\n",
       "   Muzzi_CordB_D2  Muzzi_CordC_D2  Muzzi_PWA_D1  Muzzi_PWB_D1  Muzzi_PWB_D2  \\\n",
       "0         12.1920         12.0940       12.1880       12.2460       12.1790   \n",
       "1          8.3934          7.3459        7.6802        8.8228        7.9038   \n",
       "2         11.9690         12.2150       12.2090       11.9320       12.0820   \n",
       "3          6.1997          6.7880        6.3572        6.0756        6.2443   \n",
       "4          8.2802          8.8035        9.0160        8.0771        8.4723   \n",
       "\n",
       "   Muzzi_PWC_D1  Muzzi_PWC_D2  \n",
       "0       12.0850       12.1080  \n",
       "1        7.6230        7.1196  \n",
       "2       12.1910       12.1970  \n",
       "3        5.9990        6.2685  \n",
       "4        8.8899        8.5717  \n",
       "\n",
       "[5 rows x 134 columns]"
      ]
     },
     "execution_count": 92,
     "metadata": {},
     "output_type": "execute_result"
    }
   ],
   "source": [
    "#Gene_abundT.head()\n",
    "Gene_abund.head()"
   ]
  },
  {
   "cell_type": "markdown",
   "metadata": {
    "heading_collapsed": true,
    "nbpresent": {
     "id": "31f47a20-5635-4b08-9879-a58121fc02af"
    }
   },
   "source": [
    "## c) Import gene (KO) ontology data, merge w abundance  \n",
    "\n",
    "- gene_ontol_colors [merged ontology and colors]\n",
    "- Gene_counts [only CNPS genes]"
   ]
  },
  {
   "cell_type": "code",
   "execution_count": 93,
   "metadata": {
    "hidden": true,
    "nbpresent": {
     "id": "9a0a1e5d-eb08-4610-bed6-16beebbe316d"
    }
   },
   "outputs": [],
   "source": [
    "# Import CNPS, CH4, Ferment genes\n",
    "gene_ontol = pd.read_csv('../data/shotgun/MG_RAST_data/Ontology_KO_CNPSch4_Fm_whh0.txt', sep='\\t', index_col=0)             # CNPSch4_Fm_KO"
   ]
  },
  {
   "cell_type": "code",
   "execution_count": 94,
   "metadata": {
    "hidden": true,
    "nbpresent": {
     "id": "e5a473e4-a454-4f7c-99c3-aaa1d8b1d5da"
    }
   },
   "outputs": [],
   "source": [
    "## ADD Abbrev. gene NAMES\n",
    "Ont = gene_ontol         # Rename Ont shorter\n",
    "gene_ontol['sm_name'] = (Ont['KO']+ \" \" + Ont['L3'] + \" \" + Ont['gene'].str[:4])\n",
    "gene_ontol['mid_name'] = (Ont['KO']+ \" \" + Ont['L3'] + \" ( \" + Ont['gene'].str[:4] + \" ) \" + Ont['fxn'].str[:18])  # gene_ontol.head()"
   ]
  },
  {
   "cell_type": "code",
   "execution_count": 95,
   "metadata": {
    "hidden": true,
    "nbpresent": {
     "id": "8c43d750-8bab-460b-8126-41796ac22429"
    }
   },
   "outputs": [],
   "source": [
    "### Import Gene colors\n",
    "gene_colors = pd.read_csv('../data/shotgun/MG_RAST_data/Ontol_KO_L2_Color_KEY_whh0.txt', sep='\\t', index_col=0)         # gene_colors = gene_colors.iloc[:,4:6]                                  # why not keep it all and drop later?        # get L3 colors and cats    # gene_colors\n",
    "\n",
    "#### Merge colors, Ontol\n",
    "gene_ontol_colors = pd.merge(gene_ontol, gene_colors, on = 'L2', how='inner')  # Here changed to L2   # gene_colors.head() #gene_ontol_colors"
   ]
  },
  {
   "cell_type": "code",
   "execution_count": 96,
   "metadata": {
    "hidden": true,
    "nbpresent": {
     "id": "d15ad54c-744a-4954-ad4a-60ab3e58a62a"
    }
   },
   "outputs": [],
   "source": [
    "#gene_ontol_colors.head()"
   ]
  },
  {
   "cell_type": "markdown",
   "metadata": {
    "hidden": true,
    "nbpresent": {
     "id": "b486847f-7003-473a-9d2b-fce2f8b33f60"
    }
   },
   "source": [
    "#### i) subset ontology"
   ]
  },
  {
   "cell_type": "code",
   "execution_count": 97,
   "metadata": {
    "hidden": true,
    "nbpresent": {
     "id": "9ff47607-9f9d-4b74-9143-e5b41deccb9c"
    }
   },
   "outputs": [],
   "source": [
    "### Get gene cycle subsets\n",
    "gene_ontol_colors.head()\n",
    "gene_ontol_colors.L1.unique()\n",
    "\n",
    "Carbon = gene_ontol_colors[gene_ontol_colors['L1'].str.contains('Carbon')]             # L1 = Carbon \n",
    "Nitrogen = gene_ontol_colors[gene_ontol_colors['L1'].str.contains('Nitrogen')]         # L1 = Nitrogen\n",
    "Phosphorus = gene_ontol_colors[gene_ontol_colors['L1'].str.contains('Phosphorus')]     # L1 = Phosphorus\n",
    "Sulfur = gene_ontol_colors[gene_ontol_colors['L1'].str.contains('Sulfur')]             # L1 = Sulfur\n",
    "CH4_cycling = gene_ontol_colors[gene_ontol_colors['L1'].str.contains('CH4_cycling')]   # L1 = CH4 \n",
    "Fermentation = gene_ontol_colors[gene_ontol_colors['L1'].str.contains('Fermentation')] # L1 = Fermentaiton\n",
    "\n",
    "NPS_CH4_LIST = [Nitrogen, Phosphorus, Sulfur, CH4_cycling]\n",
    "#CNPS_CH4_LIST = [Nitrogen, Phosphorus, Sulfur, CH4_cycling]\n",
    "# NPS_CH4 = pd.concat([NPS_CH4_LIST], 0) \n",
    "\n",
    "NPS_CH4 = pd.concat([Nitrogen, Phosphorus, Sulfur, CH4_cycling], 0)\n",
    "CNPS_CH4 = pd.concat([Carbon, Nitrogen, Phosphorus, Sulfur, CH4_cycling], 0) \n",
    "CNPS_CH4f = pd.concat([Carbon, Nitrogen, Phosphorus, Sulfur, CH4_cycling, Fermentation], 0) \n",
    "# CNPS_CO2 = pd.concat([Carbon, Nitrogen, Phosphorus, Sulfur, CH4_cycling], 0) "
   ]
  },
  {
   "cell_type": "code",
   "execution_count": 98,
   "metadata": {
    "hidden": true,
    "nbpresent": {
     "id": "96276824-4530-4725-94f8-6b2d707dfea2"
    }
   },
   "outputs": [],
   "source": [
    "# Choose subset - own risk\n",
    "gene_ontol_colors = CNPS_CH4\n",
    "#gene_ontol_colors"
   ]
  },
  {
   "cell_type": "markdown",
   "metadata": {
    "hidden": true,
    "nbpresent": {
     "id": "c5f924d0-9910-4fe7-8723-4f4359acbce2"
    }
   },
   "source": [
    "#### ii) Get only CNPS_CH4 gene abundances for lasso"
   ]
  },
  {
   "cell_type": "code",
   "execution_count": 99,
   "metadata": {
    "hidden": true,
    "nbpresent": {
     "id": "9f4a8360-c5ca-4adc-ac84-705ccb542617"
    },
    "scrolled": true
   },
   "outputs": [],
   "source": [
    " # Get only KO abundance for genes in CNPS ontology\n",
    "CH4nps_KOs = pd.DataFrame(gene_ontol_colors['KO'])                           # Get only KOs from ontology\n",
    "CH4nps_KOabund = pd.merge(CH4nps_KOs, Gene_abund, on='KO', how='inner')      # merge CNPS KO vector with KO abundance \n",
    "CH4nps_KOabund = CH4nps_KOabund.set_index('KO')                              # Set index as KO before transpose\n",
    "\n",
    "CH4nps_KOabund_T = CH4nps_KOabund.T                                          # Transpose\n",
    "CH4nps_KOabund_T['Sample'] = CH4nps_KOabund_T.index                          # Get sample col from \n",
    "#CH4nps_KOabund_T.head()\n",
    "\n",
    "# Gene_counts = CH4nps_KOabund_T"
   ]
  },
  {
   "cell_type": "markdown",
   "metadata": {},
   "source": [
    "# 2) CORR genes, CH4 & stuff\n",
    "- for suppl, which GENES corr among CH4, Sal, methane, SRB?"
   ]
  },
  {
   "cell_type": "code",
   "execution_count": 100,
   "metadata": {},
   "outputs": [
    {
     "data": {
      "text/html": [
       "<div>\n",
       "<style scoped>\n",
       "    .dataframe tbody tr th:only-of-type {\n",
       "        vertical-align: middle;\n",
       "    }\n",
       "\n",
       "    .dataframe tbody tr th {\n",
       "        vertical-align: top;\n",
       "    }\n",
       "\n",
       "    .dataframe thead th {\n",
       "        text-align: right;\n",
       "    }\n",
       "</style>\n",
       "<table border=\"1\" class=\"dataframe\">\n",
       "  <thead>\n",
       "    <tr style=\"text-align: right;\">\n",
       "      <th></th>\n",
       "      <th>L1</th>\n",
       "      <th>L2</th>\n",
       "      <th>L3</th>\n",
       "      <th>L4</th>\n",
       "      <th>KO</th>\n",
       "      <th>gene</th>\n",
       "      <th>fxn</th>\n",
       "      <th>EC</th>\n",
       "      <th>sm_name</th>\n",
       "      <th>mid_name</th>\n",
       "      <th>color</th>\n",
       "    </tr>\n",
       "  </thead>\n",
       "  <tbody>\n",
       "    <tr>\n",
       "      <th>283</th>\n",
       "      <td>CH4_cycling</td>\n",
       "      <td>CH4_oxidation</td>\n",
       "      <td>CH4_ox</td>\n",
       "      <td>NaN</td>\n",
       "      <td>K10944</td>\n",
       "      <td>pmoA-amoA</td>\n",
       "      <td>methane/ammonia monooxygenase subunit A</td>\n",
       "      <td>[EC:1.14.18.3 1.14.99.39]</td>\n",
       "      <td>K10944 CH4_ox pmoA</td>\n",
       "      <td>K10944 CH4_ox ( pmoA ) methane/ammonia mo</td>\n",
       "      <td>#d9d9d9</td>\n",
       "    </tr>\n",
       "    <tr>\n",
       "      <th>284</th>\n",
       "      <td>CH4_cycling</td>\n",
       "      <td>CH4_oxidation</td>\n",
       "      <td>CH4_ox</td>\n",
       "      <td>NaN</td>\n",
       "      <td>K10945</td>\n",
       "      <td>pmoB-amoB</td>\n",
       "      <td>methane/ammonia monooxygenase subunit B</td>\n",
       "      <td>NaN</td>\n",
       "      <td>K10945 CH4_ox pmoB</td>\n",
       "      <td>K10945 CH4_ox ( pmoB ) methane/ammonia mo</td>\n",
       "      <td>#d9d9d9</td>\n",
       "    </tr>\n",
       "    <tr>\n",
       "      <th>285</th>\n",
       "      <td>CH4_cycling</td>\n",
       "      <td>CH4_oxidation</td>\n",
       "      <td>CH4_ox</td>\n",
       "      <td>NaN</td>\n",
       "      <td>K10946</td>\n",
       "      <td>pmoC-amoC</td>\n",
       "      <td>methane/ammonia monooxygenase subunit C</td>\n",
       "      <td>NaN</td>\n",
       "      <td>K10946 CH4_ox pmoC</td>\n",
       "      <td>K10946 CH4_ox ( pmoC ) methane/ammonia mo</td>\n",
       "      <td>#d9d9d9</td>\n",
       "    </tr>\n",
       "    <tr>\n",
       "      <th>286</th>\n",
       "      <td>CH4_cycling</td>\n",
       "      <td>CH4_oxidation</td>\n",
       "      <td>CH4_ox</td>\n",
       "      <td>NaN</td>\n",
       "      <td>K16157</td>\n",
       "      <td>mmoX</td>\n",
       "      <td>methane monooxygenase component A alpha chain</td>\n",
       "      <td>[EC:1.14.13.25]</td>\n",
       "      <td>K16157 CH4_ox mmoX</td>\n",
       "      <td>K16157 CH4_ox ( mmoX ) methane monooxygen</td>\n",
       "      <td>#d9d9d9</td>\n",
       "    </tr>\n",
       "    <tr>\n",
       "      <th>287</th>\n",
       "      <td>CH4_cycling</td>\n",
       "      <td>CH4_oxidation</td>\n",
       "      <td>CH4_ox</td>\n",
       "      <td>NaN</td>\n",
       "      <td>K16158</td>\n",
       "      <td>mmoY</td>\n",
       "      <td>methane monooxygenase component A beta chain</td>\n",
       "      <td>[EC:1.14.13.25]</td>\n",
       "      <td>K16158 CH4_ox mmoY</td>\n",
       "      <td>K16158 CH4_ox ( mmoY ) methane monooxygen</td>\n",
       "      <td>#d9d9d9</td>\n",
       "    </tr>\n",
       "  </tbody>\n",
       "</table>\n",
       "</div>"
      ],
      "text/plain": [
       "              L1             L2      L3  L4      KO       gene  \\\n",
       "283  CH4_cycling  CH4_oxidation  CH4_ox NaN  K10944  pmoA-amoA   \n",
       "284  CH4_cycling  CH4_oxidation  CH4_ox NaN  K10945  pmoB-amoB   \n",
       "285  CH4_cycling  CH4_oxidation  CH4_ox NaN  K10946  pmoC-amoC   \n",
       "286  CH4_cycling  CH4_oxidation  CH4_ox NaN  K16157       mmoX   \n",
       "287  CH4_cycling  CH4_oxidation  CH4_ox NaN  K16158       mmoY   \n",
       "\n",
       "                                               fxn                         EC  \\\n",
       "283        methane/ammonia monooxygenase subunit A  [EC:1.14.18.3 1.14.99.39]   \n",
       "284        methane/ammonia monooxygenase subunit B                        NaN   \n",
       "285        methane/ammonia monooxygenase subunit C                        NaN   \n",
       "286  methane monooxygenase component A alpha chain            [EC:1.14.13.25]   \n",
       "287   methane monooxygenase component A beta chain            [EC:1.14.13.25]   \n",
       "\n",
       "                sm_name                                   mid_name    color  \n",
       "283  K10944 CH4_ox pmoA  K10944 CH4_ox ( pmoA ) methane/ammonia mo  #d9d9d9  \n",
       "284  K10945 CH4_ox pmoB  K10945 CH4_ox ( pmoB ) methane/ammonia mo  #d9d9d9  \n",
       "285  K10946 CH4_ox pmoC  K10946 CH4_ox ( pmoC ) methane/ammonia mo  #d9d9d9  \n",
       "286  K16157 CH4_ox mmoX  K16157 CH4_ox ( mmoX ) methane monooxygen  #d9d9d9  \n",
       "287  K16158 CH4_ox mmoY  K16158 CH4_ox ( mmoY ) methane monooxygen  #d9d9d9  "
      ]
     },
     "execution_count": 100,
     "metadata": {},
     "output_type": "execute_result"
    }
   ],
   "source": [
    "# only CH4, S genes ontol list\n",
    "CH4_S_genes = pd.concat([CH4_cycling, Sulfur])\n",
    "CH4_S_genes.head() "
   ]
  },
  {
   "cell_type": "code",
   "execution_count": 101,
   "metadata": {},
   "outputs": [
    {
     "data": {
      "text/html": [
       "<div>\n",
       "<style scoped>\n",
       "    .dataframe tbody tr th:only-of-type {\n",
       "        vertical-align: middle;\n",
       "    }\n",
       "\n",
       "    .dataframe tbody tr th {\n",
       "        vertical-align: top;\n",
       "    }\n",
       "\n",
       "    .dataframe thead th {\n",
       "        text-align: right;\n",
       "    }\n",
       "</style>\n",
       "<table border=\"1\" class=\"dataframe\">\n",
       "  <thead>\n",
       "    <tr style=\"text-align: right;\">\n",
       "      <th>gene</th>\n",
       "      <th>pmoB-amoB</th>\n",
       "      <th>pmoC-amoC</th>\n",
       "      <th>fwdA, fmdA</th>\n",
       "      <th>fwdB, fmdB</th>\n",
       "      <th>fwdC, fmdC</th>\n",
       "      <th>fwdD, fmdD</th>\n",
       "      <th>fwdE, fmdE</th>\n",
       "      <th>fwdF, fmdF</th>\n",
       "      <th>fwdG</th>\n",
       "      <th>ftr</th>\n",
       "      <th>...</th>\n",
       "      <th>dsrA</th>\n",
       "      <th>dsrB</th>\n",
       "      <th>PAPSS</th>\n",
       "      <th>cysC</th>\n",
       "      <th>cysNC</th>\n",
       "      <th>cysH</th>\n",
       "      <th>cysJ</th>\n",
       "      <th>cysI</th>\n",
       "      <th>sir</th>\n",
       "      <th>Sample</th>\n",
       "    </tr>\n",
       "  </thead>\n",
       "  <tbody>\n",
       "    <tr>\n",
       "      <th>Sandmound_TuleA_D1</th>\n",
       "      <td>6.1756</td>\n",
       "      <td>6.4995</td>\n",
       "      <td>10.1220</td>\n",
       "      <td>8.5390</td>\n",
       "      <td>7.7147</td>\n",
       "      <td>4.6002</td>\n",
       "      <td>9.0167</td>\n",
       "      <td>5.3075</td>\n",
       "      <td>5.2508</td>\n",
       "      <td>9.5112</td>\n",
       "      <td>...</td>\n",
       "      <td>9.9523</td>\n",
       "      <td>9.8365</td>\n",
       "      <td>6.5234</td>\n",
       "      <td>10.917</td>\n",
       "      <td>11.640</td>\n",
       "      <td>11.085</td>\n",
       "      <td>9.6344</td>\n",
       "      <td>11.948</td>\n",
       "      <td>8.9118</td>\n",
       "      <td>Sandmound_TuleA_D1</td>\n",
       "    </tr>\n",
       "    <tr>\n",
       "      <th>Sandmound_TuleA_D2</th>\n",
       "      <td>6.3232</td>\n",
       "      <td>6.5271</td>\n",
       "      <td>9.8886</td>\n",
       "      <td>8.9271</td>\n",
       "      <td>8.0946</td>\n",
       "      <td>4.7068</td>\n",
       "      <td>9.2265</td>\n",
       "      <td>5.4435</td>\n",
       "      <td>5.4094</td>\n",
       "      <td>9.1969</td>\n",
       "      <td>...</td>\n",
       "      <td>9.7310</td>\n",
       "      <td>9.5886</td>\n",
       "      <td>6.5271</td>\n",
       "      <td>10.933</td>\n",
       "      <td>11.502</td>\n",
       "      <td>11.125</td>\n",
       "      <td>9.4987</td>\n",
       "      <td>11.877</td>\n",
       "      <td>9.0171</td>\n",
       "      <td>Sandmound_TuleA_D2</td>\n",
       "    </tr>\n",
       "    <tr>\n",
       "      <th>Sandmound_TuleB_D1</th>\n",
       "      <td>6.1262</td>\n",
       "      <td>6.4620</td>\n",
       "      <td>10.1510</td>\n",
       "      <td>8.7659</td>\n",
       "      <td>7.9253</td>\n",
       "      <td>4.8863</td>\n",
       "      <td>9.1617</td>\n",
       "      <td>5.1947</td>\n",
       "      <td>4.9288</td>\n",
       "      <td>9.4507</td>\n",
       "      <td>...</td>\n",
       "      <td>9.9705</td>\n",
       "      <td>9.9842</td>\n",
       "      <td>6.7340</td>\n",
       "      <td>10.924</td>\n",
       "      <td>11.644</td>\n",
       "      <td>11.051</td>\n",
       "      <td>9.5611</td>\n",
       "      <td>11.904</td>\n",
       "      <td>8.8822</td>\n",
       "      <td>Sandmound_TuleB_D1</td>\n",
       "    </tr>\n",
       "    <tr>\n",
       "      <th>Sandmound_TuleB_D2</th>\n",
       "      <td>5.7565</td>\n",
       "      <td>6.9940</td>\n",
       "      <td>10.0720</td>\n",
       "      <td>8.8718</td>\n",
       "      <td>7.9119</td>\n",
       "      <td>4.7781</td>\n",
       "      <td>9.4289</td>\n",
       "      <td>5.1443</td>\n",
       "      <td>5.0613</td>\n",
       "      <td>9.2297</td>\n",
       "      <td>...</td>\n",
       "      <td>9.8604</td>\n",
       "      <td>9.7271</td>\n",
       "      <td>6.4811</td>\n",
       "      <td>10.813</td>\n",
       "      <td>11.419</td>\n",
       "      <td>11.032</td>\n",
       "      <td>9.5560</td>\n",
       "      <td>11.767</td>\n",
       "      <td>8.9279</td>\n",
       "      <td>Sandmound_TuleB_D2</td>\n",
       "    </tr>\n",
       "    <tr>\n",
       "      <th>Sandmound_TuleC_D1</th>\n",
       "      <td>6.1217</td>\n",
       "      <td>6.4440</td>\n",
       "      <td>10.1750</td>\n",
       "      <td>8.6775</td>\n",
       "      <td>7.7137</td>\n",
       "      <td>3.7626</td>\n",
       "      <td>8.7951</td>\n",
       "      <td>4.5999</td>\n",
       "      <td>4.4692</td>\n",
       "      <td>9.6201</td>\n",
       "      <td>...</td>\n",
       "      <td>9.7145</td>\n",
       "      <td>9.5070</td>\n",
       "      <td>6.7212</td>\n",
       "      <td>10.959</td>\n",
       "      <td>11.665</td>\n",
       "      <td>11.202</td>\n",
       "      <td>9.9250</td>\n",
       "      <td>11.961</td>\n",
       "      <td>9.0363</td>\n",
       "      <td>Sandmound_TuleC_D1</td>\n",
       "    </tr>\n",
       "  </tbody>\n",
       "</table>\n",
       "<p>5 rows × 60 columns</p>\n",
       "</div>"
      ],
      "text/plain": [
       "gene                pmoB-amoB  pmoC-amoC  fwdA, fmdA  fwdB, fmdB  fwdC, fmdC  \\\n",
       "Sandmound_TuleA_D1     6.1756     6.4995     10.1220      8.5390      7.7147   \n",
       "Sandmound_TuleA_D2     6.3232     6.5271      9.8886      8.9271      8.0946   \n",
       "Sandmound_TuleB_D1     6.1262     6.4620     10.1510      8.7659      7.9253   \n",
       "Sandmound_TuleB_D2     5.7565     6.9940     10.0720      8.8718      7.9119   \n",
       "Sandmound_TuleC_D1     6.1217     6.4440     10.1750      8.6775      7.7137   \n",
       "\n",
       "gene                fwdD, fmdD  fwdE, fmdE  fwdF, fmdF    fwdG     ftr  ...  \\\n",
       "Sandmound_TuleA_D1      4.6002      9.0167      5.3075  5.2508  9.5112  ...   \n",
       "Sandmound_TuleA_D2      4.7068      9.2265      5.4435  5.4094  9.1969  ...   \n",
       "Sandmound_TuleB_D1      4.8863      9.1617      5.1947  4.9288  9.4507  ...   \n",
       "Sandmound_TuleB_D2      4.7781      9.4289      5.1443  5.0613  9.2297  ...   \n",
       "Sandmound_TuleC_D1      3.7626      8.7951      4.5999  4.4692  9.6201  ...   \n",
       "\n",
       "gene                  dsrA    dsrB   PAPSS    cysC   cysNC    cysH    cysJ  \\\n",
       "Sandmound_TuleA_D1  9.9523  9.8365  6.5234  10.917  11.640  11.085  9.6344   \n",
       "Sandmound_TuleA_D2  9.7310  9.5886  6.5271  10.933  11.502  11.125  9.4987   \n",
       "Sandmound_TuleB_D1  9.9705  9.9842  6.7340  10.924  11.644  11.051  9.5611   \n",
       "Sandmound_TuleB_D2  9.8604  9.7271  6.4811  10.813  11.419  11.032  9.5560   \n",
       "Sandmound_TuleC_D1  9.7145  9.5070  6.7212  10.959  11.665  11.202  9.9250   \n",
       "\n",
       "gene                  cysI     sir              Sample  \n",
       "Sandmound_TuleA_D1  11.948  8.9118  Sandmound_TuleA_D1  \n",
       "Sandmound_TuleA_D2  11.877  9.0171  Sandmound_TuleA_D2  \n",
       "Sandmound_TuleB_D1  11.904  8.8822  Sandmound_TuleB_D1  \n",
       "Sandmound_TuleB_D2  11.767  8.9279  Sandmound_TuleB_D2  \n",
       "Sandmound_TuleC_D1  11.961  9.0363  Sandmound_TuleC_D1  \n",
       "\n",
       "[5 rows x 60 columns]"
      ]
     },
     "execution_count": 101,
     "metadata": {},
     "output_type": "execute_result"
    }
   ],
   "source": [
    "# redo above, labels only gene names!\n",
    "keep_cols = ['KO', 'gene']\n",
    "CH4_S_KOs = pd.DataFrame(CH4_S_genes[keep_cols])                            # Get only KOs from ontology\n",
    "CH4_S_KOabund = pd.merge(CH4_S_KOs, Gene_abund, on='KO', how='inner')       # merge CNPS KO vector with KO abundance \n",
    "CH4_S_KOabund = CH4_S_KOabund.drop('KO', axis = 1)                          # drop KO \n",
    "CH4_S_KOabund = CH4_S_KOabund.set_index('gene')                              # Set index as KO before transpose\n",
    "\n",
    "CH4_S_KOabund_T = CH4_S_KOabund.T                                          # Transpose\n",
    "CH4_S_KOabund_T['Sample'] = CH4_S_KOabund_T.index                          # Get sample col from \n",
    "CH4_S_KOabund_T.head()\n",
    "#CH4_S_KOabund #= CH4_S_KOabund.set_index('KO')                              # Set index as KO before transpose"
   ]
  },
  {
   "cell_type": "code",
   "execution_count": 102,
   "metadata": {},
   "outputs": [],
   "source": [
    "# CH4_S_KOabund_T.to_csv('CH4_S_gene_abund_Log2.csv')"
   ]
  },
  {
   "cell_type": "code",
   "execution_count": 103,
   "metadata": {},
   "outputs": [
    {
     "data": {
      "text/html": [
       "<div>\n",
       "<style scoped>\n",
       "    .dataframe tbody tr th:only-of-type {\n",
       "        vertical-align: middle;\n",
       "    }\n",
       "\n",
       "    .dataframe tbody tr th {\n",
       "        vertical-align: top;\n",
       "    }\n",
       "\n",
       "    .dataframe thead th {\n",
       "        text-align: right;\n",
       "    }\n",
       "</style>\n",
       "<table border=\"1\" class=\"dataframe\">\n",
       "  <thead>\n",
       "    <tr style=\"text-align: right;\">\n",
       "      <th></th>\n",
       "      <th>Salinity</th>\n",
       "      <th>SO4</th>\n",
       "      <th>CH4_ug_m2_h</th>\n",
       "      <th>CO2_mg_m2_h</th>\n",
       "      <th>Sample</th>\n",
       "    </tr>\n",
       "    <tr>\n",
       "      <th>Sample</th>\n",
       "      <th></th>\n",
       "      <th></th>\n",
       "      <th></th>\n",
       "      <th></th>\n",
       "      <th></th>\n",
       "    </tr>\n",
       "  </thead>\n",
       "  <tbody>\n",
       "    <tr>\n",
       "      <th>Sandmound_TuleA_D1</th>\n",
       "      <td>-0.226634</td>\n",
       "      <td>1.713491</td>\n",
       "      <td>0.738231</td>\n",
       "      <td>0.170561</td>\n",
       "      <td>Sandmound_TuleA_D1</td>\n",
       "    </tr>\n",
       "    <tr>\n",
       "      <th>Sandmound_TuleA_D2</th>\n",
       "      <td>-0.226634</td>\n",
       "      <td>1.927370</td>\n",
       "      <td>0.738231</td>\n",
       "      <td>0.170561</td>\n",
       "      <td>Sandmound_TuleA_D2</td>\n",
       "    </tr>\n",
       "    <tr>\n",
       "      <th>Sandmound_TuleB_D1</th>\n",
       "      <td>-0.219956</td>\n",
       "      <td>1.599883</td>\n",
       "      <td>-0.144445</td>\n",
       "      <td>0.620485</td>\n",
       "      <td>Sandmound_TuleB_D1</td>\n",
       "    </tr>\n",
       "    <tr>\n",
       "      <th>Sandmound_TuleB_D2</th>\n",
       "      <td>-0.219956</td>\n",
       "      <td>1.609594</td>\n",
       "      <td>-0.144445</td>\n",
       "      <td>0.620485</td>\n",
       "      <td>Sandmound_TuleB_D2</td>\n",
       "    </tr>\n",
       "    <tr>\n",
       "      <th>Sandmound_TuleC_D1</th>\n",
       "      <td>-0.246824</td>\n",
       "      <td>1.598791</td>\n",
       "      <td>0.284630</td>\n",
       "      <td>0.246613</td>\n",
       "      <td>Sandmound_TuleC_D1</td>\n",
       "    </tr>\n",
       "  </tbody>\n",
       "</table>\n",
       "</div>"
      ],
      "text/plain": [
       "                    Salinity       SO4  CH4_ug_m2_h  CO2_mg_m2_h  \\\n",
       "Sample                                                             \n",
       "Sandmound_TuleA_D1 -0.226634  1.713491     0.738231     0.170561   \n",
       "Sandmound_TuleA_D2 -0.226634  1.927370     0.738231     0.170561   \n",
       "Sandmound_TuleB_D1 -0.219956  1.599883    -0.144445     0.620485   \n",
       "Sandmound_TuleB_D2 -0.219956  1.609594    -0.144445     0.620485   \n",
       "Sandmound_TuleC_D1 -0.246824  1.598791     0.284630     0.246613   \n",
       "\n",
       "                                Sample  \n",
       "Sample                                  \n",
       "Sandmound_TuleA_D1  Sandmound_TuleA_D1  \n",
       "Sandmound_TuleA_D2  Sandmound_TuleA_D2  \n",
       "Sandmound_TuleB_D1  Sandmound_TuleB_D1  \n",
       "Sandmound_TuleB_D2  Sandmound_TuleB_D2  \n",
       "Sandmound_TuleC_D1  Sandmound_TuleC_D1  "
      ]
     },
     "execution_count": 103,
     "metadata": {},
     "output_type": "execute_result"
    }
   ],
   "source": [
    "#Env_chem.head()\n",
    "min_meta = ['Salinity', 'SO4','CH4_ug_m2_h', 'CO2_mg_m2_h']\n",
    "Sal_CH4_data_only = Env_chem[min_meta]\n",
    "Sal_CH4_data_only['Sample'] = Sal_CH4_data_only.index\n",
    "Sal_CH4_data_only.head()"
   ]
  },
  {
   "cell_type": "code",
   "execution_count": 104,
   "metadata": {},
   "outputs": [
    {
     "data": {
      "text/plain": [
       "(133, 60)"
      ]
     },
     "execution_count": 104,
     "metadata": {},
     "output_type": "execute_result"
    }
   ],
   "source": [
    "CH4_S_KOabund_T.shape"
   ]
  },
  {
   "cell_type": "code",
   "execution_count": 105,
   "metadata": {},
   "outputs": [
    {
     "data": {
      "text/plain": [
       "(170, 5)"
      ]
     },
     "execution_count": 105,
     "metadata": {},
     "output_type": "execute_result"
    }
   ],
   "source": [
    "Sal_CH4_data_only.shape"
   ]
  },
  {
   "cell_type": "code",
   "execution_count": 106,
   "metadata": {},
   "outputs": [
    {
     "data": {
      "text/plain": [
       "Index(['Sandmound_TuleA_D1', 'Sandmound_TuleA_D2', 'Sandmound_TuleB_D1',\n",
       "       'Sandmound_TuleB_D2', 'Sandmound_TuleC_D1', 'Sandmound_TuleC_D2',\n",
       "       'Sandmound_CattailA_D1', 'Sandmound_CattailA_D2',\n",
       "       'Sandmound_ThreeSqA_D1', 'Sandmound_ThreeSqA_D2',\n",
       "       ...\n",
       "       'Muzzi_CordB_D1', 'Muzzi_CordB_D2', 'Muzzi_CordC_D1', 'Muzzi_CordC_D2',\n",
       "       'Muzzi_PWA_D1', 'Muzzi_PWA_D2', 'Muzzi_PWB_D1', 'Muzzi_PWB_D2',\n",
       "       'Muzzi_PWC_D1', 'Muzzi_PWC_D2'],\n",
       "      dtype='object', name='Sample', length=170)"
      ]
     },
     "execution_count": 106,
     "metadata": {},
     "output_type": "execute_result"
    }
   ],
   "source": [
    "Sal_CH4_data_only.index"
   ]
  },
  {
   "cell_type": "code",
   "execution_count": 107,
   "metadata": {},
   "outputs": [],
   "source": [
    "# Rest indexes\n",
    "CH4_S_KOabund_T.reset_index(drop = True, inplace = True)\n",
    "Sal_CH4_data_only.reset_index(drop = True, inplace = True)"
   ]
  },
  {
   "cell_type": "code",
   "execution_count": 108,
   "metadata": {},
   "outputs": [],
   "source": [
    "CH4s_gene_meta_data = pd.merge(Sal_CH4_data_only, CH4_S_KOabund_T, on = 'Sample', how = 'inner')"
   ]
  },
  {
   "cell_type": "code",
   "execution_count": 109,
   "metadata": {},
   "outputs": [],
   "source": [
    "CH4s_gene_meta_data = CH4s_gene_meta_data.set_index('Sample')"
   ]
  },
  {
   "cell_type": "code",
   "execution_count": 110,
   "metadata": {},
   "outputs": [
    {
     "data": {
      "text/html": [
       "<div>\n",
       "<style scoped>\n",
       "    .dataframe tbody tr th:only-of-type {\n",
       "        vertical-align: middle;\n",
       "    }\n",
       "\n",
       "    .dataframe tbody tr th {\n",
       "        vertical-align: top;\n",
       "    }\n",
       "\n",
       "    .dataframe thead th {\n",
       "        text-align: right;\n",
       "    }\n",
       "</style>\n",
       "<table border=\"1\" class=\"dataframe\">\n",
       "  <thead>\n",
       "    <tr style=\"text-align: right;\">\n",
       "      <th></th>\n",
       "      <th>L1</th>\n",
       "      <th>L2</th>\n",
       "      <th>L3</th>\n",
       "      <th>L4</th>\n",
       "      <th>KO</th>\n",
       "      <th>gene</th>\n",
       "      <th>fxn</th>\n",
       "      <th>EC</th>\n",
       "      <th>sm_name</th>\n",
       "      <th>mid_name</th>\n",
       "      <th>...</th>\n",
       "      <th>aprB</th>\n",
       "      <th>dsrA</th>\n",
       "      <th>dsrB</th>\n",
       "      <th>PAPSS</th>\n",
       "      <th>cysC</th>\n",
       "      <th>cysNC</th>\n",
       "      <th>cysH</th>\n",
       "      <th>cysJ</th>\n",
       "      <th>cysI</th>\n",
       "      <th>sir</th>\n",
       "    </tr>\n",
       "  </thead>\n",
       "  <tbody>\n",
       "    <tr>\n",
       "      <th>0</th>\n",
       "      <td>NaN</td>\n",
       "      <td>NaN</td>\n",
       "      <td>NaN</td>\n",
       "      <td>NaN</td>\n",
       "      <td>NaN</td>\n",
       "      <td>Salinity</td>\n",
       "      <td>NaN</td>\n",
       "      <td>NaN</td>\n",
       "      <td>NaN</td>\n",
       "      <td>NaN</td>\n",
       "      <td>...</td>\n",
       "      <td>0.69</td>\n",
       "      <td>0.36</td>\n",
       "      <td>0.45</td>\n",
       "      <td>-0.32</td>\n",
       "      <td>0.64</td>\n",
       "      <td>-0.24</td>\n",
       "      <td>-0.33</td>\n",
       "      <td>-0.28</td>\n",
       "      <td>-0.24</td>\n",
       "      <td>0.25</td>\n",
       "    </tr>\n",
       "    <tr>\n",
       "      <th>1</th>\n",
       "      <td>NaN</td>\n",
       "      <td>NaN</td>\n",
       "      <td>NaN</td>\n",
       "      <td>NaN</td>\n",
       "      <td>NaN</td>\n",
       "      <td>SO4</td>\n",
       "      <td>NaN</td>\n",
       "      <td>NaN</td>\n",
       "      <td>NaN</td>\n",
       "      <td>NaN</td>\n",
       "      <td>...</td>\n",
       "      <td>0.78</td>\n",
       "      <td>0.58</td>\n",
       "      <td>0.66</td>\n",
       "      <td>-0.54</td>\n",
       "      <td>0.48</td>\n",
       "      <td>-0.32</td>\n",
       "      <td>-0.50</td>\n",
       "      <td>-0.30</td>\n",
       "      <td>-0.35</td>\n",
       "      <td>0.07</td>\n",
       "    </tr>\n",
       "    <tr>\n",
       "      <th>2</th>\n",
       "      <td>NaN</td>\n",
       "      <td>NaN</td>\n",
       "      <td>NaN</td>\n",
       "      <td>NaN</td>\n",
       "      <td>NaN</td>\n",
       "      <td>CH4_ug_m2_h</td>\n",
       "      <td>NaN</td>\n",
       "      <td>NaN</td>\n",
       "      <td>NaN</td>\n",
       "      <td>NaN</td>\n",
       "      <td>...</td>\n",
       "      <td>-0.52</td>\n",
       "      <td>-0.50</td>\n",
       "      <td>-0.48</td>\n",
       "      <td>0.12</td>\n",
       "      <td>-0.55</td>\n",
       "      <td>0.10</td>\n",
       "      <td>0.26</td>\n",
       "      <td>0.26</td>\n",
       "      <td>-0.03</td>\n",
       "      <td>-0.20</td>\n",
       "    </tr>\n",
       "    <tr>\n",
       "      <th>3</th>\n",
       "      <td>NaN</td>\n",
       "      <td>NaN</td>\n",
       "      <td>NaN</td>\n",
       "      <td>NaN</td>\n",
       "      <td>NaN</td>\n",
       "      <td>CO2_mg_m2_h</td>\n",
       "      <td>NaN</td>\n",
       "      <td>NaN</td>\n",
       "      <td>NaN</td>\n",
       "      <td>NaN</td>\n",
       "      <td>...</td>\n",
       "      <td>-0.34</td>\n",
       "      <td>-0.19</td>\n",
       "      <td>-0.22</td>\n",
       "      <td>0.01</td>\n",
       "      <td>-0.56</td>\n",
       "      <td>0.08</td>\n",
       "      <td>0.25</td>\n",
       "      <td>0.30</td>\n",
       "      <td>0.17</td>\n",
       "      <td>-0.13</td>\n",
       "    </tr>\n",
       "    <tr>\n",
       "      <th>4</th>\n",
       "      <td>CH4_cycling</td>\n",
       "      <td>CH4_oxidation</td>\n",
       "      <td>CH4_ox</td>\n",
       "      <td>NaN</td>\n",
       "      <td>K10945</td>\n",
       "      <td>pmoB-amoB</td>\n",
       "      <td>methane/ammonia monooxygenase subunit B</td>\n",
       "      <td>NaN</td>\n",
       "      <td>K10945 CH4_ox pmoB</td>\n",
       "      <td>K10945 CH4_ox ( pmoB ) methane/ammonia mo</td>\n",
       "      <td>...</td>\n",
       "      <td>0.04</td>\n",
       "      <td>0.19</td>\n",
       "      <td>0.10</td>\n",
       "      <td>0.01</td>\n",
       "      <td>0.08</td>\n",
       "      <td>0.13</td>\n",
       "      <td>-0.06</td>\n",
       "      <td>-0.10</td>\n",
       "      <td>0.14</td>\n",
       "      <td>0.04</td>\n",
       "    </tr>\n",
       "    <tr>\n",
       "      <th>...</th>\n",
       "      <td>...</td>\n",
       "      <td>...</td>\n",
       "      <td>...</td>\n",
       "      <td>...</td>\n",
       "      <td>...</td>\n",
       "      <td>...</td>\n",
       "      <td>...</td>\n",
       "      <td>...</td>\n",
       "      <td>...</td>\n",
       "      <td>...</td>\n",
       "      <td>...</td>\n",
       "      <td>...</td>\n",
       "      <td>...</td>\n",
       "      <td>...</td>\n",
       "      <td>...</td>\n",
       "      <td>...</td>\n",
       "      <td>...</td>\n",
       "      <td>...</td>\n",
       "      <td>...</td>\n",
       "      <td>...</td>\n",
       "      <td>...</td>\n",
       "    </tr>\n",
       "    <tr>\n",
       "      <th>64</th>\n",
       "      <td>Sulfur</td>\n",
       "      <td>SO4_A.reduction</td>\n",
       "      <td>SO4_A.red</td>\n",
       "      <td>NaN</td>\n",
       "      <td>K00955</td>\n",
       "      <td>cysNC</td>\n",
       "      <td>bifunctional enzyme CysN/CysC</td>\n",
       "      <td>[EC:2.7.7.4 2.7.1.25]</td>\n",
       "      <td>K00955 SO4_A.red cysN</td>\n",
       "      <td>K00955 SO4_A.red ( cysN ) bifunctional enzym</td>\n",
       "      <td>...</td>\n",
       "      <td>-0.52</td>\n",
       "      <td>-0.51</td>\n",
       "      <td>-0.53</td>\n",
       "      <td>0.27</td>\n",
       "      <td>-0.16</td>\n",
       "      <td>1.00</td>\n",
       "      <td>0.71</td>\n",
       "      <td>0.75</td>\n",
       "      <td>0.75</td>\n",
       "      <td>0.67</td>\n",
       "    </tr>\n",
       "    <tr>\n",
       "      <th>65</th>\n",
       "      <td>Sulfur</td>\n",
       "      <td>SO4_A.reduction</td>\n",
       "      <td>SO4_A.red</td>\n",
       "      <td>NaN</td>\n",
       "      <td>K00390</td>\n",
       "      <td>cysH</td>\n",
       "      <td>phosphoadenosine phosphosulfate reductase</td>\n",
       "      <td>[EC:1.8.4.8 1.8.4.10]</td>\n",
       "      <td>K00390 SO4_A.red cysH</td>\n",
       "      <td>K00390 SO4_A.red ( cysH ) phosphoadenosine p</td>\n",
       "      <td>...</td>\n",
       "      <td>-0.73</td>\n",
       "      <td>-0.72</td>\n",
       "      <td>-0.75</td>\n",
       "      <td>0.53</td>\n",
       "      <td>-0.23</td>\n",
       "      <td>0.71</td>\n",
       "      <td>1.00</td>\n",
       "      <td>0.77</td>\n",
       "      <td>0.86</td>\n",
       "      <td>0.59</td>\n",
       "    </tr>\n",
       "    <tr>\n",
       "      <th>66</th>\n",
       "      <td>Sulfur</td>\n",
       "      <td>SO4_A.reduction</td>\n",
       "      <td>SO4_A.red</td>\n",
       "      <td>NaN</td>\n",
       "      <td>K00380</td>\n",
       "      <td>cysJ</td>\n",
       "      <td>sulfite reductase (NADPH) flavoprotein alpha-c...</td>\n",
       "      <td>[EC:1.8.1.2]</td>\n",
       "      <td>K00380 SO4_A.red cysJ</td>\n",
       "      <td>K00380 SO4_A.red ( cysJ ) sulfite reductase</td>\n",
       "      <td>...</td>\n",
       "      <td>-0.55</td>\n",
       "      <td>-0.44</td>\n",
       "      <td>-0.45</td>\n",
       "      <td>0.09</td>\n",
       "      <td>-0.46</td>\n",
       "      <td>0.75</td>\n",
       "      <td>0.77</td>\n",
       "      <td>1.00</td>\n",
       "      <td>0.78</td>\n",
       "      <td>0.48</td>\n",
       "    </tr>\n",
       "    <tr>\n",
       "      <th>67</th>\n",
       "      <td>Sulfur</td>\n",
       "      <td>SO4_A.reduction</td>\n",
       "      <td>SO4_A.red</td>\n",
       "      <td>NaN</td>\n",
       "      <td>K00381</td>\n",
       "      <td>cysI</td>\n",
       "      <td>sulfite reductase (NADPH) hemoprotein beta-com...</td>\n",
       "      <td>[EC:1.8.1.2]</td>\n",
       "      <td>K00381 SO4_A.red cysI</td>\n",
       "      <td>K00381 SO4_A.red ( cysI ) sulfite reductase</td>\n",
       "      <td>...</td>\n",
       "      <td>-0.46</td>\n",
       "      <td>-0.40</td>\n",
       "      <td>-0.45</td>\n",
       "      <td>0.34</td>\n",
       "      <td>-0.10</td>\n",
       "      <td>0.75</td>\n",
       "      <td>0.86</td>\n",
       "      <td>0.78</td>\n",
       "      <td>1.00</td>\n",
       "      <td>0.67</td>\n",
       "    </tr>\n",
       "    <tr>\n",
       "      <th>68</th>\n",
       "      <td>Sulfur</td>\n",
       "      <td>SO4_A.reduction</td>\n",
       "      <td>SO4_A.red</td>\n",
       "      <td>NaN</td>\n",
       "      <td>K00392</td>\n",
       "      <td>sir</td>\n",
       "      <td>sulfite reductase (ferredoxin)</td>\n",
       "      <td>[EC:1.8.7.1]</td>\n",
       "      <td>K00392 SO4_A.red sir</td>\n",
       "      <td>K00392 SO4_A.red ( sir ) sulfite reductase</td>\n",
       "      <td>...</td>\n",
       "      <td>-0.17</td>\n",
       "      <td>-0.37</td>\n",
       "      <td>-0.36</td>\n",
       "      <td>0.29</td>\n",
       "      <td>0.30</td>\n",
       "      <td>0.67</td>\n",
       "      <td>0.59</td>\n",
       "      <td>0.48</td>\n",
       "      <td>0.67</td>\n",
       "      <td>1.00</td>\n",
       "    </tr>\n",
       "  </tbody>\n",
       "</table>\n",
       "<p>69 rows × 74 columns</p>\n",
       "</div>"
      ],
      "text/plain": [
       "             L1               L2         L3  L4      KO         gene  \\\n",
       "0           NaN              NaN        NaN NaN     NaN     Salinity   \n",
       "1           NaN              NaN        NaN NaN     NaN          SO4   \n",
       "2           NaN              NaN        NaN NaN     NaN  CH4_ug_m2_h   \n",
       "3           NaN              NaN        NaN NaN     NaN  CO2_mg_m2_h   \n",
       "4   CH4_cycling    CH4_oxidation     CH4_ox NaN  K10945    pmoB-amoB   \n",
       "..          ...              ...        ...  ..     ...          ...   \n",
       "64       Sulfur  SO4_A.reduction  SO4_A.red NaN  K00955        cysNC   \n",
       "65       Sulfur  SO4_A.reduction  SO4_A.red NaN  K00390         cysH   \n",
       "66       Sulfur  SO4_A.reduction  SO4_A.red NaN  K00380         cysJ   \n",
       "67       Sulfur  SO4_A.reduction  SO4_A.red NaN  K00381         cysI   \n",
       "68       Sulfur  SO4_A.reduction  SO4_A.red NaN  K00392          sir   \n",
       "\n",
       "                                                  fxn                     EC  \\\n",
       "0                                                 NaN                    NaN   \n",
       "1                                                 NaN                    NaN   \n",
       "2                                                 NaN                    NaN   \n",
       "3                                                 NaN                    NaN   \n",
       "4             methane/ammonia monooxygenase subunit B                    NaN   \n",
       "..                                                ...                    ...   \n",
       "64                      bifunctional enzyme CysN/CysC  [EC:2.7.7.4 2.7.1.25]   \n",
       "65          phosphoadenosine phosphosulfate reductase  [EC:1.8.4.8 1.8.4.10]   \n",
       "66  sulfite reductase (NADPH) flavoprotein alpha-c...           [EC:1.8.1.2]   \n",
       "67  sulfite reductase (NADPH) hemoprotein beta-com...           [EC:1.8.1.2]   \n",
       "68                     sulfite reductase (ferredoxin)           [EC:1.8.7.1]   \n",
       "\n",
       "                  sm_name                                      mid_name  ...  \\\n",
       "0                     NaN                                           NaN  ...   \n",
       "1                     NaN                                           NaN  ...   \n",
       "2                     NaN                                           NaN  ...   \n",
       "3                     NaN                                           NaN  ...   \n",
       "4      K10945 CH4_ox pmoB     K10945 CH4_ox ( pmoB ) methane/ammonia mo  ...   \n",
       "..                    ...                                           ...  ...   \n",
       "64  K00955 SO4_A.red cysN  K00955 SO4_A.red ( cysN ) bifunctional enzym  ...   \n",
       "65  K00390 SO4_A.red cysH  K00390 SO4_A.red ( cysH ) phosphoadenosine p  ...   \n",
       "66  K00380 SO4_A.red cysJ  K00380 SO4_A.red ( cysJ ) sulfite reductase   ...   \n",
       "67  K00381 SO4_A.red cysI  K00381 SO4_A.red ( cysI ) sulfite reductase   ...   \n",
       "68   K00392 SO4_A.red sir   K00392 SO4_A.red ( sir ) sulfite reductase   ...   \n",
       "\n",
       "    aprB  dsrA  dsrB  PAPSS  cysC  cysNC  cysH  cysJ  cysI   sir  \n",
       "0   0.69  0.36  0.45  -0.32  0.64  -0.24 -0.33 -0.28 -0.24  0.25  \n",
       "1   0.78  0.58  0.66  -0.54  0.48  -0.32 -0.50 -0.30 -0.35  0.07  \n",
       "2  -0.52 -0.50 -0.48   0.12 -0.55   0.10  0.26  0.26 -0.03 -0.20  \n",
       "3  -0.34 -0.19 -0.22   0.01 -0.56   0.08  0.25  0.30  0.17 -0.13  \n",
       "4   0.04  0.19  0.10   0.01  0.08   0.13 -0.06 -0.10  0.14  0.04  \n",
       "..   ...   ...   ...    ...   ...    ...   ...   ...   ...   ...  \n",
       "64 -0.52 -0.51 -0.53   0.27 -0.16   1.00  0.71  0.75  0.75  0.67  \n",
       "65 -0.73 -0.72 -0.75   0.53 -0.23   0.71  1.00  0.77  0.86  0.59  \n",
       "66 -0.55 -0.44 -0.45   0.09 -0.46   0.75  0.77  1.00  0.78  0.48  \n",
       "67 -0.46 -0.40 -0.45   0.34 -0.10   0.75  0.86  0.78  1.00  0.67  \n",
       "68 -0.17 -0.37 -0.36   0.29  0.30   0.67  0.59  0.48  0.67  1.00  \n",
       "\n",
       "[69 rows x 74 columns]"
      ]
     },
     "execution_count": 110,
     "metadata": {},
     "output_type": "execute_result"
    }
   ],
   "source": [
    "corr_mat = CH4s_gene_meta_data.corr().round(2)\n",
    "corr_mat['gene'] = corr_mat.index\n",
    "corr_plus_ontol = pd.merge(CH4_S_genes, corr_mat, on='gene', how='right') \n",
    "corr_plus_ontol"
   ]
  },
  {
   "cell_type": "code",
   "execution_count": 111,
   "metadata": {},
   "outputs": [],
   "source": [
    "# corr_plus_ontol.to_csv('CH4_S_gene_corr_delta.csv')\n",
    "# corr_plus_ontol.to_csv('CH4_S_gene_corr_ALL.csv')"
   ]
  },
  {
   "cell_type": "raw",
   "metadata": {},
   "source": [
    "hm = sns.heatmap(corr_mat)\n",
    "\n",
    "#plt(hm) # for tick rotation\n",
    "#plt.figure(figsize=(5, 16))\n",
    "# plt.figure(hm, figsize=(16, 16))"
   ]
  },
  {
   "cell_type": "markdown",
   "metadata": {},
   "source": [
    "# 3) Make cluster map heatmap\n",
    "- adapting code from Sal Gradient Subset, corr, heat 4.8"
   ]
  },
  {
   "cell_type": "markdown",
   "metadata": {},
   "source": [
    "### 0) delta only sites (or not)"
   ]
  },
  {
   "cell_type": "code",
   "execution_count": 112,
   "metadata": {},
   "outputs": [],
   "source": [
    "# Get delta only site list from  Oligo_FW_sites['Sample']\n",
    "Delta_sites = pd.Series(Oligo_FW_sites['Sample'])\n",
    "KO = pd.Series(['KO'])\n",
    "Delta_KO = pd.Series(KO.append(Delta_sites)).tolist()\n",
    "# Delta_KO"
   ]
  },
  {
   "cell_type": "raw",
   "metadata": {},
   "source": [
    "# Get subset of gene abundance matching Delta KO\n",
    "Gene_aT = Gene_abund.T\n",
    "Gene_Delt = Gene_aT.loc[Gene_aT.index.isin(Delta_KO)]\n",
    "Gene_abund = pd.DataFrame(Gene_Delt.T)"
   ]
  },
  {
   "cell_type": "code",
   "execution_count": 113,
   "metadata": {},
   "outputs": [],
   "source": [
    "# ONLY Delta sites! NOT WORKING DAMMIT, some are missing using [] method\n",
    "# Gene_abund = Gene_abund.loc[Gene_abund.columns.isin(Delta_KO)]\n",
    "# Gene_abund"
   ]
  },
  {
   "cell_type": "markdown",
   "metadata": {},
   "source": [
    "### a) reduced MG-RAST gene list"
   ]
  },
  {
   "cell_type": "code",
   "execution_count": 114,
   "metadata": {},
   "outputs": [],
   "source": [
    "# CH4_S_genes\n",
    "# CH4_S_KOabund_T.columns"
   ]
  },
  {
   "cell_type": "code",
   "execution_count": 115,
   "metadata": {},
   "outputs": [],
   "source": [
    "keep_genes = ['pmoB-amoB', 'pmoC-amoC', 'fwdA, fmdA', 'fwdB, fmdB', 'fwdC, fmdC','fwdD, fmdD', 'mcrA', 'mcrB','dsrA','dsrB']"
   ]
  },
  {
   "cell_type": "code",
   "execution_count": 116,
   "metadata": {},
   "outputs": [],
   "source": [
    "# keep only minimal gene list\n",
    "CH4_S_genes_min = CH4_S_genes[CH4_S_genes['gene'].isin(keep_genes)]"
   ]
  },
  {
   "cell_type": "code",
   "execution_count": 117,
   "metadata": {},
   "outputs": [],
   "source": [
    "gene_colors = pd.Series(CH4_S_genes_min['color'])\n",
    "chem_colors = pd.Series(['#ffffff', '#ffffff','#ffffff','#ffffff'])\n",
    "RAST_colors = pd.Series(chem_colors.append(gene_colors))\n",
    "RAST_colors = RAST_colors.tolist()\n",
    "#RAST_colors\n",
    "#chem_colors"
   ]
  },
  {
   "cell_type": "code",
   "execution_count": 118,
   "metadata": {},
   "outputs": [],
   "source": [
    "# redo corr data prep\n",
    "keep_cols = ['KO', 'gene']\n",
    "CH4_S_KOs = pd.DataFrame(CH4_S_genes_min[keep_cols])                            # Get only KOs from ontology\n",
    "CH4_S_KOabund = pd.merge(CH4_S_KOs, Gene_abund, on='KO', how='inner')       # merge CNPS KO vector with KO abundance \n",
    "CH4_S_KOabund = CH4_S_KOabund.drop('KO', axis = 1)                          # drop KO \n",
    "CH4_S_KOabund = CH4_S_KOabund.set_index('gene')                              # Set index as KO before transpose\n",
    "\n",
    "CH4_S_KOabund_T = CH4_S_KOabund.T                                          # Transpose\n",
    "CH4_S_KOabund_T['Sample'] = CH4_S_KOabund_T.index                          # Get sample col from \n",
    "# CH4_S_KOabund_T.head()\n",
    "#CH4_S_KOabund #= CH4_S_KOabund.set_index('KO')                              # Set index as KO before transpose"
   ]
  },
  {
   "cell_type": "code",
   "execution_count": 119,
   "metadata": {},
   "outputs": [],
   "source": [
    "# merge with metadata\n",
    "CH4s_gene_meta_data = pd.merge(Sal_CH4_data_only, CH4_S_KOabund_T, on = 'Sample', how = 'inner')\n",
    "#CH4s_gene_meta_data = CH4s_gene_meta_data.set_index('Sample')"
   ]
  },
  {
   "cell_type": "code",
   "execution_count": 126,
   "metadata": {},
   "outputs": [
    {
     "data": {
      "text/plain": [
       "(60, 15)"
      ]
     },
     "execution_count": 126,
     "metadata": {},
     "output_type": "execute_result"
    }
   ],
   "source": [
    "# To rerun with Delta only, run this then rerun below.\n",
    "# Get any dataset of Delta\n",
    "Delta_sites = pd.read_csv('../data/meta/SF_sal_meta_FIX3.5.txt', sep='\\t')\n",
    "Delta_sites = Delta_sites[(Delta_sites['SALTgroup'] == 'FW') | (Delta_sites['SALTgroup'] == 'Oligo')]\n",
    "Delta_sites.shape\n",
    "Delta_sites.Sample\n",
    "\n",
    "# Filter the data frame by those sample IDs\n",
    "CH4s_gene_meta_data = CH4s_gene_meta_data[CH4s_gene_meta_data['Sample'].isin(Delta_sites.Sample)]\n",
    "CH4s_gene_meta_data.shape"
   ]
  },
  {
   "cell_type": "code",
   "execution_count": 127,
   "metadata": {},
   "outputs": [
    {
     "data": {
      "text/html": [
       "<div>\n",
       "<style scoped>\n",
       "    .dataframe tbody tr th:only-of-type {\n",
       "        vertical-align: middle;\n",
       "    }\n",
       "\n",
       "    .dataframe tbody tr th {\n",
       "        vertical-align: top;\n",
       "    }\n",
       "\n",
       "    .dataframe thead th {\n",
       "        text-align: right;\n",
       "    }\n",
       "</style>\n",
       "<table border=\"1\" class=\"dataframe\">\n",
       "  <thead>\n",
       "    <tr style=\"text-align: right;\">\n",
       "      <th></th>\n",
       "      <th>Salinity</th>\n",
       "      <th>SO4</th>\n",
       "      <th>CH4_ug_m2_h</th>\n",
       "      <th>CO2_mg_m2_h</th>\n",
       "      <th>pmoB-amoB</th>\n",
       "      <th>pmoC-amoC</th>\n",
       "      <th>fwdA, fmdA</th>\n",
       "      <th>fwdB, fmdB</th>\n",
       "      <th>fwdC, fmdC</th>\n",
       "      <th>fwdD, fmdD</th>\n",
       "      <th>mcrA</th>\n",
       "      <th>mcrB</th>\n",
       "      <th>dsrA</th>\n",
       "      <th>dsrB</th>\n",
       "    </tr>\n",
       "  </thead>\n",
       "  <tbody>\n",
       "    <tr>\n",
       "      <th>Salinity</th>\n",
       "      <td>1.00</td>\n",
       "      <td>0.51</td>\n",
       "      <td>0.23</td>\n",
       "      <td>-0.23</td>\n",
       "      <td>-0.39</td>\n",
       "      <td>-0.29</td>\n",
       "      <td>-0.29</td>\n",
       "      <td>-0.23</td>\n",
       "      <td>-0.26</td>\n",
       "      <td>-0.06</td>\n",
       "      <td>-0.11</td>\n",
       "      <td>-0.12</td>\n",
       "      <td>-0.57</td>\n",
       "      <td>-0.55</td>\n",
       "    </tr>\n",
       "    <tr>\n",
       "      <th>SO4</th>\n",
       "      <td>0.51</td>\n",
       "      <td>1.00</td>\n",
       "      <td>0.09</td>\n",
       "      <td>-0.23</td>\n",
       "      <td>-0.06</td>\n",
       "      <td>-0.15</td>\n",
       "      <td>0.14</td>\n",
       "      <td>0.11</td>\n",
       "      <td>0.09</td>\n",
       "      <td>0.24</td>\n",
       "      <td>0.16</td>\n",
       "      <td>0.15</td>\n",
       "      <td>0.06</td>\n",
       "      <td>0.10</td>\n",
       "    </tr>\n",
       "    <tr>\n",
       "      <th>CH4_ug_m2_h</th>\n",
       "      <td>0.23</td>\n",
       "      <td>0.09</td>\n",
       "      <td>1.00</td>\n",
       "      <td>0.62</td>\n",
       "      <td>-0.56</td>\n",
       "      <td>-0.69</td>\n",
       "      <td>0.19</td>\n",
       "      <td>0.35</td>\n",
       "      <td>0.35</td>\n",
       "      <td>0.65</td>\n",
       "      <td>0.65</td>\n",
       "      <td>0.64</td>\n",
       "      <td>-0.48</td>\n",
       "      <td>-0.44</td>\n",
       "    </tr>\n",
       "    <tr>\n",
       "      <th>CO2_mg_m2_h</th>\n",
       "      <td>-0.23</td>\n",
       "      <td>-0.23</td>\n",
       "      <td>0.62</td>\n",
       "      <td>1.00</td>\n",
       "      <td>-0.11</td>\n",
       "      <td>-0.25</td>\n",
       "      <td>0.13</td>\n",
       "      <td>0.40</td>\n",
       "      <td>0.49</td>\n",
       "      <td>0.50</td>\n",
       "      <td>0.46</td>\n",
       "      <td>0.42</td>\n",
       "      <td>0.01</td>\n",
       "      <td>0.00</td>\n",
       "    </tr>\n",
       "    <tr>\n",
       "      <th>pmoB-amoB</th>\n",
       "      <td>-0.39</td>\n",
       "      <td>-0.06</td>\n",
       "      <td>-0.56</td>\n",
       "      <td>-0.11</td>\n",
       "      <td>1.00</td>\n",
       "      <td>0.89</td>\n",
       "      <td>-0.09</td>\n",
       "      <td>-0.11</td>\n",
       "      <td>-0.04</td>\n",
       "      <td>-0.39</td>\n",
       "      <td>-0.37</td>\n",
       "      <td>-0.41</td>\n",
       "      <td>0.63</td>\n",
       "      <td>0.60</td>\n",
       "    </tr>\n",
       "    <tr>\n",
       "      <th>pmoC-amoC</th>\n",
       "      <td>-0.29</td>\n",
       "      <td>-0.15</td>\n",
       "      <td>-0.69</td>\n",
       "      <td>-0.25</td>\n",
       "      <td>0.89</td>\n",
       "      <td>1.00</td>\n",
       "      <td>-0.28</td>\n",
       "      <td>-0.33</td>\n",
       "      <td>-0.25</td>\n",
       "      <td>-0.62</td>\n",
       "      <td>-0.60</td>\n",
       "      <td>-0.62</td>\n",
       "      <td>0.50</td>\n",
       "      <td>0.47</td>\n",
       "    </tr>\n",
       "    <tr>\n",
       "      <th>fwdA, fmdA</th>\n",
       "      <td>-0.29</td>\n",
       "      <td>0.14</td>\n",
       "      <td>0.19</td>\n",
       "      <td>0.13</td>\n",
       "      <td>-0.09</td>\n",
       "      <td>-0.28</td>\n",
       "      <td>1.00</td>\n",
       "      <td>0.81</td>\n",
       "      <td>0.75</td>\n",
       "      <td>0.72</td>\n",
       "      <td>0.66</td>\n",
       "      <td>0.68</td>\n",
       "      <td>0.24</td>\n",
       "      <td>0.30</td>\n",
       "    </tr>\n",
       "    <tr>\n",
       "      <th>fwdB, fmdB</th>\n",
       "      <td>-0.23</td>\n",
       "      <td>0.11</td>\n",
       "      <td>0.35</td>\n",
       "      <td>0.40</td>\n",
       "      <td>-0.11</td>\n",
       "      <td>-0.33</td>\n",
       "      <td>0.81</td>\n",
       "      <td>1.00</td>\n",
       "      <td>0.95</td>\n",
       "      <td>0.86</td>\n",
       "      <td>0.81</td>\n",
       "      <td>0.78</td>\n",
       "      <td>0.25</td>\n",
       "      <td>0.31</td>\n",
       "    </tr>\n",
       "    <tr>\n",
       "      <th>fwdC, fmdC</th>\n",
       "      <td>-0.26</td>\n",
       "      <td>0.09</td>\n",
       "      <td>0.35</td>\n",
       "      <td>0.49</td>\n",
       "      <td>-0.04</td>\n",
       "      <td>-0.25</td>\n",
       "      <td>0.75</td>\n",
       "      <td>0.95</td>\n",
       "      <td>1.00</td>\n",
       "      <td>0.85</td>\n",
       "      <td>0.76</td>\n",
       "      <td>0.75</td>\n",
       "      <td>0.31</td>\n",
       "      <td>0.35</td>\n",
       "    </tr>\n",
       "    <tr>\n",
       "      <th>fwdD, fmdD</th>\n",
       "      <td>-0.06</td>\n",
       "      <td>0.24</td>\n",
       "      <td>0.65</td>\n",
       "      <td>0.50</td>\n",
       "      <td>-0.39</td>\n",
       "      <td>-0.62</td>\n",
       "      <td>0.72</td>\n",
       "      <td>0.86</td>\n",
       "      <td>0.85</td>\n",
       "      <td>1.00</td>\n",
       "      <td>0.93</td>\n",
       "      <td>0.93</td>\n",
       "      <td>0.05</td>\n",
       "      <td>0.11</td>\n",
       "    </tr>\n",
       "    <tr>\n",
       "      <th>mcrA</th>\n",
       "      <td>-0.11</td>\n",
       "      <td>0.16</td>\n",
       "      <td>0.65</td>\n",
       "      <td>0.46</td>\n",
       "      <td>-0.37</td>\n",
       "      <td>-0.60</td>\n",
       "      <td>0.66</td>\n",
       "      <td>0.81</td>\n",
       "      <td>0.76</td>\n",
       "      <td>0.93</td>\n",
       "      <td>1.00</td>\n",
       "      <td>0.97</td>\n",
       "      <td>0.04</td>\n",
       "      <td>0.12</td>\n",
       "    </tr>\n",
       "    <tr>\n",
       "      <th>mcrB</th>\n",
       "      <td>-0.12</td>\n",
       "      <td>0.15</td>\n",
       "      <td>0.64</td>\n",
       "      <td>0.42</td>\n",
       "      <td>-0.41</td>\n",
       "      <td>-0.62</td>\n",
       "      <td>0.68</td>\n",
       "      <td>0.78</td>\n",
       "      <td>0.75</td>\n",
       "      <td>0.93</td>\n",
       "      <td>0.97</td>\n",
       "      <td>1.00</td>\n",
       "      <td>0.03</td>\n",
       "      <td>0.11</td>\n",
       "    </tr>\n",
       "    <tr>\n",
       "      <th>dsrA</th>\n",
       "      <td>-0.57</td>\n",
       "      <td>0.06</td>\n",
       "      <td>-0.48</td>\n",
       "      <td>0.01</td>\n",
       "      <td>0.63</td>\n",
       "      <td>0.50</td>\n",
       "      <td>0.24</td>\n",
       "      <td>0.25</td>\n",
       "      <td>0.31</td>\n",
       "      <td>0.05</td>\n",
       "      <td>0.04</td>\n",
       "      <td>0.03</td>\n",
       "      <td>1.00</td>\n",
       "      <td>0.98</td>\n",
       "    </tr>\n",
       "    <tr>\n",
       "      <th>dsrB</th>\n",
       "      <td>-0.55</td>\n",
       "      <td>0.10</td>\n",
       "      <td>-0.44</td>\n",
       "      <td>0.00</td>\n",
       "      <td>0.60</td>\n",
       "      <td>0.47</td>\n",
       "      <td>0.30</td>\n",
       "      <td>0.31</td>\n",
       "      <td>0.35</td>\n",
       "      <td>0.11</td>\n",
       "      <td>0.12</td>\n",
       "      <td>0.11</td>\n",
       "      <td>0.98</td>\n",
       "      <td>1.00</td>\n",
       "    </tr>\n",
       "  </tbody>\n",
       "</table>\n",
       "</div>"
      ],
      "text/plain": [
       "             Salinity   SO4  CH4_ug_m2_h  CO2_mg_m2_h  pmoB-amoB  pmoC-amoC  \\\n",
       "Salinity         1.00  0.51         0.23        -0.23      -0.39      -0.29   \n",
       "SO4              0.51  1.00         0.09        -0.23      -0.06      -0.15   \n",
       "CH4_ug_m2_h      0.23  0.09         1.00         0.62      -0.56      -0.69   \n",
       "CO2_mg_m2_h     -0.23 -0.23         0.62         1.00      -0.11      -0.25   \n",
       "pmoB-amoB       -0.39 -0.06        -0.56        -0.11       1.00       0.89   \n",
       "pmoC-amoC       -0.29 -0.15        -0.69        -0.25       0.89       1.00   \n",
       "fwdA, fmdA      -0.29  0.14         0.19         0.13      -0.09      -0.28   \n",
       "fwdB, fmdB      -0.23  0.11         0.35         0.40      -0.11      -0.33   \n",
       "fwdC, fmdC      -0.26  0.09         0.35         0.49      -0.04      -0.25   \n",
       "fwdD, fmdD      -0.06  0.24         0.65         0.50      -0.39      -0.62   \n",
       "mcrA            -0.11  0.16         0.65         0.46      -0.37      -0.60   \n",
       "mcrB            -0.12  0.15         0.64         0.42      -0.41      -0.62   \n",
       "dsrA            -0.57  0.06        -0.48         0.01       0.63       0.50   \n",
       "dsrB            -0.55  0.10        -0.44         0.00       0.60       0.47   \n",
       "\n",
       "             fwdA, fmdA  fwdB, fmdB  fwdC, fmdC  fwdD, fmdD  mcrA  mcrB  dsrA  \\\n",
       "Salinity          -0.29       -0.23       -0.26       -0.06 -0.11 -0.12 -0.57   \n",
       "SO4                0.14        0.11        0.09        0.24  0.16  0.15  0.06   \n",
       "CH4_ug_m2_h        0.19        0.35        0.35        0.65  0.65  0.64 -0.48   \n",
       "CO2_mg_m2_h        0.13        0.40        0.49        0.50  0.46  0.42  0.01   \n",
       "pmoB-amoB         -0.09       -0.11       -0.04       -0.39 -0.37 -0.41  0.63   \n",
       "pmoC-amoC         -0.28       -0.33       -0.25       -0.62 -0.60 -0.62  0.50   \n",
       "fwdA, fmdA         1.00        0.81        0.75        0.72  0.66  0.68  0.24   \n",
       "fwdB, fmdB         0.81        1.00        0.95        0.86  0.81  0.78  0.25   \n",
       "fwdC, fmdC         0.75        0.95        1.00        0.85  0.76  0.75  0.31   \n",
       "fwdD, fmdD         0.72        0.86        0.85        1.00  0.93  0.93  0.05   \n",
       "mcrA               0.66        0.81        0.76        0.93  1.00  0.97  0.04   \n",
       "mcrB               0.68        0.78        0.75        0.93  0.97  1.00  0.03   \n",
       "dsrA               0.24        0.25        0.31        0.05  0.04  0.03  1.00   \n",
       "dsrB               0.30        0.31        0.35        0.11  0.12  0.11  0.98   \n",
       "\n",
       "             dsrB  \n",
       "Salinity    -0.55  \n",
       "SO4          0.10  \n",
       "CH4_ug_m2_h -0.44  \n",
       "CO2_mg_m2_h  0.00  \n",
       "pmoB-amoB    0.60  \n",
       "pmoC-amoC    0.47  \n",
       "fwdA, fmdA   0.30  \n",
       "fwdB, fmdB   0.31  \n",
       "fwdC, fmdC   0.35  \n",
       "fwdD, fmdD   0.11  \n",
       "mcrA         0.12  \n",
       "mcrB         0.11  \n",
       "dsrA         0.98  \n",
       "dsrB         1.00  "
      ]
     },
     "execution_count": 127,
     "metadata": {},
     "output_type": "execute_result"
    }
   ],
   "source": [
    "# get corr matrix\n",
    "corr_mat = CH4s_gene_meta_data.corr().round(2)\n",
    "#corr_mat['gene'] = corr_mat.index\n",
    "corr_mat"
   ]
  },
  {
   "cell_type": "code",
   "execution_count": 128,
   "metadata": {},
   "outputs": [
    {
     "data": {
      "text/plain": [
       "['#ffffff',\n",
       " '#ffffff',\n",
       " '#ffffff',\n",
       " '#ffffff',\n",
       " '#d9d9d9',\n",
       " '#d9d9d9',\n",
       " '#b0b0b0',\n",
       " '#b0b0b0',\n",
       " '#b0b0b0',\n",
       " '#b0b0b0',\n",
       " '#181818',\n",
       " '#181818',\n",
       " '#8B008B',\n",
       " '#8B008B']"
      ]
     },
     "execution_count": 128,
     "metadata": {},
     "output_type": "execute_result"
    }
   ],
   "source": [
    "RAST_colors"
   ]
  },
  {
   "cell_type": "code",
   "execution_count": 129,
   "metadata": {},
   "outputs": [
    {
     "data": {
      "text/plain": [
       "['#ffffff',\n",
       " '#ffffff',\n",
       " '#ffffff',\n",
       " '#ffffff',\n",
       " '#d9d9d9',\n",
       " '#d9d9d9',\n",
       " '#b0b0b0',\n",
       " '#b0b0b0',\n",
       " '#b0b0b0',\n",
       " '#b0b0b0',\n",
       " '#181818',\n",
       " '#181818',\n",
       " '#8B008B',\n",
       " '#8B008B']"
      ]
     },
     "execution_count": 129,
     "metadata": {},
     "output_type": "execute_result"
    }
   ],
   "source": [
    "RAST_colors[12] = '#8B008B'\n",
    "RAST_colors[13] = '#8B008B'\n",
    "RAST_colors"
   ]
  },
  {
   "cell_type": "code",
   "execution_count": 130,
   "metadata": {},
   "outputs": [
    {
     "data": {
      "text/plain": [
       "(14, 14)"
      ]
     },
     "execution_count": 130,
     "metadata": {},
     "output_type": "execute_result"
    }
   ],
   "source": [
    "corr_mat.shape"
   ]
  },
  {
   "cell_type": "code",
   "execution_count": 131,
   "metadata": {},
   "outputs": [
    {
     "data": {
      "text/plain": [
       "[None,\n",
       " None,\n",
       " None,\n",
       " None,\n",
       " None,\n",
       " None,\n",
       " None,\n",
       " None,\n",
       " None,\n",
       " None,\n",
       " None,\n",
       " None,\n",
       " None,\n",
       " None,\n",
       " None,\n",
       " None,\n",
       " None,\n",
       " None,\n",
       " None,\n",
       " None,\n",
       " None,\n",
       " None,\n",
       " None,\n",
       " None,\n",
       " None,\n",
       " None,\n",
       " None,\n",
       " None]"
      ]
     },
     "execution_count": 131,
     "metadata": {},
     "output_type": "execute_result"
    },
    {
     "data": {
      "image/png": "[encoded data removed]",
      "text/plain": [
       "<Figure size 576x576 with 6 Axes>"
      ]
     },
     "metadata": {},
     "output_type": "display_data"
    }
   ],
   "source": [
    "cm = sns.clustermap(corr_mat, row_cluster=False, annot=True, col_cluster=False,\n",
    "                   row_colors = RAST_colors, col_colors = RAST_colors, figsize = (8,8), cmap = \"RdBu_r\",\n",
    "                   vmax = 1, vmin = -1)\n",
    "cm.cax.set_visible(False)\n",
    "plt.setp(cm.ax_heatmap.yaxis.get_majorticklabels(), rotation=0)                                # rotate ticks"
   ]
  },
  {
   "cell_type": "code",
   "execution_count": 132,
   "metadata": {},
   "outputs": [],
   "source": [
    "#cm.savefig(\"../figs/Rast_genes_ALL_HeatM.pdf\")\n",
    "#cm.savefig(\"../figs/Rast_genes_DELTA_HeatM.pdf\")\n",
    "# With Cliff log10 update\n",
    "#cm.savefig(\"../figs/Rast_genes_ALL_HeatM_log10.pdf\")\n",
    "cm.savefig(\"../figs/Rast_genes_DELTA_HeatM_log10.pdf\")"
   ]
  },
  {
   "cell_type": "markdown",
   "metadata": {},
   "source": [
    "# 4) TS Clustermap"
   ]
  },
  {
   "cell_type": "markdown",
   "metadata": {},
   "source": [
    "### a) import data and colors"
   ]
  },
  {
   "cell_type": "code",
   "execution_count": 159,
   "metadata": {},
   "outputs": [],
   "source": [
    "# Import data\n",
    "TS_Guild_counts = pd.read_csv('../data/shotgun/TreeSapp_v0.5_parsed_tables/TS_cleaned_guild_abund_table.txt', sep = '\\t')\n",
    "TS_Guild_counts['Guild']\n",
    "\n",
    "# Drop some columns\n",
    "drop_cols = ['OTU', 'Guild']\n",
    "TS_Guild_counts = TS_Guild_counts.drop(drop_cols, axis = 1).T      # TS_Guild_counts.columns   # TS_Guild_counts"
   ]
  },
  {
   "cell_type": "code",
   "execution_count": 160,
   "metadata": {},
   "outputs": [],
   "source": [
    "# aggregate MOB I subbranches\n",
    "TS_Guild_counts['MOB.I'] = TS_Guild_counts['MOB.Ia'] + TS_Guild_counts['MOB.Ib'] + TS_Guild_counts['MOB.Ic']\n",
    "\n",
    "# Cliff - calculate totals\n",
    "TS_Guild_counts['pmoA.tot'] = TS_Guild_counts['MOB.I'] + TS_Guild_counts['MOB.IIa'] + TS_Guild_counts['MOB.IIb'] + TS_Guild_counts['MOB.III']\n",
    "TS_Guild_counts['amoA.tot'] = TS_Guild_counts['amoA.AOA'] + TS_Guild_counts['amoA.AOB'] + TS_Guild_counts['AmoA.Ic']\n",
    "\n",
    "# reduce guild list - original for Figure S5!\n",
    "#keep_TS_guilds = ['mcr.H2', 'mcr.Ac', 'MOB.I','MOB.IIa','amoA.AOA', 'amoA.AOB','NOB.nxr',\n",
    "#               'DsrAB.red', 'HydA']\n",
    "\n",
    "# Cliff - keep more lists to calc tot pmoA and tot amoA\n",
    "keep_TS_guilds = ['mcr.H2', 'mcr.Ac', 'MOB.I','MOB.IIa','MOB.IIb','MOB.III', 'pmoA.tot', 'amoA.tot', 'amoA.AOA','amoA.AOB','NOB.nxr',\n",
    "               'DsrAB.red', 'HydA']\n",
    "\n",
    "# keep only minimal gene list\n",
    "TS_Guild_counts = TS_Guild_counts[keep_TS_guilds]       # TS_Guild_counts.head()"
   ]
  },
  {
   "cell_type": "code",
   "execution_count": 161,
   "metadata": {},
   "outputs": [],
   "source": [
    "# Log2 n+1 transform data\n",
    "TS_Guild_counts2 = TS_Guild_counts.replace(0,2)                         # For log n+1, replace 0 with 2\n",
    "TS_Guild_countsLog2 = np.log2(TS_Guild_counts2)                         # Get log2 data \n",
    "TS_Guild_countsLog2 = TS_Guild_countsLog2.replace(1,0)                  # Make 0 again 0\n",
    "\n",
    "\n",
    "TS_Guild_abund = TS_Guild_countsLog2\n",
    "#TS_Guild_abund['Sample'] = TS_Guild_abund.index"
   ]
  },
  {
   "cell_type": "code",
   "execution_count": 162,
   "metadata": {},
   "outputs": [
    {
     "data": {
      "text/plain": [
       "Index(['mcr.H2', 'mcr.Ac', 'MOB.I', 'MOB.IIa', 'MOB.IIb', 'MOB.III',\n",
       "       'pmoA.tot', 'amoA.tot', 'amoA.AOA', 'amoA.AOB', 'NOB.nxr', 'DsrAB.red',\n",
       "       'HydA'],\n",
       "      dtype='object')"
      ]
     },
     "execution_count": 162,
     "metadata": {},
     "output_type": "execute_result"
    }
   ],
   "source": [
    "TS_Guild_abund.columns"
   ]
  },
  {
   "cell_type": "code",
   "execution_count": 163,
   "metadata": {},
   "outputs": [
    {
     "data": {
      "text/html": [
       "<div>\n",
       "<style scoped>\n",
       "    .dataframe tbody tr th:only-of-type {\n",
       "        vertical-align: middle;\n",
       "    }\n",
       "\n",
       "    .dataframe tbody tr th {\n",
       "        vertical-align: top;\n",
       "    }\n",
       "\n",
       "    .dataframe thead th {\n",
       "        text-align: right;\n",
       "    }\n",
       "</style>\n",
       "<table border=\"1\" class=\"dataframe\">\n",
       "  <thead>\n",
       "    <tr style=\"text-align: right;\">\n",
       "      <th></th>\n",
       "      <th>Guild</th>\n",
       "      <th>Index</th>\n",
       "      <th>color</th>\n",
       "    </tr>\n",
       "  </thead>\n",
       "  <tbody>\n",
       "    <tr>\n",
       "      <th>0</th>\n",
       "      <td>mcr.H2</td>\n",
       "      <td>1</td>\n",
       "      <td>#CD4F39</td>\n",
       "    </tr>\n",
       "    <tr>\n",
       "      <th>1</th>\n",
       "      <td>mcr.Ac</td>\n",
       "      <td>2</td>\n",
       "      <td>#8B3626</td>\n",
       "    </tr>\n",
       "    <tr>\n",
       "      <th>2</th>\n",
       "      <td>MOB.Ia</td>\n",
       "      <td>3</td>\n",
       "      <td>#63B8FF</td>\n",
       "    </tr>\n",
       "    <tr>\n",
       "      <th>3</th>\n",
       "      <td>MOB.Ib</td>\n",
       "      <td>4</td>\n",
       "      <td>#00D0FF</td>\n",
       "    </tr>\n",
       "    <tr>\n",
       "      <th>4</th>\n",
       "      <td>MOB.Ic</td>\n",
       "      <td>5</td>\n",
       "      <td>#00E4EA</td>\n",
       "    </tr>\n",
       "    <tr>\n",
       "      <th>5</th>\n",
       "      <td>MOB.IIb</td>\n",
       "      <td>6</td>\n",
       "      <td>#4F94CD</td>\n",
       "    </tr>\n",
       "    <tr>\n",
       "      <th>6</th>\n",
       "      <td>MOB.IIa</td>\n",
       "      <td>7</td>\n",
       "      <td>#36648B</td>\n",
       "    </tr>\n",
       "    <tr>\n",
       "      <th>7</th>\n",
       "      <td>MOB.III</td>\n",
       "      <td>8</td>\n",
       "      <td>#8986DC</td>\n",
       "    </tr>\n",
       "    <tr>\n",
       "      <th>8</th>\n",
       "      <td>pxmA</td>\n",
       "      <td>9</td>\n",
       "      <td>#9B6AC0</td>\n",
       "    </tr>\n",
       "    <tr>\n",
       "      <th>9</th>\n",
       "      <td>emoA</td>\n",
       "      <td>10</td>\n",
       "      <td>#836FFF</td>\n",
       "    </tr>\n",
       "    <tr>\n",
       "      <th>10</th>\n",
       "      <td>p.amo.unk</td>\n",
       "      <td>11</td>\n",
       "      <td>#79FAC5</td>\n",
       "    </tr>\n",
       "    <tr>\n",
       "      <th>11</th>\n",
       "      <td>amoA.AOA</td>\n",
       "      <td>12</td>\n",
       "      <td>#7CFC00</td>\n",
       "    </tr>\n",
       "    <tr>\n",
       "      <th>12</th>\n",
       "      <td>amoA.AOB</td>\n",
       "      <td>13</td>\n",
       "      <td>#00CD00</td>\n",
       "    </tr>\n",
       "    <tr>\n",
       "      <th>13</th>\n",
       "      <td>amoA.Ic</td>\n",
       "      <td>14</td>\n",
       "      <td>#A6F991</td>\n",
       "    </tr>\n",
       "    <tr>\n",
       "      <th>14</th>\n",
       "      <td>NOB.nxr</td>\n",
       "      <td>15</td>\n",
       "      <td>#008B00</td>\n",
       "    </tr>\n",
       "    <tr>\n",
       "      <th>15</th>\n",
       "      <td>NxrA.other</td>\n",
       "      <td>16</td>\n",
       "      <td>#9FACBD</td>\n",
       "    </tr>\n",
       "    <tr>\n",
       "      <th>16</th>\n",
       "      <td>NxrB.other</td>\n",
       "      <td>17</td>\n",
       "      <td>#00FF7F</td>\n",
       "    </tr>\n",
       "    <tr>\n",
       "      <th>17</th>\n",
       "      <td>DsrAB.red</td>\n",
       "      <td>18</td>\n",
       "      <td>#8B008B</td>\n",
       "    </tr>\n",
       "    <tr>\n",
       "      <th>18</th>\n",
       "      <td>DsrAB.ox</td>\n",
       "      <td>19</td>\n",
       "      <td>#CD69C9</td>\n",
       "    </tr>\n",
       "    <tr>\n",
       "      <th>19</th>\n",
       "      <td>HydA</td>\n",
       "      <td>20</td>\n",
       "      <td>#CD6600</td>\n",
       "    </tr>\n",
       "  </tbody>\n",
       "</table>\n",
       "</div>"
      ],
      "text/plain": [
       "         Guild  Index    color\n",
       "0       mcr.H2      1  #CD4F39\n",
       "1       mcr.Ac      2  #8B3626\n",
       "2       MOB.Ia      3  #63B8FF\n",
       "3       MOB.Ib      4  #00D0FF\n",
       "4       MOB.Ic      5  #00E4EA\n",
       "5      MOB.IIb      6  #4F94CD\n",
       "6      MOB.IIa      7  #36648B\n",
       "7      MOB.III      8  #8986DC\n",
       "8         pxmA      9  #9B6AC0\n",
       "9         emoA     10  #836FFF\n",
       "10   p.amo.unk     11  #79FAC5\n",
       "11    amoA.AOA     12  #7CFC00\n",
       "12    amoA.AOB     13  #00CD00\n",
       "13     amoA.Ic     14  #A6F991\n",
       "14     NOB.nxr     15  #008B00\n",
       "15  NxrA.other     16  #9FACBD\n",
       "16  NxrB.other     17  #00FF7F\n",
       "17   DsrAB.red     18  #8B008B\n",
       "18    DsrAB.ox     19  #CD69C9\n",
       "19        HydA     20  #CD6600"
      ]
     },
     "execution_count": 163,
     "metadata": {},
     "output_type": "execute_result"
    }
   ],
   "source": [
    "# Get colors\n",
    "TS_guild_colors = pd.read_csv(\"../data/colors/TreeSAPP_Guild_color_palette2.txt\", sep='\\t')\n",
    "TS_guild_colors#.head()"
   ]
  },
  {
   "cell_type": "markdown",
   "metadata": {},
   "source": [
    "# Match colors & extract vector\n"
   ]
  },
  {
   "cell_type": "code",
   "execution_count": 164,
   "metadata": {},
   "outputs": [
    {
     "data": {
      "text/html": [
       "<div>\n",
       "<style scoped>\n",
       "    .dataframe tbody tr th:only-of-type {\n",
       "        vertical-align: middle;\n",
       "    }\n",
       "\n",
       "    .dataframe tbody tr th {\n",
       "        vertical-align: top;\n",
       "    }\n",
       "\n",
       "    .dataframe thead th {\n",
       "        text-align: right;\n",
       "    }\n",
       "</style>\n",
       "<table border=\"1\" class=\"dataframe\">\n",
       "  <thead>\n",
       "    <tr style=\"text-align: right;\">\n",
       "      <th></th>\n",
       "      <th>Guild</th>\n",
       "    </tr>\n",
       "  </thead>\n",
       "  <tbody>\n",
       "    <tr>\n",
       "      <th>0</th>\n",
       "      <td>mcr.H2</td>\n",
       "    </tr>\n",
       "    <tr>\n",
       "      <th>1</th>\n",
       "      <td>mcr.Ac</td>\n",
       "    </tr>\n",
       "    <tr>\n",
       "      <th>2</th>\n",
       "      <td>MOB.I</td>\n",
       "    </tr>\n",
       "    <tr>\n",
       "      <th>3</th>\n",
       "      <td>MOB.IIa</td>\n",
       "    </tr>\n",
       "    <tr>\n",
       "      <th>4</th>\n",
       "      <td>MOB.IIb</td>\n",
       "    </tr>\n",
       "    <tr>\n",
       "      <th>5</th>\n",
       "      <td>MOB.III</td>\n",
       "    </tr>\n",
       "    <tr>\n",
       "      <th>6</th>\n",
       "      <td>pmoA.tot</td>\n",
       "    </tr>\n",
       "    <tr>\n",
       "      <th>7</th>\n",
       "      <td>amoA.tot</td>\n",
       "    </tr>\n",
       "    <tr>\n",
       "      <th>8</th>\n",
       "      <td>amoA.AOA</td>\n",
       "    </tr>\n",
       "    <tr>\n",
       "      <th>9</th>\n",
       "      <td>amoA.AOB</td>\n",
       "    </tr>\n",
       "    <tr>\n",
       "      <th>10</th>\n",
       "      <td>NOB.nxr</td>\n",
       "    </tr>\n",
       "    <tr>\n",
       "      <th>11</th>\n",
       "      <td>DsrAB.red</td>\n",
       "    </tr>\n",
       "    <tr>\n",
       "      <th>12</th>\n",
       "      <td>HydA</td>\n",
       "    </tr>\n",
       "  </tbody>\n",
       "</table>\n",
       "</div>"
      ],
      "text/plain": [
       "        Guild\n",
       "0      mcr.H2\n",
       "1      mcr.Ac\n",
       "2       MOB.I\n",
       "3     MOB.IIa\n",
       "4     MOB.IIb\n",
       "5     MOB.III\n",
       "6    pmoA.tot\n",
       "7    amoA.tot\n",
       "8    amoA.AOA\n",
       "9    amoA.AOB\n",
       "10    NOB.nxr\n",
       "11  DsrAB.red\n",
       "12       HydA"
      ]
     },
     "execution_count": 164,
     "metadata": {},
     "output_type": "execute_result"
    }
   ],
   "source": [
    "TS_guild_keep = pd.DataFrame(TS_Guild_abund.columns)\n",
    "TS_guild_keep.columns = ['Guild']\n",
    "TS_guild_keep"
   ]
  },
  {
   "cell_type": "code",
   "execution_count": 165,
   "metadata": {},
   "outputs": [
    {
     "data": {
      "text/plain": [
       "0     #CD4F39\n",
       "1     #8B3626\n",
       "2         NaN\n",
       "3     #36648B\n",
       "4     #4F94CD\n",
       "5     #8986DC\n",
       "6         NaN\n",
       "7         NaN\n",
       "8     #7CFC00\n",
       "9     #00CD00\n",
       "10    #008B00\n",
       "11    #8B008B\n",
       "12    #CD6600\n",
       "Name: color, dtype: object"
      ]
     },
     "execution_count": 165,
     "metadata": {},
     "output_type": "execute_result"
    }
   ],
   "source": [
    "TS_guild_key = pd.merge(TS_guild_keep, TS_guild_colors, on = 'Guild', how = 'left')\n",
    "TS_guild_colors = TS_guild_key['color']\n",
    "TS_guild_colors"
   ]
  },
  {
   "cell_type": "code",
   "execution_count": 166,
   "metadata": {},
   "outputs": [
    {
     "data": {
      "text/plain": [
       "['#ffffff',\n",
       " '#ffffff',\n",
       " '#ffffff',\n",
       " '#ffffff',\n",
       " '#CD4F39',\n",
       " '#8B3626',\n",
       " nan,\n",
       " '#36648B',\n",
       " '#4F94CD',\n",
       " '#8986DC',\n",
       " nan,\n",
       " nan,\n",
       " '#7CFC00',\n",
       " '#00CD00',\n",
       " '#008B00',\n",
       " '#8B008B',\n",
       " '#CD6600']"
      ]
     },
     "execution_count": 166,
     "metadata": {},
     "output_type": "execute_result"
    }
   ],
   "source": [
    "#gene_colors = pd.Series(CH4_S_genes_min['color'])\n",
    "# TS_guild_colors = pd.Series()\n",
    "chem_colors = pd.Series(['#ffffff', '#ffffff','#ffffff','#ffffff'])\n",
    "TS_colors = pd.Series(chem_colors.append(TS_guild_colors))\n",
    "TS_colors = TS_colors.tolist()\n",
    "TS_colors\n",
    "#RAST_colors\n",
    "#chem_colors"
   ]
  },
  {
   "cell_type": "code",
   "execution_count": 167,
   "metadata": {},
   "outputs": [
    {
     "data": {
      "text/plain": [
       "['#ffffff',\n",
       " '#ffffff',\n",
       " '#ffffff',\n",
       " '#ffffff',\n",
       " '#CD4F39',\n",
       " '#8B3626',\n",
       " nan,\n",
       " '#36648B',\n",
       " '#4F94CD',\n",
       " '#8986DC',\n",
       " nan,\n",
       " nan,\n",
       " '#7CFC00',\n",
       " '#00CD00',\n",
       " '#008B00',\n",
       " '#8B008B',\n",
       " '#CD6600']"
      ]
     },
     "execution_count": 167,
     "metadata": {},
     "output_type": "execute_result"
    }
   ],
   "source": [
    "TS_colors"
   ]
  },
  {
   "cell_type": "code",
   "execution_count": 168,
   "metadata": {},
   "outputs": [],
   "source": [
    "TS_colors[6] = '#63B8FF'"
   ]
  },
  {
   "cell_type": "code",
   "execution_count": 169,
   "metadata": {},
   "outputs": [
    {
     "data": {
      "text/plain": [
       "['#ffffff',\n",
       " '#ffffff',\n",
       " '#ffffff',\n",
       " '#ffffff',\n",
       " '#CD4F39',\n",
       " '#8B3626',\n",
       " '#63B8FF',\n",
       " '#36648B',\n",
       " '#4F94CD',\n",
       " '#8986DC',\n",
       " nan,\n",
       " nan,\n",
       " '#7CFC00',\n",
       " '#00CD00',\n",
       " '#008B00',\n",
       " '#8B008B',\n",
       " '#CD6600']"
      ]
     },
     "execution_count": 169,
     "metadata": {},
     "output_type": "execute_result"
    }
   ],
   "source": [
    "TS_colors"
   ]
  },
  {
   "cell_type": "markdown",
   "metadata": {},
   "source": [
    "### b) make clustermap"
   ]
  },
  {
   "cell_type": "code",
   "execution_count": 170,
   "metadata": {},
   "outputs": [
    {
     "data": {
      "text/plain": [
       "Index(['mcr.H2', 'mcr.Ac', 'MOB.I', 'MOB.IIa', 'MOB.IIb', 'MOB.III',\n",
       "       'pmoA.tot', 'amoA.tot', 'amoA.AOA', 'amoA.AOB', 'NOB.nxr', 'DsrAB.red',\n",
       "       'HydA', 'Sample'],\n",
       "      dtype='object')"
      ]
     },
     "execution_count": 170,
     "metadata": {},
     "output_type": "execute_result"
    }
   ],
   "source": [
    "TS_Guild_abund['Sample'] = TS_Guild_abund.index\n",
    "TS_Guild_abund.columns"
   ]
  },
  {
   "cell_type": "raw",
   "metadata": {},
   "source": [
    "keep_genes = ['pmoB-amoB', 'pmoC-amoC', 'fwdA, fmdA', 'fwdB, fmdB', 'fwdC, fmdC','fwdD, fmdD', 'mcrA', 'mcrB','dsrA','dsrB']"
   ]
  },
  {
   "cell_type": "raw",
   "metadata": {},
   "source": [
    "# keep only minimal gene list\n",
    "CH4_S_genes_min = CH4_S_genes[CH4_S_genes['gene'].isin(keep_genes)]"
   ]
  },
  {
   "cell_type": "raw",
   "metadata": {},
   "source": [
    "gene_colors = pd.Series(CH4_S_genes_min['color'])\n",
    "chem_colors = pd.Series(['#ffffff', '#ffffff','#ffffff','#ffffff'])\n",
    "RAST_colors = pd.Series(chem_colors.append(gene_colors))\n",
    "RAST_colors = RAST_colors.tolist()\n",
    "#RAST_colors\n",
    "#chem_colors"
   ]
  },
  {
   "cell_type": "raw",
   "metadata": {},
   "source": [
    "# redo corr data prep\n",
    "keep_cols = ['KO', 'gene']\n",
    "CH4_S_KOs = pd.DataFrame(CH4_S_genes_min[keep_cols])                            # Get only KOs from ontology\n",
    "CH4_S_KOabund = pd.merge(CH4_S_KOs, Gene_abund, on='KO', how='inner')       # merge CNPS KO vector with KO abundance \n",
    "CH4_S_KOabund = CH4_S_KOabund.drop('KO', axis = 1)                          # drop KO \n",
    "CH4_S_KOabund = CH4_S_KOabund.set_index('gene')                              # Set index as KO before transpose\n",
    "\n",
    "CH4_S_KOabund_T = CH4_S_KOabund.T                                          # Transpose\n",
    "CH4_S_KOabund_T['Sample'] = CH4_S_KOabund_T.index                          # Get sample col from \n",
    "# CH4_S_KOabund_T.head()\n",
    "#CH4_S_KOabund #= CH4_S_KOabund.set_index('KO')                              # Set index as KO before transpose"
   ]
  },
  {
   "cell_type": "code",
   "execution_count": 171,
   "metadata": {},
   "outputs": [],
   "source": [
    "# merge with metadata\n",
    "CH4s_gene_meta_data = pd.merge(Sal_CH4_data_only, TS_Guild_abund, on = 'Sample', how = 'inner')\n",
    "#CH4s_gene_meta_data = CH4s_gene_meta_data.set_index('Sample')"
   ]
  },
  {
   "cell_type": "code",
   "execution_count": 173,
   "metadata": {},
   "outputs": [
    {
     "data": {
      "text/plain": [
       "(62, 18)"
      ]
     },
     "execution_count": 173,
     "metadata": {},
     "output_type": "execute_result"
    }
   ],
   "source": [
    "# To rerun with Delta only, run this then rerun below.\n",
    "# Get any dataset of Delta\n",
    "Delta_sites = pd.read_csv('../data/meta/SF_sal_meta_FIX3.5.txt', sep='\\t')\n",
    "Delta_sites = Delta_sites[(Delta_sites['SALTgroup'] == 'FW') | (Delta_sites['SALTgroup'] == 'Oligo')]\n",
    "Delta_sites.shape\n",
    "Delta_sites.Sample\n",
    "\n",
    "# Filter the data frame by those sample IDs\n",
    "CH4s_gene_meta_data = CH4s_gene_meta_data[CH4s_gene_meta_data['Sample'].isin(Delta_sites.Sample)]\n",
    "CH4s_gene_meta_data.shape"
   ]
  },
  {
   "cell_type": "code",
   "execution_count": 153,
   "metadata": {},
   "outputs": [
    {
     "data": {
      "text/html": [
       "<div>\n",
       "<style scoped>\n",
       "    .dataframe tbody tr th:only-of-type {\n",
       "        vertical-align: middle;\n",
       "    }\n",
       "\n",
       "    .dataframe tbody tr th {\n",
       "        vertical-align: top;\n",
       "    }\n",
       "\n",
       "    .dataframe thead th {\n",
       "        text-align: right;\n",
       "    }\n",
       "</style>\n",
       "<table border=\"1\" class=\"dataframe\">\n",
       "  <thead>\n",
       "    <tr style=\"text-align: right;\">\n",
       "      <th></th>\n",
       "      <th>Salinity</th>\n",
       "      <th>SO4</th>\n",
       "      <th>CH4_ug_m2_h</th>\n",
       "      <th>CO2_mg_m2_h</th>\n",
       "      <th>mcr.H2</th>\n",
       "      <th>mcr.Ac</th>\n",
       "      <th>MOB.I</th>\n",
       "      <th>MOB.IIa</th>\n",
       "      <th>MOB.IIb</th>\n",
       "      <th>MOB.III</th>\n",
       "      <th>amoA.AOA</th>\n",
       "      <th>amoA.AOB</th>\n",
       "      <th>NOB.nxr</th>\n",
       "      <th>DsrAB.red</th>\n",
       "      <th>HydA</th>\n",
       "    </tr>\n",
       "  </thead>\n",
       "  <tbody>\n",
       "    <tr>\n",
       "      <th>Salinity</th>\n",
       "      <td>1.00</td>\n",
       "      <td>0.51</td>\n",
       "      <td>0.21</td>\n",
       "      <td>-0.26</td>\n",
       "      <td>-0.26</td>\n",
       "      <td>0.11</td>\n",
       "      <td>-0.45</td>\n",
       "      <td>-0.56</td>\n",
       "      <td>-0.21</td>\n",
       "      <td>-0.18</td>\n",
       "      <td>0.61</td>\n",
       "      <td>-0.14</td>\n",
       "      <td>0.40</td>\n",
       "      <td>-0.30</td>\n",
       "      <td>-0.20</td>\n",
       "    </tr>\n",
       "    <tr>\n",
       "      <th>SO4</th>\n",
       "      <td>0.51</td>\n",
       "      <td>1.00</td>\n",
       "      <td>0.09</td>\n",
       "      <td>-0.24</td>\n",
       "      <td>0.16</td>\n",
       "      <td>0.09</td>\n",
       "      <td>0.06</td>\n",
       "      <td>-0.01</td>\n",
       "      <td>-0.11</td>\n",
       "      <td>-0.13</td>\n",
       "      <td>0.06</td>\n",
       "      <td>-0.02</td>\n",
       "      <td>-0.12</td>\n",
       "      <td>-0.13</td>\n",
       "      <td>0.15</td>\n",
       "    </tr>\n",
       "    <tr>\n",
       "      <th>CH4_ug_m2_h</th>\n",
       "      <td>0.21</td>\n",
       "      <td>0.09</td>\n",
       "      <td>1.00</td>\n",
       "      <td>0.62</td>\n",
       "      <td>0.56</td>\n",
       "      <td>0.73</td>\n",
       "      <td>-0.20</td>\n",
       "      <td>-0.44</td>\n",
       "      <td>0.13</td>\n",
       "      <td>-0.34</td>\n",
       "      <td>0.00</td>\n",
       "      <td>-0.53</td>\n",
       "      <td>-0.29</td>\n",
       "      <td>0.03</td>\n",
       "      <td>0.59</td>\n",
       "    </tr>\n",
       "    <tr>\n",
       "      <th>CO2_mg_m2_h</th>\n",
       "      <td>-0.26</td>\n",
       "      <td>-0.24</td>\n",
       "      <td>0.62</td>\n",
       "      <td>1.00</td>\n",
       "      <td>0.47</td>\n",
       "      <td>0.44</td>\n",
       "      <td>0.23</td>\n",
       "      <td>-0.07</td>\n",
       "      <td>0.23</td>\n",
       "      <td>-0.11</td>\n",
       "      <td>-0.36</td>\n",
       "      <td>-0.27</td>\n",
       "      <td>-0.42</td>\n",
       "      <td>0.29</td>\n",
       "      <td>0.50</td>\n",
       "    </tr>\n",
       "    <tr>\n",
       "      <th>mcr.H2</th>\n",
       "      <td>-0.26</td>\n",
       "      <td>0.16</td>\n",
       "      <td>0.56</td>\n",
       "      <td>0.47</td>\n",
       "      <td>1.00</td>\n",
       "      <td>0.71</td>\n",
       "      <td>0.37</td>\n",
       "      <td>0.18</td>\n",
       "      <td>0.15</td>\n",
       "      <td>-0.33</td>\n",
       "      <td>-0.62</td>\n",
       "      <td>-0.47</td>\n",
       "      <td>-0.78</td>\n",
       "      <td>0.39</td>\n",
       "      <td>0.94</td>\n",
       "    </tr>\n",
       "    <tr>\n",
       "      <th>mcr.Ac</th>\n",
       "      <td>0.11</td>\n",
       "      <td>0.09</td>\n",
       "      <td>0.73</td>\n",
       "      <td>0.44</td>\n",
       "      <td>0.71</td>\n",
       "      <td>1.00</td>\n",
       "      <td>-0.07</td>\n",
       "      <td>-0.19</td>\n",
       "      <td>0.02</td>\n",
       "      <td>-0.41</td>\n",
       "      <td>-0.21</td>\n",
       "      <td>-0.58</td>\n",
       "      <td>-0.48</td>\n",
       "      <td>0.26</td>\n",
       "      <td>0.74</td>\n",
       "    </tr>\n",
       "    <tr>\n",
       "      <th>MOB.I</th>\n",
       "      <td>-0.45</td>\n",
       "      <td>0.06</td>\n",
       "      <td>-0.20</td>\n",
       "      <td>0.23</td>\n",
       "      <td>0.37</td>\n",
       "      <td>-0.07</td>\n",
       "      <td>1.00</td>\n",
       "      <td>0.69</td>\n",
       "      <td>0.13</td>\n",
       "      <td>0.01</td>\n",
       "      <td>-0.69</td>\n",
       "      <td>0.11</td>\n",
       "      <td>-0.49</td>\n",
       "      <td>0.43</td>\n",
       "      <td>0.41</td>\n",
       "    </tr>\n",
       "    <tr>\n",
       "      <th>MOB.IIa</th>\n",
       "      <td>-0.56</td>\n",
       "      <td>-0.01</td>\n",
       "      <td>-0.44</td>\n",
       "      <td>-0.07</td>\n",
       "      <td>0.18</td>\n",
       "      <td>-0.19</td>\n",
       "      <td>0.69</td>\n",
       "      <td>1.00</td>\n",
       "      <td>0.16</td>\n",
       "      <td>0.19</td>\n",
       "      <td>-0.57</td>\n",
       "      <td>0.22</td>\n",
       "      <td>-0.29</td>\n",
       "      <td>0.39</td>\n",
       "      <td>0.16</td>\n",
       "    </tr>\n",
       "    <tr>\n",
       "      <th>MOB.IIb</th>\n",
       "      <td>-0.21</td>\n",
       "      <td>-0.11</td>\n",
       "      <td>0.13</td>\n",
       "      <td>0.23</td>\n",
       "      <td>0.15</td>\n",
       "      <td>0.02</td>\n",
       "      <td>0.13</td>\n",
       "      <td>0.16</td>\n",
       "      <td>1.00</td>\n",
       "      <td>0.20</td>\n",
       "      <td>-0.28</td>\n",
       "      <td>0.11</td>\n",
       "      <td>-0.15</td>\n",
       "      <td>0.07</td>\n",
       "      <td>0.13</td>\n",
       "    </tr>\n",
       "    <tr>\n",
       "      <th>MOB.III</th>\n",
       "      <td>-0.18</td>\n",
       "      <td>-0.13</td>\n",
       "      <td>-0.34</td>\n",
       "      <td>-0.11</td>\n",
       "      <td>-0.33</td>\n",
       "      <td>-0.41</td>\n",
       "      <td>0.01</td>\n",
       "      <td>0.19</td>\n",
       "      <td>0.20</td>\n",
       "      <td>1.00</td>\n",
       "      <td>0.05</td>\n",
       "      <td>0.47</td>\n",
       "      <td>0.29</td>\n",
       "      <td>-0.00</td>\n",
       "      <td>-0.34</td>\n",
       "    </tr>\n",
       "    <tr>\n",
       "      <th>amoA.AOA</th>\n",
       "      <td>0.61</td>\n",
       "      <td>0.06</td>\n",
       "      <td>0.00</td>\n",
       "      <td>-0.36</td>\n",
       "      <td>-0.62</td>\n",
       "      <td>-0.21</td>\n",
       "      <td>-0.69</td>\n",
       "      <td>-0.57</td>\n",
       "      <td>-0.28</td>\n",
       "      <td>0.05</td>\n",
       "      <td>1.00</td>\n",
       "      <td>0.14</td>\n",
       "      <td>0.80</td>\n",
       "      <td>-0.34</td>\n",
       "      <td>-0.59</td>\n",
       "    </tr>\n",
       "    <tr>\n",
       "      <th>amoA.AOB</th>\n",
       "      <td>-0.14</td>\n",
       "      <td>-0.02</td>\n",
       "      <td>-0.53</td>\n",
       "      <td>-0.27</td>\n",
       "      <td>-0.47</td>\n",
       "      <td>-0.58</td>\n",
       "      <td>0.11</td>\n",
       "      <td>0.22</td>\n",
       "      <td>0.11</td>\n",
       "      <td>0.47</td>\n",
       "      <td>0.14</td>\n",
       "      <td>1.00</td>\n",
       "      <td>0.37</td>\n",
       "      <td>-0.18</td>\n",
       "      <td>-0.49</td>\n",
       "    </tr>\n",
       "    <tr>\n",
       "      <th>NOB.nxr</th>\n",
       "      <td>0.40</td>\n",
       "      <td>-0.12</td>\n",
       "      <td>-0.29</td>\n",
       "      <td>-0.42</td>\n",
       "      <td>-0.78</td>\n",
       "      <td>-0.48</td>\n",
       "      <td>-0.49</td>\n",
       "      <td>-0.29</td>\n",
       "      <td>-0.15</td>\n",
       "      <td>0.29</td>\n",
       "      <td>0.80</td>\n",
       "      <td>0.37</td>\n",
       "      <td>1.00</td>\n",
       "      <td>-0.27</td>\n",
       "      <td>-0.74</td>\n",
       "    </tr>\n",
       "    <tr>\n",
       "      <th>DsrAB.red</th>\n",
       "      <td>-0.30</td>\n",
       "      <td>-0.13</td>\n",
       "      <td>0.03</td>\n",
       "      <td>0.29</td>\n",
       "      <td>0.39</td>\n",
       "      <td>0.26</td>\n",
       "      <td>0.43</td>\n",
       "      <td>0.39</td>\n",
       "      <td>0.07</td>\n",
       "      <td>-0.00</td>\n",
       "      <td>-0.34</td>\n",
       "      <td>-0.18</td>\n",
       "      <td>-0.27</td>\n",
       "      <td>1.00</td>\n",
       "      <td>0.54</td>\n",
       "    </tr>\n",
       "    <tr>\n",
       "      <th>HydA</th>\n",
       "      <td>-0.20</td>\n",
       "      <td>0.15</td>\n",
       "      <td>0.59</td>\n",
       "      <td>0.50</td>\n",
       "      <td>0.94</td>\n",
       "      <td>0.74</td>\n",
       "      <td>0.41</td>\n",
       "      <td>0.16</td>\n",
       "      <td>0.13</td>\n",
       "      <td>-0.34</td>\n",
       "      <td>-0.59</td>\n",
       "      <td>-0.49</td>\n",
       "      <td>-0.74</td>\n",
       "      <td>0.54</td>\n",
       "      <td>1.00</td>\n",
       "    </tr>\n",
       "  </tbody>\n",
       "</table>\n",
       "</div>"
      ],
      "text/plain": [
       "             Salinity   SO4  CH4_ug_m2_h  CO2_mg_m2_h  mcr.H2  mcr.Ac  MOB.I  \\\n",
       "Salinity         1.00  0.51         0.21        -0.26   -0.26    0.11  -0.45   \n",
       "SO4              0.51  1.00         0.09        -0.24    0.16    0.09   0.06   \n",
       "CH4_ug_m2_h      0.21  0.09         1.00         0.62    0.56    0.73  -0.20   \n",
       "CO2_mg_m2_h     -0.26 -0.24         0.62         1.00    0.47    0.44   0.23   \n",
       "mcr.H2          -0.26  0.16         0.56         0.47    1.00    0.71   0.37   \n",
       "mcr.Ac           0.11  0.09         0.73         0.44    0.71    1.00  -0.07   \n",
       "MOB.I           -0.45  0.06        -0.20         0.23    0.37   -0.07   1.00   \n",
       "MOB.IIa         -0.56 -0.01        -0.44        -0.07    0.18   -0.19   0.69   \n",
       "MOB.IIb         -0.21 -0.11         0.13         0.23    0.15    0.02   0.13   \n",
       "MOB.III         -0.18 -0.13        -0.34        -0.11   -0.33   -0.41   0.01   \n",
       "amoA.AOA         0.61  0.06         0.00        -0.36   -0.62   -0.21  -0.69   \n",
       "amoA.AOB        -0.14 -0.02        -0.53        -0.27   -0.47   -0.58   0.11   \n",
       "NOB.nxr          0.40 -0.12        -0.29        -0.42   -0.78   -0.48  -0.49   \n",
       "DsrAB.red       -0.30 -0.13         0.03         0.29    0.39    0.26   0.43   \n",
       "HydA            -0.20  0.15         0.59         0.50    0.94    0.74   0.41   \n",
       "\n",
       "             MOB.IIa  MOB.IIb  MOB.III  amoA.AOA  amoA.AOB  NOB.nxr  \\\n",
       "Salinity       -0.56    -0.21    -0.18      0.61     -0.14     0.40   \n",
       "SO4            -0.01    -0.11    -0.13      0.06     -0.02    -0.12   \n",
       "CH4_ug_m2_h    -0.44     0.13    -0.34      0.00     -0.53    -0.29   \n",
       "CO2_mg_m2_h    -0.07     0.23    -0.11     -0.36     -0.27    -0.42   \n",
       "mcr.H2          0.18     0.15    -0.33     -0.62     -0.47    -0.78   \n",
       "mcr.Ac         -0.19     0.02    -0.41     -0.21     -0.58    -0.48   \n",
       "MOB.I           0.69     0.13     0.01     -0.69      0.11    -0.49   \n",
       "MOB.IIa         1.00     0.16     0.19     -0.57      0.22    -0.29   \n",
       "MOB.IIb         0.16     1.00     0.20     -0.28      0.11    -0.15   \n",
       "MOB.III         0.19     0.20     1.00      0.05      0.47     0.29   \n",
       "amoA.AOA       -0.57    -0.28     0.05      1.00      0.14     0.80   \n",
       "amoA.AOB        0.22     0.11     0.47      0.14      1.00     0.37   \n",
       "NOB.nxr        -0.29    -0.15     0.29      0.80      0.37     1.00   \n",
       "DsrAB.red       0.39     0.07    -0.00     -0.34     -0.18    -0.27   \n",
       "HydA            0.16     0.13    -0.34     -0.59     -0.49    -0.74   \n",
       "\n",
       "             DsrAB.red  HydA  \n",
       "Salinity         -0.30 -0.20  \n",
       "SO4              -0.13  0.15  \n",
       "CH4_ug_m2_h       0.03  0.59  \n",
       "CO2_mg_m2_h       0.29  0.50  \n",
       "mcr.H2            0.39  0.94  \n",
       "mcr.Ac            0.26  0.74  \n",
       "MOB.I             0.43  0.41  \n",
       "MOB.IIa           0.39  0.16  \n",
       "MOB.IIb           0.07  0.13  \n",
       "MOB.III          -0.00 -0.34  \n",
       "amoA.AOA         -0.34 -0.59  \n",
       "amoA.AOB         -0.18 -0.49  \n",
       "NOB.nxr          -0.27 -0.74  \n",
       "DsrAB.red         1.00  0.54  \n",
       "HydA              0.54  1.00  "
      ]
     },
     "execution_count": 153,
     "metadata": {},
     "output_type": "execute_result"
    }
   ],
   "source": [
    "# get corr matrix\n",
    "corr_mat = CH4s_gene_meta_data.corr().round(2)\n",
    "#corr_mat['gene'] = corr_mat.index\n",
    "corr_mat"
   ]
  },
  {
   "cell_type": "code",
   "execution_count": 172,
   "metadata": {},
   "outputs": [],
   "source": [
    "# Save exact data files for revision figure!\n",
    "#CH4s_gene_meta_data.to_csv('../data/shotgun/cor_input_data_All.csv')\n",
    "CH4s_gene_meta_data.to_csv('../data/shotgun/cor_input_data_All_log10.csv')"
   ]
  },
  {
   "cell_type": "code",
   "execution_count": 174,
   "metadata": {},
   "outputs": [],
   "source": [
    "# And with Delta only\n",
    "#CH4s_gene_meta_data.to_csv('../data/shotgun/cor_input_data_Delta.csv')\n",
    "CH4s_gene_meta_data.to_csv('../data/shotgun/cor_input_data_Delta_log10.csv')"
   ]
  },
  {
   "cell_type": "code",
   "execution_count": 155,
   "metadata": {},
   "outputs": [],
   "source": [
    "TS_colors[12] = 'red'"
   ]
  },
  {
   "cell_type": "code",
   "execution_count": 156,
   "metadata": {},
   "outputs": [
    {
     "data": {
      "text/plain": [
       "['#ffffff',\n",
       " '#ffffff',\n",
       " '#ffffff',\n",
       " '#ffffff',\n",
       " '#CD4F39',\n",
       " '#8B3626',\n",
       " '#63B8FF',\n",
       " '#36648B',\n",
       " '#4F94CD',\n",
       " '#8986DC',\n",
       " '#7CFC00',\n",
       " '#00CD00',\n",
       " 'red',\n",
       " '#8B008B',\n",
       " '#CD6600']"
      ]
     },
     "execution_count": 156,
     "metadata": {},
     "output_type": "execute_result"
    }
   ],
   "source": [
    "TS_colors"
   ]
  },
  {
   "cell_type": "code",
   "execution_count": 157,
   "metadata": {},
   "outputs": [
    {
     "data": {
      "text/plain": [
       "[None,\n",
       " None,\n",
       " None,\n",
       " None,\n",
       " None,\n",
       " None,\n",
       " None,\n",
       " None,\n",
       " None,\n",
       " None,\n",
       " None,\n",
       " None,\n",
       " None,\n",
       " None,\n",
       " None,\n",
       " None,\n",
       " None,\n",
       " None,\n",
       " None,\n",
       " None,\n",
       " None,\n",
       " None,\n",
       " None,\n",
       " None,\n",
       " None,\n",
       " None,\n",
       " None,\n",
       " None,\n",
       " None,\n",
       " None]"
      ]
     },
     "execution_count": 157,
     "metadata": {},
     "output_type": "execute_result"
    },
    {
     "data": {
      "image/png": "[encoded data removed]",
      "text/plain": [
       "<Figure size 576x576 with 6 Axes>"
      ]
     },
     "metadata": {},
     "output_type": "display_data"
    }
   ],
   "source": [
    "cm = sns.clustermap(corr_mat, row_cluster=False, annot=True, col_cluster=False,\n",
    "                   row_colors = TS_colors, col_colors = TS_colors, figsize = (8,8), cmap = \"RdBu_r\",\n",
    "                   vmax = 1, vmin = -1)\n",
    "cm.cax.set_visible(False)\n",
    "plt.setp(cm.ax_heatmap.yaxis.get_majorticklabels(), rotation=0)                                # rotate ticks"
   ]
  },
  {
   "cell_type": "code",
   "execution_count": 158,
   "metadata": {},
   "outputs": [],
   "source": [
    "#cm.savefig(\"../figs/TS_guilds_ALL_HeatM_log10.pdf\")\n",
    "cm.savefig(\"../figs/TS_guilds_DELTA_HeatM_log10.pdf\")"
   ]
  },
  {
   "cell_type": "markdown",
   "metadata": {},
   "source": [
    "# 5) 16S Clustermap"
   ]
  },
  {
   "cell_type": "markdown",
   "metadata": {},
   "source": [
    "### a) import data and colors"
   ]
  },
  {
   "cell_type": "code",
   "execution_count": 54,
   "metadata": {},
   "outputs": [],
   "source": [
    "Guild_counts = pd.read_csv('../guild_analysis/Silva_OTU_Guild_abundT_counts.txt', sep='\\t')#, index_col=0)      # RAST_KO_ordered133_R2_F200_DESeq2_nrm.txt"
   ]
  },
  {
   "cell_type": "code",
   "execution_count": 55,
   "metadata": {},
   "outputs": [],
   "source": [
    "# Log2 n+1 transform data\n",
    "Guild_counts2 = Guild_counts.replace(0,2)                         # For log n+1, replace 0 with 2\n",
    "Guild_countsLog2 = np.log2(Guild_counts2)                         # Get log2 data \n",
    "Guild_countsLog2 = Guild_countsLog2.replace(1,0)                  # Make 0 again 0\n",
    "# Guild_countsLog2"
   ]
  },
  {
   "cell_type": "code",
   "execution_count": 56,
   "metadata": {},
   "outputs": [
    {
     "data": {
      "text/plain": [
       "['CH4_mix',\n",
       " 'CH4_H2',\n",
       " 'CH4_ac',\n",
       " 'CH4_me',\n",
       " 'MOB_I',\n",
       " 'MOB_II',\n",
       " 'MOB_IIa',\n",
       " 'ANME',\n",
       " 'AOA',\n",
       " 'AOB',\n",
       " 'NOB',\n",
       " 'Anamx',\n",
       " 'SOxB',\n",
       " 'SRB_syn',\n",
       " 'SRB',\n",
       " 'FeOB',\n",
       " 'FeRB',\n",
       " 'Methanogen',\n",
       " 'Methanotroph',\n",
       " 'Methanogen_Troph',\n",
       " 'AOA_NOB',\n",
       " 'AOB_NOB',\n",
       " 'AO_NOB',\n",
       " 'Sample']"
      ]
     },
     "execution_count": 56,
     "metadata": {},
     "output_type": "execute_result"
    }
   ],
   "source": [
    "# To Filter only delta samples, or other\n",
    "Guild_countsLog2[\"Sample\"] = Guild_countsLog2.index               # Get sample column from index\n",
    "Guild_abund = Guild_countsLog2\n",
    "# Guild_countsLog2\n",
    "\n",
    "# Guild_abund = pd.merge(CH4_flux_df, Guild_countsLog2, on='Sample')    # Merge Env var with KO abundance by Samp.\n",
    "# Guild_abund = Guild_abund.set_index('Sample')\n",
    "#env_var_df# \n",
    "list(Guild_abund.columns) "
   ]
  },
  {
   "cell_type": "code",
   "execution_count": 57,
   "metadata": {},
   "outputs": [
    {
     "data": {
      "text/html": [
       "<div>\n",
       "<style scoped>\n",
       "    .dataframe tbody tr th:only-of-type {\n",
       "        vertical-align: middle;\n",
       "    }\n",
       "\n",
       "    .dataframe tbody tr th {\n",
       "        vertical-align: top;\n",
       "    }\n",
       "\n",
       "    .dataframe thead th {\n",
       "        text-align: right;\n",
       "    }\n",
       "</style>\n",
       "<table border=\"1\" class=\"dataframe\">\n",
       "  <thead>\n",
       "    <tr style=\"text-align: right;\">\n",
       "      <th></th>\n",
       "      <th>CH4_mix</th>\n",
       "      <th>CH4_H2</th>\n",
       "      <th>CH4_ac</th>\n",
       "      <th>CH4_me</th>\n",
       "      <th>MOB_I</th>\n",
       "      <th>MOB_II</th>\n",
       "      <th>MOB_IIa</th>\n",
       "      <th>ANME</th>\n",
       "      <th>AOA</th>\n",
       "      <th>AOB</th>\n",
       "      <th>NOB</th>\n",
       "      <th>Anamx</th>\n",
       "      <th>SOxB</th>\n",
       "      <th>SRB_syn</th>\n",
       "      <th>SRB</th>\n",
       "      <th>FeOB</th>\n",
       "      <th>FeRB</th>\n",
       "    </tr>\n",
       "  </thead>\n",
       "  <tbody>\n",
       "    <tr>\n",
       "      <th>Sandmound_TuleA_D1</th>\n",
       "      <td>7.898290</td>\n",
       "      <td>9.616519</td>\n",
       "      <td>7.698981</td>\n",
       "      <td>5.266022</td>\n",
       "      <td>13.730363</td>\n",
       "      <td>14.478396</td>\n",
       "      <td>13.241010</td>\n",
       "      <td>0.0</td>\n",
       "      <td>14.594697</td>\n",
       "      <td>15.581171</td>\n",
       "      <td>15.375852</td>\n",
       "      <td>0.0</td>\n",
       "      <td>10.862957</td>\n",
       "      <td>13.658339</td>\n",
       "      <td>15.733831</td>\n",
       "      <td>11.415769</td>\n",
       "      <td>12.306037</td>\n",
       "    </tr>\n",
       "    <tr>\n",
       "      <th>Sandmound_TuleA_D2</th>\n",
       "      <td>8.191184</td>\n",
       "      <td>10.481576</td>\n",
       "      <td>8.864374</td>\n",
       "      <td>6.441162</td>\n",
       "      <td>13.428814</td>\n",
       "      <td>14.320467</td>\n",
       "      <td>13.472581</td>\n",
       "      <td>0.0</td>\n",
       "      <td>14.421561</td>\n",
       "      <td>15.536319</td>\n",
       "      <td>15.909879</td>\n",
       "      <td>0.0</td>\n",
       "      <td>10.906543</td>\n",
       "      <td>14.611087</td>\n",
       "      <td>16.355547</td>\n",
       "      <td>12.296880</td>\n",
       "      <td>12.166606</td>\n",
       "    </tr>\n",
       "    <tr>\n",
       "      <th>Sandmound_TuleB_D1</th>\n",
       "      <td>0.000000</td>\n",
       "      <td>0.000000</td>\n",
       "      <td>0.000000</td>\n",
       "      <td>0.000000</td>\n",
       "      <td>13.878202</td>\n",
       "      <td>11.790739</td>\n",
       "      <td>11.375701</td>\n",
       "      <td>0.0</td>\n",
       "      <td>13.598094</td>\n",
       "      <td>14.835133</td>\n",
       "      <td>14.920022</td>\n",
       "      <td>0.0</td>\n",
       "      <td>13.697629</td>\n",
       "      <td>10.790739</td>\n",
       "      <td>17.420095</td>\n",
       "      <td>12.375701</td>\n",
       "      <td>13.250170</td>\n",
       "    </tr>\n",
       "    <tr>\n",
       "      <th>Sandmound_TuleB_D2</th>\n",
       "      <td>8.862499</td>\n",
       "      <td>10.540571</td>\n",
       "      <td>7.955609</td>\n",
       "      <td>6.762964</td>\n",
       "      <td>14.229404</td>\n",
       "      <td>14.496705</td>\n",
       "      <td>13.601267</td>\n",
       "      <td>0.0</td>\n",
       "      <td>14.755700</td>\n",
       "      <td>15.548533</td>\n",
       "      <td>16.116741</td>\n",
       "      <td>0.0</td>\n",
       "      <td>11.584965</td>\n",
       "      <td>14.964737</td>\n",
       "      <td>16.806382</td>\n",
       "      <td>12.912711</td>\n",
       "      <td>12.952788</td>\n",
       "    </tr>\n",
       "    <tr>\n",
       "      <th>Sandmound_TuleC_D1</th>\n",
       "      <td>7.344863</td>\n",
       "      <td>8.859436</td>\n",
       "      <td>5.859436</td>\n",
       "      <td>3.537508</td>\n",
       "      <td>13.199286</td>\n",
       "      <td>14.314763</td>\n",
       "      <td>13.047283</td>\n",
       "      <td>0.0</td>\n",
       "      <td>14.827527</td>\n",
       "      <td>15.855203</td>\n",
       "      <td>15.354491</td>\n",
       "      <td>0.0</td>\n",
       "      <td>10.912547</td>\n",
       "      <td>13.323777</td>\n",
       "      <td>15.592790</td>\n",
       "      <td>10.877358</td>\n",
       "      <td>12.206393</td>\n",
       "    </tr>\n",
       "  </tbody>\n",
       "</table>\n",
       "</div>"
      ],
      "text/plain": [
       "                     CH4_mix     CH4_H2    CH4_ac    CH4_me      MOB_I  \\\n",
       "Sandmound_TuleA_D1  7.898290   9.616519  7.698981  5.266022  13.730363   \n",
       "Sandmound_TuleA_D2  8.191184  10.481576  8.864374  6.441162  13.428814   \n",
       "Sandmound_TuleB_D1  0.000000   0.000000  0.000000  0.000000  13.878202   \n",
       "Sandmound_TuleB_D2  8.862499  10.540571  7.955609  6.762964  14.229404   \n",
       "Sandmound_TuleC_D1  7.344863   8.859436  5.859436  3.537508  13.199286   \n",
       "\n",
       "                       MOB_II    MOB_IIa  ANME        AOA        AOB  \\\n",
       "Sandmound_TuleA_D1  14.478396  13.241010   0.0  14.594697  15.581171   \n",
       "Sandmound_TuleA_D2  14.320467  13.472581   0.0  14.421561  15.536319   \n",
       "Sandmound_TuleB_D1  11.790739  11.375701   0.0  13.598094  14.835133   \n",
       "Sandmound_TuleB_D2  14.496705  13.601267   0.0  14.755700  15.548533   \n",
       "Sandmound_TuleC_D1  14.314763  13.047283   0.0  14.827527  15.855203   \n",
       "\n",
       "                          NOB  Anamx       SOxB    SRB_syn        SRB  \\\n",
       "Sandmound_TuleA_D1  15.375852    0.0  10.862957  13.658339  15.733831   \n",
       "Sandmound_TuleA_D2  15.909879    0.0  10.906543  14.611087  16.355547   \n",
       "Sandmound_TuleB_D1  14.920022    0.0  13.697629  10.790739  17.420095   \n",
       "Sandmound_TuleB_D2  16.116741    0.0  11.584965  14.964737  16.806382   \n",
       "Sandmound_TuleC_D1  15.354491    0.0  10.912547  13.323777  15.592790   \n",
       "\n",
       "                         FeOB       FeRB  \n",
       "Sandmound_TuleA_D1  11.415769  12.306037  \n",
       "Sandmound_TuleA_D2  12.296880  12.166606  \n",
       "Sandmound_TuleB_D1  12.375701  13.250170  \n",
       "Sandmound_TuleB_D2  12.912711  12.952788  \n",
       "Sandmound_TuleC_D1  10.877358  12.206393  "
      ]
     },
     "execution_count": 57,
     "metadata": {},
     "output_type": "execute_result"
    }
   ],
   "source": [
    "#Guild_abund.drop\n",
    "Guild_abund = Guild_abund.iloc[:,0:17]                               # drops ratios\n",
    "#Guild_abund = Guild_abund.drop(['MeOB','SOxB', 'FeRB', 'Anamx'], axis =1)\n",
    "#Guild_abund = Guild_abund.drop(['MeOB','SOxB', 'Anamx', 'Methanogen'], axis =1)\n",
    "#Guild_abund['Sample'] = Guild_abund.index\n",
    "Guild_abund.head()"
   ]
  },
  {
   "cell_type": "code",
   "execution_count": 58,
   "metadata": {},
   "outputs": [
    {
     "data": {
      "text/plain": [
       "['CH4_mix',\n",
       " 'CH4_H2',\n",
       " 'CH4_ac',\n",
       " 'CH4_me',\n",
       " 'MOB_I',\n",
       " 'MOB_II',\n",
       " 'MOB_IIa',\n",
       " 'ANME',\n",
       " 'AOA',\n",
       " 'AOB',\n",
       " 'NOB',\n",
       " 'Anamx',\n",
       " 'SOxB',\n",
       " 'SRB_syn',\n",
       " 'SRB',\n",
       " 'FeOB',\n",
       " 'FeRB']"
      ]
     },
     "execution_count": 58,
     "metadata": {},
     "output_type": "execute_result"
    }
   ],
   "source": [
    "list(Guild_abund.columns)"
   ]
  },
  {
   "cell_type": "code",
   "execution_count": 59,
   "metadata": {},
   "outputs": [],
   "source": [
    "# Reorder\n",
    "Guild_abund = Guild_abund.reindex(columns=['CH4_mix','CH4_me','CH4_H2','CH4_ac','MOB_I','MOB_II','MOB_IIa','ANME','AOA','AOB','NOB',\n",
    "                                          'Anamx','SOxB','SRB_syn','SRB','FeOB','FeRB'])"
   ]
  },
  {
   "cell_type": "code",
   "execution_count": 60,
   "metadata": {},
   "outputs": [
    {
     "data": {
      "text/plain": [
       "['Guild', 'Index', 'color']"
      ]
     },
     "execution_count": 60,
     "metadata": {},
     "output_type": "execute_result"
    }
   ],
   "source": [
    "# Get guild colors \n",
    "Guild_colors = pd.read_csv('../data/colors/Guild_color_palette_CB.txt', sep ='\\t') # sp error in name, may be used elsewhere though\n",
    "list(Guild_colors.columns)\n",
    "#Guild_colors['var'] = Guild_colors['Guild']\n",
    "\n",
    "# Match colors & extract vector\n",
    "#guild_keep = pd.DataFrame(Guild_abund.columns)\n",
    "#guild_keep.columns = ['Guild']\n",
    "#guild_key = pd.merge(guild_keep, Guild_colors, on = 'Guild', how = 'left')\n",
    "#guild_key\n",
    "#guild_colors = guild_key['color']\n",
    "#guild_colors\n",
    "# Guild_colors = pd.merge\n",
    "\n",
    "#Guild_colors#.head()"
   ]
  },
  {
   "cell_type": "markdown",
   "metadata": {},
   "source": [
    "### b) make clustermap"
   ]
  },
  {
   "cell_type": "code",
   "execution_count": 61,
   "metadata": {},
   "outputs": [],
   "source": [
    "# keep only minimal gene list\n",
    "# keep_genes = ['pmoB-amoB', 'pmoC-amoC', 'fwdA, fmdA', 'fwdB, fmdB', 'fwdC, fmdC','fwdD, fmdD', 'mcrA', 'mcrB','dsrA','dsrB']\n",
    "# CH4_S_genes_min = CH4_S_genes[CH4_S_genes['gene'].isin(keep_genes)]"
   ]
  },
  {
   "cell_type": "code",
   "execution_count": 62,
   "metadata": {},
   "outputs": [
    {
     "data": {
      "text/plain": [
       "...1      white\n",
       "...2      white\n",
       "...3      white\n",
       "...4      white\n",
       "...5    #FFFF99\n",
       "...6    #FDC086\n",
       "1       #CD4F39\n",
       "2       #8B3626\n",
       "3       #63B8FF\n",
       "4       #4F94CD\n",
       "5       #36648B\n",
       "6       #836FFF\n",
       "7       #7CFC00\n",
       "8       #00CD00\n",
       "9       #008B00\n",
       "10      #00FF7F\n",
       "11      #CD69C9\n",
       "12      #CD2990\n",
       "13      #8B008B\n",
       "14      #CD6600\n",
       "15      #8B4513\n",
       "Name: color, dtype: object"
      ]
     },
     "execution_count": 62,
     "metadata": {},
     "output_type": "execute_result"
    }
   ],
   "source": [
    "# Format color list to incl biogeochemical vars (4)\n",
    "# gene_colors = pd.Series(CH4_S_genes_min['color'])\n",
    "#chem_colors = pd.Series(['#ffffff', '#ffffff','#ffffff','#ffffff'])\n",
    "#guild16s_colors = pd.Series(chem_colors.append(guild_colors))         # guild colors from above \n",
    "#guild16s_colors = guild16s_colors.tolist()\n",
    "guild16s_colors = Guild_colors['color']\n",
    "guild16s_colors"
   ]
  },
  {
   "cell_type": "code",
   "execution_count": 63,
   "metadata": {},
   "outputs": [],
   "source": [
    "guild16s_colors = guild16s_colors.tolist()"
   ]
  },
  {
   "cell_type": "code",
   "execution_count": 64,
   "metadata": {},
   "outputs": [
    {
     "data": {
      "text/plain": [
       "['white',\n",
       " 'white',\n",
       " 'white',\n",
       " 'white',\n",
       " '#FFFF99',\n",
       " '#FDC086',\n",
       " '#CD4F39',\n",
       " '#8B3626',\n",
       " '#63B8FF',\n",
       " '#4F94CD',\n",
       " '#36648B',\n",
       " '#836FFF',\n",
       " '#7CFC00',\n",
       " '#00CD00',\n",
       " '#008B00',\n",
       " '#00FF7F',\n",
       " '#CD69C9',\n",
       " '#CD2990',\n",
       " '#8B008B',\n",
       " '#CD6600',\n",
       " '#8B4513']"
      ]
     },
     "execution_count": 64,
     "metadata": {},
     "output_type": "execute_result"
    }
   ],
   "source": [
    "guild16s_colors"
   ]
  },
  {
   "cell_type": "raw",
   "metadata": {},
   "source": [
    "# redo corr data prep\n",
    "keep_cols = ['KO', 'gene']\n",
    "CH4_S_KOs = pd.DataFrame(CH4_S_genes_min[keep_cols])                            # Get only KOs from ontology\n",
    "CH4_S_KOabund = pd.merge(CH4_S_KOs, Gene_abund, on='KO', how='inner')       # merge CNPS KO vector with KO abundance \n",
    "CH4_S_KOabund = CH4_S_KOabund.drop('KO', axis = 1)                          # drop KO \n",
    "CH4_S_KOabund = CH4_S_KOabund.set_index('gene')                              # Set index as KO before transpose\n",
    "\n",
    "CH4_S_KOabund_T = CH4_S_KOabund.T                                          # Transpose\n",
    "CH4_S_KOabund_T['Sample'] = CH4_S_KOabund_T.index                          # Get sample col from \n",
    "CH4_S_KOabund_T.head()\n",
    "#CH4_S_KOabund #= CH4_S_KOabund.set_index('KO')                              # Set index as KO before transpose"
   ]
  },
  {
   "cell_type": "code",
   "execution_count": 65,
   "metadata": {},
   "outputs": [],
   "source": [
    "# merge with metadata\n",
    "Guild_abund['Sample'] = Guild_abund.index\n",
    "CH4s_guild_meta_data = pd.merge(Sal_CH4_data_only, Guild_abund, on = 'Sample', how = 'inner')\n",
    "#CH4s_gene_meta_data = CH4s_gene_meta_data.set_index('Sample')"
   ]
  },
  {
   "cell_type": "code",
   "execution_count": 66,
   "metadata": {},
   "outputs": [
    {
     "data": {
      "text/plain": [
       "(168, 22)"
      ]
     },
     "execution_count": 66,
     "metadata": {},
     "output_type": "execute_result"
    }
   ],
   "source": [
    "CH4s_guild_meta_data.shape"
   ]
  },
  {
   "cell_type": "code",
   "execution_count": 67,
   "metadata": {},
   "outputs": [
    {
     "data": {
      "text/plain": [
       "(73, 22)"
      ]
     },
     "execution_count": 67,
     "metadata": {},
     "output_type": "execute_result"
    }
   ],
   "source": [
    "# To rerun with Delta only, run this then rerun below.\n",
    "# Get any dataset of Delta (e.g. taxonomic correlations)\n",
    "Delta_sites = pd.read_csv('../data/meta/SF_sal_meta_FIX3.5.txt', sep='\\t')\n",
    "Delta_sites = Delta_sites[(Delta_sites['SALTgroup'] == 'FW') | (Delta_sites['SALTgroup'] == 'Oligo')]\n",
    "Delta_sites.shape\n",
    "Delta_sites.Sample\n",
    "\n",
    "# Filter the data frame by those sample IDs\n",
    "CH4s_guild_meta_data = CH4s_guild_meta_data[CH4s_guild_meta_data['Sample'].isin(Delta_sites.Sample)]\n",
    "CH4s_guild_meta_data.shape"
   ]
  },
  {
   "cell_type": "code",
   "execution_count": 68,
   "metadata": {},
   "outputs": [
    {
     "data": {
      "text/html": [
       "<div>\n",
       "<style scoped>\n",
       "    .dataframe tbody tr th:only-of-type {\n",
       "        vertical-align: middle;\n",
       "    }\n",
       "\n",
       "    .dataframe tbody tr th {\n",
       "        vertical-align: top;\n",
       "    }\n",
       "\n",
       "    .dataframe thead th {\n",
       "        text-align: right;\n",
       "    }\n",
       "</style>\n",
       "<table border=\"1\" class=\"dataframe\">\n",
       "  <thead>\n",
       "    <tr style=\"text-align: right;\">\n",
       "      <th></th>\n",
       "      <th>Salinity</th>\n",
       "      <th>SO4</th>\n",
       "      <th>CH4_ug_m2_h</th>\n",
       "      <th>CO2_mg_m2_h</th>\n",
       "      <th>CH4_mix</th>\n",
       "      <th>CH4_me</th>\n",
       "      <th>CH4_H2</th>\n",
       "      <th>CH4_ac</th>\n",
       "      <th>MOB_I</th>\n",
       "      <th>MOB_II</th>\n",
       "      <th>...</th>\n",
       "      <th>ANME</th>\n",
       "      <th>AOA</th>\n",
       "      <th>AOB</th>\n",
       "      <th>NOB</th>\n",
       "      <th>Anamx</th>\n",
       "      <th>SOxB</th>\n",
       "      <th>SRB_syn</th>\n",
       "      <th>SRB</th>\n",
       "      <th>FeOB</th>\n",
       "      <th>FeRB</th>\n",
       "    </tr>\n",
       "  </thead>\n",
       "  <tbody>\n",
       "    <tr>\n",
       "      <th>Salinity</th>\n",
       "      <td>1.00</td>\n",
       "      <td>0.50</td>\n",
       "      <td>0.26</td>\n",
       "      <td>-0.24</td>\n",
       "      <td>-0.12</td>\n",
       "      <td>-0.17</td>\n",
       "      <td>-0.23</td>\n",
       "      <td>-0.26</td>\n",
       "      <td>-0.46</td>\n",
       "      <td>0.34</td>\n",
       "      <td>...</td>\n",
       "      <td>0.65</td>\n",
       "      <td>0.63</td>\n",
       "      <td>-0.16</td>\n",
       "      <td>0.36</td>\n",
       "      <td>-0.17</td>\n",
       "      <td>-0.21</td>\n",
       "      <td>-0.37</td>\n",
       "      <td>-0.30</td>\n",
       "      <td>-0.07</td>\n",
       "      <td>0.08</td>\n",
       "    </tr>\n",
       "    <tr>\n",
       "      <th>SO4</th>\n",
       "      <td>0.50</td>\n",
       "      <td>1.00</td>\n",
       "      <td>0.07</td>\n",
       "      <td>-0.25</td>\n",
       "      <td>0.25</td>\n",
       "      <td>0.19</td>\n",
       "      <td>0.22</td>\n",
       "      <td>0.16</td>\n",
       "      <td>0.05</td>\n",
       "      <td>-0.01</td>\n",
       "      <td>...</td>\n",
       "      <td>0.23</td>\n",
       "      <td>0.18</td>\n",
       "      <td>-0.28</td>\n",
       "      <td>-0.01</td>\n",
       "      <td>-0.08</td>\n",
       "      <td>0.26</td>\n",
       "      <td>0.10</td>\n",
       "      <td>0.25</td>\n",
       "      <td>0.12</td>\n",
       "      <td>0.23</td>\n",
       "    </tr>\n",
       "    <tr>\n",
       "      <th>CH4_ug_m2_h</th>\n",
       "      <td>0.26</td>\n",
       "      <td>0.07</td>\n",
       "      <td>1.00</td>\n",
       "      <td>0.62</td>\n",
       "      <td>0.41</td>\n",
       "      <td>0.48</td>\n",
       "      <td>0.40</td>\n",
       "      <td>0.52</td>\n",
       "      <td>-0.27</td>\n",
       "      <td>-0.10</td>\n",
       "      <td>...</td>\n",
       "      <td>0.65</td>\n",
       "      <td>-0.09</td>\n",
       "      <td>-0.65</td>\n",
       "      <td>-0.41</td>\n",
       "      <td>0.08</td>\n",
       "      <td>0.37</td>\n",
       "      <td>0.27</td>\n",
       "      <td>-0.15</td>\n",
       "      <td>0.16</td>\n",
       "      <td>-0.28</td>\n",
       "    </tr>\n",
       "    <tr>\n",
       "      <th>CO2_mg_m2_h</th>\n",
       "      <td>-0.24</td>\n",
       "      <td>-0.25</td>\n",
       "      <td>0.62</td>\n",
       "      <td>1.00</td>\n",
       "      <td>0.32</td>\n",
       "      <td>0.38</td>\n",
       "      <td>0.36</td>\n",
       "      <td>0.37</td>\n",
       "      <td>0.21</td>\n",
       "      <td>-0.39</td>\n",
       "      <td>...</td>\n",
       "      <td>0.03</td>\n",
       "      <td>-0.48</td>\n",
       "      <td>-0.25</td>\n",
       "      <td>-0.48</td>\n",
       "      <td>0.15</td>\n",
       "      <td>0.39</td>\n",
       "      <td>0.38</td>\n",
       "      <td>-0.04</td>\n",
       "      <td>0.36</td>\n",
       "      <td>-0.03</td>\n",
       "    </tr>\n",
       "    <tr>\n",
       "      <th>CH4_mix</th>\n",
       "      <td>-0.12</td>\n",
       "      <td>0.25</td>\n",
       "      <td>0.41</td>\n",
       "      <td>0.32</td>\n",
       "      <td>1.00</td>\n",
       "      <td>0.88</td>\n",
       "      <td>0.89</td>\n",
       "      <td>0.72</td>\n",
       "      <td>0.38</td>\n",
       "      <td>-0.40</td>\n",
       "      <td>...</td>\n",
       "      <td>0.08</td>\n",
       "      <td>-0.52</td>\n",
       "      <td>-0.56</td>\n",
       "      <td>-0.64</td>\n",
       "      <td>0.12</td>\n",
       "      <td>0.66</td>\n",
       "      <td>0.81</td>\n",
       "      <td>0.11</td>\n",
       "      <td>0.45</td>\n",
       "      <td>0.14</td>\n",
       "    </tr>\n",
       "    <tr>\n",
       "      <th>CH4_me</th>\n",
       "      <td>-0.17</td>\n",
       "      <td>0.19</td>\n",
       "      <td>0.48</td>\n",
       "      <td>0.38</td>\n",
       "      <td>0.88</td>\n",
       "      <td>1.00</td>\n",
       "      <td>0.91</td>\n",
       "      <td>0.81</td>\n",
       "      <td>0.34</td>\n",
       "      <td>-0.50</td>\n",
       "      <td>...</td>\n",
       "      <td>0.14</td>\n",
       "      <td>-0.57</td>\n",
       "      <td>-0.65</td>\n",
       "      <td>-0.74</td>\n",
       "      <td>0.12</td>\n",
       "      <td>0.73</td>\n",
       "      <td>0.88</td>\n",
       "      <td>0.19</td>\n",
       "      <td>0.47</td>\n",
       "      <td>0.07</td>\n",
       "    </tr>\n",
       "    <tr>\n",
       "      <th>CH4_H2</th>\n",
       "      <td>-0.23</td>\n",
       "      <td>0.22</td>\n",
       "      <td>0.40</td>\n",
       "      <td>0.36</td>\n",
       "      <td>0.89</td>\n",
       "      <td>0.91</td>\n",
       "      <td>1.00</td>\n",
       "      <td>0.87</td>\n",
       "      <td>0.39</td>\n",
       "      <td>-0.54</td>\n",
       "      <td>...</td>\n",
       "      <td>0.06</td>\n",
       "      <td>-0.61</td>\n",
       "      <td>-0.59</td>\n",
       "      <td>-0.75</td>\n",
       "      <td>0.06</td>\n",
       "      <td>0.64</td>\n",
       "      <td>0.91</td>\n",
       "      <td>0.23</td>\n",
       "      <td>0.50</td>\n",
       "      <td>0.12</td>\n",
       "    </tr>\n",
       "    <tr>\n",
       "      <th>CH4_ac</th>\n",
       "      <td>-0.26</td>\n",
       "      <td>0.16</td>\n",
       "      <td>0.52</td>\n",
       "      <td>0.37</td>\n",
       "      <td>0.72</td>\n",
       "      <td>0.81</td>\n",
       "      <td>0.87</td>\n",
       "      <td>1.00</td>\n",
       "      <td>0.14</td>\n",
       "      <td>-0.45</td>\n",
       "      <td>...</td>\n",
       "      <td>0.21</td>\n",
       "      <td>-0.49</td>\n",
       "      <td>-0.71</td>\n",
       "      <td>-0.76</td>\n",
       "      <td>0.01</td>\n",
       "      <td>0.54</td>\n",
       "      <td>0.77</td>\n",
       "      <td>0.20</td>\n",
       "      <td>0.27</td>\n",
       "      <td>-0.15</td>\n",
       "    </tr>\n",
       "    <tr>\n",
       "      <th>MOB_I</th>\n",
       "      <td>-0.46</td>\n",
       "      <td>0.05</td>\n",
       "      <td>-0.27</td>\n",
       "      <td>0.21</td>\n",
       "      <td>0.38</td>\n",
       "      <td>0.34</td>\n",
       "      <td>0.39</td>\n",
       "      <td>0.14</td>\n",
       "      <td>1.00</td>\n",
       "      <td>-0.63</td>\n",
       "      <td>...</td>\n",
       "      <td>-0.70</td>\n",
       "      <td>-0.70</td>\n",
       "      <td>0.03</td>\n",
       "      <td>-0.39</td>\n",
       "      <td>0.14</td>\n",
       "      <td>0.47</td>\n",
       "      <td>0.56</td>\n",
       "      <td>0.33</td>\n",
       "      <td>0.64</td>\n",
       "      <td>0.60</td>\n",
       "    </tr>\n",
       "    <tr>\n",
       "      <th>MOB_II</th>\n",
       "      <td>0.34</td>\n",
       "      <td>-0.01</td>\n",
       "      <td>-0.10</td>\n",
       "      <td>-0.39</td>\n",
       "      <td>-0.40</td>\n",
       "      <td>-0.50</td>\n",
       "      <td>-0.54</td>\n",
       "      <td>-0.45</td>\n",
       "      <td>-0.63</td>\n",
       "      <td>1.00</td>\n",
       "      <td>...</td>\n",
       "      <td>0.29</td>\n",
       "      <td>0.83</td>\n",
       "      <td>0.37</td>\n",
       "      <td>0.77</td>\n",
       "      <td>-0.09</td>\n",
       "      <td>-0.61</td>\n",
       "      <td>-0.64</td>\n",
       "      <td>-0.26</td>\n",
       "      <td>-0.60</td>\n",
       "      <td>-0.32</td>\n",
       "    </tr>\n",
       "    <tr>\n",
       "      <th>MOB_IIa</th>\n",
       "      <td>-0.67</td>\n",
       "      <td>-0.32</td>\n",
       "      <td>-0.48</td>\n",
       "      <td>0.13</td>\n",
       "      <td>0.18</td>\n",
       "      <td>0.11</td>\n",
       "      <td>0.17</td>\n",
       "      <td>-0.05</td>\n",
       "      <td>0.68</td>\n",
       "      <td>-0.22</td>\n",
       "      <td>...</td>\n",
       "      <td>-0.79</td>\n",
       "      <td>-0.50</td>\n",
       "      <td>0.42</td>\n",
       "      <td>-0.09</td>\n",
       "      <td>0.19</td>\n",
       "      <td>0.15</td>\n",
       "      <td>0.33</td>\n",
       "      <td>0.29</td>\n",
       "      <td>0.30</td>\n",
       "      <td>0.33</td>\n",
       "    </tr>\n",
       "    <tr>\n",
       "      <th>ANME</th>\n",
       "      <td>0.65</td>\n",
       "      <td>0.23</td>\n",
       "      <td>0.65</td>\n",
       "      <td>0.03</td>\n",
       "      <td>0.08</td>\n",
       "      <td>0.14</td>\n",
       "      <td>0.06</td>\n",
       "      <td>0.21</td>\n",
       "      <td>-0.70</td>\n",
       "      <td>0.29</td>\n",
       "      <td>...</td>\n",
       "      <td>1.00</td>\n",
       "      <td>0.46</td>\n",
       "      <td>-0.50</td>\n",
       "      <td>0.00</td>\n",
       "      <td>-0.12</td>\n",
       "      <td>-0.00</td>\n",
       "      <td>-0.09</td>\n",
       "      <td>-0.27</td>\n",
       "      <td>-0.20</td>\n",
       "      <td>-0.40</td>\n",
       "    </tr>\n",
       "    <tr>\n",
       "      <th>AOA</th>\n",
       "      <td>0.63</td>\n",
       "      <td>0.18</td>\n",
       "      <td>-0.09</td>\n",
       "      <td>-0.48</td>\n",
       "      <td>-0.52</td>\n",
       "      <td>-0.57</td>\n",
       "      <td>-0.61</td>\n",
       "      <td>-0.49</td>\n",
       "      <td>-0.70</td>\n",
       "      <td>0.83</td>\n",
       "      <td>...</td>\n",
       "      <td>0.46</td>\n",
       "      <td>1.00</td>\n",
       "      <td>0.29</td>\n",
       "      <td>0.81</td>\n",
       "      <td>-0.23</td>\n",
       "      <td>-0.66</td>\n",
       "      <td>-0.68</td>\n",
       "      <td>-0.36</td>\n",
       "      <td>-0.57</td>\n",
       "      <td>-0.18</td>\n",
       "    </tr>\n",
       "    <tr>\n",
       "      <th>AOB</th>\n",
       "      <td>-0.16</td>\n",
       "      <td>-0.28</td>\n",
       "      <td>-0.65</td>\n",
       "      <td>-0.25</td>\n",
       "      <td>-0.56</td>\n",
       "      <td>-0.65</td>\n",
       "      <td>-0.59</td>\n",
       "      <td>-0.71</td>\n",
       "      <td>0.03</td>\n",
       "      <td>0.37</td>\n",
       "      <td>...</td>\n",
       "      <td>-0.50</td>\n",
       "      <td>0.29</td>\n",
       "      <td>1.00</td>\n",
       "      <td>0.68</td>\n",
       "      <td>-0.00</td>\n",
       "      <td>-0.53</td>\n",
       "      <td>-0.52</td>\n",
       "      <td>-0.16</td>\n",
       "      <td>-0.29</td>\n",
       "      <td>0.15</td>\n",
       "    </tr>\n",
       "    <tr>\n",
       "      <th>NOB</th>\n",
       "      <td>0.36</td>\n",
       "      <td>-0.01</td>\n",
       "      <td>-0.41</td>\n",
       "      <td>-0.48</td>\n",
       "      <td>-0.64</td>\n",
       "      <td>-0.74</td>\n",
       "      <td>-0.75</td>\n",
       "      <td>-0.76</td>\n",
       "      <td>-0.39</td>\n",
       "      <td>0.77</td>\n",
       "      <td>...</td>\n",
       "      <td>0.00</td>\n",
       "      <td>0.81</td>\n",
       "      <td>0.68</td>\n",
       "      <td>1.00</td>\n",
       "      <td>0.03</td>\n",
       "      <td>-0.72</td>\n",
       "      <td>-0.72</td>\n",
       "      <td>-0.28</td>\n",
       "      <td>-0.49</td>\n",
       "      <td>0.00</td>\n",
       "    </tr>\n",
       "    <tr>\n",
       "      <th>Anamx</th>\n",
       "      <td>-0.17</td>\n",
       "      <td>-0.08</td>\n",
       "      <td>0.08</td>\n",
       "      <td>0.15</td>\n",
       "      <td>0.12</td>\n",
       "      <td>0.12</td>\n",
       "      <td>0.06</td>\n",
       "      <td>0.01</td>\n",
       "      <td>0.14</td>\n",
       "      <td>-0.09</td>\n",
       "      <td>...</td>\n",
       "      <td>-0.12</td>\n",
       "      <td>-0.23</td>\n",
       "      <td>-0.00</td>\n",
       "      <td>0.03</td>\n",
       "      <td>1.00</td>\n",
       "      <td>0.18</td>\n",
       "      <td>0.11</td>\n",
       "      <td>0.10</td>\n",
       "      <td>0.08</td>\n",
       "      <td>-0.00</td>\n",
       "    </tr>\n",
       "    <tr>\n",
       "      <th>SOxB</th>\n",
       "      <td>-0.21</td>\n",
       "      <td>0.26</td>\n",
       "      <td>0.37</td>\n",
       "      <td>0.39</td>\n",
       "      <td>0.66</td>\n",
       "      <td>0.73</td>\n",
       "      <td>0.64</td>\n",
       "      <td>0.54</td>\n",
       "      <td>0.47</td>\n",
       "      <td>-0.61</td>\n",
       "      <td>...</td>\n",
       "      <td>-0.00</td>\n",
       "      <td>-0.66</td>\n",
       "      <td>-0.53</td>\n",
       "      <td>-0.72</td>\n",
       "      <td>0.18</td>\n",
       "      <td>1.00</td>\n",
       "      <td>0.72</td>\n",
       "      <td>0.48</td>\n",
       "      <td>0.62</td>\n",
       "      <td>0.06</td>\n",
       "    </tr>\n",
       "    <tr>\n",
       "      <th>SRB_syn</th>\n",
       "      <td>-0.37</td>\n",
       "      <td>0.10</td>\n",
       "      <td>0.27</td>\n",
       "      <td>0.38</td>\n",
       "      <td>0.81</td>\n",
       "      <td>0.88</td>\n",
       "      <td>0.91</td>\n",
       "      <td>0.77</td>\n",
       "      <td>0.56</td>\n",
       "      <td>-0.64</td>\n",
       "      <td>...</td>\n",
       "      <td>-0.09</td>\n",
       "      <td>-0.68</td>\n",
       "      <td>-0.52</td>\n",
       "      <td>-0.72</td>\n",
       "      <td>0.11</td>\n",
       "      <td>0.72</td>\n",
       "      <td>1.00</td>\n",
       "      <td>0.32</td>\n",
       "      <td>0.60</td>\n",
       "      <td>0.21</td>\n",
       "    </tr>\n",
       "    <tr>\n",
       "      <th>SRB</th>\n",
       "      <td>-0.30</td>\n",
       "      <td>0.25</td>\n",
       "      <td>-0.15</td>\n",
       "      <td>-0.04</td>\n",
       "      <td>0.11</td>\n",
       "      <td>0.19</td>\n",
       "      <td>0.23</td>\n",
       "      <td>0.20</td>\n",
       "      <td>0.33</td>\n",
       "      <td>-0.26</td>\n",
       "      <td>...</td>\n",
       "      <td>-0.27</td>\n",
       "      <td>-0.36</td>\n",
       "      <td>-0.16</td>\n",
       "      <td>-0.28</td>\n",
       "      <td>0.10</td>\n",
       "      <td>0.48</td>\n",
       "      <td>0.32</td>\n",
       "      <td>1.00</td>\n",
       "      <td>0.42</td>\n",
       "      <td>-0.03</td>\n",
       "    </tr>\n",
       "    <tr>\n",
       "      <th>FeOB</th>\n",
       "      <td>-0.07</td>\n",
       "      <td>0.12</td>\n",
       "      <td>0.16</td>\n",
       "      <td>0.36</td>\n",
       "      <td>0.45</td>\n",
       "      <td>0.47</td>\n",
       "      <td>0.50</td>\n",
       "      <td>0.27</td>\n",
       "      <td>0.64</td>\n",
       "      <td>-0.60</td>\n",
       "      <td>...</td>\n",
       "      <td>-0.20</td>\n",
       "      <td>-0.57</td>\n",
       "      <td>-0.29</td>\n",
       "      <td>-0.49</td>\n",
       "      <td>0.08</td>\n",
       "      <td>0.62</td>\n",
       "      <td>0.60</td>\n",
       "      <td>0.42</td>\n",
       "      <td>1.00</td>\n",
       "      <td>0.46</td>\n",
       "    </tr>\n",
       "    <tr>\n",
       "      <th>FeRB</th>\n",
       "      <td>0.08</td>\n",
       "      <td>0.23</td>\n",
       "      <td>-0.28</td>\n",
       "      <td>-0.03</td>\n",
       "      <td>0.14</td>\n",
       "      <td>0.07</td>\n",
       "      <td>0.12</td>\n",
       "      <td>-0.15</td>\n",
       "      <td>0.60</td>\n",
       "      <td>-0.32</td>\n",
       "      <td>...</td>\n",
       "      <td>-0.40</td>\n",
       "      <td>-0.18</td>\n",
       "      <td>0.15</td>\n",
       "      <td>0.00</td>\n",
       "      <td>-0.00</td>\n",
       "      <td>0.06</td>\n",
       "      <td>0.21</td>\n",
       "      <td>-0.03</td>\n",
       "      <td>0.46</td>\n",
       "      <td>1.00</td>\n",
       "    </tr>\n",
       "  </tbody>\n",
       "</table>\n",
       "<p>21 rows × 21 columns</p>\n",
       "</div>"
      ],
      "text/plain": [
       "             Salinity   SO4  CH4_ug_m2_h  CO2_mg_m2_h  CH4_mix  CH4_me  \\\n",
       "Salinity         1.00  0.50         0.26        -0.24    -0.12   -0.17   \n",
       "SO4              0.50  1.00         0.07        -0.25     0.25    0.19   \n",
       "CH4_ug_m2_h      0.26  0.07         1.00         0.62     0.41    0.48   \n",
       "CO2_mg_m2_h     -0.24 -0.25         0.62         1.00     0.32    0.38   \n",
       "CH4_mix         -0.12  0.25         0.41         0.32     1.00    0.88   \n",
       "CH4_me          -0.17  0.19         0.48         0.38     0.88    1.00   \n",
       "CH4_H2          -0.23  0.22         0.40         0.36     0.89    0.91   \n",
       "CH4_ac          -0.26  0.16         0.52         0.37     0.72    0.81   \n",
       "MOB_I           -0.46  0.05        -0.27         0.21     0.38    0.34   \n",
       "MOB_II           0.34 -0.01        -0.10        -0.39    -0.40   -0.50   \n",
       "MOB_IIa         -0.67 -0.32        -0.48         0.13     0.18    0.11   \n",
       "ANME             0.65  0.23         0.65         0.03     0.08    0.14   \n",
       "AOA              0.63  0.18        -0.09        -0.48    -0.52   -0.57   \n",
       "AOB             -0.16 -0.28        -0.65        -0.25    -0.56   -0.65   \n",
       "NOB              0.36 -0.01        -0.41        -0.48    -0.64   -0.74   \n",
       "Anamx           -0.17 -0.08         0.08         0.15     0.12    0.12   \n",
       "SOxB            -0.21  0.26         0.37         0.39     0.66    0.73   \n",
       "SRB_syn         -0.37  0.10         0.27         0.38     0.81    0.88   \n",
       "SRB             -0.30  0.25        -0.15        -0.04     0.11    0.19   \n",
       "FeOB            -0.07  0.12         0.16         0.36     0.45    0.47   \n",
       "FeRB             0.08  0.23        -0.28        -0.03     0.14    0.07   \n",
       "\n",
       "             CH4_H2  CH4_ac  MOB_I  MOB_II  ...  ANME   AOA   AOB   NOB  \\\n",
       "Salinity      -0.23   -0.26  -0.46    0.34  ...  0.65  0.63 -0.16  0.36   \n",
       "SO4            0.22    0.16   0.05   -0.01  ...  0.23  0.18 -0.28 -0.01   \n",
       "CH4_ug_m2_h    0.40    0.52  -0.27   -0.10  ...  0.65 -0.09 -0.65 -0.41   \n",
       "CO2_mg_m2_h    0.36    0.37   0.21   -0.39  ...  0.03 -0.48 -0.25 -0.48   \n",
       "CH4_mix        0.89    0.72   0.38   -0.40  ...  0.08 -0.52 -0.56 -0.64   \n",
       "CH4_me         0.91    0.81   0.34   -0.50  ...  0.14 -0.57 -0.65 -0.74   \n",
       "CH4_H2         1.00    0.87   0.39   -0.54  ...  0.06 -0.61 -0.59 -0.75   \n",
       "CH4_ac         0.87    1.00   0.14   -0.45  ...  0.21 -0.49 -0.71 -0.76   \n",
       "MOB_I          0.39    0.14   1.00   -0.63  ... -0.70 -0.70  0.03 -0.39   \n",
       "MOB_II        -0.54   -0.45  -0.63    1.00  ...  0.29  0.83  0.37  0.77   \n",
       "MOB_IIa        0.17   -0.05   0.68   -0.22  ... -0.79 -0.50  0.42 -0.09   \n",
       "ANME           0.06    0.21  -0.70    0.29  ...  1.00  0.46 -0.50  0.00   \n",
       "AOA           -0.61   -0.49  -0.70    0.83  ...  0.46  1.00  0.29  0.81   \n",
       "AOB           -0.59   -0.71   0.03    0.37  ... -0.50  0.29  1.00  0.68   \n",
       "NOB           -0.75   -0.76  -0.39    0.77  ...  0.00  0.81  0.68  1.00   \n",
       "Anamx          0.06    0.01   0.14   -0.09  ... -0.12 -0.23 -0.00  0.03   \n",
       "SOxB           0.64    0.54   0.47   -0.61  ... -0.00 -0.66 -0.53 -0.72   \n",
       "SRB_syn        0.91    0.77   0.56   -0.64  ... -0.09 -0.68 -0.52 -0.72   \n",
       "SRB            0.23    0.20   0.33   -0.26  ... -0.27 -0.36 -0.16 -0.28   \n",
       "FeOB           0.50    0.27   0.64   -0.60  ... -0.20 -0.57 -0.29 -0.49   \n",
       "FeRB           0.12   -0.15   0.60   -0.32  ... -0.40 -0.18  0.15  0.00   \n",
       "\n",
       "             Anamx  SOxB  SRB_syn   SRB  FeOB  FeRB  \n",
       "Salinity     -0.17 -0.21    -0.37 -0.30 -0.07  0.08  \n",
       "SO4          -0.08  0.26     0.10  0.25  0.12  0.23  \n",
       "CH4_ug_m2_h   0.08  0.37     0.27 -0.15  0.16 -0.28  \n",
       "CO2_mg_m2_h   0.15  0.39     0.38 -0.04  0.36 -0.03  \n",
       "CH4_mix       0.12  0.66     0.81  0.11  0.45  0.14  \n",
       "CH4_me        0.12  0.73     0.88  0.19  0.47  0.07  \n",
       "CH4_H2        0.06  0.64     0.91  0.23  0.50  0.12  \n",
       "CH4_ac        0.01  0.54     0.77  0.20  0.27 -0.15  \n",
       "MOB_I         0.14  0.47     0.56  0.33  0.64  0.60  \n",
       "MOB_II       -0.09 -0.61    -0.64 -0.26 -0.60 -0.32  \n",
       "MOB_IIa       0.19  0.15     0.33  0.29  0.30  0.33  \n",
       "ANME         -0.12 -0.00    -0.09 -0.27 -0.20 -0.40  \n",
       "AOA          -0.23 -0.66    -0.68 -0.36 -0.57 -0.18  \n",
       "AOB          -0.00 -0.53    -0.52 -0.16 -0.29  0.15  \n",
       "NOB           0.03 -0.72    -0.72 -0.28 -0.49  0.00  \n",
       "Anamx         1.00  0.18     0.11  0.10  0.08 -0.00  \n",
       "SOxB          0.18  1.00     0.72  0.48  0.62  0.06  \n",
       "SRB_syn       0.11  0.72     1.00  0.32  0.60  0.21  \n",
       "SRB           0.10  0.48     0.32  1.00  0.42 -0.03  \n",
       "FeOB          0.08  0.62     0.60  0.42  1.00  0.46  \n",
       "FeRB         -0.00  0.06     0.21 -0.03  0.46  1.00  \n",
       "\n",
       "[21 rows x 21 columns]"
      ]
     },
     "execution_count": 68,
     "metadata": {},
     "output_type": "execute_result"
    }
   ],
   "source": [
    "# get corr matrix\n",
    "corr_mat = CH4s_guild_meta_data.corr().round(2)\n",
    "#corr_mat['gene'] = corr_mat.index\n",
    "corr_mat"
   ]
  },
  {
   "cell_type": "code",
   "execution_count": 69,
   "metadata": {},
   "outputs": [
    {
     "data": {
      "text/plain": [
       "[None,\n",
       " None,\n",
       " None,\n",
       " None,\n",
       " None,\n",
       " None,\n",
       " None,\n",
       " None,\n",
       " None,\n",
       " None,\n",
       " None,\n",
       " None,\n",
       " None,\n",
       " None,\n",
       " None,\n",
       " None,\n",
       " None,\n",
       " None,\n",
       " None,\n",
       " None,\n",
       " None,\n",
       " None,\n",
       " None,\n",
       " None,\n",
       " None,\n",
       " None,\n",
       " None,\n",
       " None,\n",
       " None,\n",
       " None,\n",
       " None,\n",
       " None,\n",
       " None,\n",
       " None,\n",
       " None,\n",
       " None,\n",
       " None,\n",
       " None,\n",
       " None,\n",
       " None,\n",
       " None,\n",
       " None]"
      ]
     },
     "execution_count": 69,
     "metadata": {},
     "output_type": "execute_result"
    },
    {
     "data": {
      "image/png": "[encoded data removed]",
      "text/plain": [
       "<Figure size 612x612 with 6 Axes>"
      ]
     },
     "metadata": {},
     "output_type": "display_data"
    }
   ],
   "source": [
    "cm = sns.clustermap(corr_mat, row_cluster=False, annot=True, annot_kws={\"size\": 8}, col_cluster=False,\n",
    "                   row_colors = guild16s_colors, col_colors = guild16s_colors, figsize = (8.5,8.5), cmap = \"RdBu_r\",\n",
    "                   vmax = 1, vmin = -1)\n",
    "cm.cax.set_visible(False)\n",
    "plt.setp(cm.ax_heatmap.yaxis.get_majorticklabels(), rotation=0)                                # rotate ticks"
   ]
  },
  {
   "cell_type": "code",
   "execution_count": 157,
   "metadata": {},
   "outputs": [],
   "source": [
    "#cm.savefig(\"../figs/16S_guilds_ALL_HeatM.pdf\")\n",
    "cm.savefig(\"../figs/16S_guilds_DELTA_HeatM.pdf\")"
   ]
  },
  {
   "cell_type": "markdown",
   "metadata": {},
   "source": [
    "# Chem - chem corrs\n"
   ]
  },
  {
   "cell_type": "code",
   "execution_count": null,
   "metadata": {},
   "outputs": [],
   "source": [
    "#### Select OLIGO only sites at own risk !!\n",
    "# can just comment this line out:\n",
    "#Sal_meta=Oligo_FW_sites"
   ]
  },
  {
   "cell_type": "markdown",
   "metadata": {},
   "source": [
    "#### iii) Select Env. Chem variables\n",
    "- ignores some features like soil metals\n",
    "- sets NA to 0.1 to fill missing porewater data (below detection)"
   ]
  },
  {
   "cell_type": "code",
   "execution_count": 78,
   "metadata": {},
   "outputs": [
    {
     "data": {
      "text/plain": [
       "Index(['EWsiteHyd_index', 'Sample', 'MG_name', 'Index', 'Location', 'Pl_Sp',\n",
       "       'EWcoastGroup', 'SALTgroup', 'LU', 'Depth', 'EW.no', 'iTag_name.x',\n",
       "       'Site_indx', 'Salinity.x', 'Bulk_dens', 'H2O_FPS', 'CO2_mg_m2_h',\n",
       "       'CO2_soilC_mg_g_d', 'CH4_ug_m2_h', 'CH4_CO2', 'CH4_soilC_ug_g_d', 'pH',\n",
       "       'Cl', 'SO4', 'Corg_LOI', 'C', 'N', 'P', 'NO3_N', 'NH4_N', 'Olsen_P',\n",
       "       'CN', 'CP', 'NP', 'NP_ext', 'NO3_NH4', 'C_g_m2', 'N_g_m2', 'P_g_m2',\n",
       "       'Fe', 'Mn', 'Cu', 'Zn', 'Salinity.y', 'CO2_mg_m2_h.1', 'CH4_ug_m2_h.1',\n",
       "       'Cl_pw', 'SO4_pw', 'DOC_mg_L', 'NO2_pw', 'NO3_pw', 'NH3_pw', 'PO4_pw',\n",
       "       'Fe_pw', 'Mn_pw', 'Co_pw', 'Cu_pw', 'Zn_pw', 'Ca_pw', 'Sr_pw', 'Mg_pw',\n",
       "       'Na_pw', 'K_pw', 'Al_pw', 'Si_pw', 'Br_pw', 'F_pw', 'Salinity'],\n",
       "      dtype='object')"
      ]
     },
     "execution_count": 78,
     "metadata": {},
     "output_type": "execute_result"
    }
   ],
   "source": [
    "Sal_meta.head()\n",
    "Sal_meta.columns"
   ]
  },
  {
   "cell_type": "code",
   "execution_count": 85,
   "metadata": {},
   "outputs": [],
   "source": [
    "## CUT Down Env. Data\n",
    "env_chem_List = ['Salinity', 'Bulk_dens', 'H2O_FPS', 'CO2_mg_m2_h',                       # with log DATA, delete 'logCH4' now is logged, except for LIN vars\n",
    "       'CH4_ug_m2_h', 'CH4_CO2', 'pH',            # Drop cations, corr w. Sal: 'Ca_pw', 'Sr_pw','Mg_pw', 'Na_pw', 'K_pw', 'Al_pw', 'Si_pw', 'Br_pw', 'F_pw', 'logCH4']\n",
    "       'Cl', 'SO4','C', 'N', 'P', 'NO3_N', 'NH4_N', 'Olsen_P',               # Drop soil metals for now, half NA: 'Fe', 'Mn', 'Cu', 'Zn']\n",
    "       'CN', 'CP', 'NP', 'NP_ext', 'NO3_NH4', 'Fe', 'Mn', 'Cu', 'Zn',               # Drop redundant cols for PW: 'Salinity.x.1', 'CO2_mg_m2_h.1','CH4_ug_m2_h.1'\n",
    "       'DOC_mg_L','Cl_pw', 'SO4_pw', 'NO2_pw', 'NO3_pw','NH3_pw',                         # Much more DELETED here, see earlier versions... # Sal_meta.columns # Env_chem.head()  \n",
    "       'PO4_pw', 'Fe_pw', 'Mn_pw', 'Co_pw', 'Cu_pw', 'Zn_pw'] \n",
    "              \n",
    "# ABSTRACT Env_chem\n",
    "Env_chem = Sal_meta[env_chem_List]  # Get columns\n",
    "Env_chem.fillna(0.1, inplace = True)  # Fill NAs w 0, for porewater ND - careful with soil metals\n",
    "\n",
    "## ReINDEX Env. chem, MUST BE by Sample\n",
    "Sample= Sal_meta['Sample'] \n",
    "Env_chem = Env_chem.set_index(Sample,0) \n",
    "del Env_chem.index.name        \n",
    "\n",
    "# Drop bad porewater data from above\n",
    "drop_vars = ['NO2_pw', 'NO3_pw','NH3_pw', 'PO4_pw']              # inorg N samps ruined, PO4 mostly 0/NA due to IC method\n",
    "Env_chem.drop(drop_vars, axis = 1, inplace=True)\n",
    "\n",
    "# Drop more non-sense variables \n",
    "\n",
    "#### iv) log transform data\n",
    "#- includes log n+1 for vars with negative values (like CH4 flux!)\n",
    "\n",
    "# Log10 transform data set\n",
    "Env_chem_log = np.log10(Env_chem)\n",
    "# Env_chem_log.head()\n",
    "\n",
    "# Get log(n+1 data) for select vars\n",
    "log_n1_cols = ['CH4_ug_m2_h', 'CH4_CO2']#, 'CH4_soilC_ug_g_d']\n",
    "log_n1_data = np.log(Env_chem[log_n1_cols] + 1)\n",
    "# log_n1_data.head()\n",
    "\n",
    "# Replace log N + 1 data\n",
    "Env_chem_log['CH4_ug_m2_h'] =  log_n1_data['CH4_ug_m2_h']\n",
    "Env_chem_log['CH4_CO2'] =  log_n1_data['CH4_CO2']\n",
    "#Env_chem_log['CH4_soilC_ug_g_d'] =  log_n1_data['CH4_soilC_ug_g_d']\n",
    "\n",
    "# Fill NA in porewater\n",
    "#Env_chem.fillna(0.1, inplace = True)  # Fill NAs w 0, for porewater ND - careful with soil metals\n",
    "\n",
    "\n",
    "#Env_chem_log.head()"
   ]
  },
  {
   "cell_type": "code",
   "execution_count": 102,
   "metadata": {},
   "outputs": [
    {
     "data": {
      "text/html": [
       "<div>\n",
       "<style>\n",
       "    .dataframe thead tr:only-child th {\n",
       "        text-align: right;\n",
       "    }\n",
       "\n",
       "    .dataframe thead th {\n",
       "        text-align: left;\n",
       "    }\n",
       "\n",
       "    .dataframe tbody tr th {\n",
       "        vertical-align: top;\n",
       "    }\n",
       "</style>\n",
       "<table border=\"1\" class=\"dataframe\">\n",
       "  <thead>\n",
       "    <tr style=\"text-align: right;\">\n",
       "      <th></th>\n",
       "      <th>Salinity</th>\n",
       "      <th>Bulk_dens</th>\n",
       "      <th>H2O_FPS</th>\n",
       "      <th>CO2_mg_m2_h</th>\n",
       "      <th>CH4_ug_m2_h</th>\n",
       "      <th>CH4_CO2</th>\n",
       "      <th>pH</th>\n",
       "      <th>Cl</th>\n",
       "      <th>SO4</th>\n",
       "      <th>C</th>\n",
       "      <th>...</th>\n",
       "      <th>Cu</th>\n",
       "      <th>Zn</th>\n",
       "      <th>DOC_mg_L</th>\n",
       "      <th>Cl_pw</th>\n",
       "      <th>SO4_pw</th>\n",
       "      <th>Fe_pw</th>\n",
       "      <th>Mn_pw</th>\n",
       "      <th>Co_pw</th>\n",
       "      <th>Cu_pw</th>\n",
       "      <th>Zn_pw</th>\n",
       "    </tr>\n",
       "  </thead>\n",
       "  <tbody>\n",
       "    <tr>\n",
       "      <th>Sandmound_TuleA_D1</th>\n",
       "      <td>-0.226634</td>\n",
       "      <td>-0.576150</td>\n",
       "      <td>1.931627</td>\n",
       "      <td>0.170561</td>\n",
       "      <td>1.699839</td>\n",
       "      <td>0.263921</td>\n",
       "      <td>0.789581</td>\n",
       "      <td>1.142702</td>\n",
       "      <td>1.713491</td>\n",
       "      <td>1.173186</td>\n",
       "      <td>...</td>\n",
       "      <td>-1.000000</td>\n",
       "      <td>-1.000000</td>\n",
       "      <td>-1.000000</td>\n",
       "      <td>-1.000000</td>\n",
       "      <td>-1.000000</td>\n",
       "      <td>-1.000000</td>\n",
       "      <td>-1.000000</td>\n",
       "      <td>-1.000000</td>\n",
       "      <td>-1.000000</td>\n",
       "      <td>-1.0</td>\n",
       "    </tr>\n",
       "    <tr>\n",
       "      <th>Sandmound_TuleA_D2</th>\n",
       "      <td>-0.226634</td>\n",
       "      <td>-0.561732</td>\n",
       "      <td>1.927049</td>\n",
       "      <td>0.170561</td>\n",
       "      <td>1.699839</td>\n",
       "      <td>0.263921</td>\n",
       "      <td>0.771587</td>\n",
       "      <td>1.030195</td>\n",
       "      <td>1.927370</td>\n",
       "      <td>1.175512</td>\n",
       "      <td>...</td>\n",
       "      <td>1.812913</td>\n",
       "      <td>1.954243</td>\n",
       "      <td>0.994009</td>\n",
       "      <td>2.425115</td>\n",
       "      <td>0.536053</td>\n",
       "      <td>2.789143</td>\n",
       "      <td>2.434633</td>\n",
       "      <td>-0.366532</td>\n",
       "      <td>0.506505</td>\n",
       "      <td>-1.0</td>\n",
       "    </tr>\n",
       "    <tr>\n",
       "      <th>Sandmound_TuleB_D1</th>\n",
       "      <td>-0.219956</td>\n",
       "      <td>-0.605605</td>\n",
       "      <td>1.902172</td>\n",
       "      <td>0.620485</td>\n",
       "      <td>-0.332596</td>\n",
       "      <td>-0.006803</td>\n",
       "      <td>0.797268</td>\n",
       "      <td>1.149835</td>\n",
       "      <td>1.599883</td>\n",
       "      <td>1.180413</td>\n",
       "      <td>...</td>\n",
       "      <td>-1.000000</td>\n",
       "      <td>-1.000000</td>\n",
       "      <td>1.070776</td>\n",
       "      <td>2.337650</td>\n",
       "      <td>-0.057744</td>\n",
       "      <td>2.795477</td>\n",
       "      <td>3.070042</td>\n",
       "      <td>-0.408935</td>\n",
       "      <td>0.130334</td>\n",
       "      <td>-1.0</td>\n",
       "    </tr>\n",
       "    <tr>\n",
       "      <th>Sandmound_TuleB_D2</th>\n",
       "      <td>-0.219956</td>\n",
       "      <td>-0.587656</td>\n",
       "      <td>1.896442</td>\n",
       "      <td>0.620485</td>\n",
       "      <td>-0.332596</td>\n",
       "      <td>-0.006803</td>\n",
       "      <td>0.767156</td>\n",
       "      <td>1.123852</td>\n",
       "      <td>1.609594</td>\n",
       "      <td>1.133219</td>\n",
       "      <td>...</td>\n",
       "      <td>1.812913</td>\n",
       "      <td>1.973128</td>\n",
       "      <td>1.070776</td>\n",
       "      <td>2.337650</td>\n",
       "      <td>-0.057744</td>\n",
       "      <td>2.795477</td>\n",
       "      <td>3.070042</td>\n",
       "      <td>-0.408935</td>\n",
       "      <td>0.130334</td>\n",
       "      <td>-1.0</td>\n",
       "    </tr>\n",
       "    <tr>\n",
       "      <th>Sandmound_TuleC_D1</th>\n",
       "      <td>-0.246824</td>\n",
       "      <td>-0.619023</td>\n",
       "      <td>1.925604</td>\n",
       "      <td>0.246613</td>\n",
       "      <td>0.655385</td>\n",
       "      <td>0.051144</td>\n",
       "      <td>0.796574</td>\n",
       "      <td>1.116608</td>\n",
       "      <td>1.598791</td>\n",
       "      <td>1.216166</td>\n",
       "      <td>...</td>\n",
       "      <td>-1.000000</td>\n",
       "      <td>-1.000000</td>\n",
       "      <td>1.250420</td>\n",
       "      <td>2.743198</td>\n",
       "      <td>1.238397</td>\n",
       "      <td>3.579373</td>\n",
       "      <td>3.481973</td>\n",
       "      <td>0.315970</td>\n",
       "      <td>0.678518</td>\n",
       "      <td>-1.0</td>\n",
       "    </tr>\n",
       "  </tbody>\n",
       "</table>\n",
       "<p>5 rows × 32 columns</p>\n",
       "</div>"
      ],
      "text/plain": [
       "                    Salinity  Bulk_dens   H2O_FPS  CO2_mg_m2_h  CH4_ug_m2_h  \\\n",
       "Sandmound_TuleA_D1 -0.226634  -0.576150  1.931627     0.170561     1.699839   \n",
       "Sandmound_TuleA_D2 -0.226634  -0.561732  1.927049     0.170561     1.699839   \n",
       "Sandmound_TuleB_D1 -0.219956  -0.605605  1.902172     0.620485    -0.332596   \n",
       "Sandmound_TuleB_D2 -0.219956  -0.587656  1.896442     0.620485    -0.332596   \n",
       "Sandmound_TuleC_D1 -0.246824  -0.619023  1.925604     0.246613     0.655385   \n",
       "\n",
       "                     CH4_CO2        pH        Cl       SO4         C  ...    \\\n",
       "Sandmound_TuleA_D1  0.263921  0.789581  1.142702  1.713491  1.173186  ...     \n",
       "Sandmound_TuleA_D2  0.263921  0.771587  1.030195  1.927370  1.175512  ...     \n",
       "Sandmound_TuleB_D1 -0.006803  0.797268  1.149835  1.599883  1.180413  ...     \n",
       "Sandmound_TuleB_D2 -0.006803  0.767156  1.123852  1.609594  1.133219  ...     \n",
       "Sandmound_TuleC_D1  0.051144  0.796574  1.116608  1.598791  1.216166  ...     \n",
       "\n",
       "                          Cu        Zn  DOC_mg_L     Cl_pw    SO4_pw  \\\n",
       "Sandmound_TuleA_D1 -1.000000 -1.000000 -1.000000 -1.000000 -1.000000   \n",
       "Sandmound_TuleA_D2  1.812913  1.954243  0.994009  2.425115  0.536053   \n",
       "Sandmound_TuleB_D1 -1.000000 -1.000000  1.070776  2.337650 -0.057744   \n",
       "Sandmound_TuleB_D2  1.812913  1.973128  1.070776  2.337650 -0.057744   \n",
       "Sandmound_TuleC_D1 -1.000000 -1.000000  1.250420  2.743198  1.238397   \n",
       "\n",
       "                       Fe_pw     Mn_pw     Co_pw     Cu_pw  Zn_pw  \n",
       "Sandmound_TuleA_D1 -1.000000 -1.000000 -1.000000 -1.000000   -1.0  \n",
       "Sandmound_TuleA_D2  2.789143  2.434633 -0.366532  0.506505   -1.0  \n",
       "Sandmound_TuleB_D1  2.795477  3.070042 -0.408935  0.130334   -1.0  \n",
       "Sandmound_TuleB_D2  2.795477  3.070042 -0.408935  0.130334   -1.0  \n",
       "Sandmound_TuleC_D1  3.579373  3.481973  0.315970  0.678518   -1.0  \n",
       "\n",
       "[5 rows x 32 columns]"
      ]
     },
     "execution_count": 102,
     "metadata": {},
     "output_type": "execute_result"
    }
   ],
   "source": [
    "Env_chem_log.head()\n",
    "#Env_chem_log.shape"
   ]
  },
  {
   "cell_type": "code",
   "execution_count": 87,
   "metadata": {},
   "outputs": [
    {
     "data": {
      "text/html": [
       "<div>\n",
       "<style>\n",
       "    .dataframe thead tr:only-child th {\n",
       "        text-align: right;\n",
       "    }\n",
       "\n",
       "    .dataframe thead th {\n",
       "        text-align: left;\n",
       "    }\n",
       "\n",
       "    .dataframe tbody tr th {\n",
       "        vertical-align: top;\n",
       "    }\n",
       "</style>\n",
       "<table border=\"1\" class=\"dataframe\">\n",
       "  <thead>\n",
       "    <tr style=\"text-align: right;\">\n",
       "      <th></th>\n",
       "      <th>Salinity</th>\n",
       "      <th>Bulk_dens</th>\n",
       "      <th>H2O_FPS</th>\n",
       "      <th>CO2_mg_m2_h</th>\n",
       "      <th>CH4_ug_m2_h</th>\n",
       "      <th>CH4_CO2</th>\n",
       "      <th>pH</th>\n",
       "      <th>Cl</th>\n",
       "      <th>SO4</th>\n",
       "      <th>C</th>\n",
       "      <th>...</th>\n",
       "      <th>Cu</th>\n",
       "      <th>Zn</th>\n",
       "      <th>DOC_mg_L</th>\n",
       "      <th>Cl_pw</th>\n",
       "      <th>SO4_pw</th>\n",
       "      <th>Fe_pw</th>\n",
       "      <th>Mn_pw</th>\n",
       "      <th>Co_pw</th>\n",
       "      <th>Cu_pw</th>\n",
       "      <th>Zn_pw</th>\n",
       "    </tr>\n",
       "  </thead>\n",
       "  <tbody>\n",
       "    <tr>\n",
       "      <th>Salinity</th>\n",
       "      <td>1.00</td>\n",
       "      <td>0.47</td>\n",
       "      <td>0.04</td>\n",
       "      <td>-0.37</td>\n",
       "      <td>-0.37</td>\n",
       "      <td>-0.27</td>\n",
       "      <td>0.08</td>\n",
       "      <td>0.99</td>\n",
       "      <td>0.90</td>\n",
       "      <td>-0.71</td>\n",
       "      <td>...</td>\n",
       "      <td>0.00</td>\n",
       "      <td>0.03</td>\n",
       "      <td>-0.21</td>\n",
       "      <td>0.60</td>\n",
       "      <td>0.85</td>\n",
       "      <td>-0.25</td>\n",
       "      <td>0.32</td>\n",
       "      <td>0.62</td>\n",
       "      <td>0.89</td>\n",
       "      <td>0.77</td>\n",
       "    </tr>\n",
       "    <tr>\n",
       "      <th>Bulk_dens</th>\n",
       "      <td>0.47</td>\n",
       "      <td>1.00</td>\n",
       "      <td>-0.38</td>\n",
       "      <td>-0.46</td>\n",
       "      <td>-0.13</td>\n",
       "      <td>0.13</td>\n",
       "      <td>0.21</td>\n",
       "      <td>0.46</td>\n",
       "      <td>0.24</td>\n",
       "      <td>-0.70</td>\n",
       "      <td>...</td>\n",
       "      <td>0.13</td>\n",
       "      <td>0.14</td>\n",
       "      <td>-0.08</td>\n",
       "      <td>0.31</td>\n",
       "      <td>0.28</td>\n",
       "      <td>-0.02</td>\n",
       "      <td>0.25</td>\n",
       "      <td>0.33</td>\n",
       "      <td>0.37</td>\n",
       "      <td>0.16</td>\n",
       "    </tr>\n",
       "    <tr>\n",
       "      <th>H2O_FPS</th>\n",
       "      <td>0.04</td>\n",
       "      <td>-0.38</td>\n",
       "      <td>1.00</td>\n",
       "      <td>-0.23</td>\n",
       "      <td>-0.41</td>\n",
       "      <td>-0.43</td>\n",
       "      <td>-0.27</td>\n",
       "      <td>0.10</td>\n",
       "      <td>0.30</td>\n",
       "      <td>0.05</td>\n",
       "      <td>...</td>\n",
       "      <td>-0.32</td>\n",
       "      <td>-0.31</td>\n",
       "      <td>-0.34</td>\n",
       "      <td>-0.08</td>\n",
       "      <td>0.10</td>\n",
       "      <td>-0.10</td>\n",
       "      <td>-0.04</td>\n",
       "      <td>-0.05</td>\n",
       "      <td>0.05</td>\n",
       "      <td>0.17</td>\n",
       "    </tr>\n",
       "    <tr>\n",
       "      <th>CO2_mg_m2_h</th>\n",
       "      <td>-0.37</td>\n",
       "      <td>-0.46</td>\n",
       "      <td>-0.23</td>\n",
       "      <td>1.00</td>\n",
       "      <td>0.58</td>\n",
       "      <td>0.33</td>\n",
       "      <td>-0.23</td>\n",
       "      <td>-0.38</td>\n",
       "      <td>-0.40</td>\n",
       "      <td>0.63</td>\n",
       "      <td>...</td>\n",
       "      <td>-0.01</td>\n",
       "      <td>-0.03</td>\n",
       "      <td>0.38</td>\n",
       "      <td>-0.22</td>\n",
       "      <td>-0.34</td>\n",
       "      <td>0.09</td>\n",
       "      <td>-0.10</td>\n",
       "      <td>-0.17</td>\n",
       "      <td>-0.39</td>\n",
       "      <td>-0.30</td>\n",
       "    </tr>\n",
       "    <tr>\n",
       "      <th>CH4_ug_m2_h</th>\n",
       "      <td>-0.37</td>\n",
       "      <td>-0.13</td>\n",
       "      <td>-0.41</td>\n",
       "      <td>0.58</td>\n",
       "      <td>1.00</td>\n",
       "      <td>0.90</td>\n",
       "      <td>0.18</td>\n",
       "      <td>-0.37</td>\n",
       "      <td>-0.40</td>\n",
       "      <td>0.53</td>\n",
       "      <td>...</td>\n",
       "      <td>-0.02</td>\n",
       "      <td>-0.04</td>\n",
       "      <td>0.65</td>\n",
       "      <td>-0.17</td>\n",
       "      <td>-0.40</td>\n",
       "      <td>0.22</td>\n",
       "      <td>-0.14</td>\n",
       "      <td>-0.10</td>\n",
       "      <td>-0.37</td>\n",
       "      <td>-0.42</td>\n",
       "    </tr>\n",
       "    <tr>\n",
       "      <th>CH4_CO2</th>\n",
       "      <td>-0.27</td>\n",
       "      <td>0.13</td>\n",
       "      <td>-0.43</td>\n",
       "      <td>0.33</td>\n",
       "      <td>0.90</td>\n",
       "      <td>1.00</td>\n",
       "      <td>0.24</td>\n",
       "      <td>-0.28</td>\n",
       "      <td>-0.35</td>\n",
       "      <td>0.36</td>\n",
       "      <td>...</td>\n",
       "      <td>-0.02</td>\n",
       "      <td>-0.03</td>\n",
       "      <td>0.64</td>\n",
       "      <td>-0.12</td>\n",
       "      <td>-0.38</td>\n",
       "      <td>0.27</td>\n",
       "      <td>-0.11</td>\n",
       "      <td>-0.02</td>\n",
       "      <td>-0.28</td>\n",
       "      <td>-0.43</td>\n",
       "    </tr>\n",
       "    <tr>\n",
       "      <th>pH</th>\n",
       "      <td>0.08</td>\n",
       "      <td>0.21</td>\n",
       "      <td>-0.27</td>\n",
       "      <td>-0.23</td>\n",
       "      <td>0.18</td>\n",
       "      <td>0.24</td>\n",
       "      <td>1.00</td>\n",
       "      <td>0.06</td>\n",
       "      <td>0.07</td>\n",
       "      <td>-0.16</td>\n",
       "      <td>...</td>\n",
       "      <td>-0.18</td>\n",
       "      <td>-0.18</td>\n",
       "      <td>0.24</td>\n",
       "      <td>0.15</td>\n",
       "      <td>0.01</td>\n",
       "      <td>-0.08</td>\n",
       "      <td>0.10</td>\n",
       "      <td>-0.04</td>\n",
       "      <td>0.05</td>\n",
       "      <td>0.00</td>\n",
       "    </tr>\n",
       "    <tr>\n",
       "      <th>Cl</th>\n",
       "      <td>0.99</td>\n",
       "      <td>0.46</td>\n",
       "      <td>0.10</td>\n",
       "      <td>-0.38</td>\n",
       "      <td>-0.37</td>\n",
       "      <td>-0.28</td>\n",
       "      <td>0.06</td>\n",
       "      <td>1.00</td>\n",
       "      <td>0.91</td>\n",
       "      <td>-0.71</td>\n",
       "      <td>...</td>\n",
       "      <td>-0.01</td>\n",
       "      <td>0.02</td>\n",
       "      <td>-0.22</td>\n",
       "      <td>0.60</td>\n",
       "      <td>0.85</td>\n",
       "      <td>-0.25</td>\n",
       "      <td>0.33</td>\n",
       "      <td>0.62</td>\n",
       "      <td>0.88</td>\n",
       "      <td>0.77</td>\n",
       "    </tr>\n",
       "    <tr>\n",
       "      <th>SO4</th>\n",
       "      <td>0.90</td>\n",
       "      <td>0.24</td>\n",
       "      <td>0.30</td>\n",
       "      <td>-0.40</td>\n",
       "      <td>-0.40</td>\n",
       "      <td>-0.35</td>\n",
       "      <td>0.07</td>\n",
       "      <td>0.91</td>\n",
       "      <td>1.00</td>\n",
       "      <td>-0.61</td>\n",
       "      <td>...</td>\n",
       "      <td>-0.09</td>\n",
       "      <td>-0.06</td>\n",
       "      <td>-0.29</td>\n",
       "      <td>0.54</td>\n",
       "      <td>0.82</td>\n",
       "      <td>-0.27</td>\n",
       "      <td>0.27</td>\n",
       "      <td>0.56</td>\n",
       "      <td>0.83</td>\n",
       "      <td>0.79</td>\n",
       "    </tr>\n",
       "    <tr>\n",
       "      <th>C</th>\n",
       "      <td>-0.71</td>\n",
       "      <td>-0.70</td>\n",
       "      <td>0.05</td>\n",
       "      <td>0.63</td>\n",
       "      <td>0.53</td>\n",
       "      <td>0.36</td>\n",
       "      <td>-0.16</td>\n",
       "      <td>-0.71</td>\n",
       "      <td>-0.61</td>\n",
       "      <td>1.00</td>\n",
       "      <td>...</td>\n",
       "      <td>-0.09</td>\n",
       "      <td>-0.12</td>\n",
       "      <td>0.52</td>\n",
       "      <td>-0.50</td>\n",
       "      <td>-0.64</td>\n",
       "      <td>0.31</td>\n",
       "      <td>-0.27</td>\n",
       "      <td>-0.42</td>\n",
       "      <td>-0.66</td>\n",
       "      <td>-0.59</td>\n",
       "    </tr>\n",
       "    <tr>\n",
       "      <th>N</th>\n",
       "      <td>-0.68</td>\n",
       "      <td>-0.67</td>\n",
       "      <td>0.07</td>\n",
       "      <td>0.62</td>\n",
       "      <td>0.54</td>\n",
       "      <td>0.39</td>\n",
       "      <td>-0.11</td>\n",
       "      <td>-0.68</td>\n",
       "      <td>-0.59</td>\n",
       "      <td>0.99</td>\n",
       "      <td>...</td>\n",
       "      <td>-0.18</td>\n",
       "      <td>-0.21</td>\n",
       "      <td>0.55</td>\n",
       "      <td>-0.49</td>\n",
       "      <td>-0.64</td>\n",
       "      <td>0.32</td>\n",
       "      <td>-0.25</td>\n",
       "      <td>-0.39</td>\n",
       "      <td>-0.65</td>\n",
       "      <td>-0.58</td>\n",
       "    </tr>\n",
       "    <tr>\n",
       "      <th>P</th>\n",
       "      <td>-0.23</td>\n",
       "      <td>-0.45</td>\n",
       "      <td>0.17</td>\n",
       "      <td>0.46</td>\n",
       "      <td>0.08</td>\n",
       "      <td>-0.04</td>\n",
       "      <td>-0.24</td>\n",
       "      <td>-0.23</td>\n",
       "      <td>-0.21</td>\n",
       "      <td>0.45</td>\n",
       "      <td>...</td>\n",
       "      <td>-0.24</td>\n",
       "      <td>-0.25</td>\n",
       "      <td>0.12</td>\n",
       "      <td>-0.23</td>\n",
       "      <td>-0.18</td>\n",
       "      <td>-0.11</td>\n",
       "      <td>-0.25</td>\n",
       "      <td>-0.28</td>\n",
       "      <td>-0.27</td>\n",
       "      <td>-0.10</td>\n",
       "    </tr>\n",
       "    <tr>\n",
       "      <th>NO3_N</th>\n",
       "      <td>-0.34</td>\n",
       "      <td>-0.73</td>\n",
       "      <td>0.22</td>\n",
       "      <td>0.25</td>\n",
       "      <td>0.10</td>\n",
       "      <td>-0.04</td>\n",
       "      <td>-0.03</td>\n",
       "      <td>-0.35</td>\n",
       "      <td>-0.17</td>\n",
       "      <td>0.51</td>\n",
       "      <td>...</td>\n",
       "      <td>-0.06</td>\n",
       "      <td>-0.07</td>\n",
       "      <td>0.16</td>\n",
       "      <td>-0.20</td>\n",
       "      <td>-0.23</td>\n",
       "      <td>0.12</td>\n",
       "      <td>-0.18</td>\n",
       "      <td>-0.24</td>\n",
       "      <td>-0.23</td>\n",
       "      <td>-0.16</td>\n",
       "    </tr>\n",
       "    <tr>\n",
       "      <th>NH4_N</th>\n",
       "      <td>-0.52</td>\n",
       "      <td>-0.80</td>\n",
       "      <td>0.20</td>\n",
       "      <td>0.42</td>\n",
       "      <td>0.32</td>\n",
       "      <td>0.17</td>\n",
       "      <td>0.07</td>\n",
       "      <td>-0.53</td>\n",
       "      <td>-0.36</td>\n",
       "      <td>0.70</td>\n",
       "      <td>...</td>\n",
       "      <td>-0.14</td>\n",
       "      <td>-0.15</td>\n",
       "      <td>0.27</td>\n",
       "      <td>-0.40</td>\n",
       "      <td>-0.41</td>\n",
       "      <td>0.16</td>\n",
       "      <td>-0.25</td>\n",
       "      <td>-0.32</td>\n",
       "      <td>-0.45</td>\n",
       "      <td>-0.32</td>\n",
       "    </tr>\n",
       "    <tr>\n",
       "      <th>Olsen_P</th>\n",
       "      <td>0.29</td>\n",
       "      <td>0.31</td>\n",
       "      <td>-0.16</td>\n",
       "      <td>0.00</td>\n",
       "      <td>-0.19</td>\n",
       "      <td>-0.19</td>\n",
       "      <td>-0.02</td>\n",
       "      <td>0.27</td>\n",
       "      <td>0.09</td>\n",
       "      <td>-0.34</td>\n",
       "      <td>...</td>\n",
       "      <td>-0.01</td>\n",
       "      <td>-0.01</td>\n",
       "      <td>-0.25</td>\n",
       "      <td>0.15</td>\n",
       "      <td>0.27</td>\n",
       "      <td>-0.11</td>\n",
       "      <td>0.31</td>\n",
       "      <td>0.13</td>\n",
       "      <td>0.17</td>\n",
       "      <td>0.25</td>\n",
       "    </tr>\n",
       "    <tr>\n",
       "      <th>CN</th>\n",
       "      <td>-0.34</td>\n",
       "      <td>-0.64</td>\n",
       "      <td>0.06</td>\n",
       "      <td>0.36</td>\n",
       "      <td>0.09</td>\n",
       "      <td>-0.10</td>\n",
       "      <td>-0.42</td>\n",
       "      <td>-0.35</td>\n",
       "      <td>-0.24</td>\n",
       "      <td>0.48</td>\n",
       "      <td>...</td>\n",
       "      <td>0.49</td>\n",
       "      <td>0.48</td>\n",
       "      <td>0.02</td>\n",
       "      <td>-0.22</td>\n",
       "      <td>-0.16</td>\n",
       "      <td>0.04</td>\n",
       "      <td>-0.20</td>\n",
       "      <td>-0.23</td>\n",
       "      <td>-0.23</td>\n",
       "      <td>-0.09</td>\n",
       "    </tr>\n",
       "    <tr>\n",
       "      <th>CP</th>\n",
       "      <td>-0.68</td>\n",
       "      <td>-0.67</td>\n",
       "      <td>0.01</td>\n",
       "      <td>0.53</td>\n",
       "      <td>0.52</td>\n",
       "      <td>0.36</td>\n",
       "      <td>-0.13</td>\n",
       "      <td>-0.68</td>\n",
       "      <td>-0.57</td>\n",
       "      <td>0.93</td>\n",
       "      <td>...</td>\n",
       "      <td>0.06</td>\n",
       "      <td>0.03</td>\n",
       "      <td>0.49</td>\n",
       "      <td>-0.45</td>\n",
       "      <td>-0.60</td>\n",
       "      <td>0.36</td>\n",
       "      <td>-0.21</td>\n",
       "      <td>-0.34</td>\n",
       "      <td>-0.60</td>\n",
       "      <td>-0.55</td>\n",
       "    </tr>\n",
       "    <tr>\n",
       "      <th>NP</th>\n",
       "      <td>-0.67</td>\n",
       "      <td>-0.56</td>\n",
       "      <td>-0.00</td>\n",
       "      <td>0.49</td>\n",
       "      <td>0.58</td>\n",
       "      <td>0.46</td>\n",
       "      <td>-0.02</td>\n",
       "      <td>-0.67</td>\n",
       "      <td>-0.58</td>\n",
       "      <td>0.92</td>\n",
       "      <td>...</td>\n",
       "      <td>-0.10</td>\n",
       "      <td>-0.12</td>\n",
       "      <td>0.57</td>\n",
       "      <td>-0.45</td>\n",
       "      <td>-0.64</td>\n",
       "      <td>0.41</td>\n",
       "      <td>-0.17</td>\n",
       "      <td>-0.32</td>\n",
       "      <td>-0.61</td>\n",
       "      <td>-0.62</td>\n",
       "    </tr>\n",
       "    <tr>\n",
       "      <th>NP_ext</th>\n",
       "      <td>-0.25</td>\n",
       "      <td>-0.30</td>\n",
       "      <td>0.13</td>\n",
       "      <td>0.09</td>\n",
       "      <td>0.09</td>\n",
       "      <td>0.04</td>\n",
       "      <td>0.01</td>\n",
       "      <td>-0.24</td>\n",
       "      <td>-0.16</td>\n",
       "      <td>0.28</td>\n",
       "      <td>...</td>\n",
       "      <td>-0.11</td>\n",
       "      <td>-0.11</td>\n",
       "      <td>0.12</td>\n",
       "      <td>-0.13</td>\n",
       "      <td>-0.24</td>\n",
       "      <td>0.16</td>\n",
       "      <td>-0.04</td>\n",
       "      <td>-0.19</td>\n",
       "      <td>-0.21</td>\n",
       "      <td>-0.19</td>\n",
       "    </tr>\n",
       "    <tr>\n",
       "      <th>NO3_NH4</th>\n",
       "      <td>0.28</td>\n",
       "      <td>0.07</td>\n",
       "      <td>-0.06</td>\n",
       "      <td>-0.11</td>\n",
       "      <td>-0.19</td>\n",
       "      <td>-0.19</td>\n",
       "      <td>-0.06</td>\n",
       "      <td>0.26</td>\n",
       "      <td>0.24</td>\n",
       "      <td>-0.24</td>\n",
       "      <td>...</td>\n",
       "      <td>0.18</td>\n",
       "      <td>0.19</td>\n",
       "      <td>-0.14</td>\n",
       "      <td>0.18</td>\n",
       "      <td>0.32</td>\n",
       "      <td>-0.15</td>\n",
       "      <td>0.03</td>\n",
       "      <td>0.18</td>\n",
       "      <td>0.28</td>\n",
       "      <td>0.27</td>\n",
       "    </tr>\n",
       "    <tr>\n",
       "      <th>Fe</th>\n",
       "      <td>0.02</td>\n",
       "      <td>0.13</td>\n",
       "      <td>-0.33</td>\n",
       "      <td>-0.02</td>\n",
       "      <td>-0.01</td>\n",
       "      <td>-0.00</td>\n",
       "      <td>-0.16</td>\n",
       "      <td>0.00</td>\n",
       "      <td>-0.08</td>\n",
       "      <td>-0.09</td>\n",
       "      <td>...</td>\n",
       "      <td>1.00</td>\n",
       "      <td>1.00</td>\n",
       "      <td>0.02</td>\n",
       "      <td>0.04</td>\n",
       "      <td>0.02</td>\n",
       "      <td>0.03</td>\n",
       "      <td>0.02</td>\n",
       "      <td>0.02</td>\n",
       "      <td>0.03</td>\n",
       "      <td>0.01</td>\n",
       "    </tr>\n",
       "    <tr>\n",
       "      <th>Mn</th>\n",
       "      <td>0.00</td>\n",
       "      <td>0.13</td>\n",
       "      <td>-0.33</td>\n",
       "      <td>-0.01</td>\n",
       "      <td>-0.01</td>\n",
       "      <td>-0.00</td>\n",
       "      <td>-0.15</td>\n",
       "      <td>-0.01</td>\n",
       "      <td>-0.10</td>\n",
       "      <td>-0.08</td>\n",
       "      <td>...</td>\n",
       "      <td>0.99</td>\n",
       "      <td>0.99</td>\n",
       "      <td>0.03</td>\n",
       "      <td>0.03</td>\n",
       "      <td>0.00</td>\n",
       "      <td>0.03</td>\n",
       "      <td>0.04</td>\n",
       "      <td>-0.00</td>\n",
       "      <td>0.00</td>\n",
       "      <td>-0.01</td>\n",
       "    </tr>\n",
       "    <tr>\n",
       "      <th>Cu</th>\n",
       "      <td>0.00</td>\n",
       "      <td>0.13</td>\n",
       "      <td>-0.32</td>\n",
       "      <td>-0.01</td>\n",
       "      <td>-0.02</td>\n",
       "      <td>-0.02</td>\n",
       "      <td>-0.18</td>\n",
       "      <td>-0.01</td>\n",
       "      <td>-0.09</td>\n",
       "      <td>-0.09</td>\n",
       "      <td>...</td>\n",
       "      <td>1.00</td>\n",
       "      <td>1.00</td>\n",
       "      <td>0.00</td>\n",
       "      <td>0.03</td>\n",
       "      <td>0.01</td>\n",
       "      <td>0.03</td>\n",
       "      <td>0.03</td>\n",
       "      <td>0.01</td>\n",
       "      <td>0.01</td>\n",
       "      <td>0.00</td>\n",
       "    </tr>\n",
       "    <tr>\n",
       "      <th>Zn</th>\n",
       "      <td>0.03</td>\n",
       "      <td>0.14</td>\n",
       "      <td>-0.31</td>\n",
       "      <td>-0.03</td>\n",
       "      <td>-0.04</td>\n",
       "      <td>-0.03</td>\n",
       "      <td>-0.18</td>\n",
       "      <td>0.02</td>\n",
       "      <td>-0.06</td>\n",
       "      <td>-0.12</td>\n",
       "      <td>...</td>\n",
       "      <td>1.00</td>\n",
       "      <td>1.00</td>\n",
       "      <td>-0.01</td>\n",
       "      <td>0.05</td>\n",
       "      <td>0.04</td>\n",
       "      <td>0.01</td>\n",
       "      <td>0.04</td>\n",
       "      <td>0.02</td>\n",
       "      <td>0.04</td>\n",
       "      <td>0.03</td>\n",
       "    </tr>\n",
       "    <tr>\n",
       "      <th>DOC_mg_L</th>\n",
       "      <td>-0.21</td>\n",
       "      <td>-0.08</td>\n",
       "      <td>-0.34</td>\n",
       "      <td>0.38</td>\n",
       "      <td>0.65</td>\n",
       "      <td>0.64</td>\n",
       "      <td>0.24</td>\n",
       "      <td>-0.22</td>\n",
       "      <td>-0.29</td>\n",
       "      <td>0.52</td>\n",
       "      <td>...</td>\n",
       "      <td>0.00</td>\n",
       "      <td>-0.01</td>\n",
       "      <td>1.00</td>\n",
       "      <td>0.01</td>\n",
       "      <td>-0.33</td>\n",
       "      <td>0.52</td>\n",
       "      <td>0.07</td>\n",
       "      <td>0.02</td>\n",
       "      <td>-0.13</td>\n",
       "      <td>-0.39</td>\n",
       "    </tr>\n",
       "    <tr>\n",
       "      <th>Cl_pw</th>\n",
       "      <td>0.60</td>\n",
       "      <td>0.31</td>\n",
       "      <td>-0.08</td>\n",
       "      <td>-0.22</td>\n",
       "      <td>-0.17</td>\n",
       "      <td>-0.12</td>\n",
       "      <td>0.15</td>\n",
       "      <td>0.60</td>\n",
       "      <td>0.54</td>\n",
       "      <td>-0.50</td>\n",
       "      <td>...</td>\n",
       "      <td>0.03</td>\n",
       "      <td>0.05</td>\n",
       "      <td>0.01</td>\n",
       "      <td>1.00</td>\n",
       "      <td>0.61</td>\n",
       "      <td>-0.13</td>\n",
       "      <td>0.28</td>\n",
       "      <td>0.34</td>\n",
       "      <td>0.65</td>\n",
       "      <td>0.52</td>\n",
       "    </tr>\n",
       "    <tr>\n",
       "      <th>SO4_pw</th>\n",
       "      <td>0.85</td>\n",
       "      <td>0.28</td>\n",
       "      <td>0.10</td>\n",
       "      <td>-0.34</td>\n",
       "      <td>-0.40</td>\n",
       "      <td>-0.38</td>\n",
       "      <td>0.01</td>\n",
       "      <td>0.85</td>\n",
       "      <td>0.82</td>\n",
       "      <td>-0.64</td>\n",
       "      <td>...</td>\n",
       "      <td>0.01</td>\n",
       "      <td>0.04</td>\n",
       "      <td>-0.33</td>\n",
       "      <td>0.61</td>\n",
       "      <td>1.00</td>\n",
       "      <td>-0.33</td>\n",
       "      <td>0.22</td>\n",
       "      <td>0.55</td>\n",
       "      <td>0.88</td>\n",
       "      <td>0.91</td>\n",
       "    </tr>\n",
       "    <tr>\n",
       "      <th>Fe_pw</th>\n",
       "      <td>-0.25</td>\n",
       "      <td>-0.02</td>\n",
       "      <td>-0.10</td>\n",
       "      <td>0.09</td>\n",
       "      <td>0.22</td>\n",
       "      <td>0.27</td>\n",
       "      <td>-0.08</td>\n",
       "      <td>-0.25</td>\n",
       "      <td>-0.27</td>\n",
       "      <td>0.31</td>\n",
       "      <td>...</td>\n",
       "      <td>0.03</td>\n",
       "      <td>0.01</td>\n",
       "      <td>0.52</td>\n",
       "      <td>-0.13</td>\n",
       "      <td>-0.33</td>\n",
       "      <td>1.00</td>\n",
       "      <td>0.39</td>\n",
       "      <td>0.06</td>\n",
       "      <td>-0.17</td>\n",
       "      <td>-0.43</td>\n",
       "    </tr>\n",
       "    <tr>\n",
       "      <th>Mn_pw</th>\n",
       "      <td>0.32</td>\n",
       "      <td>0.25</td>\n",
       "      <td>-0.04</td>\n",
       "      <td>-0.10</td>\n",
       "      <td>-0.14</td>\n",
       "      <td>-0.11</td>\n",
       "      <td>0.10</td>\n",
       "      <td>0.33</td>\n",
       "      <td>0.27</td>\n",
       "      <td>-0.27</td>\n",
       "      <td>...</td>\n",
       "      <td>0.03</td>\n",
       "      <td>0.04</td>\n",
       "      <td>0.07</td>\n",
       "      <td>0.28</td>\n",
       "      <td>0.22</td>\n",
       "      <td>0.39</td>\n",
       "      <td>1.00</td>\n",
       "      <td>0.45</td>\n",
       "      <td>0.23</td>\n",
       "      <td>0.14</td>\n",
       "    </tr>\n",
       "    <tr>\n",
       "      <th>Co_pw</th>\n",
       "      <td>0.62</td>\n",
       "      <td>0.33</td>\n",
       "      <td>-0.05</td>\n",
       "      <td>-0.17</td>\n",
       "      <td>-0.10</td>\n",
       "      <td>-0.02</td>\n",
       "      <td>-0.04</td>\n",
       "      <td>0.62</td>\n",
       "      <td>0.56</td>\n",
       "      <td>-0.42</td>\n",
       "      <td>...</td>\n",
       "      <td>0.01</td>\n",
       "      <td>0.02</td>\n",
       "      <td>0.02</td>\n",
       "      <td>0.34</td>\n",
       "      <td>0.55</td>\n",
       "      <td>0.06</td>\n",
       "      <td>0.45</td>\n",
       "      <td>1.00</td>\n",
       "      <td>0.67</td>\n",
       "      <td>0.49</td>\n",
       "    </tr>\n",
       "    <tr>\n",
       "      <th>Cu_pw</th>\n",
       "      <td>0.89</td>\n",
       "      <td>0.37</td>\n",
       "      <td>0.05</td>\n",
       "      <td>-0.39</td>\n",
       "      <td>-0.37</td>\n",
       "      <td>-0.28</td>\n",
       "      <td>0.05</td>\n",
       "      <td>0.88</td>\n",
       "      <td>0.83</td>\n",
       "      <td>-0.66</td>\n",
       "      <td>...</td>\n",
       "      <td>0.01</td>\n",
       "      <td>0.04</td>\n",
       "      <td>-0.13</td>\n",
       "      <td>0.65</td>\n",
       "      <td>0.88</td>\n",
       "      <td>-0.17</td>\n",
       "      <td>0.23</td>\n",
       "      <td>0.67</td>\n",
       "      <td>1.00</td>\n",
       "      <td>0.82</td>\n",
       "    </tr>\n",
       "    <tr>\n",
       "      <th>Zn_pw</th>\n",
       "      <td>0.77</td>\n",
       "      <td>0.16</td>\n",
       "      <td>0.17</td>\n",
       "      <td>-0.30</td>\n",
       "      <td>-0.42</td>\n",
       "      <td>-0.43</td>\n",
       "      <td>0.00</td>\n",
       "      <td>0.77</td>\n",
       "      <td>0.79</td>\n",
       "      <td>-0.59</td>\n",
       "      <td>...</td>\n",
       "      <td>0.00</td>\n",
       "      <td>0.03</td>\n",
       "      <td>-0.39</td>\n",
       "      <td>0.52</td>\n",
       "      <td>0.91</td>\n",
       "      <td>-0.43</td>\n",
       "      <td>0.14</td>\n",
       "      <td>0.49</td>\n",
       "      <td>0.82</td>\n",
       "      <td>1.00</td>\n",
       "    </tr>\n",
       "  </tbody>\n",
       "</table>\n",
       "<p>32 rows × 32 columns</p>\n",
       "</div>"
      ],
      "text/plain": [
       "             Salinity  Bulk_dens  H2O_FPS  CO2_mg_m2_h  CH4_ug_m2_h  CH4_CO2  \\\n",
       "Salinity         1.00       0.47     0.04        -0.37        -0.37    -0.27   \n",
       "Bulk_dens        0.47       1.00    -0.38        -0.46        -0.13     0.13   \n",
       "H2O_FPS          0.04      -0.38     1.00        -0.23        -0.41    -0.43   \n",
       "CO2_mg_m2_h     -0.37      -0.46    -0.23         1.00         0.58     0.33   \n",
       "CH4_ug_m2_h     -0.37      -0.13    -0.41         0.58         1.00     0.90   \n",
       "CH4_CO2         -0.27       0.13    -0.43         0.33         0.90     1.00   \n",
       "pH               0.08       0.21    -0.27        -0.23         0.18     0.24   \n",
       "Cl               0.99       0.46     0.10        -0.38        -0.37    -0.28   \n",
       "SO4              0.90       0.24     0.30        -0.40        -0.40    -0.35   \n",
       "C               -0.71      -0.70     0.05         0.63         0.53     0.36   \n",
       "N               -0.68      -0.67     0.07         0.62         0.54     0.39   \n",
       "P               -0.23      -0.45     0.17         0.46         0.08    -0.04   \n",
       "NO3_N           -0.34      -0.73     0.22         0.25         0.10    -0.04   \n",
       "NH4_N           -0.52      -0.80     0.20         0.42         0.32     0.17   \n",
       "Olsen_P          0.29       0.31    -0.16         0.00        -0.19    -0.19   \n",
       "CN              -0.34      -0.64     0.06         0.36         0.09    -0.10   \n",
       "CP              -0.68      -0.67     0.01         0.53         0.52     0.36   \n",
       "NP              -0.67      -0.56    -0.00         0.49         0.58     0.46   \n",
       "NP_ext          -0.25      -0.30     0.13         0.09         0.09     0.04   \n",
       "NO3_NH4          0.28       0.07    -0.06        -0.11        -0.19    -0.19   \n",
       "Fe               0.02       0.13    -0.33        -0.02        -0.01    -0.00   \n",
       "Mn               0.00       0.13    -0.33        -0.01        -0.01    -0.00   \n",
       "Cu               0.00       0.13    -0.32        -0.01        -0.02    -0.02   \n",
       "Zn               0.03       0.14    -0.31        -0.03        -0.04    -0.03   \n",
       "DOC_mg_L        -0.21      -0.08    -0.34         0.38         0.65     0.64   \n",
       "Cl_pw            0.60       0.31    -0.08        -0.22        -0.17    -0.12   \n",
       "SO4_pw           0.85       0.28     0.10        -0.34        -0.40    -0.38   \n",
       "Fe_pw           -0.25      -0.02    -0.10         0.09         0.22     0.27   \n",
       "Mn_pw            0.32       0.25    -0.04        -0.10        -0.14    -0.11   \n",
       "Co_pw            0.62       0.33    -0.05        -0.17        -0.10    -0.02   \n",
       "Cu_pw            0.89       0.37     0.05        -0.39        -0.37    -0.28   \n",
       "Zn_pw            0.77       0.16     0.17        -0.30        -0.42    -0.43   \n",
       "\n",
       "               pH    Cl   SO4     C  ...      Cu    Zn  DOC_mg_L  Cl_pw  \\\n",
       "Salinity     0.08  0.99  0.90 -0.71  ...    0.00  0.03     -0.21   0.60   \n",
       "Bulk_dens    0.21  0.46  0.24 -0.70  ...    0.13  0.14     -0.08   0.31   \n",
       "H2O_FPS     -0.27  0.10  0.30  0.05  ...   -0.32 -0.31     -0.34  -0.08   \n",
       "CO2_mg_m2_h -0.23 -0.38 -0.40  0.63  ...   -0.01 -0.03      0.38  -0.22   \n",
       "CH4_ug_m2_h  0.18 -0.37 -0.40  0.53  ...   -0.02 -0.04      0.65  -0.17   \n",
       "CH4_CO2      0.24 -0.28 -0.35  0.36  ...   -0.02 -0.03      0.64  -0.12   \n",
       "pH           1.00  0.06  0.07 -0.16  ...   -0.18 -0.18      0.24   0.15   \n",
       "Cl           0.06  1.00  0.91 -0.71  ...   -0.01  0.02     -0.22   0.60   \n",
       "SO4          0.07  0.91  1.00 -0.61  ...   -0.09 -0.06     -0.29   0.54   \n",
       "C           -0.16 -0.71 -0.61  1.00  ...   -0.09 -0.12      0.52  -0.50   \n",
       "N           -0.11 -0.68 -0.59  0.99  ...   -0.18 -0.21      0.55  -0.49   \n",
       "P           -0.24 -0.23 -0.21  0.45  ...   -0.24 -0.25      0.12  -0.23   \n",
       "NO3_N       -0.03 -0.35 -0.17  0.51  ...   -0.06 -0.07      0.16  -0.20   \n",
       "NH4_N        0.07 -0.53 -0.36  0.70  ...   -0.14 -0.15      0.27  -0.40   \n",
       "Olsen_P     -0.02  0.27  0.09 -0.34  ...   -0.01 -0.01     -0.25   0.15   \n",
       "CN          -0.42 -0.35 -0.24  0.48  ...    0.49  0.48      0.02  -0.22   \n",
       "CP          -0.13 -0.68 -0.57  0.93  ...    0.06  0.03      0.49  -0.45   \n",
       "NP          -0.02 -0.67 -0.58  0.92  ...   -0.10 -0.12      0.57  -0.45   \n",
       "NP_ext       0.01 -0.24 -0.16  0.28  ...   -0.11 -0.11      0.12  -0.13   \n",
       "NO3_NH4     -0.06  0.26  0.24 -0.24  ...    0.18  0.19     -0.14   0.18   \n",
       "Fe          -0.16  0.00 -0.08 -0.09  ...    1.00  1.00      0.02   0.04   \n",
       "Mn          -0.15 -0.01 -0.10 -0.08  ...    0.99  0.99      0.03   0.03   \n",
       "Cu          -0.18 -0.01 -0.09 -0.09  ...    1.00  1.00      0.00   0.03   \n",
       "Zn          -0.18  0.02 -0.06 -0.12  ...    1.00  1.00     -0.01   0.05   \n",
       "DOC_mg_L     0.24 -0.22 -0.29  0.52  ...    0.00 -0.01      1.00   0.01   \n",
       "Cl_pw        0.15  0.60  0.54 -0.50  ...    0.03  0.05      0.01   1.00   \n",
       "SO4_pw       0.01  0.85  0.82 -0.64  ...    0.01  0.04     -0.33   0.61   \n",
       "Fe_pw       -0.08 -0.25 -0.27  0.31  ...    0.03  0.01      0.52  -0.13   \n",
       "Mn_pw        0.10  0.33  0.27 -0.27  ...    0.03  0.04      0.07   0.28   \n",
       "Co_pw       -0.04  0.62  0.56 -0.42  ...    0.01  0.02      0.02   0.34   \n",
       "Cu_pw        0.05  0.88  0.83 -0.66  ...    0.01  0.04     -0.13   0.65   \n",
       "Zn_pw        0.00  0.77  0.79 -0.59  ...    0.00  0.03     -0.39   0.52   \n",
       "\n",
       "             SO4_pw  Fe_pw  Mn_pw  Co_pw  Cu_pw  Zn_pw  \n",
       "Salinity       0.85  -0.25   0.32   0.62   0.89   0.77  \n",
       "Bulk_dens      0.28  -0.02   0.25   0.33   0.37   0.16  \n",
       "H2O_FPS        0.10  -0.10  -0.04  -0.05   0.05   0.17  \n",
       "CO2_mg_m2_h   -0.34   0.09  -0.10  -0.17  -0.39  -0.30  \n",
       "CH4_ug_m2_h   -0.40   0.22  -0.14  -0.10  -0.37  -0.42  \n",
       "CH4_CO2       -0.38   0.27  -0.11  -0.02  -0.28  -0.43  \n",
       "pH             0.01  -0.08   0.10  -0.04   0.05   0.00  \n",
       "Cl             0.85  -0.25   0.33   0.62   0.88   0.77  \n",
       "SO4            0.82  -0.27   0.27   0.56   0.83   0.79  \n",
       "C             -0.64   0.31  -0.27  -0.42  -0.66  -0.59  \n",
       "N             -0.64   0.32  -0.25  -0.39  -0.65  -0.58  \n",
       "P             -0.18  -0.11  -0.25  -0.28  -0.27  -0.10  \n",
       "NO3_N         -0.23   0.12  -0.18  -0.24  -0.23  -0.16  \n",
       "NH4_N         -0.41   0.16  -0.25  -0.32  -0.45  -0.32  \n",
       "Olsen_P        0.27  -0.11   0.31   0.13   0.17   0.25  \n",
       "CN            -0.16   0.04  -0.20  -0.23  -0.23  -0.09  \n",
       "CP            -0.60   0.36  -0.21  -0.34  -0.60  -0.55  \n",
       "NP            -0.64   0.41  -0.17  -0.32  -0.61  -0.62  \n",
       "NP_ext        -0.24   0.16  -0.04  -0.19  -0.21  -0.19  \n",
       "NO3_NH4        0.32  -0.15   0.03   0.18   0.28   0.27  \n",
       "Fe             0.02   0.03   0.02   0.02   0.03   0.01  \n",
       "Mn             0.00   0.03   0.04  -0.00   0.00  -0.01  \n",
       "Cu             0.01   0.03   0.03   0.01   0.01   0.00  \n",
       "Zn             0.04   0.01   0.04   0.02   0.04   0.03  \n",
       "DOC_mg_L      -0.33   0.52   0.07   0.02  -0.13  -0.39  \n",
       "Cl_pw          0.61  -0.13   0.28   0.34   0.65   0.52  \n",
       "SO4_pw         1.00  -0.33   0.22   0.55   0.88   0.91  \n",
       "Fe_pw         -0.33   1.00   0.39   0.06  -0.17  -0.43  \n",
       "Mn_pw          0.22   0.39   1.00   0.45   0.23   0.14  \n",
       "Co_pw          0.55   0.06   0.45   1.00   0.67   0.49  \n",
       "Cu_pw          0.88  -0.17   0.23   0.67   1.00   0.82  \n",
       "Zn_pw          0.91  -0.43   0.14   0.49   0.82   1.00  \n",
       "\n",
       "[32 rows x 32 columns]"
      ]
     },
     "execution_count": 87,
     "metadata": {},
     "output_type": "execute_result"
    }
   ],
   "source": [
    "# get corr matrix\n",
    "log_corr = Env_chem_log.corr().round(2)\n",
    "#corr_mat['gene'] = corr_mat.index\n",
    "log_corr"
   ]
  },
  {
   "cell_type": "code",
   "execution_count": 96,
   "metadata": {},
   "outputs": [],
   "source": [
    "#log_corr.to_csv(\"ALL_sites_chem_log_corr_py.txt\", sep = '\\t')"
   ]
  },
  {
   "cell_type": "code",
   "execution_count": 98,
   "metadata": {},
   "outputs": [
    {
     "data": {
      "text/html": [
       "<div>\n",
       "<style>\n",
       "    .dataframe thead tr:only-child th {\n",
       "        text-align: right;\n",
       "    }\n",
       "\n",
       "    .dataframe thead th {\n",
       "        text-align: left;\n",
       "    }\n",
       "\n",
       "    .dataframe tbody tr th {\n",
       "        vertical-align: top;\n",
       "    }\n",
       "</style>\n",
       "<table border=\"1\" class=\"dataframe\">\n",
       "  <thead>\n",
       "    <tr style=\"text-align: right;\">\n",
       "      <th></th>\n",
       "      <th>Salinity</th>\n",
       "      <th>Bulk_dens</th>\n",
       "      <th>H2O_FPS</th>\n",
       "      <th>CO2_mg_m2_h</th>\n",
       "      <th>CH4_ug_m2_h</th>\n",
       "      <th>CH4_CO2</th>\n",
       "      <th>pH</th>\n",
       "      <th>Cl</th>\n",
       "      <th>SO4</th>\n",
       "      <th>C</th>\n",
       "      <th>...</th>\n",
       "      <th>Cu</th>\n",
       "      <th>Zn</th>\n",
       "      <th>DOC_mg_L</th>\n",
       "      <th>Cl_pw</th>\n",
       "      <th>SO4_pw</th>\n",
       "      <th>Fe_pw</th>\n",
       "      <th>Mn_pw</th>\n",
       "      <th>Co_pw</th>\n",
       "      <th>Cu_pw</th>\n",
       "      <th>Zn_pw</th>\n",
       "    </tr>\n",
       "  </thead>\n",
       "  <tbody>\n",
       "    <tr>\n",
       "      <th>Salinity</th>\n",
       "      <td>1.00</td>\n",
       "      <td>0.28</td>\n",
       "      <td>0.08</td>\n",
       "      <td>-0.29</td>\n",
       "      <td>-0.25</td>\n",
       "      <td>-0.30</td>\n",
       "      <td>-0.19</td>\n",
       "      <td>0.97</td>\n",
       "      <td>0.93</td>\n",
       "      <td>-0.52</td>\n",
       "      <td>...</td>\n",
       "      <td>0.02</td>\n",
       "      <td>0.15</td>\n",
       "      <td>-0.34</td>\n",
       "      <td>0.85</td>\n",
       "      <td>0.98</td>\n",
       "      <td>-0.01</td>\n",
       "      <td>-0.05</td>\n",
       "      <td>0.65</td>\n",
       "      <td>0.95</td>\n",
       "      <td>0.33</td>\n",
       "    </tr>\n",
       "    <tr>\n",
       "      <th>Bulk_dens</th>\n",
       "      <td>0.28</td>\n",
       "      <td>1.00</td>\n",
       "      <td>-0.54</td>\n",
       "      <td>-0.37</td>\n",
       "      <td>0.22</td>\n",
       "      <td>0.26</td>\n",
       "      <td>0.30</td>\n",
       "      <td>0.26</td>\n",
       "      <td>0.21</td>\n",
       "      <td>-0.70</td>\n",
       "      <td>...</td>\n",
       "      <td>0.20</td>\n",
       "      <td>0.25</td>\n",
       "      <td>0.06</td>\n",
       "      <td>0.34</td>\n",
       "      <td>0.29</td>\n",
       "      <td>-0.05</td>\n",
       "      <td>-0.18</td>\n",
       "      <td>0.17</td>\n",
       "      <td>0.31</td>\n",
       "      <td>0.20</td>\n",
       "    </tr>\n",
       "    <tr>\n",
       "      <th>H2O_FPS</th>\n",
       "      <td>0.08</td>\n",
       "      <td>-0.54</td>\n",
       "      <td>1.00</td>\n",
       "      <td>-0.27</td>\n",
       "      <td>-0.39</td>\n",
       "      <td>-0.41</td>\n",
       "      <td>-0.27</td>\n",
       "      <td>0.13</td>\n",
       "      <td>0.22</td>\n",
       "      <td>0.06</td>\n",
       "      <td>...</td>\n",
       "      <td>-0.25</td>\n",
       "      <td>-0.22</td>\n",
       "      <td>-0.33</td>\n",
       "      <td>0.01</td>\n",
       "      <td>0.10</td>\n",
       "      <td>0.13</td>\n",
       "      <td>0.06</td>\n",
       "      <td>0.01</td>\n",
       "      <td>0.05</td>\n",
       "      <td>-0.03</td>\n",
       "    </tr>\n",
       "    <tr>\n",
       "      <th>CO2_mg_m2_h</th>\n",
       "      <td>-0.29</td>\n",
       "      <td>-0.37</td>\n",
       "      <td>-0.27</td>\n",
       "      <td>1.00</td>\n",
       "      <td>0.49</td>\n",
       "      <td>0.32</td>\n",
       "      <td>-0.15</td>\n",
       "      <td>-0.30</td>\n",
       "      <td>-0.35</td>\n",
       "      <td>0.58</td>\n",
       "      <td>...</td>\n",
       "      <td>-0.07</td>\n",
       "      <td>-0.15</td>\n",
       "      <td>0.33</td>\n",
       "      <td>-0.29</td>\n",
       "      <td>-0.31</td>\n",
       "      <td>-0.09</td>\n",
       "      <td>-0.05</td>\n",
       "      <td>-0.12</td>\n",
       "      <td>-0.30</td>\n",
       "      <td>-0.14</td>\n",
       "    </tr>\n",
       "    <tr>\n",
       "      <th>CH4_ug_m2_h</th>\n",
       "      <td>-0.25</td>\n",
       "      <td>0.22</td>\n",
       "      <td>-0.39</td>\n",
       "      <td>0.49</td>\n",
       "      <td>1.00</td>\n",
       "      <td>0.88</td>\n",
       "      <td>0.06</td>\n",
       "      <td>-0.25</td>\n",
       "      <td>-0.28</td>\n",
       "      <td>0.17</td>\n",
       "      <td>...</td>\n",
       "      <td>-0.05</td>\n",
       "      <td>-0.11</td>\n",
       "      <td>0.52</td>\n",
       "      <td>-0.24</td>\n",
       "      <td>-0.25</td>\n",
       "      <td>-0.02</td>\n",
       "      <td>-0.10</td>\n",
       "      <td>-0.09</td>\n",
       "      <td>-0.22</td>\n",
       "      <td>-0.10</td>\n",
       "    </tr>\n",
       "    <tr>\n",
       "      <th>CH4_CO2</th>\n",
       "      <td>-0.30</td>\n",
       "      <td>0.26</td>\n",
       "      <td>-0.41</td>\n",
       "      <td>0.32</td>\n",
       "      <td>0.88</td>\n",
       "      <td>1.00</td>\n",
       "      <td>0.17</td>\n",
       "      <td>-0.29</td>\n",
       "      <td>-0.29</td>\n",
       "      <td>0.19</td>\n",
       "      <td>...</td>\n",
       "      <td>-0.07</td>\n",
       "      <td>-0.13</td>\n",
       "      <td>0.59</td>\n",
       "      <td>-0.28</td>\n",
       "      <td>-0.29</td>\n",
       "      <td>0.00</td>\n",
       "      <td>-0.08</td>\n",
       "      <td>-0.13</td>\n",
       "      <td>-0.26</td>\n",
       "      <td>-0.13</td>\n",
       "    </tr>\n",
       "    <tr>\n",
       "      <th>pH</th>\n",
       "      <td>-0.19</td>\n",
       "      <td>0.30</td>\n",
       "      <td>-0.27</td>\n",
       "      <td>-0.15</td>\n",
       "      <td>0.06</td>\n",
       "      <td>0.17</td>\n",
       "      <td>1.00</td>\n",
       "      <td>-0.21</td>\n",
       "      <td>-0.15</td>\n",
       "      <td>-0.12</td>\n",
       "      <td>...</td>\n",
       "      <td>-0.24</td>\n",
       "      <td>-0.19</td>\n",
       "      <td>0.24</td>\n",
       "      <td>-0.12</td>\n",
       "      <td>-0.21</td>\n",
       "      <td>-0.22</td>\n",
       "      <td>0.07</td>\n",
       "      <td>-0.21</td>\n",
       "      <td>-0.20</td>\n",
       "      <td>0.08</td>\n",
       "    </tr>\n",
       "    <tr>\n",
       "      <th>Cl</th>\n",
       "      <td>0.97</td>\n",
       "      <td>0.26</td>\n",
       "      <td>0.13</td>\n",
       "      <td>-0.30</td>\n",
       "      <td>-0.25</td>\n",
       "      <td>-0.29</td>\n",
       "      <td>-0.21</td>\n",
       "      <td>1.00</td>\n",
       "      <td>0.96</td>\n",
       "      <td>-0.51</td>\n",
       "      <td>...</td>\n",
       "      <td>-0.01</td>\n",
       "      <td>0.11</td>\n",
       "      <td>-0.34</td>\n",
       "      <td>0.88</td>\n",
       "      <td>0.96</td>\n",
       "      <td>0.03</td>\n",
       "      <td>-0.04</td>\n",
       "      <td>0.61</td>\n",
       "      <td>0.95</td>\n",
       "      <td>0.30</td>\n",
       "    </tr>\n",
       "    <tr>\n",
       "      <th>SO4</th>\n",
       "      <td>0.93</td>\n",
       "      <td>0.21</td>\n",
       "      <td>0.22</td>\n",
       "      <td>-0.35</td>\n",
       "      <td>-0.28</td>\n",
       "      <td>-0.29</td>\n",
       "      <td>-0.15</td>\n",
       "      <td>0.96</td>\n",
       "      <td>1.00</td>\n",
       "      <td>-0.48</td>\n",
       "      <td>...</td>\n",
       "      <td>-0.02</td>\n",
       "      <td>0.12</td>\n",
       "      <td>-0.33</td>\n",
       "      <td>0.84</td>\n",
       "      <td>0.92</td>\n",
       "      <td>0.02</td>\n",
       "      <td>-0.02</td>\n",
       "      <td>0.56</td>\n",
       "      <td>0.91</td>\n",
       "      <td>0.26</td>\n",
       "    </tr>\n",
       "    <tr>\n",
       "      <th>C</th>\n",
       "      <td>-0.52</td>\n",
       "      <td>-0.70</td>\n",
       "      <td>0.06</td>\n",
       "      <td>0.58</td>\n",
       "      <td>0.17</td>\n",
       "      <td>0.19</td>\n",
       "      <td>-0.12</td>\n",
       "      <td>-0.51</td>\n",
       "      <td>-0.48</td>\n",
       "      <td>1.00</td>\n",
       "      <td>...</td>\n",
       "      <td>-0.17</td>\n",
       "      <td>-0.31</td>\n",
       "      <td>0.37</td>\n",
       "      <td>-0.53</td>\n",
       "      <td>-0.50</td>\n",
       "      <td>0.02</td>\n",
       "      <td>-0.01</td>\n",
       "      <td>-0.29</td>\n",
       "      <td>-0.47</td>\n",
       "      <td>-0.24</td>\n",
       "    </tr>\n",
       "    <tr>\n",
       "      <th>N</th>\n",
       "      <td>-0.54</td>\n",
       "      <td>-0.67</td>\n",
       "      <td>0.07</td>\n",
       "      <td>0.54</td>\n",
       "      <td>0.23</td>\n",
       "      <td>0.28</td>\n",
       "      <td>-0.06</td>\n",
       "      <td>-0.53</td>\n",
       "      <td>-0.50</td>\n",
       "      <td>0.97</td>\n",
       "      <td>...</td>\n",
       "      <td>-0.26</td>\n",
       "      <td>-0.39</td>\n",
       "      <td>0.48</td>\n",
       "      <td>-0.57</td>\n",
       "      <td>-0.53</td>\n",
       "      <td>0.06</td>\n",
       "      <td>-0.01</td>\n",
       "      <td>-0.30</td>\n",
       "      <td>-0.50</td>\n",
       "      <td>-0.27</td>\n",
       "    </tr>\n",
       "    <tr>\n",
       "      <th>P</th>\n",
       "      <td>-0.20</td>\n",
       "      <td>-0.46</td>\n",
       "      <td>0.22</td>\n",
       "      <td>0.28</td>\n",
       "      <td>0.01</td>\n",
       "      <td>-0.04</td>\n",
       "      <td>-0.22</td>\n",
       "      <td>-0.20</td>\n",
       "      <td>-0.20</td>\n",
       "      <td>0.35</td>\n",
       "      <td>...</td>\n",
       "      <td>-0.27</td>\n",
       "      <td>-0.28</td>\n",
       "      <td>0.08</td>\n",
       "      <td>-0.29</td>\n",
       "      <td>-0.21</td>\n",
       "      <td>-0.06</td>\n",
       "      <td>0.00</td>\n",
       "      <td>-0.17</td>\n",
       "      <td>-0.28</td>\n",
       "      <td>-0.07</td>\n",
       "    </tr>\n",
       "    <tr>\n",
       "      <th>NO3_N</th>\n",
       "      <td>-0.22</td>\n",
       "      <td>-0.60</td>\n",
       "      <td>0.17</td>\n",
       "      <td>0.20</td>\n",
       "      <td>-0.06</td>\n",
       "      <td>-0.02</td>\n",
       "      <td>-0.01</td>\n",
       "      <td>-0.22</td>\n",
       "      <td>-0.17</td>\n",
       "      <td>0.67</td>\n",
       "      <td>...</td>\n",
       "      <td>-0.18</td>\n",
       "      <td>-0.20</td>\n",
       "      <td>0.21</td>\n",
       "      <td>-0.23</td>\n",
       "      <td>-0.21</td>\n",
       "      <td>-0.07</td>\n",
       "      <td>0.07</td>\n",
       "      <td>-0.13</td>\n",
       "      <td>-0.18</td>\n",
       "      <td>-0.07</td>\n",
       "    </tr>\n",
       "    <tr>\n",
       "      <th>NH4_N</th>\n",
       "      <td>-0.31</td>\n",
       "      <td>-0.70</td>\n",
       "      <td>0.17</td>\n",
       "      <td>0.45</td>\n",
       "      <td>0.03</td>\n",
       "      <td>0.06</td>\n",
       "      <td>0.02</td>\n",
       "      <td>-0.32</td>\n",
       "      <td>-0.26</td>\n",
       "      <td>0.81</td>\n",
       "      <td>...</td>\n",
       "      <td>-0.19</td>\n",
       "      <td>-0.25</td>\n",
       "      <td>0.26</td>\n",
       "      <td>-0.33</td>\n",
       "      <td>-0.30</td>\n",
       "      <td>-0.06</td>\n",
       "      <td>-0.03</td>\n",
       "      <td>-0.18</td>\n",
       "      <td>-0.27</td>\n",
       "      <td>-0.12</td>\n",
       "    </tr>\n",
       "    <tr>\n",
       "      <th>Olsen_P</th>\n",
       "      <td>0.15</td>\n",
       "      <td>0.15</td>\n",
       "      <td>-0.14</td>\n",
       "      <td>-0.03</td>\n",
       "      <td>-0.07</td>\n",
       "      <td>-0.11</td>\n",
       "      <td>0.01</td>\n",
       "      <td>0.12</td>\n",
       "      <td>0.06</td>\n",
       "      <td>-0.33</td>\n",
       "      <td>...</td>\n",
       "      <td>-0.00</td>\n",
       "      <td>0.03</td>\n",
       "      <td>-0.20</td>\n",
       "      <td>0.11</td>\n",
       "      <td>0.11</td>\n",
       "      <td>-0.04</td>\n",
       "      <td>0.15</td>\n",
       "      <td>0.05</td>\n",
       "      <td>0.06</td>\n",
       "      <td>0.10</td>\n",
       "    </tr>\n",
       "    <tr>\n",
       "      <th>CN</th>\n",
       "      <td>-0.17</td>\n",
       "      <td>-0.57</td>\n",
       "      <td>0.06</td>\n",
       "      <td>0.39</td>\n",
       "      <td>-0.10</td>\n",
       "      <td>-0.14</td>\n",
       "      <td>-0.39</td>\n",
       "      <td>-0.18</td>\n",
       "      <td>-0.17</td>\n",
       "      <td>0.63</td>\n",
       "      <td>...</td>\n",
       "      <td>0.36</td>\n",
       "      <td>0.28</td>\n",
       "      <td>-0.06</td>\n",
       "      <td>-0.18</td>\n",
       "      <td>-0.15</td>\n",
       "      <td>-0.03</td>\n",
       "      <td>0.17</td>\n",
       "      <td>-0.11</td>\n",
       "      <td>-0.14</td>\n",
       "      <td>-0.10</td>\n",
       "    </tr>\n",
       "    <tr>\n",
       "      <th>CP</th>\n",
       "      <td>-0.47</td>\n",
       "      <td>-0.64</td>\n",
       "      <td>0.03</td>\n",
       "      <td>0.54</td>\n",
       "      <td>0.14</td>\n",
       "      <td>0.17</td>\n",
       "      <td>-0.12</td>\n",
       "      <td>-0.47</td>\n",
       "      <td>-0.43</td>\n",
       "      <td>0.94</td>\n",
       "      <td>...</td>\n",
       "      <td>-0.04</td>\n",
       "      <td>-0.18</td>\n",
       "      <td>0.32</td>\n",
       "      <td>-0.47</td>\n",
       "      <td>-0.45</td>\n",
       "      <td>0.03</td>\n",
       "      <td>0.03</td>\n",
       "      <td>-0.26</td>\n",
       "      <td>-0.42</td>\n",
       "      <td>-0.24</td>\n",
       "    </tr>\n",
       "    <tr>\n",
       "      <th>NP</th>\n",
       "      <td>-0.55</td>\n",
       "      <td>-0.50</td>\n",
       "      <td>-0.01</td>\n",
       "      <td>0.48</td>\n",
       "      <td>0.27</td>\n",
       "      <td>0.35</td>\n",
       "      <td>0.01</td>\n",
       "      <td>-0.54</td>\n",
       "      <td>-0.50</td>\n",
       "      <td>0.88</td>\n",
       "      <td>...</td>\n",
       "      <td>-0.17</td>\n",
       "      <td>-0.32</td>\n",
       "      <td>0.51</td>\n",
       "      <td>-0.56</td>\n",
       "      <td>-0.53</td>\n",
       "      <td>0.10</td>\n",
       "      <td>-0.03</td>\n",
       "      <td>-0.30</td>\n",
       "      <td>-0.49</td>\n",
       "      <td>-0.29</td>\n",
       "    </tr>\n",
       "    <tr>\n",
       "      <th>NP_ext</th>\n",
       "      <td>-0.30</td>\n",
       "      <td>-0.64</td>\n",
       "      <td>0.19</td>\n",
       "      <td>0.35</td>\n",
       "      <td>-0.01</td>\n",
       "      <td>0.04</td>\n",
       "      <td>0.01</td>\n",
       "      <td>-0.30</td>\n",
       "      <td>-0.24</td>\n",
       "      <td>0.76</td>\n",
       "      <td>...</td>\n",
       "      <td>-0.16</td>\n",
       "      <td>-0.22</td>\n",
       "      <td>0.23</td>\n",
       "      <td>-0.30</td>\n",
       "      <td>-0.28</td>\n",
       "      <td>-0.04</td>\n",
       "      <td>-0.03</td>\n",
       "      <td>-0.18</td>\n",
       "      <td>-0.25</td>\n",
       "      <td>-0.10</td>\n",
       "    </tr>\n",
       "    <tr>\n",
       "      <th>NO3_NH4</th>\n",
       "      <td>0.23</td>\n",
       "      <td>0.13</td>\n",
       "      <td>-0.09</td>\n",
       "      <td>-0.07</td>\n",
       "      <td>0.01</td>\n",
       "      <td>-0.05</td>\n",
       "      <td>-0.03</td>\n",
       "      <td>0.20</td>\n",
       "      <td>0.18</td>\n",
       "      <td>-0.18</td>\n",
       "      <td>...</td>\n",
       "      <td>0.15</td>\n",
       "      <td>0.19</td>\n",
       "      <td>-0.16</td>\n",
       "      <td>0.18</td>\n",
       "      <td>0.21</td>\n",
       "      <td>-0.09</td>\n",
       "      <td>0.01</td>\n",
       "      <td>0.23</td>\n",
       "      <td>0.19</td>\n",
       "      <td>0.03</td>\n",
       "    </tr>\n",
       "    <tr>\n",
       "      <th>Fe</th>\n",
       "      <td>0.13</td>\n",
       "      <td>0.29</td>\n",
       "      <td>-0.29</td>\n",
       "      <td>-0.15</td>\n",
       "      <td>-0.05</td>\n",
       "      <td>-0.05</td>\n",
       "      <td>-0.10</td>\n",
       "      <td>0.09</td>\n",
       "      <td>0.11</td>\n",
       "      <td>-0.29</td>\n",
       "      <td>...</td>\n",
       "      <td>0.92</td>\n",
       "      <td>0.97</td>\n",
       "      <td>-0.09</td>\n",
       "      <td>0.14</td>\n",
       "      <td>0.12</td>\n",
       "      <td>-0.04</td>\n",
       "      <td>-0.02</td>\n",
       "      <td>0.08</td>\n",
       "      <td>0.11</td>\n",
       "      <td>0.06</td>\n",
       "    </tr>\n",
       "    <tr>\n",
       "      <th>Mn</th>\n",
       "      <td>-0.12</td>\n",
       "      <td>0.09</td>\n",
       "      <td>-0.18</td>\n",
       "      <td>-0.08</td>\n",
       "      <td>-0.04</td>\n",
       "      <td>-0.05</td>\n",
       "      <td>-0.10</td>\n",
       "      <td>-0.14</td>\n",
       "      <td>-0.13</td>\n",
       "      <td>-0.15</td>\n",
       "      <td>...</td>\n",
       "      <td>0.68</td>\n",
       "      <td>0.71</td>\n",
       "      <td>-0.06</td>\n",
       "      <td>-0.13</td>\n",
       "      <td>-0.13</td>\n",
       "      <td>-0.01</td>\n",
       "      <td>0.04</td>\n",
       "      <td>-0.10</td>\n",
       "      <td>-0.16</td>\n",
       "      <td>-0.06</td>\n",
       "    </tr>\n",
       "    <tr>\n",
       "      <th>Cu</th>\n",
       "      <td>0.02</td>\n",
       "      <td>0.20</td>\n",
       "      <td>-0.25</td>\n",
       "      <td>-0.07</td>\n",
       "      <td>-0.05</td>\n",
       "      <td>-0.07</td>\n",
       "      <td>-0.24</td>\n",
       "      <td>-0.01</td>\n",
       "      <td>-0.02</td>\n",
       "      <td>-0.17</td>\n",
       "      <td>...</td>\n",
       "      <td>1.00</td>\n",
       "      <td>0.94</td>\n",
       "      <td>-0.12</td>\n",
       "      <td>0.03</td>\n",
       "      <td>0.04</td>\n",
       "      <td>0.05</td>\n",
       "      <td>-0.04</td>\n",
       "      <td>0.01</td>\n",
       "      <td>0.03</td>\n",
       "      <td>0.01</td>\n",
       "    </tr>\n",
       "    <tr>\n",
       "      <th>Zn</th>\n",
       "      <td>0.15</td>\n",
       "      <td>0.25</td>\n",
       "      <td>-0.22</td>\n",
       "      <td>-0.15</td>\n",
       "      <td>-0.11</td>\n",
       "      <td>-0.13</td>\n",
       "      <td>-0.19</td>\n",
       "      <td>0.11</td>\n",
       "      <td>0.12</td>\n",
       "      <td>-0.31</td>\n",
       "      <td>...</td>\n",
       "      <td>0.94</td>\n",
       "      <td>1.00</td>\n",
       "      <td>-0.19</td>\n",
       "      <td>0.16</td>\n",
       "      <td>0.14</td>\n",
       "      <td>-0.03</td>\n",
       "      <td>0.01</td>\n",
       "      <td>0.08</td>\n",
       "      <td>0.13</td>\n",
       "      <td>0.06</td>\n",
       "    </tr>\n",
       "    <tr>\n",
       "      <th>DOC_mg_L</th>\n",
       "      <td>-0.34</td>\n",
       "      <td>0.06</td>\n",
       "      <td>-0.33</td>\n",
       "      <td>0.33</td>\n",
       "      <td>0.52</td>\n",
       "      <td>0.59</td>\n",
       "      <td>0.24</td>\n",
       "      <td>-0.34</td>\n",
       "      <td>-0.33</td>\n",
       "      <td>0.37</td>\n",
       "      <td>...</td>\n",
       "      <td>-0.12</td>\n",
       "      <td>-0.19</td>\n",
       "      <td>1.00</td>\n",
       "      <td>-0.32</td>\n",
       "      <td>-0.37</td>\n",
       "      <td>0.04</td>\n",
       "      <td>-0.07</td>\n",
       "      <td>-0.15</td>\n",
       "      <td>-0.31</td>\n",
       "      <td>-0.17</td>\n",
       "    </tr>\n",
       "    <tr>\n",
       "      <th>Cl_pw</th>\n",
       "      <td>0.85</td>\n",
       "      <td>0.34</td>\n",
       "      <td>0.01</td>\n",
       "      <td>-0.29</td>\n",
       "      <td>-0.24</td>\n",
       "      <td>-0.28</td>\n",
       "      <td>-0.12</td>\n",
       "      <td>0.88</td>\n",
       "      <td>0.84</td>\n",
       "      <td>-0.53</td>\n",
       "      <td>...</td>\n",
       "      <td>0.03</td>\n",
       "      <td>0.16</td>\n",
       "      <td>-0.32</td>\n",
       "      <td>1.00</td>\n",
       "      <td>0.83</td>\n",
       "      <td>-0.02</td>\n",
       "      <td>-0.05</td>\n",
       "      <td>0.47</td>\n",
       "      <td>0.91</td>\n",
       "      <td>0.33</td>\n",
       "    </tr>\n",
       "    <tr>\n",
       "      <th>SO4_pw</th>\n",
       "      <td>0.98</td>\n",
       "      <td>0.29</td>\n",
       "      <td>0.10</td>\n",
       "      <td>-0.31</td>\n",
       "      <td>-0.25</td>\n",
       "      <td>-0.29</td>\n",
       "      <td>-0.21</td>\n",
       "      <td>0.96</td>\n",
       "      <td>0.92</td>\n",
       "      <td>-0.50</td>\n",
       "      <td>...</td>\n",
       "      <td>0.04</td>\n",
       "      <td>0.14</td>\n",
       "      <td>-0.37</td>\n",
       "      <td>0.83</td>\n",
       "      <td>1.00</td>\n",
       "      <td>0.04</td>\n",
       "      <td>-0.10</td>\n",
       "      <td>0.64</td>\n",
       "      <td>0.96</td>\n",
       "      <td>0.37</td>\n",
       "    </tr>\n",
       "    <tr>\n",
       "      <th>Fe_pw</th>\n",
       "      <td>-0.01</td>\n",
       "      <td>-0.05</td>\n",
       "      <td>0.13</td>\n",
       "      <td>-0.09</td>\n",
       "      <td>-0.02</td>\n",
       "      <td>0.00</td>\n",
       "      <td>-0.22</td>\n",
       "      <td>0.03</td>\n",
       "      <td>0.02</td>\n",
       "      <td>0.02</td>\n",
       "      <td>...</td>\n",
       "      <td>0.05</td>\n",
       "      <td>-0.03</td>\n",
       "      <td>0.04</td>\n",
       "      <td>-0.02</td>\n",
       "      <td>0.04</td>\n",
       "      <td>1.00</td>\n",
       "      <td>0.04</td>\n",
       "      <td>-0.00</td>\n",
       "      <td>0.05</td>\n",
       "      <td>-0.06</td>\n",
       "    </tr>\n",
       "    <tr>\n",
       "      <th>Mn_pw</th>\n",
       "      <td>-0.05</td>\n",
       "      <td>-0.18</td>\n",
       "      <td>0.06</td>\n",
       "      <td>-0.05</td>\n",
       "      <td>-0.10</td>\n",
       "      <td>-0.08</td>\n",
       "      <td>0.07</td>\n",
       "      <td>-0.04</td>\n",
       "      <td>-0.02</td>\n",
       "      <td>-0.01</td>\n",
       "      <td>...</td>\n",
       "      <td>-0.04</td>\n",
       "      <td>0.01</td>\n",
       "      <td>-0.07</td>\n",
       "      <td>-0.05</td>\n",
       "      <td>-0.10</td>\n",
       "      <td>0.04</td>\n",
       "      <td>1.00</td>\n",
       "      <td>-0.03</td>\n",
       "      <td>-0.10</td>\n",
       "      <td>-0.09</td>\n",
       "    </tr>\n",
       "    <tr>\n",
       "      <th>Co_pw</th>\n",
       "      <td>0.65</td>\n",
       "      <td>0.17</td>\n",
       "      <td>0.01</td>\n",
       "      <td>-0.12</td>\n",
       "      <td>-0.09</td>\n",
       "      <td>-0.13</td>\n",
       "      <td>-0.21</td>\n",
       "      <td>0.61</td>\n",
       "      <td>0.56</td>\n",
       "      <td>-0.29</td>\n",
       "      <td>...</td>\n",
       "      <td>0.01</td>\n",
       "      <td>0.08</td>\n",
       "      <td>-0.15</td>\n",
       "      <td>0.47</td>\n",
       "      <td>0.64</td>\n",
       "      <td>-0.00</td>\n",
       "      <td>-0.03</td>\n",
       "      <td>1.00</td>\n",
       "      <td>0.64</td>\n",
       "      <td>0.11</td>\n",
       "    </tr>\n",
       "    <tr>\n",
       "      <th>Cu_pw</th>\n",
       "      <td>0.95</td>\n",
       "      <td>0.31</td>\n",
       "      <td>0.05</td>\n",
       "      <td>-0.30</td>\n",
       "      <td>-0.22</td>\n",
       "      <td>-0.26</td>\n",
       "      <td>-0.20</td>\n",
       "      <td>0.95</td>\n",
       "      <td>0.91</td>\n",
       "      <td>-0.47</td>\n",
       "      <td>...</td>\n",
       "      <td>0.03</td>\n",
       "      <td>0.13</td>\n",
       "      <td>-0.31</td>\n",
       "      <td>0.91</td>\n",
       "      <td>0.96</td>\n",
       "      <td>0.05</td>\n",
       "      <td>-0.10</td>\n",
       "      <td>0.64</td>\n",
       "      <td>1.00</td>\n",
       "      <td>0.36</td>\n",
       "    </tr>\n",
       "    <tr>\n",
       "      <th>Zn_pw</th>\n",
       "      <td>0.33</td>\n",
       "      <td>0.20</td>\n",
       "      <td>-0.03</td>\n",
       "      <td>-0.14</td>\n",
       "      <td>-0.10</td>\n",
       "      <td>-0.13</td>\n",
       "      <td>0.08</td>\n",
       "      <td>0.30</td>\n",
       "      <td>0.26</td>\n",
       "      <td>-0.24</td>\n",
       "      <td>...</td>\n",
       "      <td>0.01</td>\n",
       "      <td>0.06</td>\n",
       "      <td>-0.17</td>\n",
       "      <td>0.33</td>\n",
       "      <td>0.37</td>\n",
       "      <td>-0.06</td>\n",
       "      <td>-0.09</td>\n",
       "      <td>0.11</td>\n",
       "      <td>0.36</td>\n",
       "      <td>1.00</td>\n",
       "    </tr>\n",
       "  </tbody>\n",
       "</table>\n",
       "<p>32 rows × 32 columns</p>\n",
       "</div>"
      ],
      "text/plain": [
       "             Salinity  Bulk_dens  H2O_FPS  CO2_mg_m2_h  CH4_ug_m2_h  CH4_CO2  \\\n",
       "Salinity         1.00       0.28     0.08        -0.29        -0.25    -0.30   \n",
       "Bulk_dens        0.28       1.00    -0.54        -0.37         0.22     0.26   \n",
       "H2O_FPS          0.08      -0.54     1.00        -0.27        -0.39    -0.41   \n",
       "CO2_mg_m2_h     -0.29      -0.37    -0.27         1.00         0.49     0.32   \n",
       "CH4_ug_m2_h     -0.25       0.22    -0.39         0.49         1.00     0.88   \n",
       "CH4_CO2         -0.30       0.26    -0.41         0.32         0.88     1.00   \n",
       "pH              -0.19       0.30    -0.27        -0.15         0.06     0.17   \n",
       "Cl               0.97       0.26     0.13        -0.30        -0.25    -0.29   \n",
       "SO4              0.93       0.21     0.22        -0.35        -0.28    -0.29   \n",
       "C               -0.52      -0.70     0.06         0.58         0.17     0.19   \n",
       "N               -0.54      -0.67     0.07         0.54         0.23     0.28   \n",
       "P               -0.20      -0.46     0.22         0.28         0.01    -0.04   \n",
       "NO3_N           -0.22      -0.60     0.17         0.20        -0.06    -0.02   \n",
       "NH4_N           -0.31      -0.70     0.17         0.45         0.03     0.06   \n",
       "Olsen_P          0.15       0.15    -0.14        -0.03        -0.07    -0.11   \n",
       "CN              -0.17      -0.57     0.06         0.39        -0.10    -0.14   \n",
       "CP              -0.47      -0.64     0.03         0.54         0.14     0.17   \n",
       "NP              -0.55      -0.50    -0.01         0.48         0.27     0.35   \n",
       "NP_ext          -0.30      -0.64     0.19         0.35        -0.01     0.04   \n",
       "NO3_NH4          0.23       0.13    -0.09        -0.07         0.01    -0.05   \n",
       "Fe               0.13       0.29    -0.29        -0.15        -0.05    -0.05   \n",
       "Mn              -0.12       0.09    -0.18        -0.08        -0.04    -0.05   \n",
       "Cu               0.02       0.20    -0.25        -0.07        -0.05    -0.07   \n",
       "Zn               0.15       0.25    -0.22        -0.15        -0.11    -0.13   \n",
       "DOC_mg_L        -0.34       0.06    -0.33         0.33         0.52     0.59   \n",
       "Cl_pw            0.85       0.34     0.01        -0.29        -0.24    -0.28   \n",
       "SO4_pw           0.98       0.29     0.10        -0.31        -0.25    -0.29   \n",
       "Fe_pw           -0.01      -0.05     0.13        -0.09        -0.02     0.00   \n",
       "Mn_pw           -0.05      -0.18     0.06        -0.05        -0.10    -0.08   \n",
       "Co_pw            0.65       0.17     0.01        -0.12        -0.09    -0.13   \n",
       "Cu_pw            0.95       0.31     0.05        -0.30        -0.22    -0.26   \n",
       "Zn_pw            0.33       0.20    -0.03        -0.14        -0.10    -0.13   \n",
       "\n",
       "               pH    Cl   SO4     C  ...      Cu    Zn  DOC_mg_L  Cl_pw  \\\n",
       "Salinity    -0.19  0.97  0.93 -0.52  ...    0.02  0.15     -0.34   0.85   \n",
       "Bulk_dens    0.30  0.26  0.21 -0.70  ...    0.20  0.25      0.06   0.34   \n",
       "H2O_FPS     -0.27  0.13  0.22  0.06  ...   -0.25 -0.22     -0.33   0.01   \n",
       "CO2_mg_m2_h -0.15 -0.30 -0.35  0.58  ...   -0.07 -0.15      0.33  -0.29   \n",
       "CH4_ug_m2_h  0.06 -0.25 -0.28  0.17  ...   -0.05 -0.11      0.52  -0.24   \n",
       "CH4_CO2      0.17 -0.29 -0.29  0.19  ...   -0.07 -0.13      0.59  -0.28   \n",
       "pH           1.00 -0.21 -0.15 -0.12  ...   -0.24 -0.19      0.24  -0.12   \n",
       "Cl          -0.21  1.00  0.96 -0.51  ...   -0.01  0.11     -0.34   0.88   \n",
       "SO4         -0.15  0.96  1.00 -0.48  ...   -0.02  0.12     -0.33   0.84   \n",
       "C           -0.12 -0.51 -0.48  1.00  ...   -0.17 -0.31      0.37  -0.53   \n",
       "N           -0.06 -0.53 -0.50  0.97  ...   -0.26 -0.39      0.48  -0.57   \n",
       "P           -0.22 -0.20 -0.20  0.35  ...   -0.27 -0.28      0.08  -0.29   \n",
       "NO3_N       -0.01 -0.22 -0.17  0.67  ...   -0.18 -0.20      0.21  -0.23   \n",
       "NH4_N        0.02 -0.32 -0.26  0.81  ...   -0.19 -0.25      0.26  -0.33   \n",
       "Olsen_P      0.01  0.12  0.06 -0.33  ...   -0.00  0.03     -0.20   0.11   \n",
       "CN          -0.39 -0.18 -0.17  0.63  ...    0.36  0.28     -0.06  -0.18   \n",
       "CP          -0.12 -0.47 -0.43  0.94  ...   -0.04 -0.18      0.32  -0.47   \n",
       "NP           0.01 -0.54 -0.50  0.88  ...   -0.17 -0.32      0.51  -0.56   \n",
       "NP_ext       0.01 -0.30 -0.24  0.76  ...   -0.16 -0.22      0.23  -0.30   \n",
       "NO3_NH4     -0.03  0.20  0.18 -0.18  ...    0.15  0.19     -0.16   0.18   \n",
       "Fe          -0.10  0.09  0.11 -0.29  ...    0.92  0.97     -0.09   0.14   \n",
       "Mn          -0.10 -0.14 -0.13 -0.15  ...    0.68  0.71     -0.06  -0.13   \n",
       "Cu          -0.24 -0.01 -0.02 -0.17  ...    1.00  0.94     -0.12   0.03   \n",
       "Zn          -0.19  0.11  0.12 -0.31  ...    0.94  1.00     -0.19   0.16   \n",
       "DOC_mg_L     0.24 -0.34 -0.33  0.37  ...   -0.12 -0.19      1.00  -0.32   \n",
       "Cl_pw       -0.12  0.88  0.84 -0.53  ...    0.03  0.16     -0.32   1.00   \n",
       "SO4_pw      -0.21  0.96  0.92 -0.50  ...    0.04  0.14     -0.37   0.83   \n",
       "Fe_pw       -0.22  0.03  0.02  0.02  ...    0.05 -0.03      0.04  -0.02   \n",
       "Mn_pw        0.07 -0.04 -0.02 -0.01  ...   -0.04  0.01     -0.07  -0.05   \n",
       "Co_pw       -0.21  0.61  0.56 -0.29  ...    0.01  0.08     -0.15   0.47   \n",
       "Cu_pw       -0.20  0.95  0.91 -0.47  ...    0.03  0.13     -0.31   0.91   \n",
       "Zn_pw        0.08  0.30  0.26 -0.24  ...    0.01  0.06     -0.17   0.33   \n",
       "\n",
       "             SO4_pw  Fe_pw  Mn_pw  Co_pw  Cu_pw  Zn_pw  \n",
       "Salinity       0.98  -0.01  -0.05   0.65   0.95   0.33  \n",
       "Bulk_dens      0.29  -0.05  -0.18   0.17   0.31   0.20  \n",
       "H2O_FPS        0.10   0.13   0.06   0.01   0.05  -0.03  \n",
       "CO2_mg_m2_h   -0.31  -0.09  -0.05  -0.12  -0.30  -0.14  \n",
       "CH4_ug_m2_h   -0.25  -0.02  -0.10  -0.09  -0.22  -0.10  \n",
       "CH4_CO2       -0.29   0.00  -0.08  -0.13  -0.26  -0.13  \n",
       "pH            -0.21  -0.22   0.07  -0.21  -0.20   0.08  \n",
       "Cl             0.96   0.03  -0.04   0.61   0.95   0.30  \n",
       "SO4            0.92   0.02  -0.02   0.56   0.91   0.26  \n",
       "C             -0.50   0.02  -0.01  -0.29  -0.47  -0.24  \n",
       "N             -0.53   0.06  -0.01  -0.30  -0.50  -0.27  \n",
       "P             -0.21  -0.06   0.00  -0.17  -0.28  -0.07  \n",
       "NO3_N         -0.21  -0.07   0.07  -0.13  -0.18  -0.07  \n",
       "NH4_N         -0.30  -0.06  -0.03  -0.18  -0.27  -0.12  \n",
       "Olsen_P        0.11  -0.04   0.15   0.05   0.06   0.10  \n",
       "CN            -0.15  -0.03   0.17  -0.11  -0.14  -0.10  \n",
       "CP            -0.45   0.03   0.03  -0.26  -0.42  -0.24  \n",
       "NP            -0.53   0.10  -0.03  -0.30  -0.49  -0.29  \n",
       "NP_ext        -0.28  -0.04  -0.03  -0.18  -0.25  -0.10  \n",
       "NO3_NH4        0.21  -0.09   0.01   0.23   0.19   0.03  \n",
       "Fe             0.12  -0.04  -0.02   0.08   0.11   0.06  \n",
       "Mn            -0.13  -0.01   0.04  -0.10  -0.16  -0.06  \n",
       "Cu             0.04   0.05  -0.04   0.01   0.03   0.01  \n",
       "Zn             0.14  -0.03   0.01   0.08   0.13   0.06  \n",
       "DOC_mg_L      -0.37   0.04  -0.07  -0.15  -0.31  -0.17  \n",
       "Cl_pw          0.83  -0.02  -0.05   0.47   0.91   0.33  \n",
       "SO4_pw         1.00   0.04  -0.10   0.64   0.96   0.37  \n",
       "Fe_pw          0.04   1.00   0.04  -0.00   0.05  -0.06  \n",
       "Mn_pw         -0.10   0.04   1.00  -0.03  -0.10  -0.09  \n",
       "Co_pw          0.64  -0.00  -0.03   1.00   0.64   0.11  \n",
       "Cu_pw          0.96   0.05  -0.10   0.64   1.00   0.36  \n",
       "Zn_pw          0.37  -0.06  -0.09   0.11   0.36   1.00  \n",
       "\n",
       "[32 rows x 32 columns]"
      ]
     },
     "execution_count": 98,
     "metadata": {},
     "output_type": "execute_result"
    }
   ],
   "source": [
    "# get corr matrix\n",
    "all_corr = Env_chem.corr().round(2)\n",
    "#corr_mat['gene'] = corr_mat.index\n",
    "all_corr"
   ]
  },
  {
   "cell_type": "markdown",
   "metadata": {},
   "source": [
    "### Delta only sites"
   ]
  },
  {
   "cell_type": "code",
   "execution_count": 90,
   "metadata": {},
   "outputs": [],
   "source": [
    "Delta_sites = Oligo_FW_sites['Sample']"
   ]
  },
  {
   "cell_type": "code",
   "execution_count": 94,
   "metadata": {},
   "outputs": [],
   "source": [
    "# \n",
    "log_Delta = Env_chem_log[Env_chem_log.index.isin(Delta_sites)]"
   ]
  },
  {
   "cell_type": "code",
   "execution_count": 95,
   "metadata": {},
   "outputs": [
    {
     "data": {
      "text/html": [
       "<div>\n",
       "<style>\n",
       "    .dataframe thead tr:only-child th {\n",
       "        text-align: right;\n",
       "    }\n",
       "\n",
       "    .dataframe thead th {\n",
       "        text-align: left;\n",
       "    }\n",
       "\n",
       "    .dataframe tbody tr th {\n",
       "        vertical-align: top;\n",
       "    }\n",
       "</style>\n",
       "<table border=\"1\" class=\"dataframe\">\n",
       "  <thead>\n",
       "    <tr style=\"text-align: right;\">\n",
       "      <th></th>\n",
       "      <th>Salinity</th>\n",
       "      <th>Bulk_dens</th>\n",
       "      <th>H2O_FPS</th>\n",
       "      <th>CO2_mg_m2_h</th>\n",
       "      <th>CH4_ug_m2_h</th>\n",
       "      <th>CH4_CO2</th>\n",
       "      <th>pH</th>\n",
       "      <th>Cl</th>\n",
       "      <th>SO4</th>\n",
       "      <th>C</th>\n",
       "      <th>...</th>\n",
       "      <th>Cu</th>\n",
       "      <th>Zn</th>\n",
       "      <th>DOC_mg_L</th>\n",
       "      <th>Cl_pw</th>\n",
       "      <th>SO4_pw</th>\n",
       "      <th>Fe_pw</th>\n",
       "      <th>Mn_pw</th>\n",
       "      <th>Co_pw</th>\n",
       "      <th>Cu_pw</th>\n",
       "      <th>Zn_pw</th>\n",
       "    </tr>\n",
       "  </thead>\n",
       "  <tbody>\n",
       "    <tr>\n",
       "      <th>Salinity</th>\n",
       "      <td>1.00</td>\n",
       "      <td>0.62</td>\n",
       "      <td>-0.39</td>\n",
       "      <td>-0.25</td>\n",
       "      <td>0.25</td>\n",
       "      <td>0.41</td>\n",
       "      <td>0.38</td>\n",
       "      <td>0.96</td>\n",
       "      <td>0.50</td>\n",
       "      <td>-0.55</td>\n",
       "      <td>...</td>\n",
       "      <td>-0.02</td>\n",
       "      <td>0.01</td>\n",
       "      <td>0.56</td>\n",
       "      <td>0.62</td>\n",
       "      <td>0.26</td>\n",
       "      <td>0.14</td>\n",
       "      <td>0.22</td>\n",
       "      <td>0.44</td>\n",
       "      <td>0.62</td>\n",
       "      <td>-0.01</td>\n",
       "    </tr>\n",
       "    <tr>\n",
       "      <th>Bulk_dens</th>\n",
       "      <td>0.62</td>\n",
       "      <td>1.00</td>\n",
       "      <td>-0.58</td>\n",
       "      <td>-0.30</td>\n",
       "      <td>0.13</td>\n",
       "      <td>0.36</td>\n",
       "      <td>0.34</td>\n",
       "      <td>0.62</td>\n",
       "      <td>-0.04</td>\n",
       "      <td>-0.76</td>\n",
       "      <td>...</td>\n",
       "      <td>0.10</td>\n",
       "      <td>0.11</td>\n",
       "      <td>0.28</td>\n",
       "      <td>0.30</td>\n",
       "      <td>0.07</td>\n",
       "      <td>0.28</td>\n",
       "      <td>0.46</td>\n",
       "      <td>0.36</td>\n",
       "      <td>0.22</td>\n",
       "      <td>-0.24</td>\n",
       "    </tr>\n",
       "    <tr>\n",
       "      <th>H2O_FPS</th>\n",
       "      <td>-0.39</td>\n",
       "      <td>-0.58</td>\n",
       "      <td>1.00</td>\n",
       "      <td>-0.22</td>\n",
       "      <td>-0.57</td>\n",
       "      <td>-0.57</td>\n",
       "      <td>-0.43</td>\n",
       "      <td>-0.30</td>\n",
       "      <td>0.28</td>\n",
       "      <td>0.21</td>\n",
       "      <td>...</td>\n",
       "      <td>-0.30</td>\n",
       "      <td>-0.29</td>\n",
       "      <td>-0.42</td>\n",
       "      <td>-0.31</td>\n",
       "      <td>-0.21</td>\n",
       "      <td>-0.06</td>\n",
       "      <td>-0.18</td>\n",
       "      <td>-0.28</td>\n",
       "      <td>-0.15</td>\n",
       "      <td>0.04</td>\n",
       "    </tr>\n",
       "    <tr>\n",
       "      <th>CO2_mg_m2_h</th>\n",
       "      <td>-0.25</td>\n",
       "      <td>-0.30</td>\n",
       "      <td>-0.22</td>\n",
       "      <td>1.00</td>\n",
       "      <td>0.62</td>\n",
       "      <td>0.39</td>\n",
       "      <td>-0.16</td>\n",
       "      <td>-0.26</td>\n",
       "      <td>-0.24</td>\n",
       "      <td>0.47</td>\n",
       "      <td>...</td>\n",
       "      <td>-0.01</td>\n",
       "      <td>-0.02</td>\n",
       "      <td>0.14</td>\n",
       "      <td>-0.00</td>\n",
       "      <td>-0.08</td>\n",
       "      <td>-0.09</td>\n",
       "      <td>-0.12</td>\n",
       "      <td>-0.03</td>\n",
       "      <td>-0.16</td>\n",
       "      <td>0.02</td>\n",
       "    </tr>\n",
       "    <tr>\n",
       "      <th>CH4_ug_m2_h</th>\n",
       "      <td>0.25</td>\n",
       "      <td>0.13</td>\n",
       "      <td>-0.57</td>\n",
       "      <td>0.62</td>\n",
       "      <td>1.00</td>\n",
       "      <td>0.91</td>\n",
       "      <td>0.35</td>\n",
       "      <td>0.21</td>\n",
       "      <td>0.07</td>\n",
       "      <td>0.34</td>\n",
       "      <td>...</td>\n",
       "      <td>-0.03</td>\n",
       "      <td>-0.03</td>\n",
       "      <td>0.58</td>\n",
       "      <td>0.26</td>\n",
       "      <td>0.12</td>\n",
       "      <td>-0.09</td>\n",
       "      <td>-0.17</td>\n",
       "      <td>0.34</td>\n",
       "      <td>0.16</td>\n",
       "      <td>0.06</td>\n",
       "    </tr>\n",
       "    <tr>\n",
       "      <th>CH4_CO2</th>\n",
       "      <td>0.41</td>\n",
       "      <td>0.36</td>\n",
       "      <td>-0.57</td>\n",
       "      <td>0.39</td>\n",
       "      <td>0.91</td>\n",
       "      <td>1.00</td>\n",
       "      <td>0.42</td>\n",
       "      <td>0.38</td>\n",
       "      <td>0.14</td>\n",
       "      <td>0.14</td>\n",
       "      <td>...</td>\n",
       "      <td>-0.02</td>\n",
       "      <td>-0.02</td>\n",
       "      <td>0.65</td>\n",
       "      <td>0.34</td>\n",
       "      <td>0.10</td>\n",
       "      <td>0.03</td>\n",
       "      <td>-0.04</td>\n",
       "      <td>0.45</td>\n",
       "      <td>0.25</td>\n",
       "      <td>-0.04</td>\n",
       "    </tr>\n",
       "    <tr>\n",
       "      <th>pH</th>\n",
       "      <td>0.38</td>\n",
       "      <td>0.34</td>\n",
       "      <td>-0.43</td>\n",
       "      <td>-0.16</td>\n",
       "      <td>0.35</td>\n",
       "      <td>0.42</td>\n",
       "      <td>1.00</td>\n",
       "      <td>0.31</td>\n",
       "      <td>0.29</td>\n",
       "      <td>0.07</td>\n",
       "      <td>...</td>\n",
       "      <td>-0.14</td>\n",
       "      <td>-0.14</td>\n",
       "      <td>0.50</td>\n",
       "      <td>0.23</td>\n",
       "      <td>0.09</td>\n",
       "      <td>0.06</td>\n",
       "      <td>-0.03</td>\n",
       "      <td>0.27</td>\n",
       "      <td>0.30</td>\n",
       "      <td>-0.02</td>\n",
       "    </tr>\n",
       "    <tr>\n",
       "      <th>Cl</th>\n",
       "      <td>0.96</td>\n",
       "      <td>0.62</td>\n",
       "      <td>-0.30</td>\n",
       "      <td>-0.26</td>\n",
       "      <td>0.21</td>\n",
       "      <td>0.38</td>\n",
       "      <td>0.31</td>\n",
       "      <td>1.00</td>\n",
       "      <td>0.54</td>\n",
       "      <td>-0.57</td>\n",
       "      <td>...</td>\n",
       "      <td>0.01</td>\n",
       "      <td>0.03</td>\n",
       "      <td>0.52</td>\n",
       "      <td>0.60</td>\n",
       "      <td>0.23</td>\n",
       "      <td>0.13</td>\n",
       "      <td>0.21</td>\n",
       "      <td>0.44</td>\n",
       "      <td>0.61</td>\n",
       "      <td>0.00</td>\n",
       "    </tr>\n",
       "    <tr>\n",
       "      <th>SO4</th>\n",
       "      <td>0.50</td>\n",
       "      <td>-0.04</td>\n",
       "      <td>0.28</td>\n",
       "      <td>-0.24</td>\n",
       "      <td>0.07</td>\n",
       "      <td>0.14</td>\n",
       "      <td>0.29</td>\n",
       "      <td>0.54</td>\n",
       "      <td>1.00</td>\n",
       "      <td>-0.02</td>\n",
       "      <td>...</td>\n",
       "      <td>-0.33</td>\n",
       "      <td>-0.31</td>\n",
       "      <td>0.32</td>\n",
       "      <td>0.34</td>\n",
       "      <td>0.18</td>\n",
       "      <td>0.05</td>\n",
       "      <td>-0.06</td>\n",
       "      <td>0.20</td>\n",
       "      <td>0.44</td>\n",
       "      <td>0.15</td>\n",
       "    </tr>\n",
       "    <tr>\n",
       "      <th>C</th>\n",
       "      <td>-0.55</td>\n",
       "      <td>-0.76</td>\n",
       "      <td>0.21</td>\n",
       "      <td>0.47</td>\n",
       "      <td>0.34</td>\n",
       "      <td>0.14</td>\n",
       "      <td>0.07</td>\n",
       "      <td>-0.57</td>\n",
       "      <td>-0.02</td>\n",
       "      <td>1.00</td>\n",
       "      <td>...</td>\n",
       "      <td>-0.12</td>\n",
       "      <td>-0.14</td>\n",
       "      <td>0.13</td>\n",
       "      <td>-0.25</td>\n",
       "      <td>-0.14</td>\n",
       "      <td>-0.19</td>\n",
       "      <td>-0.49</td>\n",
       "      <td>-0.14</td>\n",
       "      <td>-0.21</td>\n",
       "      <td>0.16</td>\n",
       "    </tr>\n",
       "    <tr>\n",
       "      <th>N</th>\n",
       "      <td>-0.45</td>\n",
       "      <td>-0.66</td>\n",
       "      <td>0.19</td>\n",
       "      <td>0.43</td>\n",
       "      <td>0.40</td>\n",
       "      <td>0.24</td>\n",
       "      <td>0.15</td>\n",
       "      <td>-0.48</td>\n",
       "      <td>0.06</td>\n",
       "      <td>0.98</td>\n",
       "      <td>...</td>\n",
       "      <td>-0.20</td>\n",
       "      <td>-0.22</td>\n",
       "      <td>0.23</td>\n",
       "      <td>-0.22</td>\n",
       "      <td>-0.17</td>\n",
       "      <td>-0.14</td>\n",
       "      <td>-0.44</td>\n",
       "      <td>-0.04</td>\n",
       "      <td>-0.18</td>\n",
       "      <td>0.12</td>\n",
       "    </tr>\n",
       "    <tr>\n",
       "      <th>P</th>\n",
       "      <td>-0.31</td>\n",
       "      <td>-0.70</td>\n",
       "      <td>0.39</td>\n",
       "      <td>0.37</td>\n",
       "      <td>0.03</td>\n",
       "      <td>-0.13</td>\n",
       "      <td>-0.36</td>\n",
       "      <td>-0.30</td>\n",
       "      <td>-0.05</td>\n",
       "      <td>0.51</td>\n",
       "      <td>...</td>\n",
       "      <td>-0.11</td>\n",
       "      <td>-0.12</td>\n",
       "      <td>-0.11</td>\n",
       "      <td>-0.12</td>\n",
       "      <td>-0.03</td>\n",
       "      <td>-0.19</td>\n",
       "      <td>-0.28</td>\n",
       "      <td>-0.04</td>\n",
       "      <td>-0.06</td>\n",
       "      <td>0.22</td>\n",
       "    </tr>\n",
       "    <tr>\n",
       "      <th>NO3_N</th>\n",
       "      <td>-0.38</td>\n",
       "      <td>-0.81</td>\n",
       "      <td>0.42</td>\n",
       "      <td>0.19</td>\n",
       "      <td>-0.07</td>\n",
       "      <td>-0.24</td>\n",
       "      <td>-0.11</td>\n",
       "      <td>-0.41</td>\n",
       "      <td>0.19</td>\n",
       "      <td>0.63</td>\n",
       "      <td>...</td>\n",
       "      <td>-0.12</td>\n",
       "      <td>-0.12</td>\n",
       "      <td>-0.05</td>\n",
       "      <td>-0.10</td>\n",
       "      <td>-0.04</td>\n",
       "      <td>-0.10</td>\n",
       "      <td>-0.32</td>\n",
       "      <td>-0.18</td>\n",
       "      <td>-0.05</td>\n",
       "      <td>0.14</td>\n",
       "    </tr>\n",
       "    <tr>\n",
       "      <th>NH4_N</th>\n",
       "      <td>-0.50</td>\n",
       "      <td>-0.85</td>\n",
       "      <td>0.40</td>\n",
       "      <td>0.38</td>\n",
       "      <td>0.12</td>\n",
       "      <td>-0.05</td>\n",
       "      <td>-0.10</td>\n",
       "      <td>-0.53</td>\n",
       "      <td>0.07</td>\n",
       "      <td>0.81</td>\n",
       "      <td>...</td>\n",
       "      <td>-0.06</td>\n",
       "      <td>-0.07</td>\n",
       "      <td>-0.08</td>\n",
       "      <td>-0.22</td>\n",
       "      <td>-0.11</td>\n",
       "      <td>-0.18</td>\n",
       "      <td>-0.44</td>\n",
       "      <td>-0.19</td>\n",
       "      <td>-0.18</td>\n",
       "      <td>0.14</td>\n",
       "    </tr>\n",
       "    <tr>\n",
       "      <th>Olsen_P</th>\n",
       "      <td>0.03</td>\n",
       "      <td>0.45</td>\n",
       "      <td>-0.36</td>\n",
       "      <td>0.03</td>\n",
       "      <td>-0.12</td>\n",
       "      <td>-0.08</td>\n",
       "      <td>-0.15</td>\n",
       "      <td>-0.02</td>\n",
       "      <td>-0.57</td>\n",
       "      <td>-0.52</td>\n",
       "      <td>...</td>\n",
       "      <td>0.19</td>\n",
       "      <td>0.20</td>\n",
       "      <td>-0.27</td>\n",
       "      <td>-0.05</td>\n",
       "      <td>-0.01</td>\n",
       "      <td>0.11</td>\n",
       "      <td>0.32</td>\n",
       "      <td>0.00</td>\n",
       "      <td>-0.12</td>\n",
       "      <td>-0.12</td>\n",
       "    </tr>\n",
       "    <tr>\n",
       "      <th>CN</th>\n",
       "      <td>-0.62</td>\n",
       "      <td>-0.84</td>\n",
       "      <td>0.29</td>\n",
       "      <td>0.35</td>\n",
       "      <td>-0.11</td>\n",
       "      <td>-0.37</td>\n",
       "      <td>-0.41</td>\n",
       "      <td>-0.62</td>\n",
       "      <td>-0.25</td>\n",
       "      <td>0.58</td>\n",
       "      <td>...</td>\n",
       "      <td>0.30</td>\n",
       "      <td>0.29</td>\n",
       "      <td>-0.32</td>\n",
       "      <td>-0.26</td>\n",
       "      <td>0.02</td>\n",
       "      <td>-0.28</td>\n",
       "      <td>-0.41</td>\n",
       "      <td>-0.39</td>\n",
       "      <td>-0.21</td>\n",
       "      <td>0.25</td>\n",
       "    </tr>\n",
       "    <tr>\n",
       "      <th>CP</th>\n",
       "      <td>-0.58</td>\n",
       "      <td>-0.73</td>\n",
       "      <td>0.17</td>\n",
       "      <td>0.42</td>\n",
       "      <td>0.31</td>\n",
       "      <td>0.11</td>\n",
       "      <td>0.08</td>\n",
       "      <td>-0.60</td>\n",
       "      <td>-0.04</td>\n",
       "      <td>0.97</td>\n",
       "      <td>...</td>\n",
       "      <td>-0.02</td>\n",
       "      <td>-0.03</td>\n",
       "      <td>0.11</td>\n",
       "      <td>-0.27</td>\n",
       "      <td>-0.14</td>\n",
       "      <td>-0.18</td>\n",
       "      <td>-0.49</td>\n",
       "      <td>-0.19</td>\n",
       "      <td>-0.23</td>\n",
       "      <td>0.14</td>\n",
       "    </tr>\n",
       "    <tr>\n",
       "      <th>NP</th>\n",
       "      <td>-0.38</td>\n",
       "      <td>-0.44</td>\n",
       "      <td>0.05</td>\n",
       "      <td>0.34</td>\n",
       "      <td>0.44</td>\n",
       "      <td>0.33</td>\n",
       "      <td>0.33</td>\n",
       "      <td>-0.41</td>\n",
       "      <td>0.09</td>\n",
       "      <td>0.89</td>\n",
       "      <td>...</td>\n",
       "      <td>-0.18</td>\n",
       "      <td>-0.20</td>\n",
       "      <td>0.31</td>\n",
       "      <td>-0.19</td>\n",
       "      <td>-0.19</td>\n",
       "      <td>-0.07</td>\n",
       "      <td>-0.38</td>\n",
       "      <td>-0.03</td>\n",
       "      <td>-0.18</td>\n",
       "      <td>0.04</td>\n",
       "    </tr>\n",
       "    <tr>\n",
       "      <th>NP_ext</th>\n",
       "      <td>-0.16</td>\n",
       "      <td>-0.34</td>\n",
       "      <td>0.31</td>\n",
       "      <td>0.06</td>\n",
       "      <td>-0.07</td>\n",
       "      <td>-0.12</td>\n",
       "      <td>-0.08</td>\n",
       "      <td>-0.16</td>\n",
       "      <td>0.19</td>\n",
       "      <td>0.28</td>\n",
       "      <td>...</td>\n",
       "      <td>-0.26</td>\n",
       "      <td>-0.26</td>\n",
       "      <td>-0.03</td>\n",
       "      <td>-0.11</td>\n",
       "      <td>-0.17</td>\n",
       "      <td>0.03</td>\n",
       "      <td>-0.03</td>\n",
       "      <td>-0.10</td>\n",
       "      <td>-0.10</td>\n",
       "      <td>-0.03</td>\n",
       "    </tr>\n",
       "    <tr>\n",
       "      <th>NO3_NH4</th>\n",
       "      <td>0.03</td>\n",
       "      <td>-0.08</td>\n",
       "      <td>-0.12</td>\n",
       "      <td>-0.06</td>\n",
       "      <td>-0.08</td>\n",
       "      <td>-0.14</td>\n",
       "      <td>0.01</td>\n",
       "      <td>0.00</td>\n",
       "      <td>-0.04</td>\n",
       "      <td>-0.05</td>\n",
       "      <td>...</td>\n",
       "      <td>0.22</td>\n",
       "      <td>0.22</td>\n",
       "      <td>0.03</td>\n",
       "      <td>0.14</td>\n",
       "      <td>0.22</td>\n",
       "      <td>-0.03</td>\n",
       "      <td>-0.07</td>\n",
       "      <td>-0.01</td>\n",
       "      <td>0.15</td>\n",
       "      <td>0.14</td>\n",
       "    </tr>\n",
       "    <tr>\n",
       "      <th>Fe</th>\n",
       "      <td>0.02</td>\n",
       "      <td>0.10</td>\n",
       "      <td>-0.31</td>\n",
       "      <td>-0.01</td>\n",
       "      <td>-0.00</td>\n",
       "      <td>0.00</td>\n",
       "      <td>-0.11</td>\n",
       "      <td>0.05</td>\n",
       "      <td>-0.30</td>\n",
       "      <td>-0.12</td>\n",
       "      <td>...</td>\n",
       "      <td>1.00</td>\n",
       "      <td>1.00</td>\n",
       "      <td>0.06</td>\n",
       "      <td>0.09</td>\n",
       "      <td>0.03</td>\n",
       "      <td>0.09</td>\n",
       "      <td>0.05</td>\n",
       "      <td>0.03</td>\n",
       "      <td>0.05</td>\n",
       "      <td>-0.00</td>\n",
       "    </tr>\n",
       "    <tr>\n",
       "      <th>Mn</th>\n",
       "      <td>0.03</td>\n",
       "      <td>0.14</td>\n",
       "      <td>-0.32</td>\n",
       "      <td>-0.03</td>\n",
       "      <td>-0.02</td>\n",
       "      <td>-0.00</td>\n",
       "      <td>-0.10</td>\n",
       "      <td>0.06</td>\n",
       "      <td>-0.31</td>\n",
       "      <td>-0.15</td>\n",
       "      <td>...</td>\n",
       "      <td>1.00</td>\n",
       "      <td>1.00</td>\n",
       "      <td>0.05</td>\n",
       "      <td>0.09</td>\n",
       "      <td>0.03</td>\n",
       "      <td>0.11</td>\n",
       "      <td>0.08</td>\n",
       "      <td>0.04</td>\n",
       "      <td>0.05</td>\n",
       "      <td>-0.03</td>\n",
       "    </tr>\n",
       "    <tr>\n",
       "      <th>Cu</th>\n",
       "      <td>-0.02</td>\n",
       "      <td>0.10</td>\n",
       "      <td>-0.30</td>\n",
       "      <td>-0.01</td>\n",
       "      <td>-0.03</td>\n",
       "      <td>-0.02</td>\n",
       "      <td>-0.14</td>\n",
       "      <td>0.01</td>\n",
       "      <td>-0.33</td>\n",
       "      <td>-0.12</td>\n",
       "      <td>...</td>\n",
       "      <td>1.00</td>\n",
       "      <td>1.00</td>\n",
       "      <td>0.03</td>\n",
       "      <td>0.07</td>\n",
       "      <td>0.02</td>\n",
       "      <td>0.09</td>\n",
       "      <td>0.06</td>\n",
       "      <td>0.01</td>\n",
       "      <td>0.02</td>\n",
       "      <td>-0.01</td>\n",
       "    </tr>\n",
       "    <tr>\n",
       "      <th>Zn</th>\n",
       "      <td>0.01</td>\n",
       "      <td>0.11</td>\n",
       "      <td>-0.29</td>\n",
       "      <td>-0.02</td>\n",
       "      <td>-0.03</td>\n",
       "      <td>-0.02</td>\n",
       "      <td>-0.14</td>\n",
       "      <td>0.03</td>\n",
       "      <td>-0.31</td>\n",
       "      <td>-0.14</td>\n",
       "      <td>...</td>\n",
       "      <td>1.00</td>\n",
       "      <td>1.00</td>\n",
       "      <td>0.03</td>\n",
       "      <td>0.08</td>\n",
       "      <td>0.03</td>\n",
       "      <td>0.09</td>\n",
       "      <td>0.07</td>\n",
       "      <td>0.02</td>\n",
       "      <td>0.04</td>\n",
       "      <td>-0.01</td>\n",
       "    </tr>\n",
       "    <tr>\n",
       "      <th>DOC_mg_L</th>\n",
       "      <td>0.56</td>\n",
       "      <td>0.28</td>\n",
       "      <td>-0.42</td>\n",
       "      <td>0.14</td>\n",
       "      <td>0.58</td>\n",
       "      <td>0.65</td>\n",
       "      <td>0.50</td>\n",
       "      <td>0.52</td>\n",
       "      <td>0.32</td>\n",
       "      <td>0.13</td>\n",
       "      <td>...</td>\n",
       "      <td>0.03</td>\n",
       "      <td>0.03</td>\n",
       "      <td>1.00</td>\n",
       "      <td>0.75</td>\n",
       "      <td>0.19</td>\n",
       "      <td>0.43</td>\n",
       "      <td>0.16</td>\n",
       "      <td>0.62</td>\n",
       "      <td>0.62</td>\n",
       "      <td>0.01</td>\n",
       "    </tr>\n",
       "    <tr>\n",
       "      <th>Cl_pw</th>\n",
       "      <td>0.62</td>\n",
       "      <td>0.30</td>\n",
       "      <td>-0.31</td>\n",
       "      <td>-0.00</td>\n",
       "      <td>0.26</td>\n",
       "      <td>0.34</td>\n",
       "      <td>0.23</td>\n",
       "      <td>0.60</td>\n",
       "      <td>0.34</td>\n",
       "      <td>-0.25</td>\n",
       "      <td>...</td>\n",
       "      <td>0.07</td>\n",
       "      <td>0.08</td>\n",
       "      <td>0.75</td>\n",
       "      <td>1.00</td>\n",
       "      <td>0.60</td>\n",
       "      <td>0.45</td>\n",
       "      <td>0.31</td>\n",
       "      <td>0.55</td>\n",
       "      <td>0.83</td>\n",
       "      <td>0.25</td>\n",
       "    </tr>\n",
       "    <tr>\n",
       "      <th>SO4_pw</th>\n",
       "      <td>0.26</td>\n",
       "      <td>0.07</td>\n",
       "      <td>-0.21</td>\n",
       "      <td>-0.08</td>\n",
       "      <td>0.12</td>\n",
       "      <td>0.10</td>\n",
       "      <td>0.09</td>\n",
       "      <td>0.23</td>\n",
       "      <td>0.18</td>\n",
       "      <td>-0.14</td>\n",
       "      <td>...</td>\n",
       "      <td>0.02</td>\n",
       "      <td>0.03</td>\n",
       "      <td>0.19</td>\n",
       "      <td>0.60</td>\n",
       "      <td>1.00</td>\n",
       "      <td>-0.08</td>\n",
       "      <td>-0.07</td>\n",
       "      <td>0.26</td>\n",
       "      <td>0.65</td>\n",
       "      <td>0.67</td>\n",
       "    </tr>\n",
       "    <tr>\n",
       "      <th>Fe_pw</th>\n",
       "      <td>0.14</td>\n",
       "      <td>0.28</td>\n",
       "      <td>-0.06</td>\n",
       "      <td>-0.09</td>\n",
       "      <td>-0.09</td>\n",
       "      <td>0.03</td>\n",
       "      <td>0.06</td>\n",
       "      <td>0.13</td>\n",
       "      <td>0.05</td>\n",
       "      <td>-0.19</td>\n",
       "      <td>...</td>\n",
       "      <td>0.09</td>\n",
       "      <td>0.09</td>\n",
       "      <td>0.43</td>\n",
       "      <td>0.45</td>\n",
       "      <td>-0.08</td>\n",
       "      <td>1.00</td>\n",
       "      <td>0.75</td>\n",
       "      <td>0.50</td>\n",
       "      <td>0.17</td>\n",
       "      <td>-0.27</td>\n",
       "    </tr>\n",
       "    <tr>\n",
       "      <th>Mn_pw</th>\n",
       "      <td>0.22</td>\n",
       "      <td>0.46</td>\n",
       "      <td>-0.18</td>\n",
       "      <td>-0.12</td>\n",
       "      <td>-0.17</td>\n",
       "      <td>-0.04</td>\n",
       "      <td>-0.03</td>\n",
       "      <td>0.21</td>\n",
       "      <td>-0.06</td>\n",
       "      <td>-0.49</td>\n",
       "      <td>...</td>\n",
       "      <td>0.06</td>\n",
       "      <td>0.07</td>\n",
       "      <td>0.16</td>\n",
       "      <td>0.31</td>\n",
       "      <td>-0.07</td>\n",
       "      <td>0.75</td>\n",
       "      <td>1.00</td>\n",
       "      <td>0.45</td>\n",
       "      <td>0.07</td>\n",
       "      <td>-0.22</td>\n",
       "    </tr>\n",
       "    <tr>\n",
       "      <th>Co_pw</th>\n",
       "      <td>0.44</td>\n",
       "      <td>0.36</td>\n",
       "      <td>-0.28</td>\n",
       "      <td>-0.03</td>\n",
       "      <td>0.34</td>\n",
       "      <td>0.45</td>\n",
       "      <td>0.27</td>\n",
       "      <td>0.44</td>\n",
       "      <td>0.20</td>\n",
       "      <td>-0.14</td>\n",
       "      <td>...</td>\n",
       "      <td>0.01</td>\n",
       "      <td>0.02</td>\n",
       "      <td>0.62</td>\n",
       "      <td>0.55</td>\n",
       "      <td>0.26</td>\n",
       "      <td>0.50</td>\n",
       "      <td>0.45</td>\n",
       "      <td>1.00</td>\n",
       "      <td>0.53</td>\n",
       "      <td>0.10</td>\n",
       "    </tr>\n",
       "    <tr>\n",
       "      <th>Cu_pw</th>\n",
       "      <td>0.62</td>\n",
       "      <td>0.22</td>\n",
       "      <td>-0.15</td>\n",
       "      <td>-0.16</td>\n",
       "      <td>0.16</td>\n",
       "      <td>0.25</td>\n",
       "      <td>0.30</td>\n",
       "      <td>0.61</td>\n",
       "      <td>0.44</td>\n",
       "      <td>-0.21</td>\n",
       "      <td>...</td>\n",
       "      <td>0.02</td>\n",
       "      <td>0.04</td>\n",
       "      <td>0.62</td>\n",
       "      <td>0.83</td>\n",
       "      <td>0.65</td>\n",
       "      <td>0.17</td>\n",
       "      <td>0.07</td>\n",
       "      <td>0.53</td>\n",
       "      <td>1.00</td>\n",
       "      <td>0.46</td>\n",
       "    </tr>\n",
       "    <tr>\n",
       "      <th>Zn_pw</th>\n",
       "      <td>-0.01</td>\n",
       "      <td>-0.24</td>\n",
       "      <td>0.04</td>\n",
       "      <td>0.02</td>\n",
       "      <td>0.06</td>\n",
       "      <td>-0.04</td>\n",
       "      <td>-0.02</td>\n",
       "      <td>0.00</td>\n",
       "      <td>0.15</td>\n",
       "      <td>0.16</td>\n",
       "      <td>...</td>\n",
       "      <td>-0.01</td>\n",
       "      <td>-0.01</td>\n",
       "      <td>0.01</td>\n",
       "      <td>0.25</td>\n",
       "      <td>0.67</td>\n",
       "      <td>-0.27</td>\n",
       "      <td>-0.22</td>\n",
       "      <td>0.10</td>\n",
       "      <td>0.46</td>\n",
       "      <td>1.00</td>\n",
       "    </tr>\n",
       "  </tbody>\n",
       "</table>\n",
       "<p>32 rows × 32 columns</p>\n",
       "</div>"
      ],
      "text/plain": [
       "             Salinity  Bulk_dens  H2O_FPS  CO2_mg_m2_h  CH4_ug_m2_h  CH4_CO2  \\\n",
       "Salinity         1.00       0.62    -0.39        -0.25         0.25     0.41   \n",
       "Bulk_dens        0.62       1.00    -0.58        -0.30         0.13     0.36   \n",
       "H2O_FPS         -0.39      -0.58     1.00        -0.22        -0.57    -0.57   \n",
       "CO2_mg_m2_h     -0.25      -0.30    -0.22         1.00         0.62     0.39   \n",
       "CH4_ug_m2_h      0.25       0.13    -0.57         0.62         1.00     0.91   \n",
       "CH4_CO2          0.41       0.36    -0.57         0.39         0.91     1.00   \n",
       "pH               0.38       0.34    -0.43        -0.16         0.35     0.42   \n",
       "Cl               0.96       0.62    -0.30        -0.26         0.21     0.38   \n",
       "SO4              0.50      -0.04     0.28        -0.24         0.07     0.14   \n",
       "C               -0.55      -0.76     0.21         0.47         0.34     0.14   \n",
       "N               -0.45      -0.66     0.19         0.43         0.40     0.24   \n",
       "P               -0.31      -0.70     0.39         0.37         0.03    -0.13   \n",
       "NO3_N           -0.38      -0.81     0.42         0.19        -0.07    -0.24   \n",
       "NH4_N           -0.50      -0.85     0.40         0.38         0.12    -0.05   \n",
       "Olsen_P          0.03       0.45    -0.36         0.03        -0.12    -0.08   \n",
       "CN              -0.62      -0.84     0.29         0.35        -0.11    -0.37   \n",
       "CP              -0.58      -0.73     0.17         0.42         0.31     0.11   \n",
       "NP              -0.38      -0.44     0.05         0.34         0.44     0.33   \n",
       "NP_ext          -0.16      -0.34     0.31         0.06        -0.07    -0.12   \n",
       "NO3_NH4          0.03      -0.08    -0.12        -0.06        -0.08    -0.14   \n",
       "Fe               0.02       0.10    -0.31        -0.01        -0.00     0.00   \n",
       "Mn               0.03       0.14    -0.32        -0.03        -0.02    -0.00   \n",
       "Cu              -0.02       0.10    -0.30        -0.01        -0.03    -0.02   \n",
       "Zn               0.01       0.11    -0.29        -0.02        -0.03    -0.02   \n",
       "DOC_mg_L         0.56       0.28    -0.42         0.14         0.58     0.65   \n",
       "Cl_pw            0.62       0.30    -0.31        -0.00         0.26     0.34   \n",
       "SO4_pw           0.26       0.07    -0.21        -0.08         0.12     0.10   \n",
       "Fe_pw            0.14       0.28    -0.06        -0.09        -0.09     0.03   \n",
       "Mn_pw            0.22       0.46    -0.18        -0.12        -0.17    -0.04   \n",
       "Co_pw            0.44       0.36    -0.28        -0.03         0.34     0.45   \n",
       "Cu_pw            0.62       0.22    -0.15        -0.16         0.16     0.25   \n",
       "Zn_pw           -0.01      -0.24     0.04         0.02         0.06    -0.04   \n",
       "\n",
       "               pH    Cl   SO4     C  ...      Cu    Zn  DOC_mg_L  Cl_pw  \\\n",
       "Salinity     0.38  0.96  0.50 -0.55  ...   -0.02  0.01      0.56   0.62   \n",
       "Bulk_dens    0.34  0.62 -0.04 -0.76  ...    0.10  0.11      0.28   0.30   \n",
       "H2O_FPS     -0.43 -0.30  0.28  0.21  ...   -0.30 -0.29     -0.42  -0.31   \n",
       "CO2_mg_m2_h -0.16 -0.26 -0.24  0.47  ...   -0.01 -0.02      0.14  -0.00   \n",
       "CH4_ug_m2_h  0.35  0.21  0.07  0.34  ...   -0.03 -0.03      0.58   0.26   \n",
       "CH4_CO2      0.42  0.38  0.14  0.14  ...   -0.02 -0.02      0.65   0.34   \n",
       "pH           1.00  0.31  0.29  0.07  ...   -0.14 -0.14      0.50   0.23   \n",
       "Cl           0.31  1.00  0.54 -0.57  ...    0.01  0.03      0.52   0.60   \n",
       "SO4          0.29  0.54  1.00 -0.02  ...   -0.33 -0.31      0.32   0.34   \n",
       "C            0.07 -0.57 -0.02  1.00  ...   -0.12 -0.14      0.13  -0.25   \n",
       "N            0.15 -0.48  0.06  0.98  ...   -0.20 -0.22      0.23  -0.22   \n",
       "P           -0.36 -0.30 -0.05  0.51  ...   -0.11 -0.12     -0.11  -0.12   \n",
       "NO3_N       -0.11 -0.41  0.19  0.63  ...   -0.12 -0.12     -0.05  -0.10   \n",
       "NH4_N       -0.10 -0.53  0.07  0.81  ...   -0.06 -0.07     -0.08  -0.22   \n",
       "Olsen_P     -0.15 -0.02 -0.57 -0.52  ...    0.19  0.20     -0.27  -0.05   \n",
       "CN          -0.41 -0.62 -0.25  0.58  ...    0.30  0.29     -0.32  -0.26   \n",
       "CP           0.08 -0.60 -0.04  0.97  ...   -0.02 -0.03      0.11  -0.27   \n",
       "NP           0.33 -0.41  0.09  0.89  ...   -0.18 -0.20      0.31  -0.19   \n",
       "NP_ext      -0.08 -0.16  0.19  0.28  ...   -0.26 -0.26     -0.03  -0.11   \n",
       "NO3_NH4      0.01  0.00 -0.04 -0.05  ...    0.22  0.22      0.03   0.14   \n",
       "Fe          -0.11  0.05 -0.30 -0.12  ...    1.00  1.00      0.06   0.09   \n",
       "Mn          -0.10  0.06 -0.31 -0.15  ...    1.00  1.00      0.05   0.09   \n",
       "Cu          -0.14  0.01 -0.33 -0.12  ...    1.00  1.00      0.03   0.07   \n",
       "Zn          -0.14  0.03 -0.31 -0.14  ...    1.00  1.00      0.03   0.08   \n",
       "DOC_mg_L     0.50  0.52  0.32  0.13  ...    0.03  0.03      1.00   0.75   \n",
       "Cl_pw        0.23  0.60  0.34 -0.25  ...    0.07  0.08      0.75   1.00   \n",
       "SO4_pw       0.09  0.23  0.18 -0.14  ...    0.02  0.03      0.19   0.60   \n",
       "Fe_pw        0.06  0.13  0.05 -0.19  ...    0.09  0.09      0.43   0.45   \n",
       "Mn_pw       -0.03  0.21 -0.06 -0.49  ...    0.06  0.07      0.16   0.31   \n",
       "Co_pw        0.27  0.44  0.20 -0.14  ...    0.01  0.02      0.62   0.55   \n",
       "Cu_pw        0.30  0.61  0.44 -0.21  ...    0.02  0.04      0.62   0.83   \n",
       "Zn_pw       -0.02  0.00  0.15  0.16  ...   -0.01 -0.01      0.01   0.25   \n",
       "\n",
       "             SO4_pw  Fe_pw  Mn_pw  Co_pw  Cu_pw  Zn_pw  \n",
       "Salinity       0.26   0.14   0.22   0.44   0.62  -0.01  \n",
       "Bulk_dens      0.07   0.28   0.46   0.36   0.22  -0.24  \n",
       "H2O_FPS       -0.21  -0.06  -0.18  -0.28  -0.15   0.04  \n",
       "CO2_mg_m2_h   -0.08  -0.09  -0.12  -0.03  -0.16   0.02  \n",
       "CH4_ug_m2_h    0.12  -0.09  -0.17   0.34   0.16   0.06  \n",
       "CH4_CO2        0.10   0.03  -0.04   0.45   0.25  -0.04  \n",
       "pH             0.09   0.06  -0.03   0.27   0.30  -0.02  \n",
       "Cl             0.23   0.13   0.21   0.44   0.61   0.00  \n",
       "SO4            0.18   0.05  -0.06   0.20   0.44   0.15  \n",
       "C             -0.14  -0.19  -0.49  -0.14  -0.21   0.16  \n",
       "N             -0.17  -0.14  -0.44  -0.04  -0.18   0.12  \n",
       "P             -0.03  -0.19  -0.28  -0.04  -0.06   0.22  \n",
       "NO3_N         -0.04  -0.10  -0.32  -0.18  -0.05   0.14  \n",
       "NH4_N         -0.11  -0.18  -0.44  -0.19  -0.18   0.14  \n",
       "Olsen_P       -0.01   0.11   0.32   0.00  -0.12  -0.12  \n",
       "CN             0.02  -0.28  -0.41  -0.39  -0.21   0.25  \n",
       "CP            -0.14  -0.18  -0.49  -0.19  -0.23   0.14  \n",
       "NP            -0.19  -0.07  -0.38  -0.03  -0.18   0.04  \n",
       "NP_ext        -0.17   0.03  -0.03  -0.10  -0.10  -0.03  \n",
       "NO3_NH4        0.22  -0.03  -0.07  -0.01   0.15   0.14  \n",
       "Fe             0.03   0.09   0.05   0.03   0.05  -0.00  \n",
       "Mn             0.03   0.11   0.08   0.04   0.05  -0.03  \n",
       "Cu             0.02   0.09   0.06   0.01   0.02  -0.01  \n",
       "Zn             0.03   0.09   0.07   0.02   0.04  -0.01  \n",
       "DOC_mg_L       0.19   0.43   0.16   0.62   0.62   0.01  \n",
       "Cl_pw          0.60   0.45   0.31   0.55   0.83   0.25  \n",
       "SO4_pw         1.00  -0.08  -0.07   0.26   0.65   0.67  \n",
       "Fe_pw         -0.08   1.00   0.75   0.50   0.17  -0.27  \n",
       "Mn_pw         -0.07   0.75   1.00   0.45   0.07  -0.22  \n",
       "Co_pw          0.26   0.50   0.45   1.00   0.53   0.10  \n",
       "Cu_pw          0.65   0.17   0.07   0.53   1.00   0.46  \n",
       "Zn_pw          0.67  -0.27  -0.22   0.10   0.46   1.00  \n",
       "\n",
       "[32 rows x 32 columns]"
      ]
     },
     "execution_count": 95,
     "metadata": {},
     "output_type": "execute_result"
    }
   ],
   "source": [
    "# get corr matrix\n",
    "Delta_corr = log_Delta.corr().round(2)\n",
    "#corr_mat['gene'] = corr_mat.index\n",
    "Delta_corr"
   ]
  },
  {
   "cell_type": "code",
   "execution_count": 97,
   "metadata": {},
   "outputs": [],
   "source": [
    "Delta_corr.to_csv(\"DELTA_sites_chem_log_corr_py.txt\", sep = '\\t')"
   ]
  },
  {
   "cell_type": "code",
   "execution_count": null,
   "metadata": {},
   "outputs": [],
   "source": [
    "# no log "
   ]
  },
  {
   "cell_type": "code",
   "execution_count": 100,
   "metadata": {},
   "outputs": [
    {
     "data": {
      "text/html": [
       "<div>\n",
       "<style>\n",
       "    .dataframe thead tr:only-child th {\n",
       "        text-align: right;\n",
       "    }\n",
       "\n",
       "    .dataframe thead th {\n",
       "        text-align: left;\n",
       "    }\n",
       "\n",
       "    .dataframe tbody tr th {\n",
       "        vertical-align: top;\n",
       "    }\n",
       "</style>\n",
       "<table border=\"1\" class=\"dataframe\">\n",
       "  <thead>\n",
       "    <tr style=\"text-align: right;\">\n",
       "      <th></th>\n",
       "      <th>Salinity</th>\n",
       "      <th>Bulk_dens</th>\n",
       "      <th>H2O_FPS</th>\n",
       "      <th>CO2_mg_m2_h</th>\n",
       "      <th>CH4_ug_m2_h</th>\n",
       "      <th>CH4_CO2</th>\n",
       "      <th>pH</th>\n",
       "      <th>Cl</th>\n",
       "      <th>SO4</th>\n",
       "      <th>C</th>\n",
       "      <th>...</th>\n",
       "      <th>Cu</th>\n",
       "      <th>Zn</th>\n",
       "      <th>DOC_mg_L</th>\n",
       "      <th>Cl_pw</th>\n",
       "      <th>SO4_pw</th>\n",
       "      <th>Fe_pw</th>\n",
       "      <th>Mn_pw</th>\n",
       "      <th>Co_pw</th>\n",
       "      <th>Cu_pw</th>\n",
       "      <th>Zn_pw</th>\n",
       "    </tr>\n",
       "  </thead>\n",
       "  <tbody>\n",
       "    <tr>\n",
       "      <th>Salinity</th>\n",
       "      <td>1.00</td>\n",
       "      <td>0.50</td>\n",
       "      <td>-0.34</td>\n",
       "      <td>-0.15</td>\n",
       "      <td>0.22</td>\n",
       "      <td>0.28</td>\n",
       "      <td>0.25</td>\n",
       "      <td>0.92</td>\n",
       "      <td>0.35</td>\n",
       "      <td>-0.47</td>\n",
       "      <td>...</td>\n",
       "      <td>-0.08</td>\n",
       "      <td>0.05</td>\n",
       "      <td>0.58</td>\n",
       "      <td>0.61</td>\n",
       "      <td>-0.04</td>\n",
       "      <td>-0.18</td>\n",
       "      <td>0.23</td>\n",
       "      <td>0.23</td>\n",
       "      <td>0.39</td>\n",
       "      <td>-0.27</td>\n",
       "    </tr>\n",
       "    <tr>\n",
       "      <th>Bulk_dens</th>\n",
       "      <td>0.50</td>\n",
       "      <td>1.00</td>\n",
       "      <td>-0.75</td>\n",
       "      <td>-0.21</td>\n",
       "      <td>0.36</td>\n",
       "      <td>0.45</td>\n",
       "      <td>0.49</td>\n",
       "      <td>0.42</td>\n",
       "      <td>-0.21</td>\n",
       "      <td>-0.72</td>\n",
       "      <td>...</td>\n",
       "      <td>0.12</td>\n",
       "      <td>0.15</td>\n",
       "      <td>0.34</td>\n",
       "      <td>0.20</td>\n",
       "      <td>0.02</td>\n",
       "      <td>-0.02</td>\n",
       "      <td>0.13</td>\n",
       "      <td>0.22</td>\n",
       "      <td>-0.07</td>\n",
       "      <td>-0.30</td>\n",
       "    </tr>\n",
       "    <tr>\n",
       "      <th>H2O_FPS</th>\n",
       "      <td>-0.34</td>\n",
       "      <td>-0.75</td>\n",
       "      <td>1.00</td>\n",
       "      <td>-0.23</td>\n",
       "      <td>-0.45</td>\n",
       "      <td>-0.51</td>\n",
       "      <td>-0.43</td>\n",
       "      <td>-0.23</td>\n",
       "      <td>0.28</td>\n",
       "      <td>0.26</td>\n",
       "      <td>...</td>\n",
       "      <td>-0.17</td>\n",
       "      <td>-0.17</td>\n",
       "      <td>-0.34</td>\n",
       "      <td>-0.20</td>\n",
       "      <td>-0.06</td>\n",
       "      <td>0.25</td>\n",
       "      <td>0.02</td>\n",
       "      <td>-0.16</td>\n",
       "      <td>0.05</td>\n",
       "      <td>0.03</td>\n",
       "    </tr>\n",
       "    <tr>\n",
       "      <th>CO2_mg_m2_h</th>\n",
       "      <td>-0.15</td>\n",
       "      <td>-0.21</td>\n",
       "      <td>-0.23</td>\n",
       "      <td>1.00</td>\n",
       "      <td>0.53</td>\n",
       "      <td>0.30</td>\n",
       "      <td>-0.21</td>\n",
       "      <td>-0.13</td>\n",
       "      <td>-0.22</td>\n",
       "      <td>0.46</td>\n",
       "      <td>...</td>\n",
       "      <td>-0.05</td>\n",
       "      <td>-0.10</td>\n",
       "      <td>0.12</td>\n",
       "      <td>0.04</td>\n",
       "      <td>-0.08</td>\n",
       "      <td>-0.22</td>\n",
       "      <td>-0.23</td>\n",
       "      <td>0.00</td>\n",
       "      <td>-0.14</td>\n",
       "      <td>0.30</td>\n",
       "    </tr>\n",
       "    <tr>\n",
       "      <th>CH4_ug_m2_h</th>\n",
       "      <td>0.22</td>\n",
       "      <td>0.36</td>\n",
       "      <td>-0.45</td>\n",
       "      <td>0.53</td>\n",
       "      <td>1.00</td>\n",
       "      <td>0.87</td>\n",
       "      <td>0.12</td>\n",
       "      <td>0.23</td>\n",
       "      <td>-0.06</td>\n",
       "      <td>-0.06</td>\n",
       "      <td>...</td>\n",
       "      <td>-0.07</td>\n",
       "      <td>-0.08</td>\n",
       "      <td>0.45</td>\n",
       "      <td>0.21</td>\n",
       "      <td>-0.12</td>\n",
       "      <td>-0.14</td>\n",
       "      <td>-0.14</td>\n",
       "      <td>0.24</td>\n",
       "      <td>-0.01</td>\n",
       "      <td>-0.12</td>\n",
       "    </tr>\n",
       "    <tr>\n",
       "      <th>CH4_CO2</th>\n",
       "      <td>0.28</td>\n",
       "      <td>0.45</td>\n",
       "      <td>-0.51</td>\n",
       "      <td>0.30</td>\n",
       "      <td>0.87</td>\n",
       "      <td>1.00</td>\n",
       "      <td>0.29</td>\n",
       "      <td>0.25</td>\n",
       "      <td>0.08</td>\n",
       "      <td>-0.08</td>\n",
       "      <td>...</td>\n",
       "      <td>-0.10</td>\n",
       "      <td>-0.11</td>\n",
       "      <td>0.53</td>\n",
       "      <td>0.26</td>\n",
       "      <td>-0.12</td>\n",
       "      <td>-0.16</td>\n",
       "      <td>-0.17</td>\n",
       "      <td>0.22</td>\n",
       "      <td>0.04</td>\n",
       "      <td>-0.16</td>\n",
       "    </tr>\n",
       "    <tr>\n",
       "      <th>pH</th>\n",
       "      <td>0.25</td>\n",
       "      <td>0.49</td>\n",
       "      <td>-0.43</td>\n",
       "      <td>-0.21</td>\n",
       "      <td>0.12</td>\n",
       "      <td>0.29</td>\n",
       "      <td>1.00</td>\n",
       "      <td>0.21</td>\n",
       "      <td>0.31</td>\n",
       "      <td>-0.05</td>\n",
       "      <td>...</td>\n",
       "      <td>-0.25</td>\n",
       "      <td>-0.27</td>\n",
       "      <td>0.44</td>\n",
       "      <td>0.11</td>\n",
       "      <td>-0.07</td>\n",
       "      <td>-0.17</td>\n",
       "      <td>-0.30</td>\n",
       "      <td>-0.02</td>\n",
       "      <td>0.19</td>\n",
       "      <td>-0.16</td>\n",
       "    </tr>\n",
       "    <tr>\n",
       "      <th>Cl</th>\n",
       "      <td>0.92</td>\n",
       "      <td>0.42</td>\n",
       "      <td>-0.23</td>\n",
       "      <td>-0.13</td>\n",
       "      <td>0.23</td>\n",
       "      <td>0.25</td>\n",
       "      <td>0.21</td>\n",
       "      <td>1.00</td>\n",
       "      <td>0.48</td>\n",
       "      <td>-0.43</td>\n",
       "      <td>...</td>\n",
       "      <td>-0.10</td>\n",
       "      <td>0.04</td>\n",
       "      <td>0.56</td>\n",
       "      <td>0.61</td>\n",
       "      <td>0.01</td>\n",
       "      <td>-0.16</td>\n",
       "      <td>0.22</td>\n",
       "      <td>0.25</td>\n",
       "      <td>0.41</td>\n",
       "      <td>-0.24</td>\n",
       "    </tr>\n",
       "    <tr>\n",
       "      <th>SO4</th>\n",
       "      <td>0.35</td>\n",
       "      <td>-0.21</td>\n",
       "      <td>0.28</td>\n",
       "      <td>-0.22</td>\n",
       "      <td>-0.06</td>\n",
       "      <td>0.08</td>\n",
       "      <td>0.31</td>\n",
       "      <td>0.48</td>\n",
       "      <td>1.00</td>\n",
       "      <td>0.21</td>\n",
       "      <td>...</td>\n",
       "      <td>-0.28</td>\n",
       "      <td>-0.23</td>\n",
       "      <td>0.39</td>\n",
       "      <td>0.29</td>\n",
       "      <td>-0.01</td>\n",
       "      <td>-0.12</td>\n",
       "      <td>-0.09</td>\n",
       "      <td>0.08</td>\n",
       "      <td>0.43</td>\n",
       "      <td>-0.10</td>\n",
       "    </tr>\n",
       "    <tr>\n",
       "      <th>C</th>\n",
       "      <td>-0.47</td>\n",
       "      <td>-0.72</td>\n",
       "      <td>0.26</td>\n",
       "      <td>0.46</td>\n",
       "      <td>-0.06</td>\n",
       "      <td>-0.08</td>\n",
       "      <td>-0.05</td>\n",
       "      <td>-0.43</td>\n",
       "      <td>0.21</td>\n",
       "      <td>1.00</td>\n",
       "      <td>...</td>\n",
       "      <td>-0.21</td>\n",
       "      <td>-0.30</td>\n",
       "      <td>0.03</td>\n",
       "      <td>-0.15</td>\n",
       "      <td>-0.08</td>\n",
       "      <td>-0.22</td>\n",
       "      <td>-0.43</td>\n",
       "      <td>-0.19</td>\n",
       "      <td>0.13</td>\n",
       "      <td>0.43</td>\n",
       "    </tr>\n",
       "    <tr>\n",
       "      <th>N</th>\n",
       "      <td>-0.37</td>\n",
       "      <td>-0.65</td>\n",
       "      <td>0.27</td>\n",
       "      <td>0.36</td>\n",
       "      <td>0.02</td>\n",
       "      <td>0.05</td>\n",
       "      <td>0.06</td>\n",
       "      <td>-0.34</td>\n",
       "      <td>0.36</td>\n",
       "      <td>0.95</td>\n",
       "      <td>...</td>\n",
       "      <td>-0.32</td>\n",
       "      <td>-0.40</td>\n",
       "      <td>0.21</td>\n",
       "      <td>-0.07</td>\n",
       "      <td>-0.13</td>\n",
       "      <td>-0.18</td>\n",
       "      <td>-0.48</td>\n",
       "      <td>-0.13</td>\n",
       "      <td>0.17</td>\n",
       "      <td>0.33</td>\n",
       "    </tr>\n",
       "    <tr>\n",
       "      <th>P</th>\n",
       "      <td>-0.18</td>\n",
       "      <td>-0.67</td>\n",
       "      <td>0.37</td>\n",
       "      <td>0.34</td>\n",
       "      <td>-0.01</td>\n",
       "      <td>-0.12</td>\n",
       "      <td>-0.32</td>\n",
       "      <td>-0.13</td>\n",
       "      <td>0.13</td>\n",
       "      <td>0.60</td>\n",
       "      <td>...</td>\n",
       "      <td>-0.21</td>\n",
       "      <td>-0.22</td>\n",
       "      <td>0.02</td>\n",
       "      <td>0.17</td>\n",
       "      <td>0.10</td>\n",
       "      <td>-0.04</td>\n",
       "      <td>-0.07</td>\n",
       "      <td>0.07</td>\n",
       "      <td>0.26</td>\n",
       "      <td>0.32</td>\n",
       "    </tr>\n",
       "    <tr>\n",
       "      <th>NO3_N</th>\n",
       "      <td>-0.12</td>\n",
       "      <td>-0.64</td>\n",
       "      <td>0.32</td>\n",
       "      <td>0.11</td>\n",
       "      <td>-0.18</td>\n",
       "      <td>-0.14</td>\n",
       "      <td>-0.02</td>\n",
       "      <td>-0.18</td>\n",
       "      <td>0.37</td>\n",
       "      <td>0.70</td>\n",
       "      <td>...</td>\n",
       "      <td>-0.23</td>\n",
       "      <td>-0.23</td>\n",
       "      <td>0.08</td>\n",
       "      <td>0.04</td>\n",
       "      <td>-0.05</td>\n",
       "      <td>-0.18</td>\n",
       "      <td>-0.19</td>\n",
       "      <td>-0.07</td>\n",
       "      <td>0.30</td>\n",
       "      <td>0.10</td>\n",
       "    </tr>\n",
       "    <tr>\n",
       "      <th>NH4_N</th>\n",
       "      <td>-0.27</td>\n",
       "      <td>-0.73</td>\n",
       "      <td>0.36</td>\n",
       "      <td>0.32</td>\n",
       "      <td>-0.11</td>\n",
       "      <td>-0.10</td>\n",
       "      <td>-0.02</td>\n",
       "      <td>-0.24</td>\n",
       "      <td>0.38</td>\n",
       "      <td>0.84</td>\n",
       "      <td>...</td>\n",
       "      <td>-0.19</td>\n",
       "      <td>-0.21</td>\n",
       "      <td>0.04</td>\n",
       "      <td>0.02</td>\n",
       "      <td>-0.02</td>\n",
       "      <td>-0.21</td>\n",
       "      <td>-0.27</td>\n",
       "      <td>-0.11</td>\n",
       "      <td>0.26</td>\n",
       "      <td>0.35</td>\n",
       "    </tr>\n",
       "    <tr>\n",
       "      <th>Olsen_P</th>\n",
       "      <td>0.16</td>\n",
       "      <td>0.41</td>\n",
       "      <td>-0.37</td>\n",
       "      <td>0.03</td>\n",
       "      <td>0.09</td>\n",
       "      <td>0.02</td>\n",
       "      <td>-0.07</td>\n",
       "      <td>0.05</td>\n",
       "      <td>-0.48</td>\n",
       "      <td>-0.49</td>\n",
       "      <td>...</td>\n",
       "      <td>0.21</td>\n",
       "      <td>0.26</td>\n",
       "      <td>-0.18</td>\n",
       "      <td>0.03</td>\n",
       "      <td>0.16</td>\n",
       "      <td>0.07</td>\n",
       "      <td>0.41</td>\n",
       "      <td>0.25</td>\n",
       "      <td>-0.16</td>\n",
       "      <td>-0.12</td>\n",
       "    </tr>\n",
       "    <tr>\n",
       "      <th>CN</th>\n",
       "      <td>-0.49</td>\n",
       "      <td>-0.74</td>\n",
       "      <td>0.26</td>\n",
       "      <td>0.45</td>\n",
       "      <td>-0.25</td>\n",
       "      <td>-0.35</td>\n",
       "      <td>-0.38</td>\n",
       "      <td>-0.45</td>\n",
       "      <td>-0.06</td>\n",
       "      <td>0.77</td>\n",
       "      <td>...</td>\n",
       "      <td>0.20</td>\n",
       "      <td>0.14</td>\n",
       "      <td>-0.34</td>\n",
       "      <td>-0.22</td>\n",
       "      <td>0.05</td>\n",
       "      <td>-0.18</td>\n",
       "      <td>-0.14</td>\n",
       "      <td>-0.20</td>\n",
       "      <td>0.05</td>\n",
       "      <td>0.43</td>\n",
       "    </tr>\n",
       "    <tr>\n",
       "      <th>CP</th>\n",
       "      <td>-0.51</td>\n",
       "      <td>-0.67</td>\n",
       "      <td>0.21</td>\n",
       "      <td>0.44</td>\n",
       "      <td>-0.09</td>\n",
       "      <td>-0.09</td>\n",
       "      <td>-0.04</td>\n",
       "      <td>-0.48</td>\n",
       "      <td>0.17</td>\n",
       "      <td>0.96</td>\n",
       "      <td>...</td>\n",
       "      <td>-0.11</td>\n",
       "      <td>-0.22</td>\n",
       "      <td>-0.03</td>\n",
       "      <td>-0.26</td>\n",
       "      <td>-0.13</td>\n",
       "      <td>-0.22</td>\n",
       "      <td>-0.43</td>\n",
       "      <td>-0.24</td>\n",
       "      <td>0.03</td>\n",
       "      <td>0.38</td>\n",
       "    </tr>\n",
       "    <tr>\n",
       "      <th>NP</th>\n",
       "      <td>-0.37</td>\n",
       "      <td>-0.39</td>\n",
       "      <td>0.11</td>\n",
       "      <td>0.27</td>\n",
       "      <td>0.07</td>\n",
       "      <td>0.17</td>\n",
       "      <td>0.26</td>\n",
       "      <td>-0.36</td>\n",
       "      <td>0.35</td>\n",
       "      <td>0.81</td>\n",
       "      <td>...</td>\n",
       "      <td>-0.31</td>\n",
       "      <td>-0.42</td>\n",
       "      <td>0.25</td>\n",
       "      <td>-0.18</td>\n",
       "      <td>-0.22</td>\n",
       "      <td>-0.18</td>\n",
       "      <td>-0.56</td>\n",
       "      <td>-0.20</td>\n",
       "      <td>0.02</td>\n",
       "      <td>0.21</td>\n",
       "    </tr>\n",
       "    <tr>\n",
       "      <th>NP_ext</th>\n",
       "      <td>-0.27</td>\n",
       "      <td>-0.69</td>\n",
       "      <td>0.37</td>\n",
       "      <td>0.27</td>\n",
       "      <td>-0.16</td>\n",
       "      <td>-0.12</td>\n",
       "      <td>-0.02</td>\n",
       "      <td>-0.25</td>\n",
       "      <td>0.36</td>\n",
       "      <td>0.78</td>\n",
       "      <td>...</td>\n",
       "      <td>-0.21</td>\n",
       "      <td>-0.22</td>\n",
       "      <td>0.02</td>\n",
       "      <td>-0.01</td>\n",
       "      <td>-0.05</td>\n",
       "      <td>-0.21</td>\n",
       "      <td>-0.25</td>\n",
       "      <td>-0.12</td>\n",
       "      <td>0.21</td>\n",
       "      <td>0.21</td>\n",
       "    </tr>\n",
       "    <tr>\n",
       "      <th>NO3_NH4</th>\n",
       "      <td>0.03</td>\n",
       "      <td>0.07</td>\n",
       "      <td>-0.18</td>\n",
       "      <td>0.03</td>\n",
       "      <td>0.15</td>\n",
       "      <td>0.05</td>\n",
       "      <td>0.04</td>\n",
       "      <td>-0.03</td>\n",
       "      <td>-0.09</td>\n",
       "      <td>-0.03</td>\n",
       "      <td>...</td>\n",
       "      <td>0.24</td>\n",
       "      <td>0.24</td>\n",
       "      <td>-0.07</td>\n",
       "      <td>-0.02</td>\n",
       "      <td>0.06</td>\n",
       "      <td>0.03</td>\n",
       "      <td>-0.05</td>\n",
       "      <td>-0.04</td>\n",
       "      <td>0.05</td>\n",
       "      <td>0.15</td>\n",
       "    </tr>\n",
       "    <tr>\n",
       "      <th>Fe</th>\n",
       "      <td>0.20</td>\n",
       "      <td>0.25</td>\n",
       "      <td>-0.31</td>\n",
       "      <td>-0.11</td>\n",
       "      <td>0.02</td>\n",
       "      <td>0.03</td>\n",
       "      <td>-0.04</td>\n",
       "      <td>0.21</td>\n",
       "      <td>-0.05</td>\n",
       "      <td>-0.27</td>\n",
       "      <td>...</td>\n",
       "      <td>0.88</td>\n",
       "      <td>0.93</td>\n",
       "      <td>0.06</td>\n",
       "      <td>0.12</td>\n",
       "      <td>0.03</td>\n",
       "      <td>0.03</td>\n",
       "      <td>0.14</td>\n",
       "      <td>0.09</td>\n",
       "      <td>0.06</td>\n",
       "      <td>-0.10</td>\n",
       "    </tr>\n",
       "    <tr>\n",
       "      <th>Mn</th>\n",
       "      <td>0.06</td>\n",
       "      <td>0.26</td>\n",
       "      <td>-0.22</td>\n",
       "      <td>-0.18</td>\n",
       "      <td>-0.05</td>\n",
       "      <td>-0.07</td>\n",
       "      <td>-0.12</td>\n",
       "      <td>0.05</td>\n",
       "      <td>-0.21</td>\n",
       "      <td>-0.36</td>\n",
       "      <td>...</td>\n",
       "      <td>0.85</td>\n",
       "      <td>0.88</td>\n",
       "      <td>-0.09</td>\n",
       "      <td>-0.02</td>\n",
       "      <td>0.06</td>\n",
       "      <td>0.11</td>\n",
       "      <td>0.14</td>\n",
       "      <td>0.09</td>\n",
       "      <td>-0.07</td>\n",
       "      <td>-0.13</td>\n",
       "    </tr>\n",
       "    <tr>\n",
       "      <th>Cu</th>\n",
       "      <td>-0.08</td>\n",
       "      <td>0.12</td>\n",
       "      <td>-0.17</td>\n",
       "      <td>-0.05</td>\n",
       "      <td>-0.07</td>\n",
       "      <td>-0.10</td>\n",
       "      <td>-0.25</td>\n",
       "      <td>-0.10</td>\n",
       "      <td>-0.28</td>\n",
       "      <td>-0.21</td>\n",
       "      <td>...</td>\n",
       "      <td>1.00</td>\n",
       "      <td>0.96</td>\n",
       "      <td>-0.17</td>\n",
       "      <td>-0.08</td>\n",
       "      <td>0.01</td>\n",
       "      <td>0.11</td>\n",
       "      <td>0.09</td>\n",
       "      <td>-0.03</td>\n",
       "      <td>-0.12</td>\n",
       "      <td>-0.01</td>\n",
       "    </tr>\n",
       "    <tr>\n",
       "      <th>Zn</th>\n",
       "      <td>0.05</td>\n",
       "      <td>0.15</td>\n",
       "      <td>-0.17</td>\n",
       "      <td>-0.10</td>\n",
       "      <td>-0.08</td>\n",
       "      <td>-0.11</td>\n",
       "      <td>-0.27</td>\n",
       "      <td>0.04</td>\n",
       "      <td>-0.23</td>\n",
       "      <td>-0.30</td>\n",
       "      <td>...</td>\n",
       "      <td>0.96</td>\n",
       "      <td>1.00</td>\n",
       "      <td>-0.15</td>\n",
       "      <td>0.02</td>\n",
       "      <td>0.07</td>\n",
       "      <td>0.10</td>\n",
       "      <td>0.19</td>\n",
       "      <td>0.02</td>\n",
       "      <td>-0.04</td>\n",
       "      <td>-0.07</td>\n",
       "    </tr>\n",
       "    <tr>\n",
       "      <th>DOC_mg_L</th>\n",
       "      <td>0.58</td>\n",
       "      <td>0.34</td>\n",
       "      <td>-0.34</td>\n",
       "      <td>0.12</td>\n",
       "      <td>0.45</td>\n",
       "      <td>0.53</td>\n",
       "      <td>0.44</td>\n",
       "      <td>0.56</td>\n",
       "      <td>0.39</td>\n",
       "      <td>0.03</td>\n",
       "      <td>...</td>\n",
       "      <td>-0.17</td>\n",
       "      <td>-0.15</td>\n",
       "      <td>1.00</td>\n",
       "      <td>0.52</td>\n",
       "      <td>-0.22</td>\n",
       "      <td>-0.10</td>\n",
       "      <td>-0.19</td>\n",
       "      <td>0.37</td>\n",
       "      <td>0.36</td>\n",
       "      <td>-0.17</td>\n",
       "    </tr>\n",
       "    <tr>\n",
       "      <th>Cl_pw</th>\n",
       "      <td>0.61</td>\n",
       "      <td>0.20</td>\n",
       "      <td>-0.20</td>\n",
       "      <td>0.04</td>\n",
       "      <td>0.21</td>\n",
       "      <td>0.26</td>\n",
       "      <td>0.11</td>\n",
       "      <td>0.61</td>\n",
       "      <td>0.29</td>\n",
       "      <td>-0.15</td>\n",
       "      <td>...</td>\n",
       "      <td>-0.08</td>\n",
       "      <td>0.02</td>\n",
       "      <td>0.52</td>\n",
       "      <td>1.00</td>\n",
       "      <td>0.53</td>\n",
       "      <td>-0.18</td>\n",
       "      <td>0.12</td>\n",
       "      <td>0.40</td>\n",
       "      <td>0.79</td>\n",
       "      <td>0.07</td>\n",
       "    </tr>\n",
       "    <tr>\n",
       "      <th>SO4_pw</th>\n",
       "      <td>-0.04</td>\n",
       "      <td>0.02</td>\n",
       "      <td>-0.06</td>\n",
       "      <td>-0.08</td>\n",
       "      <td>-0.12</td>\n",
       "      <td>-0.12</td>\n",
       "      <td>-0.07</td>\n",
       "      <td>0.01</td>\n",
       "      <td>-0.01</td>\n",
       "      <td>-0.08</td>\n",
       "      <td>...</td>\n",
       "      <td>0.01</td>\n",
       "      <td>0.07</td>\n",
       "      <td>-0.22</td>\n",
       "      <td>0.53</td>\n",
       "      <td>1.00</td>\n",
       "      <td>-0.17</td>\n",
       "      <td>0.08</td>\n",
       "      <td>0.24</td>\n",
       "      <td>0.53</td>\n",
       "      <td>0.31</td>\n",
       "    </tr>\n",
       "    <tr>\n",
       "      <th>Fe_pw</th>\n",
       "      <td>-0.18</td>\n",
       "      <td>-0.02</td>\n",
       "      <td>0.25</td>\n",
       "      <td>-0.22</td>\n",
       "      <td>-0.14</td>\n",
       "      <td>-0.16</td>\n",
       "      <td>-0.17</td>\n",
       "      <td>-0.16</td>\n",
       "      <td>-0.12</td>\n",
       "      <td>-0.22</td>\n",
       "      <td>...</td>\n",
       "      <td>0.11</td>\n",
       "      <td>0.10</td>\n",
       "      <td>-0.10</td>\n",
       "      <td>-0.18</td>\n",
       "      <td>-0.17</td>\n",
       "      <td>1.00</td>\n",
       "      <td>0.31</td>\n",
       "      <td>0.26</td>\n",
       "      <td>-0.23</td>\n",
       "      <td>-0.17</td>\n",
       "    </tr>\n",
       "    <tr>\n",
       "      <th>Mn_pw</th>\n",
       "      <td>0.23</td>\n",
       "      <td>0.13</td>\n",
       "      <td>0.02</td>\n",
       "      <td>-0.23</td>\n",
       "      <td>-0.14</td>\n",
       "      <td>-0.17</td>\n",
       "      <td>-0.30</td>\n",
       "      <td>0.22</td>\n",
       "      <td>-0.09</td>\n",
       "      <td>-0.43</td>\n",
       "      <td>...</td>\n",
       "      <td>0.09</td>\n",
       "      <td>0.19</td>\n",
       "      <td>-0.19</td>\n",
       "      <td>0.12</td>\n",
       "      <td>0.08</td>\n",
       "      <td>0.31</td>\n",
       "      <td>1.00</td>\n",
       "      <td>0.59</td>\n",
       "      <td>0.01</td>\n",
       "      <td>-0.08</td>\n",
       "    </tr>\n",
       "    <tr>\n",
       "      <th>Co_pw</th>\n",
       "      <td>0.23</td>\n",
       "      <td>0.22</td>\n",
       "      <td>-0.16</td>\n",
       "      <td>0.00</td>\n",
       "      <td>0.24</td>\n",
       "      <td>0.22</td>\n",
       "      <td>-0.02</td>\n",
       "      <td>0.25</td>\n",
       "      <td>0.08</td>\n",
       "      <td>-0.19</td>\n",
       "      <td>...</td>\n",
       "      <td>-0.03</td>\n",
       "      <td>0.02</td>\n",
       "      <td>0.37</td>\n",
       "      <td>0.40</td>\n",
       "      <td>0.24</td>\n",
       "      <td>0.26</td>\n",
       "      <td>0.59</td>\n",
       "      <td>1.00</td>\n",
       "      <td>0.28</td>\n",
       "      <td>-0.01</td>\n",
       "    </tr>\n",
       "    <tr>\n",
       "      <th>Cu_pw</th>\n",
       "      <td>0.39</td>\n",
       "      <td>-0.07</td>\n",
       "      <td>0.05</td>\n",
       "      <td>-0.14</td>\n",
       "      <td>-0.01</td>\n",
       "      <td>0.04</td>\n",
       "      <td>0.19</td>\n",
       "      <td>0.41</td>\n",
       "      <td>0.43</td>\n",
       "      <td>0.13</td>\n",
       "      <td>...</td>\n",
       "      <td>-0.12</td>\n",
       "      <td>-0.04</td>\n",
       "      <td>0.36</td>\n",
       "      <td>0.79</td>\n",
       "      <td>0.53</td>\n",
       "      <td>-0.23</td>\n",
       "      <td>0.01</td>\n",
       "      <td>0.28</td>\n",
       "      <td>1.00</td>\n",
       "      <td>0.15</td>\n",
       "    </tr>\n",
       "    <tr>\n",
       "      <th>Zn_pw</th>\n",
       "      <td>-0.27</td>\n",
       "      <td>-0.30</td>\n",
       "      <td>0.03</td>\n",
       "      <td>0.30</td>\n",
       "      <td>-0.12</td>\n",
       "      <td>-0.16</td>\n",
       "      <td>-0.16</td>\n",
       "      <td>-0.24</td>\n",
       "      <td>-0.10</td>\n",
       "      <td>0.43</td>\n",
       "      <td>...</td>\n",
       "      <td>-0.01</td>\n",
       "      <td>-0.07</td>\n",
       "      <td>-0.17</td>\n",
       "      <td>0.07</td>\n",
       "      <td>0.31</td>\n",
       "      <td>-0.17</td>\n",
       "      <td>-0.08</td>\n",
       "      <td>-0.01</td>\n",
       "      <td>0.15</td>\n",
       "      <td>1.00</td>\n",
       "    </tr>\n",
       "  </tbody>\n",
       "</table>\n",
       "<p>32 rows × 32 columns</p>\n",
       "</div>"
      ],
      "text/plain": [
       "             Salinity  Bulk_dens  H2O_FPS  CO2_mg_m2_h  CH4_ug_m2_h  CH4_CO2  \\\n",
       "Salinity         1.00       0.50    -0.34        -0.15         0.22     0.28   \n",
       "Bulk_dens        0.50       1.00    -0.75        -0.21         0.36     0.45   \n",
       "H2O_FPS         -0.34      -0.75     1.00        -0.23        -0.45    -0.51   \n",
       "CO2_mg_m2_h     -0.15      -0.21    -0.23         1.00         0.53     0.30   \n",
       "CH4_ug_m2_h      0.22       0.36    -0.45         0.53         1.00     0.87   \n",
       "CH4_CO2          0.28       0.45    -0.51         0.30         0.87     1.00   \n",
       "pH               0.25       0.49    -0.43        -0.21         0.12     0.29   \n",
       "Cl               0.92       0.42    -0.23        -0.13         0.23     0.25   \n",
       "SO4              0.35      -0.21     0.28        -0.22        -0.06     0.08   \n",
       "C               -0.47      -0.72     0.26         0.46        -0.06    -0.08   \n",
       "N               -0.37      -0.65     0.27         0.36         0.02     0.05   \n",
       "P               -0.18      -0.67     0.37         0.34        -0.01    -0.12   \n",
       "NO3_N           -0.12      -0.64     0.32         0.11        -0.18    -0.14   \n",
       "NH4_N           -0.27      -0.73     0.36         0.32        -0.11    -0.10   \n",
       "Olsen_P          0.16       0.41    -0.37         0.03         0.09     0.02   \n",
       "CN              -0.49      -0.74     0.26         0.45        -0.25    -0.35   \n",
       "CP              -0.51      -0.67     0.21         0.44        -0.09    -0.09   \n",
       "NP              -0.37      -0.39     0.11         0.27         0.07     0.17   \n",
       "NP_ext          -0.27      -0.69     0.37         0.27        -0.16    -0.12   \n",
       "NO3_NH4          0.03       0.07    -0.18         0.03         0.15     0.05   \n",
       "Fe               0.20       0.25    -0.31        -0.11         0.02     0.03   \n",
       "Mn               0.06       0.26    -0.22        -0.18        -0.05    -0.07   \n",
       "Cu              -0.08       0.12    -0.17        -0.05        -0.07    -0.10   \n",
       "Zn               0.05       0.15    -0.17        -0.10        -0.08    -0.11   \n",
       "DOC_mg_L         0.58       0.34    -0.34         0.12         0.45     0.53   \n",
       "Cl_pw            0.61       0.20    -0.20         0.04         0.21     0.26   \n",
       "SO4_pw          -0.04       0.02    -0.06        -0.08        -0.12    -0.12   \n",
       "Fe_pw           -0.18      -0.02     0.25        -0.22        -0.14    -0.16   \n",
       "Mn_pw            0.23       0.13     0.02        -0.23        -0.14    -0.17   \n",
       "Co_pw            0.23       0.22    -0.16         0.00         0.24     0.22   \n",
       "Cu_pw            0.39      -0.07     0.05        -0.14        -0.01     0.04   \n",
       "Zn_pw           -0.27      -0.30     0.03         0.30        -0.12    -0.16   \n",
       "\n",
       "               pH    Cl   SO4     C  ...      Cu    Zn  DOC_mg_L  Cl_pw  \\\n",
       "Salinity     0.25  0.92  0.35 -0.47  ...   -0.08  0.05      0.58   0.61   \n",
       "Bulk_dens    0.49  0.42 -0.21 -0.72  ...    0.12  0.15      0.34   0.20   \n",
       "H2O_FPS     -0.43 -0.23  0.28  0.26  ...   -0.17 -0.17     -0.34  -0.20   \n",
       "CO2_mg_m2_h -0.21 -0.13 -0.22  0.46  ...   -0.05 -0.10      0.12   0.04   \n",
       "CH4_ug_m2_h  0.12  0.23 -0.06 -0.06  ...   -0.07 -0.08      0.45   0.21   \n",
       "CH4_CO2      0.29  0.25  0.08 -0.08  ...   -0.10 -0.11      0.53   0.26   \n",
       "pH           1.00  0.21  0.31 -0.05  ...   -0.25 -0.27      0.44   0.11   \n",
       "Cl           0.21  1.00  0.48 -0.43  ...   -0.10  0.04      0.56   0.61   \n",
       "SO4          0.31  0.48  1.00  0.21  ...   -0.28 -0.23      0.39   0.29   \n",
       "C           -0.05 -0.43  0.21  1.00  ...   -0.21 -0.30      0.03  -0.15   \n",
       "N            0.06 -0.34  0.36  0.95  ...   -0.32 -0.40      0.21  -0.07   \n",
       "P           -0.32 -0.13  0.13  0.60  ...   -0.21 -0.22      0.02   0.17   \n",
       "NO3_N       -0.02 -0.18  0.37  0.70  ...   -0.23 -0.23      0.08   0.04   \n",
       "NH4_N       -0.02 -0.24  0.38  0.84  ...   -0.19 -0.21      0.04   0.02   \n",
       "Olsen_P     -0.07  0.05 -0.48 -0.49  ...    0.21  0.26     -0.18   0.03   \n",
       "CN          -0.38 -0.45 -0.06  0.77  ...    0.20  0.14     -0.34  -0.22   \n",
       "CP          -0.04 -0.48  0.17  0.96  ...   -0.11 -0.22     -0.03  -0.26   \n",
       "NP           0.26 -0.36  0.35  0.81  ...   -0.31 -0.42      0.25  -0.18   \n",
       "NP_ext      -0.02 -0.25  0.36  0.78  ...   -0.21 -0.22      0.02  -0.01   \n",
       "NO3_NH4      0.04 -0.03 -0.09 -0.03  ...    0.24  0.24     -0.07  -0.02   \n",
       "Fe          -0.04  0.21 -0.05 -0.27  ...    0.88  0.93      0.06   0.12   \n",
       "Mn          -0.12  0.05 -0.21 -0.36  ...    0.85  0.88     -0.09  -0.02   \n",
       "Cu          -0.25 -0.10 -0.28 -0.21  ...    1.00  0.96     -0.17  -0.08   \n",
       "Zn          -0.27  0.04 -0.23 -0.30  ...    0.96  1.00     -0.15   0.02   \n",
       "DOC_mg_L     0.44  0.56  0.39  0.03  ...   -0.17 -0.15      1.00   0.52   \n",
       "Cl_pw        0.11  0.61  0.29 -0.15  ...   -0.08  0.02      0.52   1.00   \n",
       "SO4_pw      -0.07  0.01 -0.01 -0.08  ...    0.01  0.07     -0.22   0.53   \n",
       "Fe_pw       -0.17 -0.16 -0.12 -0.22  ...    0.11  0.10     -0.10  -0.18   \n",
       "Mn_pw       -0.30  0.22 -0.09 -0.43  ...    0.09  0.19     -0.19   0.12   \n",
       "Co_pw       -0.02  0.25  0.08 -0.19  ...   -0.03  0.02      0.37   0.40   \n",
       "Cu_pw        0.19  0.41  0.43  0.13  ...   -0.12 -0.04      0.36   0.79   \n",
       "Zn_pw       -0.16 -0.24 -0.10  0.43  ...   -0.01 -0.07     -0.17   0.07   \n",
       "\n",
       "             SO4_pw  Fe_pw  Mn_pw  Co_pw  Cu_pw  Zn_pw  \n",
       "Salinity      -0.04  -0.18   0.23   0.23   0.39  -0.27  \n",
       "Bulk_dens      0.02  -0.02   0.13   0.22  -0.07  -0.30  \n",
       "H2O_FPS       -0.06   0.25   0.02  -0.16   0.05   0.03  \n",
       "CO2_mg_m2_h   -0.08  -0.22  -0.23   0.00  -0.14   0.30  \n",
       "CH4_ug_m2_h   -0.12  -0.14  -0.14   0.24  -0.01  -0.12  \n",
       "CH4_CO2       -0.12  -0.16  -0.17   0.22   0.04  -0.16  \n",
       "pH            -0.07  -0.17  -0.30  -0.02   0.19  -0.16  \n",
       "Cl             0.01  -0.16   0.22   0.25   0.41  -0.24  \n",
       "SO4           -0.01  -0.12  -0.09   0.08   0.43  -0.10  \n",
       "C             -0.08  -0.22  -0.43  -0.19   0.13   0.43  \n",
       "N             -0.13  -0.18  -0.48  -0.13   0.17   0.33  \n",
       "P              0.10  -0.04  -0.07   0.07   0.26   0.32  \n",
       "NO3_N         -0.05  -0.18  -0.19  -0.07   0.30   0.10  \n",
       "NH4_N         -0.02  -0.21  -0.27  -0.11   0.26   0.35  \n",
       "Olsen_P        0.16   0.07   0.41   0.25  -0.16  -0.12  \n",
       "CN             0.05  -0.18  -0.14  -0.20   0.05   0.43  \n",
       "CP            -0.13  -0.22  -0.43  -0.24   0.03   0.38  \n",
       "NP            -0.22  -0.18  -0.56  -0.20   0.02   0.21  \n",
       "NP_ext        -0.05  -0.21  -0.25  -0.12   0.21   0.21  \n",
       "NO3_NH4        0.06   0.03  -0.05  -0.04   0.05   0.15  \n",
       "Fe             0.03   0.03   0.14   0.09   0.06  -0.10  \n",
       "Mn             0.06   0.11   0.14   0.09  -0.07  -0.13  \n",
       "Cu             0.01   0.11   0.09  -0.03  -0.12  -0.01  \n",
       "Zn             0.07   0.10   0.19   0.02  -0.04  -0.07  \n",
       "DOC_mg_L      -0.22  -0.10  -0.19   0.37   0.36  -0.17  \n",
       "Cl_pw          0.53  -0.18   0.12   0.40   0.79   0.07  \n",
       "SO4_pw         1.00  -0.17   0.08   0.24   0.53   0.31  \n",
       "Fe_pw         -0.17   1.00   0.31   0.26  -0.23  -0.17  \n",
       "Mn_pw          0.08   0.31   1.00   0.59   0.01  -0.08  \n",
       "Co_pw          0.24   0.26   0.59   1.00   0.28  -0.01  \n",
       "Cu_pw          0.53  -0.23   0.01   0.28   1.00   0.15  \n",
       "Zn_pw          0.31  -0.17  -0.08  -0.01   0.15   1.00  \n",
       "\n",
       "[32 rows x 32 columns]"
      ]
     },
     "execution_count": 100,
     "metadata": {},
     "output_type": "execute_result"
    }
   ],
   "source": [
    "delta_chem = Env_chem[Env_chem.index.isin(Delta_sites)]\n",
    "# get corr matrix\n",
    "deltaNL_corr = delta_chem.corr().round(2)\n",
    "#corr_mat['gene'] = corr_mat.index\n",
    "deltaNL_corr"
   ]
  },
  {
   "cell_type": "code",
   "execution_count": null,
   "metadata": {},
   "outputs": [],
   "source": []
  }
 ],
 "metadata": {
  "anaconda-cloud": {},
  "kernelspec": {
   "display_name": "Python 3 (ipykernel)",
   "language": "python",
   "name": "python3"
  },
  "language_info": {
   "codemirror_mode": {
    "name": "ipython",
    "version": 3
   },
   "file_extension": ".py",
   "mimetype": "text/x-python",
   "name": "python",
   "nbconvert_exporter": "python",
   "pygments_lexer": "ipython3",
   "version": "3.8.13"
  },
  "nbpresent": {
   "slides": {
    "01cc8391-62fe-45c1-ae3a-f9fe81cb491f": {
     "id": "01cc8391-62fe-45c1-ae3a-f9fe81cb491f",
     "prev": "92216642-926d-4fcb-bec8-0fe504359b76",
     "regions": {
      "dcc09454-50a5-4de4-bd83-266ca702b1c3": {
       "attrs": {
        "height": 0.8,
        "width": 0.8,
        "x": 0.1,
        "y": 0.1
       },
       "content": {
        "cell": "60020f12-11e7-45e6-9ce0-5e8235f8c09f",
        "part": "whole"
       },
       "id": "dcc09454-50a5-4de4-bd83-266ca702b1c3"
      }
     }
    },
    "02d26cc5-e86d-48c3-9f7d-ba48cf3d8dad": {
     "id": "02d26cc5-e86d-48c3-9f7d-ba48cf3d8dad",
     "prev": "76df4bef-e248-4d9e-811d-58c5013d1517",
     "regions": {
      "2ae775c0-79de-4246-9829-90a1d45c7e88": {
       "attrs": {
        "height": 0.8,
        "width": 0.8,
        "x": 0.1,
        "y": 0.1
       },
       "content": {
        "cell": "24257f7b-5137-43d4-96c8-de7a94a2d4c4",
        "part": "whole"
       },
       "id": "2ae775c0-79de-4246-9829-90a1d45c7e88"
      }
     }
    },
    "059eae3c-4585-474e-a35b-31778b610061": {
     "id": "059eae3c-4585-474e-a35b-31778b610061",
     "prev": "aed68f01-1f2d-47f0-930a-8d39da7e79de",
     "regions": {
      "9f028543-ca81-4bf5-8d49-50016cdbc501": {
       "attrs": {
        "height": 0.8,
        "width": 0.8,
        "x": 0.1,
        "y": 0.1
       },
       "content": {
        "cell": "e1b310b8-9cd5-4fa2-a3f1-f05d40f1ea31",
        "part": "whole"
       },
       "id": "9f028543-ca81-4bf5-8d49-50016cdbc501"
      }
     }
    },
    "07164d8e-95bd-481a-aca8-f0e401d251f1": {
     "id": "07164d8e-95bd-481a-aca8-f0e401d251f1",
     "prev": "4735a91c-d25f-49c9-85b3-5701ca0ee504",
     "regions": {
      "e84caa94-449f-4ca1-9a5e-0391709ad328": {
       "attrs": {
        "height": 0.8,
        "width": 0.8,
        "x": 0.1,
        "y": 0.1
       },
       "content": {
        "cell": "f6aec72f-e5bd-4635-97ed-195315468cca",
        "part": "whole"
       },
       "id": "e84caa94-449f-4ca1-9a5e-0391709ad328"
      }
     }
    },
    "0b712fa9-b5dc-4da3-8402-b46edd6fc0d8": {
     "id": "0b712fa9-b5dc-4da3-8402-b46edd6fc0d8",
     "prev": "e2f2fba4-e8bc-4710-bbe6-4f1883782de0",
     "regions": {
      "58da3474-85d8-48f6-b0bd-1954418e4600": {
       "attrs": {
        "height": 0.8,
        "width": 0.8,
        "x": 0.1,
        "y": 0.1
       },
       "content": {
        "cell": "a24ac02d-1cfe-4db0-b90f-5ad30904360b",
        "part": "whole"
       },
       "id": "58da3474-85d8-48f6-b0bd-1954418e4600"
      }
     }
    },
    "0dc9ce3e-f06c-4503-92e3-c6624f9fb5e2": {
     "id": "0dc9ce3e-f06c-4503-92e3-c6624f9fb5e2",
     "prev": "1de214ad-a386-4ff8-83fb-c1fb18d93fa2",
     "regions": {
      "8910a6d4-7555-4854-9bf1-65fbc14d0132": {
       "attrs": {
        "height": 0.8,
        "width": 0.8,
        "x": 0.1,
        "y": 0.1
       },
       "content": {
        "cell": "d15ad54c-744a-4954-ad4a-60ab3e58a62a",
        "part": "whole"
       },
       "id": "8910a6d4-7555-4854-9bf1-65fbc14d0132"
      }
     }
    },
    "0f6b2799-1f9a-4fb3-ae5c-981ba865d87d": {
     "id": "0f6b2799-1f9a-4fb3-ae5c-981ba865d87d",
     "prev": "3c485328-9005-4b73-bdaa-45349a4df785",
     "regions": {
      "84c41e57-9c85-40b5-a4ba-9ae35a543a9e": {
       "attrs": {
        "height": 0.8,
        "width": 0.8,
        "x": 0.1,
        "y": 0.1
       },
       "content": {
        "cell": "e4e1160e-65df-499b-860c-5f0585a63947",
        "part": "whole"
       },
       "id": "84c41e57-9c85-40b5-a4ba-9ae35a543a9e"
      }
     }
    },
    "0fc798e5-9485-4e85-abc8-2cae2c1008ef": {
     "id": "0fc798e5-9485-4e85-abc8-2cae2c1008ef",
     "prev": "4b77414d-be45-4fdd-bceb-7da4d9b09e92",
     "regions": {
      "cdefa599-63fd-4c4c-a54b-07c2c3e4e4a1": {
       "attrs": {
        "height": 0.8,
        "width": 0.8,
        "x": 0.1,
        "y": 0.1
       },
       "content": {
        "cell": "419b200d-0b5e-4a51-a1f6-8ff89a44012a",
        "part": "whole"
       },
       "id": "cdefa599-63fd-4c4c-a54b-07c2c3e4e4a1"
      }
     }
    },
    "10bb7ae6-070f-40d3-b504-90ab176c002a": {
     "id": "10bb7ae6-070f-40d3-b504-90ab176c002a",
     "prev": "40c2c0f3-5b0d-4ca9-8426-34cd5c1055f8",
     "regions": {
      "0dc8e8a5-46e7-413a-b923-963c7e72747a": {
       "attrs": {
        "height": 0.8,
        "width": 0.8,
        "x": 0.1,
        "y": 0.1
       },
       "content": {
        "cell": "27d0f71a-0b83-4cf9-a7f6-a95e33233538",
        "part": "whole"
       },
       "id": "0dc8e8a5-46e7-413a-b923-963c7e72747a"
      }
     }
    },
    "140aa25d-a1c3-4b49-850f-57cb51f7cdbd": {
     "id": "140aa25d-a1c3-4b49-850f-57cb51f7cdbd",
     "prev": "924301e1-c45f-4f7d-b0f7-c4b9d40f57b4",
     "regions": {
      "6612b4f9-8581-410d-a1d8-cb65dd61d509": {
       "attrs": {
        "height": 0.8,
        "width": 0.8,
        "x": 0.1,
        "y": 0.1
       },
       "content": {
        "cell": "1c2306e4-4aa8-4bf5-b52c-9a64f236c6ce",
        "part": "whole"
       },
       "id": "6612b4f9-8581-410d-a1d8-cb65dd61d509"
      }
     }
    },
    "14490c87-4b1b-4a9b-baee-068345d3a9a2": {
     "id": "14490c87-4b1b-4a9b-baee-068345d3a9a2",
     "prev": "2e420392-5814-4081-930f-565fbb4fb49e",
     "regions": {
      "19ee9bef-4064-4272-aec8-919f3df5fead": {
       "attrs": {
        "height": 0.8,
        "width": 0.8,
        "x": 0.1,
        "y": 0.1
       },
       "content": {
        "cell": "11c1ca8d-1eb2-45c3-977a-d007ba825a6e",
        "part": "whole"
       },
       "id": "19ee9bef-4064-4272-aec8-919f3df5fead"
      }
     }
    },
    "15535fa2-12a5-4711-af41-df9911298973": {
     "id": "15535fa2-12a5-4711-af41-df9911298973",
     "prev": "58beb69a-73b7-4ef6-a6a2-a4ef1fa977c4",
     "regions": {
      "8c344542-e08a-47b6-abb7-57274889aee9": {
       "attrs": {
        "height": 0.8,
        "width": 0.8,
        "x": 0.1,
        "y": 0.1
       },
       "content": {
        "cell": "774b32c0-3b0c-48d9-bf41-25815b5ef463",
        "part": "whole"
       },
       "id": "8c344542-e08a-47b6-abb7-57274889aee9"
      }
     }
    },
    "15c6f3ec-e4fd-4583-89ba-bfccbe7d871f": {
     "id": "15c6f3ec-e4fd-4583-89ba-bfccbe7d871f",
     "prev": "5b2cbae9-1dcc-45e6-b01b-03afc5471ec1",
     "regions": {
      "b63fecbc-bc1a-4cc7-93b8-155378bfbfb6": {
       "attrs": {
        "height": 0.8,
        "width": 0.8,
        "x": 0.1,
        "y": 0.1
       },
       "content": {
        "cell": "31f47a20-5635-4b08-9879-a58121fc02af",
        "part": "whole"
       },
       "id": "b63fecbc-bc1a-4cc7-93b8-155378bfbfb6"
      }
     }
    },
    "16ccbf28-6a7a-4dec-a884-74b1152e9ea1": {
     "id": "16ccbf28-6a7a-4dec-a884-74b1152e9ea1",
     "prev": "59897b60-1a1c-4d1d-9c78-d2d761842c76",
     "regions": {
      "92f8ca6b-93d6-41c3-b409-28a2f0f180e7": {
       "attrs": {
        "height": 0.8,
        "width": 0.8,
        "x": 0.1,
        "y": 0.1
       },
       "content": {
        "cell": "2ad8e29a-3933-4b56-8fc3-8fce392b93be",
        "part": "whole"
       },
       "id": "92f8ca6b-93d6-41c3-b409-28a2f0f180e7"
      }
     }
    },
    "178d0403-5258-4b51-9924-f8ac93274a4f": {
     "id": "178d0403-5258-4b51-9924-f8ac93274a4f",
     "prev": "553633ab-e942-49eb-9159-394b6deca624",
     "regions": {
      "2316ced6-1c3a-4e7c-b655-eac061667711": {
       "attrs": {
        "height": 0.8,
        "width": 0.8,
        "x": 0.1,
        "y": 0.1
       },
       "content": {
        "cell": "e1ee1234-8687-4377-8809-7aa610243a09",
        "part": "whole"
       },
       "id": "2316ced6-1c3a-4e7c-b655-eac061667711"
      }
     }
    },
    "1b468753-b629-4b0e-828e-571a6ceadf21": {
     "id": "1b468753-b629-4b0e-828e-571a6ceadf21",
     "prev": "a26b5495-390b-4edd-8068-3c39079af95a",
     "regions": {
      "a2cf4ed8-898a-462b-96c4-0535760892b8": {
       "attrs": {
        "height": 0.8,
        "width": 0.8,
        "x": 0.1,
        "y": 0.1
       },
       "content": {
        "cell": "2e2d1af0-0100-4ecb-b629-bd98d6919da7",
        "part": "whole"
       },
       "id": "a2cf4ed8-898a-462b-96c4-0535760892b8"
      }
     }
    },
    "1be6772a-d90f-47db-98fd-f6f0cab4260d": {
     "id": "1be6772a-d90f-47db-98fd-f6f0cab4260d",
     "prev": "c63807eb-b99c-422f-a5e8-a8f75690879a",
     "regions": {
      "60e4d0a7-7185-4926-8a55-a22df212a115": {
       "attrs": {
        "height": 0.8,
        "width": 0.8,
        "x": 0.1,
        "y": 0.1
       },
       "content": {
        "cell": "7e3a66f4-93ae-428f-959a-760138463c0e",
        "part": "whole"
       },
       "id": "60e4d0a7-7185-4926-8a55-a22df212a115"
      }
     }
    },
    "1d3c6aa5-1e27-464a-814d-ed3def9599c0": {
     "id": "1d3c6aa5-1e27-464a-814d-ed3def9599c0",
     "prev": "446dfa96-cc1c-4f81-bbb1-e64d79bb64bc",
     "regions": {
      "26fd752c-b8b5-4e4b-9b8f-c9e77288f472": {
       "attrs": {
        "height": 0.8,
        "width": 0.8,
        "x": 0.1,
        "y": 0.1
       },
       "content": {
        "cell": "1d00c745-a1e8-448f-87bb-b68e9a374469",
        "part": "whole"
       },
       "id": "26fd752c-b8b5-4e4b-9b8f-c9e77288f472"
      }
     }
    },
    "1d4019d8-ab87-4970-be27-e6a8310a368b": {
     "id": "1d4019d8-ab87-4970-be27-e6a8310a368b",
     "prev": "cb045e5d-0e62-4690-a260-eb90d39329df",
     "regions": {
      "0b58f3eb-9041-490f-915b-2510b2a585bb": {
       "attrs": {
        "height": 0.8,
        "width": 0.8,
        "x": 0.1,
        "y": 0.1
       },
       "content": {
        "cell": "39d4b34e-7f06-4f9e-afec-a8589ecbd881",
        "part": "whole"
       },
       "id": "0b58f3eb-9041-490f-915b-2510b2a585bb"
      }
     }
    },
    "1de214ad-a386-4ff8-83fb-c1fb18d93fa2": {
     "id": "1de214ad-a386-4ff8-83fb-c1fb18d93fa2",
     "prev": "d0e0fbe2-9982-4eed-bd93-c371b3333092",
     "regions": {
      "ac7dc1e5-607a-413b-94bd-6f05da3906e9": {
       "attrs": {
        "height": 0.8,
        "width": 0.8,
        "x": 0.1,
        "y": 0.1
       },
       "content": {
        "cell": "8c43d750-8bab-460b-8126-41796ac22429",
        "part": "whole"
       },
       "id": "ac7dc1e5-607a-413b-94bd-6f05da3906e9"
      }
     }
    },
    "253af42e-dbb0-4ffd-bcb3-e759dacd33ff": {
     "id": "253af42e-dbb0-4ffd-bcb3-e759dacd33ff",
     "prev": "f5156765-8333-4abd-8b1c-a3720557714b",
     "regions": {
      "ff20d966-2387-42a5-bcc9-46c743c2d65f": {
       "attrs": {
        "height": 0.8,
        "width": 0.8,
        "x": 0.1,
        "y": 0.1
       },
       "content": {
        "cell": "8ed44bd5-9283-4b1a-beeb-f223a09c805b",
        "part": "whole"
       },
       "id": "ff20d966-2387-42a5-bcc9-46c743c2d65f"
      }
     }
    },
    "289f26fe-2cae-47df-bb3a-dfdd0e96c7a8": {
     "id": "289f26fe-2cae-47df-bb3a-dfdd0e96c7a8",
     "prev": "68285f8d-34ec-46e7-8c69-7e8bab989829",
     "regions": {
      "f1f0f974-5901-4252-b7ca-fd6b8095b870": {
       "attrs": {
        "height": 0.8,
        "width": 0.8,
        "x": 0.1,
        "y": 0.1
       },
       "content": {
        "cell": "21c764f0-fc37-4b54-9c41-639acdc67632",
        "part": "whole"
       },
       "id": "f1f0f974-5901-4252-b7ca-fd6b8095b870"
      }
     }
    },
    "2a714c70-9738-49bb-80aa-700982566f61": {
     "id": "2a714c70-9738-49bb-80aa-700982566f61",
     "prev": "91efa910-75ac-4fab-8ab5-cf744ab7105d",
     "regions": {
      "14b6a8df-a463-4cbc-9fcb-a4501c215108": {
       "attrs": {
        "height": 0.8,
        "width": 0.8,
        "x": 0.1,
        "y": 0.1
       },
       "content": {
        "cell": "454b619c-4e84-4dee-a897-3b29d2052ebb",
        "part": "whole"
       },
       "id": "14b6a8df-a463-4cbc-9fcb-a4501c215108"
      }
     }
    },
    "2b3ab018-7989-4d20-a2f5-f3fd503f1a2c": {
     "id": "2b3ab018-7989-4d20-a2f5-f3fd503f1a2c",
     "prev": "377341c4-22e9-4985-a338-ffc86c5df798",
     "regions": {
      "456d43da-f90e-427b-aa97-6466f50e11da": {
       "attrs": {
        "height": 0.8,
        "width": 0.8,
        "x": 0.1,
        "y": 0.1
       },
       "content": {
        "cell": "5e3c74c1-8147-4623-acee-bcb668a93080",
        "part": "whole"
       },
       "id": "456d43da-f90e-427b-aa97-6466f50e11da"
      }
     }
    },
    "2cb909cd-0239-4811-afbc-374b4bfd0ed1": {
     "id": "2cb909cd-0239-4811-afbc-374b4bfd0ed1",
     "prev": "3a5dcb52-dfcf-4f9d-a87b-a347d34764e7",
     "regions": {
      "90ee3fac-38fc-4f90-a659-c662248b7add": {
       "attrs": {
        "height": 0.8,
        "width": 0.8,
        "x": 0.1,
        "y": 0.1
       },
       "content": {
        "cell": "753dec26-f000-4c0c-a602-bd983fc590de",
        "part": "whole"
       },
       "id": "90ee3fac-38fc-4f90-a659-c662248b7add"
      }
     }
    },
    "2dc0292c-77f9-4fd8-be98-c668c02ace2c": {
     "id": "2dc0292c-77f9-4fd8-be98-c668c02ace2c",
     "prev": "059eae3c-4585-474e-a35b-31778b610061",
     "regions": {
      "a8fd05c5-b92f-4def-9672-0eb950072750": {
       "attrs": {
        "height": 0.8,
        "width": 0.8,
        "x": 0.1,
        "y": 0.1
       },
       "content": {
        "cell": "9c185fbe-0e94-4059-ae8e-b3760b17b5c4",
        "part": "whole"
       },
       "id": "a8fd05c5-b92f-4def-9672-0eb950072750"
      }
     }
    },
    "2e420392-5814-4081-930f-565fbb4fb49e": {
     "id": "2e420392-5814-4081-930f-565fbb4fb49e",
     "prev": "90577dd3-0ced-4196-8bce-0cbd84e734f0",
     "regions": {
      "c333e107-432b-4590-bde0-f6380525112f": {
       "attrs": {
        "height": 0.8,
        "width": 0.8,
        "x": 0.1,
        "y": 0.1
       },
       "content": {
        "cell": "9741cfe0-7cb3-41b3-934d-33857e581bb4",
        "part": "whole"
       },
       "id": "c333e107-432b-4590-bde0-f6380525112f"
      }
     }
    },
    "3385e325-8141-4315-a231-302dc5bcff69": {
     "id": "3385e325-8141-4315-a231-302dc5bcff69",
     "prev": "e7b3cbb1-afea-488d-b7eb-aa9632e5600a",
     "regions": {
      "cc3cb705-dc5e-4bdc-b2a0-4de46951b8fe": {
       "attrs": {
        "height": 0.8,
        "width": 0.8,
        "x": 0.1,
        "y": 0.1
       },
       "content": {
        "cell": "63e1d5fd-1b78-450a-98da-37ec52606b3c",
        "part": "whole"
       },
       "id": "cc3cb705-dc5e-4bdc-b2a0-4de46951b8fe"
      }
     }
    },
    "346b3dfa-1e29-4566-9e7e-2382a5f2b070": {
     "id": "346b3dfa-1e29-4566-9e7e-2382a5f2b070",
     "prev": "3a33e6de-4581-4cf4-b4a3-05308dca0f6e",
     "regions": {
      "562c9b75-af3f-400a-8b48-732b474914bd": {
       "attrs": {
        "height": 0.8,
        "width": 0.8,
        "x": 0.1,
        "y": 0.1
       },
       "content": {
        "cell": "469d27b1-dddb-423c-8bec-b80ba0517f61",
        "part": "whole"
       },
       "id": "562c9b75-af3f-400a-8b48-732b474914bd"
      }
     }
    },
    "356fcf8a-cc21-4f7b-91fc-4ba519cdf7cf": {
     "id": "356fcf8a-cc21-4f7b-91fc-4ba519cdf7cf",
     "prev": "83387e0e-5a1e-4c1f-8344-6e6441354fd6",
     "regions": {
      "dc927cd7-e20a-47bb-8221-7f7b4cbeaf68": {
       "attrs": {
        "height": 0.8,
        "width": 0.8,
        "x": 0.1,
        "y": 0.1
       },
       "content": {
        "cell": "a22264a7-734e-4dbb-9796-e29ac445811b",
        "part": "whole"
       },
       "id": "dc927cd7-e20a-47bb-8221-7f7b4cbeaf68"
      }
     }
    },
    "377341c4-22e9-4985-a338-ffc86c5df798": {
     "id": "377341c4-22e9-4985-a338-ffc86c5df798",
     "prev": "f84e36b1-d4fa-4827-bc61-1ab5d5d5326d",
     "regions": {
      "86de2d70-9736-4d5c-83db-4e5ed216ae0a": {
       "attrs": {
        "height": 0.8,
        "width": 0.8,
        "x": 0.1,
        "y": 0.1
       },
       "content": {
        "cell": "4f796a5a-466d-4b3c-811a-6fb0e3de7424",
        "part": "whole"
       },
       "id": "86de2d70-9736-4d5c-83db-4e5ed216ae0a"
      }
     }
    },
    "38c1a37c-6d55-4e37-84fe-d61b57f7ec71": {
     "id": "38c1a37c-6d55-4e37-84fe-d61b57f7ec71",
     "prev": "ac4396fb-2294-4732-8a17-b7b793ef27a5",
     "regions": {
      "15b76974-a579-4673-8e9a-82b8f1d49ae0": {
       "attrs": {
        "height": 0.8,
        "width": 0.8,
        "x": 0.1,
        "y": 0.1
       },
       "content": {
        "cell": "6953b51f-a4aa-4aba-9c4d-8d83602293c2",
        "part": "whole"
       },
       "id": "15b76974-a579-4673-8e9a-82b8f1d49ae0"
      }
     }
    },
    "391ebf4a-e6d3-4b82-84d9-24d5bf084143": {
     "id": "391ebf4a-e6d3-4b82-84d9-24d5bf084143",
     "prev": "1d3c6aa5-1e27-464a-814d-ed3def9599c0",
     "regions": {
      "3e315852-74c8-4549-ab78-4beafec8ba15": {
       "attrs": {
        "height": 0.8,
        "width": 0.8,
        "x": 0.1,
        "y": 0.1
       },
       "content": {
        "cell": "1900ce6e-c601-4226-80c8-15db4c1e5ef9",
        "part": "whole"
       },
       "id": "3e315852-74c8-4549-ab78-4beafec8ba15"
      }
     }
    },
    "3a33e6de-4581-4cf4-b4a3-05308dca0f6e": {
     "id": "3a33e6de-4581-4cf4-b4a3-05308dca0f6e",
     "prev": "3cafc0f3-cafb-40d0-aa71-80d94a8166f1",
     "regions": {
      "bc9eb96b-156b-4a7f-a1f2-484d453b905f": {
       "attrs": {
        "height": 0.8,
        "width": 0.8,
        "x": 0.1,
        "y": 0.1
       },
       "content": {
        "cell": "fe5ce5be-f513-4586-9ec2-6f8dad1b94a4",
        "part": "whole"
       },
       "id": "bc9eb96b-156b-4a7f-a1f2-484d453b905f"
      }
     }
    },
    "3a5dcb52-dfcf-4f9d-a87b-a347d34764e7": {
     "id": "3a5dcb52-dfcf-4f9d-a87b-a347d34764e7",
     "prev": "9678f852-ba9d-4752-804d-00872a5ee77d",
     "regions": {
      "6b27745f-0561-4392-9902-9afe8da693e8": {
       "attrs": {
        "height": 0.8,
        "width": 0.8,
        "x": 0.1,
        "y": 0.1
       },
       "content": {
        "cell": "5dfc9513-5a65-488d-8f8c-9a01ea63f2e7",
        "part": "whole"
       },
       "id": "6b27745f-0561-4392-9902-9afe8da693e8"
      }
     }
    },
    "3b7b7335-2b14-4ba9-be50-f4b20d15765a": {
     "id": "3b7b7335-2b14-4ba9-be50-f4b20d15765a",
     "prev": "57676405-db37-4ae2-8b42-4a29c68ef74b",
     "regions": {
      "b37b94b7-95a4-4b55-920a-763adc61d9da": {
       "attrs": {
        "height": 0.8,
        "width": 0.8,
        "x": 0.1,
        "y": 0.1
       },
       "content": {
        "cell": "1b416f13-8d2f-4b86-af82-aa0fe27d9114",
        "part": "whole"
       },
       "id": "b37b94b7-95a4-4b55-920a-763adc61d9da"
      }
     }
    },
    "3c485328-9005-4b73-bdaa-45349a4df785": {
     "id": "3c485328-9005-4b73-bdaa-45349a4df785",
     "prev": "2cb909cd-0239-4811-afbc-374b4bfd0ed1",
     "regions": {
      "e29a51dd-4683-4d54-b9a6-a02dc6807665": {
       "attrs": {
        "height": 0.8,
        "width": 0.8,
        "x": 0.1,
        "y": 0.1
       },
       "content": {
        "cell": "8861fc29-5b1a-4488-8c4f-eeaea19fe87a",
        "part": "whole"
       },
       "id": "e29a51dd-4683-4d54-b9a6-a02dc6807665"
      }
     }
    },
    "3cafc0f3-cafb-40d0-aa71-80d94a8166f1": {
     "id": "3cafc0f3-cafb-40d0-aa71-80d94a8166f1",
     "prev": "aea79511-f437-4b90-bba4-f40fab771094",
     "regions": {
      "71d0653b-b595-4810-bdc3-80ba3c588245": {
       "attrs": {
        "height": 0.8,
        "width": 0.8,
        "x": 0.1,
        "y": 0.1
       },
       "content": {
        "cell": "43e9d06e-7fa0-4d04-9f4c-a8ca4065759b",
        "part": "whole"
       },
       "id": "71d0653b-b595-4810-bdc3-80ba3c588245"
      }
     }
    },
    "3cccfd73-63c2-4c90-a599-e720d41a50c9": {
     "id": "3cccfd73-63c2-4c90-a599-e720d41a50c9",
     "prev": "02d26cc5-e86d-48c3-9f7d-ba48cf3d8dad",
     "regions": {
      "1e259252-5ad4-4340-92c6-dd99228aa904": {
       "attrs": {
        "height": 0.8,
        "width": 0.8,
        "x": 0.1,
        "y": 0.1
       },
       "content": {
        "cell": "e6aef9b1-2911-4c39-9641-ded6b0b49e62",
        "part": "whole"
       },
       "id": "1e259252-5ad4-4340-92c6-dd99228aa904"
      }
     }
    },
    "3e06ca3a-cacd-41c8-b470-be72b2d48360": {
     "id": "3e06ca3a-cacd-41c8-b470-be72b2d48360",
     "prev": "cce546a7-cc0b-44d6-87f6-2bfc2e755104",
     "regions": {
      "d51892a3-7340-48a4-848f-b9c5bfbf89d0": {
       "attrs": {
        "height": 0.8,
        "width": 0.8,
        "x": 0.1,
        "y": 0.1
       },
       "content": {
        "cell": "3bc2496b-6955-4983-a926-d0158ae699a2",
        "part": "whole"
       },
       "id": "d51892a3-7340-48a4-848f-b9c5bfbf89d0"
      }
     }
    },
    "3f11d74c-4f5b-4488-b08a-9e9e0cca9044": {
     "id": "3f11d74c-4f5b-4488-b08a-9e9e0cca9044",
     "prev": "ba9f2610-e9c7-49ba-b0fe-67a6922e3a5c",
     "regions": {
      "d1a5e130-4b8d-4ccb-9232-a151eb4ff14d": {
       "attrs": {
        "height": 0.8,
        "width": 0.8,
        "x": 0.1,
        "y": 0.1
       },
       "content": {
        "cell": "5c68a3d2-6d4c-40eb-928a-0247f4506b7a",
        "part": "whole"
       },
       "id": "d1a5e130-4b8d-4ccb-9232-a151eb4ff14d"
      }
     }
    },
    "40314ddf-b427-42c5-a88a-35e762b43cf4": {
     "id": "40314ddf-b427-42c5-a88a-35e762b43cf4",
     "prev": "8689a417-56c2-4ec6-bfd7-03c1427ebb43",
     "regions": {
      "5fb08d25-2d00-4890-941e-9ed56486537a": {
       "attrs": {
        "height": 0.8,
        "width": 0.8,
        "x": 0.1,
        "y": 0.1
       },
       "content": {
        "cell": "6ca28020-ef0c-4fd2-ba24-94ea04e7a97f",
        "part": "whole"
       },
       "id": "5fb08d25-2d00-4890-941e-9ed56486537a"
      }
     }
    },
    "40c2c0f3-5b0d-4ca9-8426-34cd5c1055f8": {
     "id": "40c2c0f3-5b0d-4ca9-8426-34cd5c1055f8",
     "prev": "94beb7f1-106a-4ca2-8c26-3a3c32e76873",
     "regions": {
      "59e09ed3-c30f-402a-878c-09528599060f": {
       "attrs": {
        "height": 0.8,
        "width": 0.8,
        "x": 0.1,
        "y": 0.1
       },
       "content": {
        "cell": "7a6c56b7-df95-44e0-aad1-cc9bba68f2a3",
        "part": "whole"
       },
       "id": "59e09ed3-c30f-402a-878c-09528599060f"
      }
     }
    },
    "42d3927f-8677-4496-9301-4cfea5055ce8": {
     "id": "42d3927f-8677-4496-9301-4cfea5055ce8",
     "prev": "7b68fefe-29f2-427f-bbd7-5e4994bede43",
     "regions": {
      "b204098d-1eff-4f0c-b5cf-055b876c46b3": {
       "attrs": {
        "height": 0.8,
        "width": 0.8,
        "x": 0.1,
        "y": 0.1
       },
       "content": {
        "cell": "37b0c850-4d06-4da7-8cdd-6e5ff7fcc10b",
        "part": "whole"
       },
       "id": "b204098d-1eff-4f0c-b5cf-055b876c46b3"
      }
     }
    },
    "446dfa96-cc1c-4f81-bbb1-e64d79bb64bc": {
     "id": "446dfa96-cc1c-4f81-bbb1-e64d79bb64bc",
     "prev": "f26f06a6-9487-40dc-925e-fc77385179a4",
     "regions": {
      "b127fabe-afcb-49a9-b78b-94444f1b80bc": {
       "attrs": {
        "height": 0.8,
        "width": 0.8,
        "x": 0.1,
        "y": 0.1
       },
       "content": {
        "cell": "313e90d2-6732-4b08-b85c-6d9026d96e09",
        "part": "whole"
       },
       "id": "b127fabe-afcb-49a9-b78b-94444f1b80bc"
      }
     }
    },
    "464a652b-e6db-4183-9971-e0c8e9f87ac6": {
     "id": "464a652b-e6db-4183-9971-e0c8e9f87ac6",
     "prev": "47d70adc-d838-4f68-8e62-b3b3b30de908",
     "regions": {
      "bb50cc60-55f9-4f8d-830e-8a7ca1f9470a": {
       "attrs": {
        "height": 0.8,
        "width": 0.8,
        "x": 0.1,
        "y": 0.1
       },
       "content": {
        "cell": "7510653a-ea5f-462a-9b53-a26667b4aee9",
        "part": "whole"
       },
       "id": "bb50cc60-55f9-4f8d-830e-8a7ca1f9470a"
      }
     }
    },
    "4658a3b4-e167-4a28-a63c-8ebdb3a89a34": {
     "id": "4658a3b4-e167-4a28-a63c-8ebdb3a89a34",
     "prev": "b39010da-3acd-4722-908e-58decfb577c0",
     "regions": {
      "59581bd4-b65f-4dd4-b7b6-fdf8cacb1b90": {
       "attrs": {
        "height": 0.8,
        "width": 0.8,
        "x": 0.1,
        "y": 0.1
       },
       "content": {
        "cell": "fb14902f-464d-4294-944d-2a6294d9278a",
        "part": "whole"
       },
       "id": "59581bd4-b65f-4dd4-b7b6-fdf8cacb1b90"
      }
     }
    },
    "4735a91c-d25f-49c9-85b3-5701ca0ee504": {
     "id": "4735a91c-d25f-49c9-85b3-5701ca0ee504",
     "prev": "5b986df7-209b-4571-bf16-cb67035eee7a",
     "regions": {
      "f7066c02-ed47-4d3e-a495-9c4a8a5c5f5e": {
       "attrs": {
        "height": 0.8,
        "width": 0.8,
        "x": 0.1,
        "y": 0.1
       },
       "content": {
        "cell": "4f8ead11-59dc-43f0-ac1d-a617b2ce4564",
        "part": "whole"
       },
       "id": "f7066c02-ed47-4d3e-a495-9c4a8a5c5f5e"
      }
     }
    },
    "47d70adc-d838-4f68-8e62-b3b3b30de908": {
     "id": "47d70adc-d838-4f68-8e62-b3b3b30de908",
     "prev": "da34b531-49db-47d6-bafd-2174f9435f5e",
     "regions": {
      "e15937d3-ca8f-4c2b-9355-3e8539719721": {
       "attrs": {
        "height": 0.8,
        "width": 0.8,
        "x": 0.1,
        "y": 0.1
       },
       "content": {
        "cell": "fa28b2e8-4caa-49df-be41-12316ed9c6ea",
        "part": "whole"
       },
       "id": "e15937d3-ca8f-4c2b-9355-3e8539719721"
      }
     }
    },
    "488ead69-ae58-41a6-aec0-3e5845ed0f00": {
     "id": "488ead69-ae58-41a6-aec0-3e5845ed0f00",
     "prev": null,
     "regions": {
      "376c7943-1dbb-4055-b2fd-d081f2cda483": {
       "attrs": {
        "height": 0.8,
        "width": 0.8,
        "x": 0.1,
        "y": 0.1
       },
       "content": {
        "cell": "1885a16c-422d-48b7-88f2-e1f91bb98103",
        "part": "whole"
       },
       "id": "376c7943-1dbb-4055-b2fd-d081f2cda483"
      }
     }
    },
    "4a880d5b-ba90-4b27-bfa0-42ddc439b36d": {
     "id": "4a880d5b-ba90-4b27-bfa0-42ddc439b36d",
     "prev": "d467ba6e-97a4-4174-af44-6a0d7fc1d239",
     "regions": {
      "cce9b9ad-100b-4c8f-997a-69d7ca7ff76a": {
       "attrs": {
        "height": 0.8,
        "width": 0.8,
        "x": 0.1,
        "y": 0.1
       },
       "content": {
        "cell": "f19ea8e6-cbc4-43d2-8770-2ea090f49586",
        "part": "whole"
       },
       "id": "cce9b9ad-100b-4c8f-997a-69d7ca7ff76a"
      }
     }
    },
    "4b77414d-be45-4fdd-bceb-7da4d9b09e92": {
     "id": "4b77414d-be45-4fdd-bceb-7da4d9b09e92",
     "prev": "9ec17883-01e3-43fc-8188-f2c61ed15797",
     "regions": {
      "3805b28d-dccc-485c-940d-df2f8a23a5f7": {
       "attrs": {
        "height": 0.8,
        "width": 0.8,
        "x": 0.1,
        "y": 0.1
       },
       "content": {
        "cell": "e6235814-0b80-46b8-b257-ba37dc1d53e5",
        "part": "whole"
       },
       "id": "3805b28d-dccc-485c-940d-df2f8a23a5f7"
      }
     }
    },
    "4ed8c908-1a72-4b61-bc2e-d0685ac1b040": {
     "id": "4ed8c908-1a72-4b61-bc2e-d0685ac1b040",
     "prev": "3b7b7335-2b14-4ba9-be50-f4b20d15765a",
     "regions": {
      "b47bded1-add7-4537-bf21-0cb0306166c1": {
       "attrs": {
        "height": 0.8,
        "width": 0.8,
        "x": 0.1,
        "y": 0.1
       },
       "content": {
        "cell": "4153306e-a0b2-4f9d-b282-7f91835f4440",
        "part": "whole"
       },
       "id": "b47bded1-add7-4537-bf21-0cb0306166c1"
      }
     }
    },
    "4f24d914-20a2-4635-b9a4-40f18cdacbee": {
     "id": "4f24d914-20a2-4635-b9a4-40f18cdacbee",
     "prev": "ad0fc24c-138a-4995-a0b4-2408b0d082f2",
     "regions": {
      "da0ddd4c-6ca0-4b82-b978-634c76282b27": {
       "attrs": {
        "height": 0.8,
        "width": 0.8,
        "x": 0.1,
        "y": 0.1
       },
       "content": {
        "cell": "9ff47607-9f9d-4b74-9143-e5b41deccb9c",
        "part": "whole"
       },
       "id": "da0ddd4c-6ca0-4b82-b978-634c76282b27"
      }
     }
    },
    "4ff8e521-e352-46be-9135-dc19f5a574c6": {
     "id": "4ff8e521-e352-46be-9135-dc19f5a574c6",
     "prev": "4f24d914-20a2-4635-b9a4-40f18cdacbee",
     "regions": {
      "17f7840a-362b-469f-a156-2391c422589d": {
       "attrs": {
        "height": 0.8,
        "width": 0.8,
        "x": 0.1,
        "y": 0.1
       },
       "content": {
        "cell": "96276824-4530-4725-94f8-6b2d707dfea2",
        "part": "whole"
       },
       "id": "17f7840a-362b-469f-a156-2391c422589d"
      }
     }
    },
    "52d5ac84-8c23-4591-ac19-ce4cf173ea29": {
     "id": "52d5ac84-8c23-4591-ac19-ce4cf173ea29",
     "prev": "ba0bea6c-bbdc-4a39-b6c6-701e610b84fd",
     "regions": {
      "0e5414ec-a37f-42b4-84d3-94789f90bc44": {
       "attrs": {
        "height": 0.8,
        "width": 0.8,
        "x": 0.1,
        "y": 0.1
       },
       "content": {
        "cell": "13bd3aef-c2da-415a-bb9d-cdcba8133c15",
        "part": "whole"
       },
       "id": "0e5414ec-a37f-42b4-84d3-94789f90bc44"
      }
     }
    },
    "5330abef-3b30-4ff4-9694-7a268eaeeb29": {
     "id": "5330abef-3b30-4ff4-9694-7a268eaeeb29",
     "prev": "5f18d723-8438-4ad8-8c52-fa0beaf4cd07",
     "regions": {
      "76f08d24-220b-4038-aaaf-5a186934da31": {
       "attrs": {
        "height": 0.8,
        "width": 0.8,
        "x": 0.1,
        "y": 0.1
       },
       "content": {
        "cell": "208ccd3a-92b9-47cb-9e19-13a58d53e632",
        "part": "whole"
       },
       "id": "76f08d24-220b-4038-aaaf-5a186934da31"
      }
     }
    },
    "534423cd-31f0-4a0c-8c2a-b4f476e2d3f7": {
     "id": "534423cd-31f0-4a0c-8c2a-b4f476e2d3f7",
     "prev": "7aff0583-992c-40a2-b6af-8d6e7e628e25",
     "regions": {
      "a5ef444d-5a35-492b-8f6f-90b247e9ac3f": {
       "attrs": {
        "height": 0.8,
        "width": 0.8,
        "x": 0.1,
        "y": 0.1
       },
       "content": {
        "cell": "1339d612-7404-4dd3-a08d-e9a0c72df53d",
        "part": "whole"
       },
       "id": "a5ef444d-5a35-492b-8f6f-90b247e9ac3f"
      }
     }
    },
    "553633ab-e942-49eb-9159-394b6deca624": {
     "id": "553633ab-e942-49eb-9159-394b6deca624",
     "prev": "3f11d74c-4f5b-4488-b08a-9e9e0cca9044",
     "regions": {
      "5eaea9e8-a37c-4a37-bdfc-7da4556acc9b": {
       "attrs": {
        "height": 0.8,
        "width": 0.8,
        "x": 0.1,
        "y": 0.1
       },
       "content": {
        "cell": "0a88d0f3-b0d6-4f9b-b8f9-cadfbfec4bb9",
        "part": "whole"
       },
       "id": "5eaea9e8-a37c-4a37-bdfc-7da4556acc9b"
      }
     }
    },
    "57676405-db37-4ae2-8b42-4a29c68ef74b": {
     "id": "57676405-db37-4ae2-8b42-4a29c68ef74b",
     "prev": "c2c02926-e0da-400c-b127-595967cd20f5",
     "regions": {
      "1d2a8da9-7444-4a2d-9bc6-d774e3735afd": {
       "attrs": {
        "height": 0.8,
        "width": 0.8,
        "x": 0.1,
        "y": 0.1
       },
       "content": {
        "cell": "0a80071b-d8be-4cc3-9e61-d342647a5d9b",
        "part": "whole"
       },
       "id": "1d2a8da9-7444-4a2d-9bc6-d774e3735afd"
      }
     }
    },
    "587182b8-b42b-4307-9069-4e03ae943d4a": {
     "id": "587182b8-b42b-4307-9069-4e03ae943d4a",
     "prev": "4ed8c908-1a72-4b61-bc2e-d0685ac1b040",
     "regions": {
      "e8ea819d-36f3-45d1-844b-62bc214dd89b": {
       "attrs": {
        "height": 0.8,
        "width": 0.8,
        "x": 0.1,
        "y": 0.1
       },
       "content": {
        "cell": "dac7da52-3666-4851-9451-2b194f1aadfb",
        "part": "whole"
       },
       "id": "e8ea819d-36f3-45d1-844b-62bc214dd89b"
      }
     }
    },
    "58adc634-8fa8-4384-8dc3-d598f3bdbcb8": {
     "id": "58adc634-8fa8-4384-8dc3-d598f3bdbcb8",
     "prev": "88c5f84f-7a8a-484c-83b6-37d36cd2d337",
     "regions": {
      "c128d7e1-e8b3-4c77-ba68-c96cf420a824": {
       "attrs": {
        "height": 0.8,
        "width": 0.8,
        "x": 0.1,
        "y": 0.1
       },
       "content": {
        "cell": "dac6dd61-f266-4e79-a7c3-172852497e67",
        "part": "whole"
       },
       "id": "c128d7e1-e8b3-4c77-ba68-c96cf420a824"
      }
     }
    },
    "58beb69a-73b7-4ef6-a6a2-a4ef1fa977c4": {
     "id": "58beb69a-73b7-4ef6-a6a2-a4ef1fa977c4",
     "prev": "d6b86f64-b6da-47ec-bf30-40156f3e66df",
     "regions": {
      "eb9dbb47-e2e5-46fa-9760-3fbbd4645b4d": {
       "attrs": {
        "height": 0.8,
        "width": 0.8,
        "x": 0.1,
        "y": 0.1
       },
       "content": {
        "cell": "a4f474e0-d263-42d7-815e-a173e5961dde",
        "part": "whole"
       },
       "id": "eb9dbb47-e2e5-46fa-9760-3fbbd4645b4d"
      }
     }
    },
    "59897b60-1a1c-4d1d-9c78-d2d761842c76": {
     "id": "59897b60-1a1c-4d1d-9c78-d2d761842c76",
     "prev": "c940884d-5b3c-4186-93d5-baf6993579c6",
     "regions": {
      "3ad07ee6-117c-4334-8e12-cbbae9a95775": {
       "attrs": {
        "height": 0.8,
        "width": 0.8,
        "x": 0.1,
        "y": 0.1
       },
       "content": {
        "cell": "d77032e8-93fb-4b44-b093-334c47648eff",
        "part": "whole"
       },
       "id": "3ad07ee6-117c-4334-8e12-cbbae9a95775"
      }
     }
    },
    "5ac79dd1-c7c6-41fd-935d-18b7ae69064b": {
     "id": "5ac79dd1-c7c6-41fd-935d-18b7ae69064b",
     "prev": "cc178dfe-c1aa-4697-945c-91b21921d8cc",
     "regions": {
      "4b4de0ef-c4af-4a39-ae4b-39de1e168c43": {
       "attrs": {
        "height": 0.8,
        "width": 0.8,
        "x": 0.1,
        "y": 0.1
       },
       "content": {
        "cell": "ab95039a-9d5b-49c4-b3c7-b6f1f799e2c4",
        "part": "whole"
       },
       "id": "4b4de0ef-c4af-4a39-ae4b-39de1e168c43"
      }
     }
    },
    "5acec809-1cab-4077-b8b6-bbd85ed218b6": {
     "id": "5acec809-1cab-4077-b8b6-bbd85ed218b6",
     "prev": "1d4019d8-ab87-4970-be27-e6a8310a368b",
     "regions": {
      "7f730bb6-2e73-47e6-b720-4764a0325292": {
       "attrs": {
        "height": 0.8,
        "width": 0.8,
        "x": 0.1,
        "y": 0.1
       },
       "content": {
        "cell": "b1586bc9-8c38-40f3-8b68-9670fc5f7467",
        "part": "whole"
       },
       "id": "7f730bb6-2e73-47e6-b720-4764a0325292"
      }
     }
    },
    "5b2cbae9-1dcc-45e6-b01b-03afc5471ec1": {
     "id": "5b2cbae9-1dcc-45e6-b01b-03afc5471ec1",
     "prev": "38c1a37c-6d55-4e37-84fe-d61b57f7ec71",
     "regions": {
      "f671503f-29ff-4752-865b-cd5c45bc5a2a": {
       "attrs": {
        "height": 0.8,
        "width": 0.8,
        "x": 0.1,
        "y": 0.1
       },
       "content": {
        "cell": "123b54a8-6b1b-4b95-999e-3f9cdef53249",
        "part": "whole"
       },
       "id": "f671503f-29ff-4752-865b-cd5c45bc5a2a"
      }
     }
    },
    "5b986df7-209b-4571-bf16-cb67035eee7a": {
     "id": "5b986df7-209b-4571-bf16-cb67035eee7a",
     "prev": "2b3ab018-7989-4d20-a2f5-f3fd503f1a2c",
     "regions": {
      "3d2b3117-1304-4f1a-9776-c67d7a9339e7": {
       "attrs": {
        "height": 0.8,
        "width": 0.8,
        "x": 0.1,
        "y": 0.1
       },
       "content": {
        "cell": "097634ff-403a-4b92-b36e-0f84687f53ef",
        "part": "whole"
       },
       "id": "3d2b3117-1304-4f1a-9776-c67d7a9339e7"
      }
     }
    },
    "5c7a8fdd-9e8d-42a8-82e3-92d7f2c3d984": {
     "id": "5c7a8fdd-9e8d-42a8-82e3-92d7f2c3d984",
     "prev": "587182b8-b42b-4307-9069-4e03ae943d4a",
     "regions": {
      "82a65dfe-7d65-4aa7-9d83-a881b3460766": {
       "attrs": {
        "height": 0.8,
        "width": 0.8,
        "x": 0.1,
        "y": 0.1
       },
       "content": {
        "cell": "f178d492-02c8-498f-be9e-4bc1cba76f57",
        "part": "whole"
       },
       "id": "82a65dfe-7d65-4aa7-9d83-a881b3460766"
      }
     }
    },
    "5f18d723-8438-4ad8-8c52-fa0beaf4cd07": {
     "id": "5f18d723-8438-4ad8-8c52-fa0beaf4cd07",
     "prev": "0f6b2799-1f9a-4fb3-ae5c-981ba865d87d",
     "regions": {
      "0f40dced-3952-4f5f-89ff-a4798225a506": {
       "attrs": {
        "height": 0.8,
        "width": 0.8,
        "x": 0.1,
        "y": 0.1
       },
       "content": {
        "cell": "5fed7e99-1a49-482e-8e19-b64a481afff7",
        "part": "whole"
       },
       "id": "0f40dced-3952-4f5f-89ff-a4798225a506"
      }
     }
    },
    "624f59b2-70f7-481d-9b8d-099886378448": {
     "id": "624f59b2-70f7-481d-9b8d-099886378448",
     "prev": "b3f2e8a0-1ad1-4580-85e8-c197149361ff",
     "regions": {
      "98da36ed-fca8-4fdc-ac41-a85f34c5dc4b": {
       "attrs": {
        "height": 0.8,
        "width": 0.8,
        "x": 0.1,
        "y": 0.1
       },
       "content": {
        "cell": "c6852617-6f4b-45f5-9689-922276ae8699",
        "part": "whole"
       },
       "id": "98da36ed-fca8-4fdc-ac41-a85f34c5dc4b"
      }
     }
    },
    "65fb441f-5bc0-4a7d-9ca0-67d943be4147": {
     "id": "65fb441f-5bc0-4a7d-9ca0-67d943be4147",
     "prev": "87e3f40a-cef2-43e7-a4e2-fa5d6aa16bfe",
     "regions": {
      "5626b4ed-dbb0-43b9-8b50-66e26bd694ed": {
       "attrs": {
        "height": 0.8,
        "width": 0.8,
        "x": 0.1,
        "y": 0.1
       },
       "content": {
        "cell": "75d29ffd-9aa0-409b-8f8c-00389aadb509",
        "part": "whole"
       },
       "id": "5626b4ed-dbb0-43b9-8b50-66e26bd694ed"
      }
     }
    },
    "68285f8d-34ec-46e7-8c69-7e8bab989829": {
     "id": "68285f8d-34ec-46e7-8c69-7e8bab989829",
     "prev": "40314ddf-b427-42c5-a88a-35e762b43cf4",
     "regions": {
      "86610d77-f00a-490b-9c4d-a431ef230ed0": {
       "attrs": {
        "height": 0.8,
        "width": 0.8,
        "x": 0.1,
        "y": 0.1
       },
       "content": {
        "cell": "80daa091-bd9e-486f-aeab-92008e094866",
        "part": "whole"
       },
       "id": "86610d77-f00a-490b-9c4d-a431ef230ed0"
      }
     }
    },
    "687ebff0-e2dd-4986-a085-a039bc3106ec": {
     "id": "687ebff0-e2dd-4986-a085-a039bc3106ec",
     "prev": "534423cd-31f0-4a0c-8c2a-b4f476e2d3f7",
     "regions": {
      "b41c6652-511d-4778-830e-e271e1b9019a": {
       "attrs": {
        "height": 0.8,
        "width": 0.8,
        "x": 0.1,
        "y": 0.1
       },
       "content": {
        "cell": "4907f024-3f85-46f0-add9-44e1c70593ba",
        "part": "whole"
       },
       "id": "b41c6652-511d-4778-830e-e271e1b9019a"
      }
     }
    },
    "6c0d823a-e6fa-4932-8162-91d2af4852f5": {
     "id": "6c0d823a-e6fa-4932-8162-91d2af4852f5",
     "prev": "cc32e757-e982-4820-ae85-6da5939ed1e4",
     "regions": {
      "3f9abdf7-4dea-4075-a8b8-059c4d9e625c": {
       "attrs": {
        "height": 0.8,
        "width": 0.8,
        "x": 0.1,
        "y": 0.1
       },
       "content": {
        "cell": "5e7d7528-6211-46b4-9b60-c02930661cbe",
        "part": "whole"
       },
       "id": "3f9abdf7-4dea-4075-a8b8-059c4d9e625c"
      }
     }
    },
    "6daf195b-c98a-4073-bee5-f7530e36c6ff": {
     "id": "6daf195b-c98a-4073-bee5-f7530e36c6ff",
     "prev": "464a652b-e6db-4183-9971-e0c8e9f87ac6",
     "regions": {
      "c2db59c7-737c-498e-8a9e-c2e701a51c82": {
       "attrs": {
        "height": 0.8,
        "width": 0.8,
        "x": 0.1,
        "y": 0.1
       },
       "content": {
        "cell": "e0b808f8-3945-4418-b844-46d803d8d7c3",
        "part": "whole"
       },
       "id": "c2db59c7-737c-498e-8a9e-c2e701a51c82"
      }
     }
    },
    "71ba1740-ddec-4818-842a-550f8ae55705": {
     "id": "71ba1740-ddec-4818-842a-550f8ae55705",
     "prev": "5ac79dd1-c7c6-41fd-935d-18b7ae69064b",
     "regions": {
      "fcf81308-885d-48b7-b67f-540a060fdcf4": {
       "attrs": {
        "height": 0.8,
        "width": 0.8,
        "x": 0.1,
        "y": 0.1
       },
       "content": {
        "cell": "4e8379b3-8f25-404e-8211-a90e3cce5d71",
        "part": "whole"
       },
       "id": "fcf81308-885d-48b7-b67f-540a060fdcf4"
      }
     }
    },
    "72d91254-d1a4-401c-b788-8f96f3b25ecd": {
     "id": "72d91254-d1a4-401c-b788-8f96f3b25ecd",
     "prev": "0fc798e5-9485-4e85-abc8-2cae2c1008ef",
     "regions": {
      "850371c4-7994-41f9-9e2c-f6751010d35b": {
       "attrs": {
        "height": 0.8,
        "width": 0.8,
        "x": 0.1,
        "y": 0.1
       },
       "content": {
        "cell": "f1244cea-9dfb-483e-abde-2c05cc634d77",
        "part": "whole"
       },
       "id": "850371c4-7994-41f9-9e2c-f6751010d35b"
      }
     }
    },
    "75f41b96-5248-4d18-9ed7-9202a7be90ea": {
     "id": "75f41b96-5248-4d18-9ed7-9202a7be90ea",
     "prev": "01cc8391-62fe-45c1-ae3a-f9fe81cb491f",
     "regions": {
      "da9b98f3-5f5f-4a65-ae5b-d8fac2c45327": {
       "attrs": {
        "height": 0.8,
        "width": 0.8,
        "x": 0.1,
        "y": 0.1
       },
       "content": {
        "cell": "ebefe095-aafd-4cf6-bba6-00a0e514c7af",
        "part": "whole"
       },
       "id": "da9b98f3-5f5f-4a65-ae5b-d8fac2c45327"
      }
     }
    },
    "76df4bef-e248-4d9e-811d-58c5013d1517": {
     "id": "76df4bef-e248-4d9e-811d-58c5013d1517",
     "prev": "f798d90f-7bb6-4a9a-8148-cf107c716632",
     "regions": {
      "3f144a39-80cf-46b8-bfa2-0bed2f9e59b2": {
       "attrs": {
        "height": 0.8,
        "width": 0.8,
        "x": 0.1,
        "y": 0.1
       },
       "content": {
        "cell": "2965997d-c9db-497b-b330-901f6a30d87e",
        "part": "whole"
       },
       "id": "3f144a39-80cf-46b8-bfa2-0bed2f9e59b2"
      }
     }
    },
    "7aa3d3a5-9f9d-444d-8080-24d06cd3401e": {
     "id": "7aa3d3a5-9f9d-444d-8080-24d06cd3401e",
     "prev": "91fbb659-78e7-4ded-bc8d-2fe1d3b48aa5",
     "regions": {
      "1e87f0b9-b229-40b8-a284-fbc3662eb189": {
       "attrs": {
        "height": 0.8,
        "width": 0.8,
        "x": 0.1,
        "y": 0.1
       },
       "content": {
        "cell": "7489aa8f-58b7-4e9d-860e-5b4d88713f8e",
        "part": "whole"
       },
       "id": "1e87f0b9-b229-40b8-a284-fbc3662eb189"
      }
     }
    },
    "7af2e2c0-428c-40a6-8130-f3280853f91f": {
     "id": "7af2e2c0-428c-40a6-8130-f3280853f91f",
     "prev": "80fb8c53-bb50-4876-aaee-cd93e0d04cce",
     "regions": {
      "411bc7d6-9b59-447f-b695-6d643beee13a": {
       "attrs": {
        "height": 0.8,
        "width": 0.8,
        "x": 0.1,
        "y": 0.1
       },
       "content": {
        "cell": "4115a3d3-c8a0-4739-b69d-3fcae7b82769",
        "part": "whole"
       },
       "id": "411bc7d6-9b59-447f-b695-6d643beee13a"
      }
     }
    },
    "7aff0583-992c-40a2-b6af-8d6e7e628e25": {
     "id": "7aff0583-992c-40a2-b6af-8d6e7e628e25",
     "prev": "7af2e2c0-428c-40a6-8130-f3280853f91f",
     "regions": {
      "6ad48ee4-9aee-4819-9d89-f9387402e463": {
       "attrs": {
        "height": 0.8,
        "width": 0.8,
        "x": 0.1,
        "y": 0.1
       },
       "content": {
        "cell": "15c01901-5bbd-4276-a63c-78bc924fe5c3",
        "part": "whole"
       },
       "id": "6ad48ee4-9aee-4819-9d89-f9387402e463"
      }
     }
    },
    "7b68fefe-29f2-427f-bbd7-5e4994bede43": {
     "id": "7b68fefe-29f2-427f-bbd7-5e4994bede43",
     "prev": "6daf195b-c98a-4073-bee5-f7530e36c6ff",
     "regions": {
      "0304878e-3dab-4058-9b24-bc83d7635763": {
       "attrs": {
        "height": 0.8,
        "width": 0.8,
        "x": 0.1,
        "y": 0.1
       },
       "content": {
        "cell": "d79c88c3-0240-4e1c-8a67-795aeb1778fb",
        "part": "whole"
       },
       "id": "0304878e-3dab-4058-9b24-bc83d7635763"
      }
     }
    },
    "80fb8c53-bb50-4876-aaee-cd93e0d04cce": {
     "id": "80fb8c53-bb50-4876-aaee-cd93e0d04cce",
     "prev": "c3df88e2-0513-4f70-9ecc-dae47ce5ee11",
     "regions": {
      "75effe65-5c06-4f5e-8414-7e17cf819eb2": {
       "attrs": {
        "height": 0.8,
        "width": 0.8,
        "x": 0.1,
        "y": 0.1
       },
       "content": {
        "cell": "693893c6-d75d-4694-810a-b7b96fcc0e4f",
        "part": "whole"
       },
       "id": "75effe65-5c06-4f5e-8414-7e17cf819eb2"
      }
     }
    },
    "825f0c27-ce83-4712-80f2-d2ff131e5782": {
     "id": "825f0c27-ce83-4712-80f2-d2ff131e5782",
     "prev": "de5a87e2-83e8-48b3-938e-f22bc15a3ee8",
     "regions": {
      "ed85e9d9-5766-4c52-b3bd-b4e751441e30": {
       "attrs": {
        "height": 0.8,
        "width": 0.8,
        "x": 0.1,
        "y": 0.1
       },
       "content": {
        "cell": "e96996be-f009-4ced-9fee-f6705eba93c2",
        "part": "whole"
       },
       "id": "ed85e9d9-5766-4c52-b3bd-b4e751441e30"
      }
     }
    },
    "83211f0c-a511-4808-b6ee-6907028274f4": {
     "id": "83211f0c-a511-4808-b6ee-6907028274f4",
     "prev": "ea416b8d-3296-4e3d-abaa-8dd0634b8a99",
     "regions": {
      "094dda24-db33-432c-8a86-4f434686e769": {
       "attrs": {
        "height": 0.8,
        "width": 0.8,
        "x": 0.1,
        "y": 0.1
       },
       "content": {
        "cell": "84c57d7a-7efa-4c9a-957e-12c3a9b0ea3e",
        "part": "whole"
       },
       "id": "094dda24-db33-432c-8a86-4f434686e769"
      }
     }
    },
    "83387e0e-5a1e-4c1f-8344-6e6441354fd6": {
     "id": "83387e0e-5a1e-4c1f-8344-6e6441354fd6",
     "prev": "1b468753-b629-4b0e-828e-571a6ceadf21",
     "regions": {
      "76e33d43-d0d3-43ce-a7c4-1bbef8fd7e00": {
       "attrs": {
        "height": 0.8,
        "width": 0.8,
        "x": 0.1,
        "y": 0.1
       },
       "content": {
        "cell": "f630fa57-538a-40da-aadf-74954d57ba10",
        "part": "whole"
       },
       "id": "76e33d43-d0d3-43ce-a7c4-1bbef8fd7e00"
      }
     }
    },
    "8689a417-56c2-4ec6-bfd7-03c1427ebb43": {
     "id": "8689a417-56c2-4ec6-bfd7-03c1427ebb43",
     "prev": "c5425b0e-5735-427f-a7ed-a0d61933bd2d",
     "regions": {
      "7d6ae7ed-5514-4586-b376-2081c063b577": {
       "attrs": {
        "height": 0.8,
        "width": 0.8,
        "x": 0.1,
        "y": 0.1
       },
       "content": {
        "cell": "a6b8b73d-fa06-40e3-9de0-505c3baef8bb",
        "part": "whole"
       },
       "id": "7d6ae7ed-5514-4586-b376-2081c063b577"
      }
     }
    },
    "875b1a64-0aa8-472f-b056-3572f61c6c16": {
     "id": "875b1a64-0aa8-472f-b056-3572f61c6c16",
     "prev": "b10ba315-6cfc-4c90-97fa-c678c09673b8",
     "regions": {
      "20acbdde-4d9d-4267-96cd-344bd1beffcd": {
       "attrs": {
        "height": 0.8,
        "width": 0.8,
        "x": 0.1,
        "y": 0.1
       },
       "content": {
        "cell": "7e460580-e61c-498a-9a35-f57c0e26245f",
        "part": "whole"
       },
       "id": "20acbdde-4d9d-4267-96cd-344bd1beffcd"
      }
     }
    },
    "878e7101-18b7-4e37-bdbe-579e21771a0c": {
     "id": "878e7101-18b7-4e37-bdbe-579e21771a0c",
     "prev": "dfa88ee6-84cb-4fd8-ada5-33d40f105e5e",
     "regions": {
      "8342e0d4-65f5-404a-87dd-1278e96e4049": {
       "attrs": {
        "height": 0.8,
        "width": 0.8,
        "x": 0.1,
        "y": 0.1
       },
       "content": {
        "cell": "62969b37-c058-4e97-8520-9afdf74a8fd9",
        "part": "whole"
       },
       "id": "8342e0d4-65f5-404a-87dd-1278e96e4049"
      }
     }
    },
    "87e3f40a-cef2-43e7-a4e2-fa5d6aa16bfe": {
     "id": "87e3f40a-cef2-43e7-a4e2-fa5d6aa16bfe",
     "prev": "7aa3d3a5-9f9d-444d-8080-24d06cd3401e",
     "regions": {
      "f3abde65-1305-499f-bc48-69db2085bd45": {
       "attrs": {
        "height": 0.8,
        "width": 0.8,
        "x": 0.1,
        "y": 0.1
       },
       "content": {
        "cell": "4deac683-bf45-4a65-96f1-7356fc67befc",
        "part": "whole"
       },
       "id": "f3abde65-1305-499f-bc48-69db2085bd45"
      }
     }
    },
    "88c5f84f-7a8a-484c-83b6-37d36cd2d337": {
     "id": "88c5f84f-7a8a-484c-83b6-37d36cd2d337",
     "prev": "9657a175-edf1-437c-a5b9-64603d170313",
     "regions": {
      "72e0869d-1cab-4b0b-8c0f-43e32fbb5d01": {
       "attrs": {
        "height": 0.8,
        "width": 0.8,
        "x": 0.1,
        "y": 0.1
       },
       "content": {
        "cell": "aa9861d4-8ec3-4b70-ba48-ef0e0df997a0",
        "part": "whole"
       },
       "id": "72e0869d-1cab-4b0b-8c0f-43e32fbb5d01"
      }
     }
    },
    "8915a2ae-96e5-4007-bebb-b38a77ca5a22": {
     "id": "8915a2ae-96e5-4007-bebb-b38a77ca5a22",
     "prev": "fc7bbb50-9386-4840-84ae-3410603e6dd0",
     "regions": {
      "d88e1b43-3419-43e0-bd46-780ddf360c86": {
       "attrs": {
        "height": 0.8,
        "width": 0.8,
        "x": 0.1,
        "y": 0.1
       },
       "content": {
        "cell": "1d957d5a-6b33-44bb-be22-7531daf718ae",
        "part": "whole"
       },
       "id": "d88e1b43-3419-43e0-bd46-780ddf360c86"
      }
     }
    },
    "8bf2af13-2359-4984-bfb5-949816101023": {
     "id": "8bf2af13-2359-4984-bfb5-949816101023",
     "prev": "997e0ae0-0969-4a59-a198-9a45f224bd50",
     "regions": {
      "0dde3bf0-abc3-4586-83e8-9b3061d27e38": {
       "attrs": {
        "height": 0.8,
        "width": 0.8,
        "x": 0.1,
        "y": 0.1
       },
       "content": {
        "cell": "fa985074-e604-45f1-8349-44713e8d5be9",
        "part": "whole"
       },
       "id": "0dde3bf0-abc3-4586-83e8-9b3061d27e38"
      }
     }
    },
    "90577dd3-0ced-4196-8bce-0cbd84e734f0": {
     "id": "90577dd3-0ced-4196-8bce-0cbd84e734f0",
     "prev": "efa6ae34-4718-44a3-81b4-4ecba6a0b996",
     "regions": {
      "8a760b53-34c2-4c6f-b8bf-f04bbb54638c": {
       "attrs": {
        "height": 0.8,
        "width": 0.8,
        "x": 0.1,
        "y": 0.1
       },
       "content": {
        "cell": "88b8fc18-45e3-4aab-8be6-332e34e2140d",
        "part": "whole"
       },
       "id": "8a760b53-34c2-4c6f-b8bf-f04bbb54638c"
      }
     }
    },
    "91efa910-75ac-4fab-8ab5-cf744ab7105d": {
     "id": "91efa910-75ac-4fab-8ab5-cf744ab7105d",
     "prev": "92bad123-9673-4083-8da5-187fa103689c",
     "regions": {
      "b2a6b72f-49cf-49b1-a1c3-573f801f850c": {
       "attrs": {
        "height": 0.8,
        "width": 0.8,
        "x": 0.1,
        "y": 0.1
       },
       "content": {
        "cell": "d73a0c53-73c8-4858-a1cb-6fba64ee317a",
        "part": "whole"
       },
       "id": "b2a6b72f-49cf-49b1-a1c3-573f801f850c"
      }
     }
    },
    "91fbb659-78e7-4ded-bc8d-2fe1d3b48aa5": {
     "id": "91fbb659-78e7-4ded-bc8d-2fe1d3b48aa5",
     "prev": "f0d05412-b35f-4414-b4b0-02c7ca3ea7bd",
     "regions": {
      "0d056fb2-e22f-42d6-9fa7-6403eed97dff": {
       "attrs": {
        "height": 0.8,
        "width": 0.8,
        "x": 0.1,
        "y": 0.1
       },
       "content": {
        "cell": "5a484073-406f-404a-967b-510c3e83e6dc",
        "part": "whole"
       },
       "id": "0d056fb2-e22f-42d6-9fa7-6403eed97dff"
      }
     }
    },
    "92216642-926d-4fcb-bec8-0fe504359b76": {
     "id": "92216642-926d-4fcb-bec8-0fe504359b76",
     "prev": "c8eec011-7f2b-457c-9227-5cd40a451571",
     "regions": {
      "e215fabd-67bc-4c33-a47e-bce4507e72e9": {
       "attrs": {
        "height": 0.8,
        "width": 0.8,
        "x": 0.1,
        "y": 0.1
       },
       "content": {
        "cell": "2b356331-a4e1-44f2-b2b1-64963d017006",
        "part": "whole"
       },
       "id": "e215fabd-67bc-4c33-a47e-bce4507e72e9"
      }
     }
    },
    "924301e1-c45f-4f7d-b0f7-c4b9d40f57b4": {
     "id": "924301e1-c45f-4f7d-b0f7-c4b9d40f57b4",
     "prev": "ce334b55-9a65-46dd-acef-8df68cbc3c7a",
     "regions": {
      "18184a66-4470-44e7-ae55-a8809f2b21b2": {
       "attrs": {
        "height": 0.8,
        "width": 0.8,
        "x": 0.1,
        "y": 0.1
       },
       "content": {
        "cell": "c6df7493-8739-4b9c-9cdd-e2b1c024322c",
        "part": "whole"
       },
       "id": "18184a66-4470-44e7-ae55-a8809f2b21b2"
      }
     }
    },
    "92bad123-9673-4083-8da5-187fa103689c": {
     "id": "92bad123-9673-4083-8da5-187fa103689c",
     "prev": "14490c87-4b1b-4a9b-baee-068345d3a9a2",
     "regions": {
      "d673dc50-c7fa-451c-bf60-adc1bb37c760": {
       "attrs": {
        "height": 0.8,
        "width": 0.8,
        "x": 0.1,
        "y": 0.1
       },
       "content": {
        "cell": "dfe0bbcd-1032-4e2d-a581-0a6c87bcb502",
        "part": "whole"
       },
       "id": "d673dc50-c7fa-451c-bf60-adc1bb37c760"
      }
     }
    },
    "94beb7f1-106a-4ca2-8c26-3a3c32e76873": {
     "id": "94beb7f1-106a-4ca2-8c26-3a3c32e76873",
     "prev": "fbbf5e30-e183-4cab-9868-bb6c39fda9e9",
     "regions": {
      "178e8c63-632d-4160-998a-0212377665bd": {
       "attrs": {
        "height": 0.8,
        "width": 0.8,
        "x": 0.1,
        "y": 0.1
       },
       "content": {
        "cell": "6f832cb7-f038-456f-bf48-ba5b641cecb5",
        "part": "whole"
       },
       "id": "178e8c63-632d-4160-998a-0212377665bd"
      }
     }
    },
    "9657a175-edf1-437c-a5b9-64603d170313": {
     "id": "9657a175-edf1-437c-a5b9-64603d170313",
     "prev": "a0883de4-a316-45cf-97e6-4dec2d8d566f",
     "regions": {
      "589c0d28-40b3-49b2-8f62-24f0eb07bc40": {
       "attrs": {
        "height": 0.8,
        "width": 0.8,
        "x": 0.1,
        "y": 0.1
       },
       "content": {
        "cell": "d2be5766-3997-490e-80c0-7e40778ab11b",
        "part": "whole"
       },
       "id": "589c0d28-40b3-49b2-8f62-24f0eb07bc40"
      }
     }
    },
    "9678f852-ba9d-4752-804d-00872a5ee77d": {
     "id": "9678f852-ba9d-4752-804d-00872a5ee77d",
     "prev": "4658a3b4-e167-4a28-a63c-8ebdb3a89a34",
     "regions": {
      "e21bc542-977c-4d78-8172-97e1ee7c52e0": {
       "attrs": {
        "height": 0.8,
        "width": 0.8,
        "x": 0.1,
        "y": 0.1
       },
       "content": {
        "cell": "28461f82-90b2-488c-a3f1-12c9d888b2a1",
        "part": "whole"
       },
       "id": "e21bc542-977c-4d78-8172-97e1ee7c52e0"
      }
     }
    },
    "9770a6dc-9279-46b6-915c-b98e20d1eb02": {
     "id": "9770a6dc-9279-46b6-915c-b98e20d1eb02",
     "prev": "da79dca8-1be2-4a6c-aa18-d020f6ad27dc",
     "regions": {
      "d32c7ac0-4afe-462e-9f3d-3eaf08ad1f4f": {
       "attrs": {
        "height": 0.8,
        "width": 0.8,
        "x": 0.1,
        "y": 0.1
       },
       "content": {
        "cell": "5cbf8410-bf77-4bdd-8819-d075fdc8cd0d",
        "part": "whole"
       },
       "id": "d32c7ac0-4afe-462e-9f3d-3eaf08ad1f4f"
      }
     }
    },
    "992b5d87-9114-480a-bdba-27de5f24dacc": {
     "id": "992b5d87-9114-480a-bdba-27de5f24dacc",
     "prev": "a1eac216-3865-44c3-b0b9-401b1641fecb",
     "regions": {
      "b6afb8d0-e85c-4558-96d4-be01e76b65b5": {
       "attrs": {
        "height": 0.8,
        "width": 0.8,
        "x": 0.1,
        "y": 0.1
       },
       "content": {
        "cell": "c412855a-0587-4828-ba53-74e4e1947dd0",
        "part": "whole"
       },
       "id": "b6afb8d0-e85c-4558-96d4-be01e76b65b5"
      }
     }
    },
    "997e0ae0-0969-4a59-a198-9a45f224bd50": {
     "id": "997e0ae0-0969-4a59-a198-9a45f224bd50",
     "prev": "e979c56b-045e-4a68-87bc-5f5f7eb3329e",
     "regions": {
      "46a3027c-93fc-4e1b-8322-2088e131dad3": {
       "attrs": {
        "height": 0.8,
        "width": 0.8,
        "x": 0.1,
        "y": 0.1
       },
       "content": {
        "cell": "3ee75ff3-899a-4924-a104-538dd71ef59a",
        "part": "whole"
       },
       "id": "46a3027c-93fc-4e1b-8322-2088e131dad3"
      }
     }
    },
    "99bfdb95-ee82-44d4-8765-f6ae027c038b": {
     "id": "99bfdb95-ee82-44d4-8765-f6ae027c038b",
     "prev": "4a880d5b-ba90-4b27-bfa0-42ddc439b36d",
     "regions": {
      "d6906ff9-0144-48d6-95dc-e24e79dfebee": {
       "attrs": {
        "height": 0.8,
        "width": 0.8,
        "x": 0.1,
        "y": 0.1
       },
       "content": {
        "cell": "d57bdf62-95c2-450b-a5de-56070367a2c9",
        "part": "whole"
       },
       "id": "d6906ff9-0144-48d6-95dc-e24e79dfebee"
      }
     }
    },
    "9c0f22aa-72f4-42aa-a31b-0507989522e2": {
     "id": "9c0f22aa-72f4-42aa-a31b-0507989522e2",
     "prev": "71ba1740-ddec-4818-842a-550f8ae55705",
     "regions": {
      "7b197553-f28a-44f6-ae03-63b78ad76fd3": {
       "attrs": {
        "height": 0.8,
        "width": 0.8,
        "x": 0.1,
        "y": 0.1
       },
       "content": {
        "cell": "63e26aa6-03fa-4deb-a1b8-9b931727aaae",
        "part": "whole"
       },
       "id": "7b197553-f28a-44f6-ae03-63b78ad76fd3"
      }
     }
    },
    "9dfdac20-db5f-4233-a734-3eab8ba022c9": {
     "id": "9dfdac20-db5f-4233-a734-3eab8ba022c9",
     "prev": "1be6772a-d90f-47db-98fd-f6f0cab4260d",
     "regions": {
      "0a2f9b9a-1f10-4660-bd7b-c604bfd2aba7": {
       "attrs": {
        "height": 0.8,
        "width": 0.8,
        "x": 0.1,
        "y": 0.1
       },
       "content": {
        "cell": "233a8455-fbe8-4d52-be04-2f5b39760459",
        "part": "whole"
       },
       "id": "0a2f9b9a-1f10-4660-bd7b-c604bfd2aba7"
      }
     }
    },
    "9e0d58d8-5d09-4adc-9416-4db290dd8d35": {
     "id": "9e0d58d8-5d09-4adc-9416-4db290dd8d35",
     "prev": "52d5ac84-8c23-4591-ac19-ce4cf173ea29",
     "regions": {
      "c8c5116b-d623-4bb8-a50f-61fb510eb40a": {
       "attrs": {
        "height": 0.8,
        "width": 0.8,
        "x": 0.1,
        "y": 0.1
       },
       "content": {
        "cell": "dc8cc587-0b5e-4bea-ae18-ccdb94d6a4f5",
        "part": "whole"
       },
       "id": "c8c5116b-d623-4bb8-a50f-61fb510eb40a"
      }
     }
    },
    "9ec17883-01e3-43fc-8188-f2c61ed15797": {
     "id": "9ec17883-01e3-43fc-8188-f2c61ed15797",
     "prev": "f798668b-aa43-4cd4-8d11-3e1cef41965f",
     "regions": {
      "29e0cdc9-2809-4ca4-856b-39bd7366cd39": {
       "attrs": {
        "height": 0.8,
        "width": 0.8,
        "x": 0.1,
        "y": 0.1
       },
       "content": {
        "cell": "20388e8f-2f50-49c0-bd66-9c97ff6978da",
        "part": "whole"
       },
       "id": "29e0cdc9-2809-4ca4-856b-39bd7366cd39"
      }
     }
    },
    "a0883de4-a316-45cf-97e6-4dec2d8d566f": {
     "id": "a0883de4-a316-45cf-97e6-4dec2d8d566f",
     "prev": "15535fa2-12a5-4711-af41-df9911298973",
     "regions": {
      "a2a10e62-2bab-4be4-b618-5223d4578aae": {
       "attrs": {
        "height": 0.8,
        "width": 0.8,
        "x": 0.1,
        "y": 0.1
       },
       "content": {
        "cell": "247d71bd-9793-48d9-ad18-c2768226c307",
        "part": "whole"
       },
       "id": "a2a10e62-2bab-4be4-b618-5223d4578aae"
      }
     }
    },
    "a139fd2c-2916-4c71-b9f8-f39b6e1bc8d0": {
     "id": "a139fd2c-2916-4c71-b9f8-f39b6e1bc8d0",
     "prev": "9c0f22aa-72f4-42aa-a31b-0507989522e2",
     "regions": {
      "b6821cb8-66be-4676-94c1-dea53411310c": {
       "attrs": {
        "height": 0.8,
        "width": 0.8,
        "x": 0.1,
        "y": 0.1
       },
       "content": {
        "cell": "080a354b-e8c8-4de7-bca1-2a03873404e0",
        "part": "whole"
       },
       "id": "b6821cb8-66be-4676-94c1-dea53411310c"
      }
     }
    },
    "a1534241-aca4-4986-993f-42fe2a0f16d5": {
     "id": "a1534241-aca4-4986-993f-42fe2a0f16d5",
     "prev": "ffe23cb6-7c3c-4936-868d-9333334f473c",
     "regions": {
      "f2f88f6d-a558-4cbd-9728-e8af1a140e7d": {
       "attrs": {
        "height": 0.8,
        "width": 0.8,
        "x": 0.1,
        "y": 0.1
       },
       "content": {
        "cell": "85a27950-b3b0-43a6-bd29-921cb6a3d797",
        "part": "whole"
       },
       "id": "f2f88f6d-a558-4cbd-9728-e8af1a140e7d"
      }
     }
    },
    "a1eac216-3865-44c3-b0b9-401b1641fecb": {
     "id": "a1eac216-3865-44c3-b0b9-401b1641fecb",
     "prev": "d4575b24-8414-4616-8a5a-fc9e72211b9d",
     "regions": {
      "ad7678e5-dba1-4c3d-8778-f4127410a194": {
       "attrs": {
        "height": 0.8,
        "width": 0.8,
        "x": 0.1,
        "y": 0.1
       },
       "content": {
        "cell": "3d97d1cf-13a2-4581-b8e6-175e39794026",
        "part": "whole"
       },
       "id": "ad7678e5-dba1-4c3d-8778-f4127410a194"
      }
     }
    },
    "a26b5495-390b-4edd-8068-3c39079af95a": {
     "id": "a26b5495-390b-4edd-8068-3c39079af95a",
     "prev": "ca94c223-828c-46ac-b72e-611ee14de88a",
     "regions": {
      "40cbc56f-6c57-495e-9790-5293b1574d5a": {
       "attrs": {
        "height": 0.8,
        "width": 0.8,
        "x": 0.1,
        "y": 0.1
       },
       "content": {
        "cell": "745221af-0bee-4ef0-a8b4-2c967a04f931",
        "part": "whole"
       },
       "id": "40cbc56f-6c57-495e-9790-5293b1574d5a"
      }
     }
    },
    "a491982d-3d2d-47e0-b6cf-94781ee0bd51": {
     "id": "a491982d-3d2d-47e0-b6cf-94781ee0bd51",
     "prev": "42d3927f-8677-4496-9301-4cfea5055ce8",
     "regions": {
      "127afe4b-9e14-4506-a0a5-e52fb267176d": {
       "attrs": {
        "height": 0.8,
        "width": 0.8,
        "x": 0.1,
        "y": 0.1
       },
       "content": {
        "cell": "5e4978fb-3fa4-46a1-a095-0874a1c4a926",
        "part": "whole"
       },
       "id": "127afe4b-9e14-4506-a0a5-e52fb267176d"
      }
     }
    },
    "a7a421de-62fb-4fc5-8ae6-407545b08683": {
     "id": "a7a421de-62fb-4fc5-8ae6-407545b08683",
     "prev": "346b3dfa-1e29-4566-9e7e-2382a5f2b070",
     "regions": {
      "21a65cf8-853e-4070-b6ee-c52d26fc7c50": {
       "attrs": {
        "height": 0.8,
        "width": 0.8,
        "x": 0.1,
        "y": 0.1
       },
       "content": {
        "cell": "c86f6482-d4bb-4a27-90bc-c5064679d267",
        "part": "whole"
       },
       "id": "21a65cf8-853e-4070-b6ee-c52d26fc7c50"
      }
     }
    },
    "aa11c054-78d2-4db4-a7cc-ea0c82558759": {
     "id": "aa11c054-78d2-4db4-a7cc-ea0c82558759",
     "prev": "dd048b1b-6c94-4a98-b90b-0c9e80ceea28",
     "regions": {
      "16c9b35e-ed83-437f-8f77-de098df6f7a8": {
       "attrs": {
        "height": 0.8,
        "width": 0.8,
        "x": 0.1,
        "y": 0.1
       },
       "content": {
        "cell": "df1c7fda-b71a-4cc3-b37e-65bf76ba5122",
        "part": "whole"
       },
       "id": "16c9b35e-ed83-437f-8f77-de098df6f7a8"
      }
     }
    },
    "abc72a13-6572-467e-af57-756388375fa9": {
     "id": "abc72a13-6572-467e-af57-756388375fa9",
     "prev": "875b1a64-0aa8-472f-b056-3572f61c6c16",
     "regions": {
      "184e4845-6882-4613-904d-cb63338f67c6": {
       "attrs": {
        "height": 0.8,
        "width": 0.8,
        "x": 0.1,
        "y": 0.1
       },
       "content": {
        "cell": "d98ac27e-8bf7-4a5a-8f4e-e2848ddc1c0f",
        "part": "whole"
       },
       "id": "184e4845-6882-4613-904d-cb63338f67c6"
      }
     }
    },
    "ac0e04c4-0370-40ed-b9e4-b23ebd240727": {
     "id": "ac0e04c4-0370-40ed-b9e4-b23ebd240727",
     "prev": "aa11c054-78d2-4db4-a7cc-ea0c82558759",
     "regions": {
      "0b9af59e-1198-4ba5-a956-054de60038c7": {
       "attrs": {
        "height": 0.8,
        "width": 0.8,
        "x": 0.1,
        "y": 0.1
       },
       "content": {
        "cell": "9fcada48-957d-4c63-9045-ef7565d23860",
        "part": "whole"
       },
       "id": "0b9af59e-1198-4ba5-a956-054de60038c7"
      }
     }
    },
    "ac4396fb-2294-4732-8a17-b7b793ef27a5": {
     "id": "ac4396fb-2294-4732-8a17-b7b793ef27a5",
     "prev": "ac0e04c4-0370-40ed-b9e4-b23ebd240727",
     "regions": {
      "b8db41b7-0a50-4f9d-9873-e7a434113c7f": {
       "attrs": {
        "height": 0.8,
        "width": 0.8,
        "x": 0.1,
        "y": 0.1
       },
       "content": {
        "cell": "8c5ff9c1-205c-45eb-989b-92eb8fcb18c2",
        "part": "whole"
       },
       "id": "b8db41b7-0a50-4f9d-9873-e7a434113c7f"
      }
     }
    },
    "ad0fc24c-138a-4995-a0b4-2408b0d082f2": {
     "id": "ad0fc24c-138a-4995-a0b4-2408b0d082f2",
     "prev": "0dc9ce3e-f06c-4503-92e3-c6624f9fb5e2",
     "regions": {
      "4bbe2fcb-340b-482a-a7d2-adb6fdf4292c": {
       "attrs": {
        "height": 0.8,
        "width": 0.8,
        "x": 0.1,
        "y": 0.1
       },
       "content": {
        "cell": "b486847f-7003-473a-9d2b-fce2f8b33f60",
        "part": "whole"
       },
       "id": "4bbe2fcb-340b-482a-a7d2-adb6fdf4292c"
      }
     }
    },
    "aea79511-f437-4b90-bba4-f40fab771094": {
     "id": "aea79511-f437-4b90-bba4-f40fab771094",
     "prev": "c13c8980-cb15-4276-93c8-da23af5c8328",
     "regions": {
      "411bf404-a3fd-452b-b854-6fe505015347": {
       "attrs": {
        "height": 0.8,
        "width": 0.8,
        "x": 0.1,
        "y": 0.1
       },
       "content": {
        "cell": "e3c199bf-f468-4b27-b7c5-7c03fabcd9f1",
        "part": "whole"
       },
       "id": "411bf404-a3fd-452b-b854-6fe505015347"
      }
     }
    },
    "aed68f01-1f2d-47f0-930a-8d39da7e79de": {
     "id": "aed68f01-1f2d-47f0-930a-8d39da7e79de",
     "prev": "3385e325-8141-4315-a231-302dc5bcff69",
     "regions": {
      "d8cf4c21-efa7-44c6-b893-2a7281a65d2a": {
       "attrs": {
        "height": 0.8,
        "width": 0.8,
        "x": 0.1,
        "y": 0.1
       },
       "content": {
        "cell": "b43c2cef-0cdc-4dc7-bf79-de5728a2cc56",
        "part": "whole"
       },
       "id": "d8cf4c21-efa7-44c6-b893-2a7281a65d2a"
      }
     }
    },
    "b10ba315-6cfc-4c90-97fa-c678c09673b8": {
     "id": "b10ba315-6cfc-4c90-97fa-c678c09673b8",
     "prev": "e583fc64-4050-4283-8881-cf7535b03c7f",
     "regions": {
      "d2f4c738-6e38-4747-8cef-7edf93332920": {
       "attrs": {
        "height": 0.8,
        "width": 0.8,
        "x": 0.1,
        "y": 0.1
       },
       "content": {
        "cell": "7b98dd1b-b0a6-4103-a09a-5fe8a40b9561",
        "part": "whole"
       },
       "id": "d2f4c738-6e38-4747-8cef-7edf93332920"
      }
     }
    },
    "b39010da-3acd-4722-908e-58decfb577c0": {
     "id": "b39010da-3acd-4722-908e-58decfb577c0",
     "prev": "cf5ee2fb-83d1-4620-9875-dfa680320608",
     "regions": {
      "c1c6b4de-aacd-49fc-af60-0f5ede4eee92": {
       "attrs": {
        "height": 0.8,
        "width": 0.8,
        "x": 0.1,
        "y": 0.1
       },
       "content": {
        "cell": "9fb7036c-5ee6-431e-b944-a3a368ed9a23",
        "part": "whole"
       },
       "id": "c1c6b4de-aacd-49fc-af60-0f5ede4eee92"
      }
     }
    },
    "b3f2e8a0-1ad1-4580-85e8-c197149361ff": {
     "id": "b3f2e8a0-1ad1-4580-85e8-c197149361ff",
     "prev": "2dc0292c-77f9-4fd8-be98-c668c02ace2c",
     "regions": {
      "eb89de07-deaf-4cb3-844d-049f63a7106e": {
       "attrs": {
        "height": 0.8,
        "width": 0.8,
        "x": 0.1,
        "y": 0.1
       },
       "content": {
        "cell": "b585483d-56ac-4341-9b80-28d00f609be2",
        "part": "whole"
       },
       "id": "eb89de07-deaf-4cb3-844d-049f63a7106e"
      }
     }
    },
    "b59ca6ae-6ddd-41fd-a853-bcb7cf70c90c": {
     "id": "b59ca6ae-6ddd-41fd-a853-bcb7cf70c90c",
     "prev": "4ff8e521-e352-46be-9135-dc19f5a574c6",
     "regions": {
      "de8672c9-3ef7-44ca-8a31-85100931c97f": {
       "attrs": {
        "height": 0.8,
        "width": 0.8,
        "x": 0.1,
        "y": 0.1
       },
       "content": {
        "cell": "c5f924d0-9910-4fe7-8723-4f4359acbce2",
        "part": "whole"
       },
       "id": "de8672c9-3ef7-44ca-8a31-85100931c97f"
      }
     }
    },
    "b6cf0c40-a562-4bc0-af07-c415ab3e05bf": {
     "id": "b6cf0c40-a562-4bc0-af07-c415ab3e05bf",
     "prev": "15c6f3ec-e4fd-4583-89ba-bfccbe7d871f",
     "regions": {
      "a37248ff-88ac-4327-967a-dbe7538026c3": {
       "attrs": {
        "height": 0.8,
        "width": 0.8,
        "x": 0.1,
        "y": 0.1
       },
       "content": {
        "cell": "9a0a1e5d-eb08-4610-bed6-16beebbe316d",
        "part": "whole"
       },
       "id": "a37248ff-88ac-4327-967a-dbe7538026c3"
      }
     }
    },
    "b7eb01bf-0606-4142-82c6-8bf0ca2c78ee": {
     "id": "b7eb01bf-0606-4142-82c6-8bf0ca2c78ee",
     "prev": "83211f0c-a511-4808-b6ee-6907028274f4",
     "regions": {
      "12ec0d1c-c301-4fcd-990e-ff098019e8c0": {
       "attrs": {
        "height": 0.8,
        "width": 0.8,
        "x": 0.1,
        "y": 0.1
       },
       "content": {
        "cell": "6a975e5b-c968-4f27-b8d0-fafb1546c88e",
        "part": "whole"
       },
       "id": "12ec0d1c-c301-4fcd-990e-ff098019e8c0"
      }
     }
    },
    "ba0bea6c-bbdc-4a39-b6c6-701e610b84fd": {
     "id": "ba0bea6c-bbdc-4a39-b6c6-701e610b84fd",
     "prev": "6c0d823a-e6fa-4932-8162-91d2af4852f5",
     "regions": {
      "839f06a9-0069-4310-a111-2293d8c62dde": {
       "attrs": {
        "height": 0.8,
        "width": 0.8,
        "x": 0.1,
        "y": 0.1
       },
       "content": {
        "cell": "0c20c8f5-807d-428e-8d05-15cd0520f3b8",
        "part": "whole"
       },
       "id": "839f06a9-0069-4310-a111-2293d8c62dde"
      }
     }
    },
    "ba9f2610-e9c7-49ba-b0fe-67a6922e3a5c": {
     "id": "ba9f2610-e9c7-49ba-b0fe-67a6922e3a5c",
     "prev": "99bfdb95-ee82-44d4-8765-f6ae027c038b",
     "regions": {
      "2a10a6fe-cb7f-464a-9987-4f5ab9e956db": {
       "attrs": {
        "height": 0.8,
        "width": 0.8,
        "x": 0.1,
        "y": 0.1
       },
       "content": {
        "cell": "67e46124-aea8-4025-94d9-3ff4df92b583",
        "part": "whole"
       },
       "id": "2a10a6fe-cb7f-464a-9987-4f5ab9e956db"
      }
     }
    },
    "c1224c1c-ea84-4e5d-b774-de455e697e54": {
     "id": "c1224c1c-ea84-4e5d-b774-de455e697e54",
     "prev": "992b5d87-9114-480a-bdba-27de5f24dacc",
     "regions": {
      "4afa1fed-d3c4-43c3-bca4-657cd97ad397": {
       "attrs": {
        "height": 0.8,
        "width": 0.8,
        "x": 0.1,
        "y": 0.1
       },
       "content": {
        "cell": "bdcde518-e34c-46e4-b3ce-8d1bb7357093",
        "part": "whole"
       },
       "id": "4afa1fed-d3c4-43c3-bca4-657cd97ad397"
      }
     }
    },
    "c13c8980-cb15-4276-93c8-da23af5c8328": {
     "id": "c13c8980-cb15-4276-93c8-da23af5c8328",
     "prev": "878e7101-18b7-4e37-bdbe-579e21771a0c",
     "regions": {
      "5688769e-2472-4152-8916-adaae1589d43": {
       "attrs": {
        "height": 0.8,
        "width": 0.8,
        "x": 0.1,
        "y": 0.1
       },
       "content": {
        "cell": "352b928e-78a6-4a5a-ae56-29f6ef78f63c",
        "part": "whole"
       },
       "id": "5688769e-2472-4152-8916-adaae1589d43"
      }
     }
    },
    "c2c02926-e0da-400c-b127-595967cd20f5": {
     "id": "c2c02926-e0da-400c-b127-595967cd20f5",
     "prev": "a7a421de-62fb-4fc5-8ae6-407545b08683",
     "regions": {
      "fa490500-a9be-4559-8049-3a9b7a3a41e7": {
       "attrs": {
        "height": 0.8,
        "width": 0.8,
        "x": 0.1,
        "y": 0.1
       },
       "content": {
        "cell": "b7c3e669-93bf-43ec-aa92-b4ee6b3959a4",
        "part": "whole"
       },
       "id": "fa490500-a9be-4559-8049-3a9b7a3a41e7"
      }
     }
    },
    "c3df88e2-0513-4f70-9ecc-dae47ce5ee11": {
     "id": "c3df88e2-0513-4f70-9ecc-dae47ce5ee11",
     "prev": "a491982d-3d2d-47e0-b6cf-94781ee0bd51",
     "regions": {
      "2568970a-276c-430d-b460-585f328f4b18": {
       "attrs": {
        "height": 0.8,
        "width": 0.8,
        "x": 0.1,
        "y": 0.1
       },
       "content": {
        "cell": "95b5aa6a-2cce-4050-bb43-0cff53d93135",
        "part": "whole"
       },
       "id": "2568970a-276c-430d-b460-585f328f4b18"
      }
     }
    },
    "c5425b0e-5735-427f-a7ed-a0d61933bd2d": {
     "id": "c5425b0e-5735-427f-a7ed-a0d61933bd2d",
     "prev": "624f59b2-70f7-481d-9b8d-099886378448",
     "regions": {
      "8230e9aa-c007-46d1-b1fe-54160a6f218f": {
       "attrs": {
        "height": 0.8,
        "width": 0.8,
        "x": 0.1,
        "y": 0.1
       },
       "content": {
        "cell": "9f8986ba-7e8d-4d44-b3c5-d25c867c3676",
        "part": "whole"
       },
       "id": "8230e9aa-c007-46d1-b1fe-54160a6f218f"
      }
     }
    },
    "c63807eb-b99c-422f-a5e8-a8f75690879a": {
     "id": "c63807eb-b99c-422f-a5e8-a8f75690879a",
     "prev": "e3becc32-724c-42fd-92c3-b687eb65f92b",
     "regions": {
      "62241eb6-8385-4d73-b29a-6020d35396db": {
       "attrs": {
        "height": 0.8,
        "width": 0.8,
        "x": 0.1,
        "y": 0.1
       },
       "content": {
        "cell": "9d3c56d0-6b47-4ace-8fa3-e46fc1e1337a",
        "part": "whole"
       },
       "id": "62241eb6-8385-4d73-b29a-6020d35396db"
      }
     }
    },
    "c7aba448-9c35-4028-89a6-dd174f7101db": {
     "id": "c7aba448-9c35-4028-89a6-dd174f7101db",
     "prev": "0b712fa9-b5dc-4da3-8402-b46edd6fc0d8",
     "regions": {
      "84747b1c-925b-41d6-a907-035581de7990": {
       "attrs": {
        "height": 0.8,
        "width": 0.8,
        "x": 0.1,
        "y": 0.1
       },
       "content": {
        "cell": "7ed51f07-bcd5-42b7-8e16-b8b8f30a4862",
        "part": "whole"
       },
       "id": "84747b1c-925b-41d6-a907-035581de7990"
      }
     }
    },
    "c8df3b60-b1da-40fd-b095-dc84b560276e": {
     "id": "c8df3b60-b1da-40fd-b095-dc84b560276e",
     "prev": "e558a205-9cec-4c93-aadf-755d23ffd689",
     "regions": {
      "935d2152-be67-40d6-b13d-62c4c3d1a782": {
       "attrs": {
        "height": 0.8,
        "width": 0.8,
        "x": 0.1,
        "y": 0.1
       },
       "content": {
        "cell": "c47fa643-1e47-4e67-953d-ad8cf4c08e83",
        "part": "whole"
       },
       "id": "935d2152-be67-40d6-b13d-62c4c3d1a782"
      }
     }
    },
    "c8eec011-7f2b-457c-9227-5cd40a451571": {
     "id": "c8eec011-7f2b-457c-9227-5cd40a451571",
     "prev": "cd2f38be-c5e2-466e-bb03-65e6bb835660",
     "regions": {
      "5fd92b60-cdef-4ac3-b019-848219cb982a": {
       "attrs": {
        "height": 0.8,
        "width": 0.8,
        "x": 0.1,
        "y": 0.1
       },
       "content": {
        "cell": "7ff9d4ce-829c-4d9f-bbc9-b700074163ad",
        "part": "whole"
       },
       "id": "5fd92b60-cdef-4ac3-b019-848219cb982a"
      }
     }
    },
    "c940884d-5b3c-4186-93d5-baf6993579c6": {
     "id": "c940884d-5b3c-4186-93d5-baf6993579c6",
     "prev": "f58e7ece-8af0-4d86-a015-f7676c6e9222",
     "regions": {
      "aff13ad2-5c0b-43bc-b0db-254686e91a6d": {
       "attrs": {
        "height": 0.8,
        "width": 0.8,
        "x": 0.1,
        "y": 0.1
       },
       "content": {
        "cell": "20ea9bda-030e-4cc4-91a2-ab0e9f4612f2",
        "part": "whole"
       },
       "id": "aff13ad2-5c0b-43bc-b0db-254686e91a6d"
      }
     }
    },
    "ca543876-d6ce-4f4b-a22e-25e412926c09": {
     "id": "ca543876-d6ce-4f4b-a22e-25e412926c09",
     "prev": "3cccfd73-63c2-4c90-a599-e720d41a50c9",
     "regions": {
      "01497d65-cb44-4b32-a933-16ff471049c7": {
       "attrs": {
        "height": 0.8,
        "width": 0.8,
        "x": 0.1,
        "y": 0.1
       },
       "content": {
        "cell": "218faaf7-6ec4-4fd6-8be8-c40a33d98a18",
        "part": "whole"
       },
       "id": "01497d65-cb44-4b32-a933-16ff471049c7"
      }
     }
    },
    "ca94c223-828c-46ac-b72e-611ee14de88a": {
     "id": "ca94c223-828c-46ac-b72e-611ee14de88a",
     "prev": "75f41b96-5248-4d18-9ed7-9202a7be90ea",
     "regions": {
      "d409d30c-7ad2-43de-9d9a-129aaa8ca308": {
       "attrs": {
        "height": 0.8,
        "width": 0.8,
        "x": 0.1,
        "y": 0.1
       },
       "content": {
        "cell": "0e10dbe5-0b0b-4102-a721-70cce7822630",
        "part": "whole"
       },
       "id": "d409d30c-7ad2-43de-9d9a-129aaa8ca308"
      }
     }
    },
    "cb045e5d-0e62-4690-a260-eb90d39329df": {
     "id": "cb045e5d-0e62-4690-a260-eb90d39329df",
     "prev": "391ebf4a-e6d3-4b82-84d9-24d5bf084143",
     "regions": {
      "01f3af27-c6df-45d1-b384-63aa0cd15cd9": {
       "attrs": {
        "height": 0.8,
        "width": 0.8,
        "x": 0.1,
        "y": 0.1
       },
       "content": {
        "cell": "f0a8af0b-820b-47d8-ab2b-418f6f756b63",
        "part": "whole"
       },
       "id": "01f3af27-c6df-45d1-b384-63aa0cd15cd9"
      }
     }
    },
    "cc178dfe-c1aa-4697-945c-91b21921d8cc": {
     "id": "cc178dfe-c1aa-4697-945c-91b21921d8cc",
     "prev": "07164d8e-95bd-481a-aca8-f0e401d251f1",
     "regions": {
      "dd6363fd-18aa-4706-b6a8-ea81bea2d43c": {
       "attrs": {
        "height": 0.8,
        "width": 0.8,
        "x": 0.1,
        "y": 0.1
       },
       "content": {
        "cell": "b1edd5ed-4091-4203-819a-561309336ce1",
        "part": "whole"
       },
       "id": "dd6363fd-18aa-4706-b6a8-ea81bea2d43c"
      }
     }
    },
    "cc32e757-e982-4820-ae85-6da5939ed1e4": {
     "id": "cc32e757-e982-4820-ae85-6da5939ed1e4",
     "prev": "5c7a8fdd-9e8d-42a8-82e3-92d7f2c3d984",
     "regions": {
      "0e95622d-1e2f-40a4-ad4b-644178f683c8": {
       "attrs": {
        "height": 0.8,
        "width": 0.8,
        "x": 0.1,
        "y": 0.1
       },
       "content": {
        "cell": "ae1d9fa6-24f6-47e3-b4a0-9b72c4c8dfc8",
        "part": "whole"
       },
       "id": "0e95622d-1e2f-40a4-ad4b-644178f683c8"
      }
     }
    },
    "cce546a7-cc0b-44d6-87f6-2bfc2e755104": {
     "id": "cce546a7-cc0b-44d6-87f6-2bfc2e755104",
     "prev": "8915a2ae-96e5-4007-bebb-b38a77ca5a22",
     "regions": {
      "e5ee8f41-677c-4f89-82e6-6ed98e031721": {
       "attrs": {
        "height": 0.8,
        "width": 0.8,
        "x": 0.1,
        "y": 0.1
       },
       "content": {
        "cell": "6359d481-d086-46e0-b562-264513d196fb",
        "part": "whole"
       },
       "id": "e5ee8f41-677c-4f89-82e6-6ed98e031721"
      }
     }
    },
    "cd2f38be-c5e2-466e-bb03-65e6bb835660": {
     "id": "cd2f38be-c5e2-466e-bb03-65e6bb835660",
     "prev": "e8af0e16-2e55-492b-a90a-635e046e5ecd",
     "regions": {
      "d14c84cd-7ce4-4b96-aba3-28e455a17c06": {
       "attrs": {
        "height": 0.8,
        "width": 0.8,
        "x": 0.1,
        "y": 0.1
       },
       "content": {
        "cell": "6f2a59bb-738d-4eae-9ded-e7437d25dac7",
        "part": "whole"
       },
       "id": "d14c84cd-7ce4-4b96-aba3-28e455a17c06"
      }
     }
    },
    "ce334b55-9a65-46dd-acef-8df68cbc3c7a": {
     "id": "ce334b55-9a65-46dd-acef-8df68cbc3c7a",
     "prev": "10bb7ae6-070f-40d3-b504-90ab176c002a",
     "regions": {
      "458a0dce-2ba4-4fb2-9247-52f06908e4b2": {
       "attrs": {
        "height": 0.8,
        "width": 0.8,
        "x": 0.1,
        "y": 0.1
       },
       "content": {
        "cell": "95fafce5-d3a5-4c71-9c80-cf858ac1bb29",
        "part": "whole"
       },
       "id": "458a0dce-2ba4-4fb2-9247-52f06908e4b2"
      }
     }
    },
    "cf5ee2fb-83d1-4620-9875-dfa680320608": {
     "id": "cf5ee2fb-83d1-4620-9875-dfa680320608",
     "prev": "b7eb01bf-0606-4142-82c6-8bf0ca2c78ee",
     "regions": {
      "f3e9dc4c-4211-4c50-bd0c-ea7ecb6ddb1a": {
       "attrs": {
        "height": 0.8,
        "width": 0.8,
        "x": 0.1,
        "y": 0.1
       },
       "content": {
        "cell": "a17e6689-d5f7-4c70-b34f-2f68edef7eee",
        "part": "whole"
       },
       "id": "f3e9dc4c-4211-4c50-bd0c-ea7ecb6ddb1a"
      }
     }
    },
    "d0e0fbe2-9982-4eed-bd93-c371b3333092": {
     "id": "d0e0fbe2-9982-4eed-bd93-c371b3333092",
     "prev": "b6cf0c40-a562-4bc0-af07-c415ab3e05bf",
     "regions": {
      "546cb86e-34ee-4f6b-884b-92005e94d380": {
       "attrs": {
        "height": 0.8,
        "width": 0.8,
        "x": 0.1,
        "y": 0.1
       },
       "content": {
        "cell": "e5a473e4-a454-4f7c-99c3-aaa1d8b1d5da",
        "part": "whole"
       },
       "id": "546cb86e-34ee-4f6b-884b-92005e94d380"
      }
     }
    },
    "d26e5af4-ff60-40e1-8624-b20a080ea50b": {
     "id": "d26e5af4-ff60-40e1-8624-b20a080ea50b",
     "prev": "488ead69-ae58-41a6-aec0-3e5845ed0f00",
     "regions": {
      "20cf1577-803d-4116-9b97-eee45b92125f": {
       "attrs": {
        "height": 0.8,
        "width": 0.8,
        "x": 0.1,
        "y": 0.1
       },
       "content": {
        "cell": "23c78fd6-8044-41dd-b474-52fa51309006",
        "part": "whole"
       },
       "id": "20cf1577-803d-4116-9b97-eee45b92125f"
      }
     }
    },
    "d4575b24-8414-4616-8a5a-fc9e72211b9d": {
     "id": "d4575b24-8414-4616-8a5a-fc9e72211b9d",
     "prev": "178d0403-5258-4b51-9924-f8ac93274a4f",
     "regions": {
      "37453df4-dfb7-4b6a-8fd2-f6ab49909636": {
       "attrs": {
        "height": 0.8,
        "width": 0.8,
        "x": 0.1,
        "y": 0.1
       },
       "content": {
        "cell": "95a046b0-fbbe-4aaa-bf84-951424338f86",
        "part": "whole"
       },
       "id": "37453df4-dfb7-4b6a-8fd2-f6ab49909636"
      }
     }
    },
    "d467ba6e-97a4-4174-af44-6a0d7fc1d239": {
     "id": "d467ba6e-97a4-4174-af44-6a0d7fc1d239",
     "prev": "e8aeec2b-fd1b-49b3-908b-aa11bf9b4312",
     "regions": {
      "1cacadda-98c3-4859-8fb5-c8e42da1d0ee": {
       "attrs": {
        "height": 0.8,
        "width": 0.8,
        "x": 0.1,
        "y": 0.1
       },
       "content": {
        "cell": "7bd650f0-29e4-4973-b97a-c6275e9579e7",
        "part": "whole"
       },
       "id": "1cacadda-98c3-4859-8fb5-c8e42da1d0ee"
      }
     }
    },
    "d6b86f64-b6da-47ec-bf30-40156f3e66df": {
     "id": "d6b86f64-b6da-47ec-bf30-40156f3e66df",
     "prev": "df2cfe3a-5259-48f7-bafb-7715b6936c53",
     "regions": {
      "18a70de3-ea3f-4cf3-8333-2acb4ca7feee": {
       "attrs": {
        "height": 0.8,
        "width": 0.8,
        "x": 0.1,
        "y": 0.1
       },
       "content": {
        "cell": "ade43b9c-9a2c-452d-a1a3-f9f386ce5d4f",
        "part": "whole"
       },
       "id": "18a70de3-ea3f-4cf3-8333-2acb4ca7feee"
      }
     }
    },
    "da34b531-49db-47d6-bafd-2174f9435f5e": {
     "id": "da34b531-49db-47d6-bafd-2174f9435f5e",
     "prev": "65fb441f-5bc0-4a7d-9ca0-67d943be4147",
     "regions": {
      "49b16129-2146-49a7-868e-6195fdb18eaf": {
       "attrs": {
        "height": 0.8,
        "width": 0.8,
        "x": 0.1,
        "y": 0.1
       },
       "content": {
        "cell": "10323b06-d6aa-4a22-970f-0d4de042f03f",
        "part": "whole"
       },
       "id": "49b16129-2146-49a7-868e-6195fdb18eaf"
      }
     }
    },
    "da79dca8-1be2-4a6c-aa18-d020f6ad27dc": {
     "id": "da79dca8-1be2-4a6c-aa18-d020f6ad27dc",
     "prev": "253af42e-dbb0-4ffd-bcb3-e759dacd33ff",
     "regions": {
      "7ca3f849-1078-4294-a7fb-9f581b2c5357": {
       "attrs": {
        "height": 0.8,
        "width": 0.8,
        "x": 0.1,
        "y": 0.1
       },
       "content": {
        "cell": "3715a784-cc60-4268-b767-7f483a53cfcc",
        "part": "whole"
       },
       "id": "7ca3f849-1078-4294-a7fb-9f581b2c5357"
      }
     }
    },
    "dd048b1b-6c94-4a98-b90b-0c9e80ceea28": {
     "id": "dd048b1b-6c94-4a98-b90b-0c9e80ceea28",
     "prev": "abc72a13-6572-467e-af57-756388375fa9",
     "regions": {
      "ddddbc87-6312-42e4-ab10-4d450585e19c": {
       "attrs": {
        "height": 0.8,
        "width": 0.8,
        "x": 0.1,
        "y": 0.1
       },
       "content": {
        "cell": "18a4243a-b59a-461a-97f7-b8586e5f0105",
        "part": "whole"
       },
       "id": "ddddbc87-6312-42e4-ab10-4d450585e19c"
      }
     }
    },
    "de5a87e2-83e8-48b3-938e-f22bc15a3ee8": {
     "id": "de5a87e2-83e8-48b3-938e-f22bc15a3ee8",
     "prev": "b59ca6ae-6ddd-41fd-a853-bcb7cf70c90c",
     "regions": {
      "79c59331-c9f3-4fba-9817-083f8830fa25": {
       "attrs": {
        "height": 0.8,
        "width": 0.8,
        "x": 0.1,
        "y": 0.1
       },
       "content": {
        "cell": "9f4a8360-c5ca-4adc-ac84-705ccb542617",
        "part": "whole"
       },
       "id": "79c59331-c9f3-4fba-9817-083f8830fa25"
      }
     }
    },
    "df2cfe3a-5259-48f7-bafb-7715b6936c53": {
     "id": "df2cfe3a-5259-48f7-bafb-7715b6936c53",
     "prev": "9770a6dc-9279-46b6-915c-b98e20d1eb02",
     "regions": {
      "7e0786cc-9c99-4f3e-8a1b-00ab77d96980": {
       "attrs": {
        "height": 0.8,
        "width": 0.8,
        "x": 0.1,
        "y": 0.1
       },
       "content": {
        "cell": "3b3c3408-4bd3-4ca7-b5a3-5cfdf06e8a24",
        "part": "whole"
       },
       "id": "7e0786cc-9c99-4f3e-8a1b-00ab77d96980"
      }
     }
    },
    "dfa88ee6-84cb-4fd8-ada5-33d40f105e5e": {
     "id": "dfa88ee6-84cb-4fd8-ada5-33d40f105e5e",
     "prev": "c7aba448-9c35-4028-89a6-dd174f7101db",
     "regions": {
      "3d37c64e-8f48-40f5-a3d3-e6c2d1a1fd8e": {
       "attrs": {
        "height": 0.8,
        "width": 0.8,
        "x": 0.1,
        "y": 0.1
       },
       "content": {
        "cell": "3b0d3f1d-e3b8-49f3-8fe5-872bd8851fdf",
        "part": "whole"
       },
       "id": "3d37c64e-8f48-40f5-a3d3-e6c2d1a1fd8e"
      }
     }
    },
    "e1f24b15-6546-4fb1-b8ad-e9ac0be6573e": {
     "id": "e1f24b15-6546-4fb1-b8ad-e9ac0be6573e",
     "prev": "289f26fe-2cae-47df-bb3a-dfdd0e96c7a8",
     "regions": {
      "2befd1f4-c935-4d47-af8a-0ef809df7655": {
       "attrs": {
        "height": 0.8,
        "width": 0.8,
        "x": 0.1,
        "y": 0.1
       },
       "content": {
        "cell": "1f9cd275-6a47-4796-b2ac-abe64a3152c0",
        "part": "whole"
       },
       "id": "2befd1f4-c935-4d47-af8a-0ef809df7655"
      }
     }
    },
    "e2f2fba4-e8bc-4710-bbe6-4f1883782de0": {
     "id": "e2f2fba4-e8bc-4710-bbe6-4f1883782de0",
     "prev": "d26e5af4-ff60-40e1-8624-b20a080ea50b",
     "regions": {
      "e445a639-813e-4c5c-8c13-6aa48a960467": {
       "attrs": {
        "height": 0.8,
        "width": 0.8,
        "x": 0.1,
        "y": 0.1
       },
       "content": {
        "cell": "56b85615-3fa8-4038-ba20-dcca5e826ecb",
        "part": "whole"
       },
       "id": "e445a639-813e-4c5c-8c13-6aa48a960467"
      }
     }
    },
    "e3becc32-724c-42fd-92c3-b687eb65f92b": {
     "id": "e3becc32-724c-42fd-92c3-b687eb65f92b",
     "prev": "3e06ca3a-cacd-41c8-b470-be72b2d48360",
     "regions": {
      "51111836-8aa9-4883-8f06-cb1b5dc380b9": {
       "attrs": {
        "height": 0.8,
        "width": 0.8,
        "x": 0.1,
        "y": 0.1
       },
       "content": {
        "cell": "af4e3564-dd8f-43cf-8953-84aad3797105",
        "part": "whole"
       },
       "id": "51111836-8aa9-4883-8f06-cb1b5dc380b9"
      }
     }
    },
    "e558a205-9cec-4c93-aadf-755d23ffd689": {
     "id": "e558a205-9cec-4c93-aadf-755d23ffd689",
     "prev": "5330abef-3b30-4ff4-9694-7a268eaeeb29",
     "regions": {
      "c36bc8f1-0cc5-490a-b6d3-e04b13a93aca": {
       "attrs": {
        "height": 0.8,
        "width": 0.8,
        "x": 0.1,
        "y": 0.1
       },
       "content": {
        "cell": "66bc937d-daab-4924-bf7c-a6383daf7cf2",
        "part": "whole"
       },
       "id": "c36bc8f1-0cc5-490a-b6d3-e04b13a93aca"
      }
     }
    },
    "e583fc64-4050-4283-8881-cf7535b03c7f": {
     "id": "e583fc64-4050-4283-8881-cf7535b03c7f",
     "prev": "9e0d58d8-5d09-4adc-9416-4db290dd8d35",
     "regions": {
      "f4a45075-215e-420c-8c57-a94b86e2ffa0": {
       "attrs": {
        "height": 0.8,
        "width": 0.8,
        "x": 0.1,
        "y": 0.1
       },
       "content": {
        "cell": "5c44fbc2-6522-4386-a0ca-a070ef9d27c4",
        "part": "whole"
       },
       "id": "f4a45075-215e-420c-8c57-a94b86e2ffa0"
      }
     }
    },
    "e7443570-934d-4b1a-8ea9-c856f777bebc": {
     "id": "e7443570-934d-4b1a-8ea9-c856f777bebc",
     "prev": "9dfdac20-db5f-4233-a734-3eab8ba022c9",
     "regions": {
      "49a65c34-c335-4f80-a9a2-42cf984fd655": {
       "attrs": {
        "height": 0.8,
        "width": 0.8,
        "x": 0.1,
        "y": 0.1
       },
       "content": {
        "cell": "eb64433e-49d0-407b-97f4-2cb58fc244fd",
        "part": "whole"
       },
       "id": "49a65c34-c335-4f80-a9a2-42cf984fd655"
      }
     }
    },
    "e7b3cbb1-afea-488d-b7eb-aa9632e5600a": {
     "id": "e7b3cbb1-afea-488d-b7eb-aa9632e5600a",
     "prev": "356fcf8a-cc21-4f7b-91fc-4ba519cdf7cf",
     "regions": {
      "40051909-3bc7-4024-8522-8737f6cc312a": {
       "attrs": {
        "height": 0.8,
        "width": 0.8,
        "x": 0.1,
        "y": 0.1
       },
       "content": {
        "cell": "a756d9bc-bd30-47a3-b8e3-6c98cc32dcd7",
        "part": "whole"
       },
       "id": "40051909-3bc7-4024-8522-8737f6cc312a"
      }
     }
    },
    "e8aeec2b-fd1b-49b3-908b-aa11bf9b4312": {
     "id": "e8aeec2b-fd1b-49b3-908b-aa11bf9b4312",
     "prev": "687ebff0-e2dd-4986-a085-a039bc3106ec",
     "regions": {
      "9de70490-fce5-4051-805d-3102846e7416": {
       "attrs": {
        "height": 0.8,
        "width": 0.8,
        "x": 0.1,
        "y": 0.1
       },
       "content": {
        "cell": "174619d1-afa2-4c4f-9974-d023e62f590b",
        "part": "whole"
       },
       "id": "9de70490-fce5-4051-805d-3102846e7416"
      }
     }
    },
    "e8af0e16-2e55-492b-a90a-635e046e5ecd": {
     "id": "e8af0e16-2e55-492b-a90a-635e046e5ecd",
     "prev": "e7443570-934d-4b1a-8ea9-c856f777bebc",
     "regions": {
      "878fedaa-bb16-407d-a169-690589e1bb96": {
       "attrs": {
        "height": 0.8,
        "width": 0.8,
        "x": 0.1,
        "y": 0.1
       },
       "content": {
        "cell": "4356257a-2dde-4a8f-a7f4-02cf856e09b9",
        "part": "whole"
       },
       "id": "878fedaa-bb16-407d-a169-690589e1bb96"
      }
     }
    },
    "e979c56b-045e-4a68-87bc-5f5f7eb3329e": {
     "id": "e979c56b-045e-4a68-87bc-5f5f7eb3329e",
     "prev": "ca543876-d6ce-4f4b-a22e-25e412926c09",
     "regions": {
      "851e0293-ec88-48b7-858d-3c8e03db9776": {
       "attrs": {
        "height": 0.8,
        "width": 0.8,
        "x": 0.1,
        "y": 0.1
       },
       "content": {
        "cell": "40e4c6f1-a415-4f9b-93b6-b5945efb6d1c",
        "part": "whole"
       },
       "id": "851e0293-ec88-48b7-858d-3c8e03db9776"
      }
     }
    },
    "ea416b8d-3296-4e3d-abaa-8dd0634b8a99": {
     "id": "ea416b8d-3296-4e3d-abaa-8dd0634b8a99",
     "prev": "e1f24b15-6546-4fb1-b8ad-e9ac0be6573e",
     "regions": {
      "f4a24800-5c85-4dfb-abc8-93b74175bc28": {
       "attrs": {
        "height": 0.8,
        "width": 0.8,
        "x": 0.1,
        "y": 0.1
       },
       "content": {
        "cell": "95fe9004-5734-4726-9449-700e46a3d0d0",
        "part": "whole"
       },
       "id": "f4a24800-5c85-4dfb-abc8-93b74175bc28"
      }
     }
    },
    "ebfc18e1-6f77-4953-ad46-8d0dba8d0773": {
     "id": "ebfc18e1-6f77-4953-ad46-8d0dba8d0773",
     "prev": "16ccbf28-6a7a-4dec-a884-74b1152e9ea1",
     "regions": {
      "fc213c73-712d-4e29-954c-5876e4742e64": {
       "attrs": {
        "height": 0.8,
        "width": 0.8,
        "x": 0.1,
        "y": 0.1
       },
       "content": {
        "cell": "060059f9-76a2-484b-a52d-622dc4915cd4",
        "part": "whole"
       },
       "id": "fc213c73-712d-4e29-954c-5876e4742e64"
      }
     }
    },
    "efa6ae34-4718-44a3-81b4-4ecba6a0b996": {
     "id": "efa6ae34-4718-44a3-81b4-4ecba6a0b996",
     "prev": "5acec809-1cab-4077-b8b6-bbd85ed218b6",
     "regions": {
      "96087211-7b67-436d-b567-7cc1085d16f1": {
       "attrs": {
        "height": 0.8,
        "width": 0.8,
        "x": 0.1,
        "y": 0.1
       },
       "content": {
        "cell": "2733f0df-b343-414c-9933-bd6ee22e84ac",
        "part": "whole"
       },
       "id": "96087211-7b67-436d-b567-7cc1085d16f1"
      }
     }
    },
    "f0d05412-b35f-4414-b4b0-02c7ca3ea7bd": {
     "id": "f0d05412-b35f-4414-b4b0-02c7ca3ea7bd",
     "prev": "72d91254-d1a4-401c-b788-8f96f3b25ecd",
     "regions": {
      "9699797f-5f2e-47e1-906b-5df40e63b6ae": {
       "attrs": {
        "height": 0.8,
        "width": 0.8,
        "x": 0.1,
        "y": 0.1
       },
       "content": {
        "cell": "eee7f0a6-5275-4ba9-93f3-b283525efe40",
        "part": "whole"
       },
       "id": "9699797f-5f2e-47e1-906b-5df40e63b6ae"
      }
     }
    },
    "f26f06a6-9487-40dc-925e-fc77385179a4": {
     "id": "f26f06a6-9487-40dc-925e-fc77385179a4",
     "prev": "140aa25d-a1c3-4b49-850f-57cb51f7cdbd",
     "regions": {
      "35b9f3a5-b488-4960-bc3b-beca9c0f7f0c": {
       "attrs": {
        "height": 0.8,
        "width": 0.8,
        "x": 0.1,
        "y": 0.1
       },
       "content": {
        "cell": "206f8503-915d-4b46-9142-bf8570e42e0d",
        "part": "whole"
       },
       "id": "35b9f3a5-b488-4960-bc3b-beca9c0f7f0c"
      }
     }
    },
    "f3c7ef89-0c4d-4c5a-bc89-20d39fbf9608": {
     "id": "f3c7ef89-0c4d-4c5a-bc89-20d39fbf9608",
     "prev": "a1534241-aca4-4986-993f-42fe2a0f16d5",
     "regions": {
      "add3b898-ee51-4b3d-913e-5ada31b7a2f6": {
       "attrs": {
        "height": 0.8,
        "width": 0.8,
        "x": 0.1,
        "y": 0.1
       },
       "content": {
        "cell": "c16ed107-1d51-43da-9d8a-0c9aadbef02d",
        "part": "whole"
       },
       "id": "add3b898-ee51-4b3d-913e-5ada31b7a2f6"
      }
     }
    },
    "f5156765-8333-4abd-8b1c-a3720557714b": {
     "id": "f5156765-8333-4abd-8b1c-a3720557714b",
     "prev": "f3c7ef89-0c4d-4c5a-bc89-20d39fbf9608",
     "regions": {
      "e3ce62ac-dafe-4080-a18f-cb227a76c20e": {
       "attrs": {
        "height": 0.8,
        "width": 0.8,
        "x": 0.1,
        "y": 0.1
       },
       "content": {
        "cell": "f8053c82-7d89-492c-92f3-1fccf0894dc2",
        "part": "whole"
       },
       "id": "e3ce62ac-dafe-4080-a18f-cb227a76c20e"
      }
     }
    },
    "f58e7ece-8af0-4d86-a015-f7676c6e9222": {
     "id": "f58e7ece-8af0-4d86-a015-f7676c6e9222",
     "prev": "8bf2af13-2359-4984-bfb5-949816101023",
     "regions": {
      "a5a2b51a-23f5-4160-a1f8-04a987d0d25d": {
       "attrs": {
        "height": 0.8,
        "width": 0.8,
        "x": 0.1,
        "y": 0.1
       },
       "content": {
        "cell": "81ca9f5a-aef9-4068-a243-5ea12b803497",
        "part": "whole"
       },
       "id": "a5a2b51a-23f5-4160-a1f8-04a987d0d25d"
      }
     }
    },
    "f798668b-aa43-4cd4-8d11-3e1cef41965f": {
     "id": "f798668b-aa43-4cd4-8d11-3e1cef41965f",
     "prev": "2a714c70-9738-49bb-80aa-700982566f61",
     "regions": {
      "f642d031-305d-409a-974f-95cb5eae9fdd": {
       "attrs": {
        "height": 0.8,
        "width": 0.8,
        "x": 0.1,
        "y": 0.1
       },
       "content": {
        "cell": "5957af76-940c-4d9c-95a0-73c8979dede9",
        "part": "whole"
       },
       "id": "f642d031-305d-409a-974f-95cb5eae9fdd"
      }
     }
    },
    "f798d90f-7bb6-4a9a-8148-cf107c716632": {
     "id": "f798d90f-7bb6-4a9a-8148-cf107c716632",
     "prev": "c8df3b60-b1da-40fd-b095-dc84b560276e",
     "regions": {
      "de499716-66d3-429b-a391-1d092a673cda": {
       "attrs": {
        "height": 0.8,
        "width": 0.8,
        "x": 0.1,
        "y": 0.1
       },
       "content": {
        "cell": "a7f77d17-7ef7-4ad8-b559-b645b43671f4",
        "part": "whole"
       },
       "id": "de499716-66d3-429b-a391-1d092a673cda"
      }
     }
    },
    "f84e36b1-d4fa-4827-bc61-1ab5d5d5326d": {
     "id": "f84e36b1-d4fa-4827-bc61-1ab5d5d5326d",
     "prev": "c1224c1c-ea84-4e5d-b774-de455e697e54",
     "regions": {
      "e990cab4-d384-4946-9ac0-f521474e806a": {
       "attrs": {
        "height": 0.8,
        "width": 0.8,
        "x": 0.1,
        "y": 0.1
       },
       "content": {
        "cell": "9b2ed81a-df5c-4a9b-a4ef-780e17dda644",
        "part": "whole"
       },
       "id": "e990cab4-d384-4946-9ac0-f521474e806a"
      }
     }
    },
    "fbbf5e30-e183-4cab-9868-bb6c39fda9e9": {
     "id": "fbbf5e30-e183-4cab-9868-bb6c39fda9e9",
     "prev": "825f0c27-ce83-4712-80f2-d2ff131e5782",
     "regions": {
      "80ccf0ff-c2b8-4508-902c-c47cedbe627e": {
       "attrs": {
        "height": 0.8,
        "width": 0.8,
        "x": 0.1,
        "y": 0.1
       },
       "content": {
        "cell": "8572d618-b5e3-4956-ba5b-3a457211e4bc",
        "part": "whole"
       },
       "id": "80ccf0ff-c2b8-4508-902c-c47cedbe627e"
      }
     }
    },
    "fc7bbb50-9386-4840-84ae-3410603e6dd0": {
     "id": "fc7bbb50-9386-4840-84ae-3410603e6dd0",
     "prev": "58adc634-8fa8-4384-8dc3-d598f3bdbcb8",
     "regions": {
      "61fd49a8-3632-4d0c-aa33-9b97bc954562": {
       "attrs": {
        "height": 0.8,
        "width": 0.8,
        "x": 0.1,
        "y": 0.1
       },
       "content": {
        "cell": "53023d15-c18b-4045-86d7-9ed92ec2ffc1",
        "part": "whole"
       },
       "id": "61fd49a8-3632-4d0c-aa33-9b97bc954562"
      }
     }
    },
    "ffe23cb6-7c3c-4936-868d-9333334f473c": {
     "id": "ffe23cb6-7c3c-4936-868d-9333334f473c",
     "prev": "a139fd2c-2916-4c71-b9f8-f39b6e1bc8d0",
     "regions": {
      "fe65dc08-43a6-4920-9f67-7d2faf43c95c": {
       "attrs": {
        "height": 0.8,
        "width": 0.8,
        "x": 0.1,
        "y": 0.1
       },
       "content": {
        "cell": "bb34b14a-65c3-4562-afb4-7ad175b9e0f5",
        "part": "whole"
       },
       "id": "fe65dc08-43a6-4920-9f67-7d2faf43c95c"
      }
     }
    }
   },
   "themes": {}
  }
 },
 "nbformat": 4,
 "nbformat_minor": 4
}
