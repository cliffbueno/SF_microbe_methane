{
 "cells": [
  {
   "cell_type": "markdown",
   "metadata": {},
   "source": [
    "# Compare guilds from 16S and TreeSAPP "
   ]
  },
  {
   "cell_type": "markdown",
   "metadata": {},
   "source": [
    "- starting with scatterplots, hastily copied/coded - not the prettiest\n",
    "- code stolen from TreeSAPP analysis\n",
    "- run under \"R\" environment"
   ]
  },
  {
   "cell_type": "code",
   "execution_count": 2,
   "metadata": {},
   "outputs": [
    {
     "name": "stderr",
     "output_type": "stream",
     "text": [
      "\n",
      "Attaching package: ‘ggpubr’\n",
      "\n",
      "\n",
      "The following object is masked from ‘package:cowplot’:\n",
      "\n",
      "    get_legend\n",
      "\n",
      "\n"
     ]
    }
   ],
   "source": [
    "library(ggplot2)\n",
    "suppressMessages(library(ggpmisc))\n",
    "suppressMessages(library(gridExtra))\n",
    "library(cowplot)\n",
    "library(ggpubr)\n",
    "library(grid)\n",
    "library(gridExtra)\n",
    "# library(corrgram)\n",
    "# library(corrplot)\n",
    "# suppressMessages(library(Hmisc))\n"
   ]
  },
  {
   "cell_type": "markdown",
   "metadata": {},
   "source": [
    "# 1) import 16S data"
   ]
  },
  {
   "cell_type": "markdown",
   "metadata": {},
   "source": [
    "### a) Import 16S aggregated guild count tables"
   ]
  },
  {
   "cell_type": "code",
   "execution_count": 3,
   "metadata": {},
   "outputs": [],
   "source": [
    "# iTagger_gc <- read.table(\"../data/iTaggerOTUs/guild_data/OTU_Guild_abundT_counts.txt\", sep='\\t')\n",
    "# iTagger_gc"
   ]
  },
  {
   "cell_type": "code",
   "execution_count": 4,
   "metadata": {},
   "outputs": [],
   "source": [
    "# Silva\n",
    "Silva_gc <- read.table(\"Silva_OTU_Guild_abundT_counts.txt\", sep='\\t')\n",
    "# names(Silva_gc) <- paste0(names(Silva_gc),\"_s\")\n",
    "# Silva_gc"
   ]
  },
  {
   "cell_type": "code",
   "execution_count": 5,
   "metadata": {},
   "outputs": [],
   "source": [
    "Guild16S <- Silva_gc \n",
    "# Guild16S <- iTagger_gc"
   ]
  },
  {
   "cell_type": "markdown",
   "metadata": {},
   "source": [
    "### b) Import TreeSAPP data"
   ]
  },
  {
   "cell_type": "code",
   "execution_count": 6,
   "metadata": {},
   "outputs": [],
   "source": [
    "# TreeSAPP guild abund table, normalized by MUSICC CPM from MG-RAST (long story, works better)\n",
    "TS_guilds_CPM <- read.table(\"../data/shotgun/TreeSAPP_v0.5_parsed_tables/TS_cleaned_guild_abund_table.txt\", sep='\\t')\n",
    "# TS_guilds_CPM \n",
    "\n",
    "# Drop unneeded guilds?"
   ]
  },
  {
   "cell_type": "code",
   "execution_count": 7,
   "metadata": {},
   "outputs": [
    {
     "data": {
      "text/html": [
       "<table class=\"dataframe\">\n",
       "<caption>A data.frame: 6 × 139</caption>\n",
       "<thead>\n",
       "\t<tr><th></th><th scope=col>OTU</th><th scope=col>Guild</th><th scope=col>Sandmound_TuleA_D1</th><th scope=col>Sandmound_TuleA_D2</th><th scope=col>Sandmound_TuleB_D1</th><th scope=col>Sandmound_TuleB_D2</th><th scope=col>Sandmound_TuleC_D1</th><th scope=col>Sandmound_TuleC_D2</th><th scope=col>Sandmound_ThreeSqA_D1_rd</th><th scope=col>Sandmound_ThreeSqA_D2</th><th scope=col>⋯</th><th scope=col>China_Galinas_PWC_D2</th><th scope=col>Muzzi_CordA_D2</th><th scope=col>Muzzi_CordB_D2</th><th scope=col>Muzzi_CordC_D2</th><th scope=col>Muzzi_PWA_D1</th><th scope=col>Muzzi_PWA_D2</th><th scope=col>Muzzi_PWB_D1</th><th scope=col>Muzzi_PWB_D2</th><th scope=col>Muzzi_PWC_D1</th><th scope=col>Muzzi_PWC_D2</th></tr>\n",
       "\t<tr><th></th><th scope=col>&lt;int&gt;</th><th scope=col>&lt;chr&gt;</th><th scope=col>&lt;dbl&gt;</th><th scope=col>&lt;dbl&gt;</th><th scope=col>&lt;dbl&gt;</th><th scope=col>&lt;dbl&gt;</th><th scope=col>&lt;dbl&gt;</th><th scope=col>&lt;dbl&gt;</th><th scope=col>&lt;dbl&gt;</th><th scope=col>&lt;dbl&gt;</th><th scope=col>⋯</th><th scope=col>&lt;dbl&gt;</th><th scope=col>&lt;dbl&gt;</th><th scope=col>&lt;dbl&gt;</th><th scope=col>&lt;dbl&gt;</th><th scope=col>&lt;dbl&gt;</th><th scope=col>&lt;dbl&gt;</th><th scope=col>&lt;dbl&gt;</th><th scope=col>&lt;dbl&gt;</th><th scope=col>&lt;dbl&gt;</th><th scope=col>&lt;dbl&gt;</th></tr>\n",
       "</thead>\n",
       "<tbody>\n",
       "\t<tr><th scope=row>HydA</th><td>1</td><td>HydA      </td><td> 777.227242</td><td> 831.6287</td><td> 809.84469</td><td>1013.4313</td><td> 455.378464</td><td> 478.9970</td><td> 290.906683</td><td> 230.9858</td><td>⋯</td><td> 518.3087</td><td> 835.01421</td><td> 617.0771</td><td> 754.09228</td><td> 695.67480</td><td> 476.8717</td><td> 962.7019</td><td> 454.05013</td><td> 587.90475</td><td> 494.5545</td></tr>\n",
       "\t<tr><th scope=row>DsrAB.red</th><td>2</td><td>DsrAB.red </td><td> 708.613317</td><td>1196.3888</td><td> 659.86150</td><td>1639.9994</td><td> 538.066795</td><td> 871.9104</td><td> 279.086689</td><td> 416.1491</td><td>⋯</td><td>2239.6725</td><td>3617.94294</td><td>2408.9628</td><td>2714.74181</td><td> 854.70489</td><td>2113.3422</td><td> 766.3686</td><td>1717.32556</td><td>1213.29373</td><td>1903.3232</td></tr>\n",
       "\t<tr><th scope=row>DsrAB.ox</th><td>3</td><td>DsrAB.ox  </td><td> 987.409809</td><td>1532.6127</td><td> 740.07809</td><td>1377.9632</td><td> 645.383924</td><td> 865.6130</td><td> 667.353474</td><td> 993.6599</td><td>⋯</td><td>1369.4167</td><td>1421.50636</td><td>1592.7139</td><td>2381.74072</td><td>1598.80421</td><td>1676.9571</td><td>1565.5454</td><td>2526.37394</td><td>2723.58706</td><td>2044.6511</td></tr>\n",
       "\t<tr><th scope=row>NxrA.other</th><td>4</td><td>NxrA.other</td><td>   9.479931</td><td> 428.8606</td><td>   4.14647</td><td> 666.9269</td><td>   7.979445</td><td> 512.5471</td><td>   5.004855</td><td> 525.4155</td><td>⋯</td><td> 605.0980</td><td> 618.81808</td><td> 657.2921</td><td> 588.78007</td><td> 581.99347</td><td> 956.5006</td><td> 412.3770</td><td> 725.94846</td><td> 530.74815</td><td>1032.9234</td></tr>\n",
       "\t<tr><th scope=row>NxrB.other</th><td>5</td><td>NxrB.other</td><td>1782.076039</td><td>1705.5446</td><td>1368.82776</td><td>1719.0226</td><td>1031.150915</td><td>1053.8742</td><td>1345.806043</td><td>1356.6468</td><td>⋯</td><td>1316.8337</td><td>1473.66360</td><td>1241.8710</td><td>1312.93650</td><td> 841.73339</td><td>1881.4930</td><td> 715.4902</td><td>1637.79416</td><td>1298.75980</td><td>1767.5664</td></tr>\n",
       "\t<tr><th scope=row>NOB.nxr</th><td>6</td><td>NOB.nxr   </td><td> 258.693282</td><td> 186.4819</td><td> 288.05738</td><td> 253.5605</td><td> 177.748706</td><td> 275.5250</td><td> 213.543200</td><td> 379.5519</td><td>⋯</td><td>  24.6555</td><td>  53.02874</td><td>  65.8688</td><td>  64.16367</td><td>  21.61064</td><td>  55.1174</td><td>       NA</td><td>  35.62015</td><td>  23.51489</td><td>  57.7415</td></tr>\n",
       "</tbody>\n",
       "</table>\n"
      ],
      "text/latex": [
       "A data.frame: 6 × 139\n",
       "\\begin{tabular}{r|lllllllllllllllllllll}\n",
       "  & OTU & Guild & Sandmound\\_TuleA\\_D1 & Sandmound\\_TuleA\\_D2 & Sandmound\\_TuleB\\_D1 & Sandmound\\_TuleB\\_D2 & Sandmound\\_TuleC\\_D1 & Sandmound\\_TuleC\\_D2 & Sandmound\\_ThreeSqA\\_D1\\_rd & Sandmound\\_ThreeSqA\\_D2 & ⋯ & China\\_Galinas\\_PWC\\_D2 & Muzzi\\_CordA\\_D2 & Muzzi\\_CordB\\_D2 & Muzzi\\_CordC\\_D2 & Muzzi\\_PWA\\_D1 & Muzzi\\_PWA\\_D2 & Muzzi\\_PWB\\_D1 & Muzzi\\_PWB\\_D2 & Muzzi\\_PWC\\_D1 & Muzzi\\_PWC\\_D2\\\\\n",
       "  & <int> & <chr> & <dbl> & <dbl> & <dbl> & <dbl> & <dbl> & <dbl> & <dbl> & <dbl> & ⋯ & <dbl> & <dbl> & <dbl> & <dbl> & <dbl> & <dbl> & <dbl> & <dbl> & <dbl> & <dbl>\\\\\n",
       "\\hline\n",
       "\tHydA & 1 & HydA       &  777.227242 &  831.6287 &  809.84469 & 1013.4313 &  455.378464 &  478.9970 &  290.906683 &  230.9858 & ⋯ &  518.3087 &  835.01421 &  617.0771 &  754.09228 &  695.67480 &  476.8717 &  962.7019 &  454.05013 &  587.90475 &  494.5545\\\\\n",
       "\tDsrAB.red & 2 & DsrAB.red  &  708.613317 & 1196.3888 &  659.86150 & 1639.9994 &  538.066795 &  871.9104 &  279.086689 &  416.1491 & ⋯ & 2239.6725 & 3617.94294 & 2408.9628 & 2714.74181 &  854.70489 & 2113.3422 &  766.3686 & 1717.32556 & 1213.29373 & 1903.3232\\\\\n",
       "\tDsrAB.ox & 3 & DsrAB.ox   &  987.409809 & 1532.6127 &  740.07809 & 1377.9632 &  645.383924 &  865.6130 &  667.353474 &  993.6599 & ⋯ & 1369.4167 & 1421.50636 & 1592.7139 & 2381.74072 & 1598.80421 & 1676.9571 & 1565.5454 & 2526.37394 & 2723.58706 & 2044.6511\\\\\n",
       "\tNxrA.other & 4 & NxrA.other &    9.479931 &  428.8606 &    4.14647 &  666.9269 &    7.979445 &  512.5471 &    5.004855 &  525.4155 & ⋯ &  605.0980 &  618.81808 &  657.2921 &  588.78007 &  581.99347 &  956.5006 &  412.3770 &  725.94846 &  530.74815 & 1032.9234\\\\\n",
       "\tNxrB.other & 5 & NxrB.other & 1782.076039 & 1705.5446 & 1368.82776 & 1719.0226 & 1031.150915 & 1053.8742 & 1345.806043 & 1356.6468 & ⋯ & 1316.8337 & 1473.66360 & 1241.8710 & 1312.93650 &  841.73339 & 1881.4930 &  715.4902 & 1637.79416 & 1298.75980 & 1767.5664\\\\\n",
       "\tNOB.nxr & 6 & NOB.nxr    &  258.693282 &  186.4819 &  288.05738 &  253.5605 &  177.748706 &  275.5250 &  213.543200 &  379.5519 & ⋯ &   24.6555 &   53.02874 &   65.8688 &   64.16367 &   21.61064 &   55.1174 &        NA &   35.62015 &   23.51489 &   57.7415\\\\\n",
       "\\end{tabular}\n"
      ],
      "text/markdown": [
       "\n",
       "A data.frame: 6 × 139\n",
       "\n",
       "| <!--/--> | OTU &lt;int&gt; | Guild &lt;chr&gt; | Sandmound_TuleA_D1 &lt;dbl&gt; | Sandmound_TuleA_D2 &lt;dbl&gt; | Sandmound_TuleB_D1 &lt;dbl&gt; | Sandmound_TuleB_D2 &lt;dbl&gt; | Sandmound_TuleC_D1 &lt;dbl&gt; | Sandmound_TuleC_D2 &lt;dbl&gt; | Sandmound_ThreeSqA_D1_rd &lt;dbl&gt; | Sandmound_ThreeSqA_D2 &lt;dbl&gt; | ⋯ ⋯ | China_Galinas_PWC_D2 &lt;dbl&gt; | Muzzi_CordA_D2 &lt;dbl&gt; | Muzzi_CordB_D2 &lt;dbl&gt; | Muzzi_CordC_D2 &lt;dbl&gt; | Muzzi_PWA_D1 &lt;dbl&gt; | Muzzi_PWA_D2 &lt;dbl&gt; | Muzzi_PWB_D1 &lt;dbl&gt; | Muzzi_PWB_D2 &lt;dbl&gt; | Muzzi_PWC_D1 &lt;dbl&gt; | Muzzi_PWC_D2 &lt;dbl&gt; |\n",
       "|---|---|---|---|---|---|---|---|---|---|---|---|---|---|---|---|---|---|---|---|---|---|\n",
       "| HydA | 1 | HydA       |  777.227242 |  831.6287 |  809.84469 | 1013.4313 |  455.378464 |  478.9970 |  290.906683 |  230.9858 | ⋯ |  518.3087 |  835.01421 |  617.0771 |  754.09228 |  695.67480 |  476.8717 |  962.7019 |  454.05013 |  587.90475 |  494.5545 |\n",
       "| DsrAB.red | 2 | DsrAB.red  |  708.613317 | 1196.3888 |  659.86150 | 1639.9994 |  538.066795 |  871.9104 |  279.086689 |  416.1491 | ⋯ | 2239.6725 | 3617.94294 | 2408.9628 | 2714.74181 |  854.70489 | 2113.3422 |  766.3686 | 1717.32556 | 1213.29373 | 1903.3232 |\n",
       "| DsrAB.ox | 3 | DsrAB.ox   |  987.409809 | 1532.6127 |  740.07809 | 1377.9632 |  645.383924 |  865.6130 |  667.353474 |  993.6599 | ⋯ | 1369.4167 | 1421.50636 | 1592.7139 | 2381.74072 | 1598.80421 | 1676.9571 | 1565.5454 | 2526.37394 | 2723.58706 | 2044.6511 |\n",
       "| NxrA.other | 4 | NxrA.other |    9.479931 |  428.8606 |    4.14647 |  666.9269 |    7.979445 |  512.5471 |    5.004855 |  525.4155 | ⋯ |  605.0980 |  618.81808 |  657.2921 |  588.78007 |  581.99347 |  956.5006 |  412.3770 |  725.94846 |  530.74815 | 1032.9234 |\n",
       "| NxrB.other | 5 | NxrB.other | 1782.076039 | 1705.5446 | 1368.82776 | 1719.0226 | 1031.150915 | 1053.8742 | 1345.806043 | 1356.6468 | ⋯ | 1316.8337 | 1473.66360 | 1241.8710 | 1312.93650 |  841.73339 | 1881.4930 |  715.4902 | 1637.79416 | 1298.75980 | 1767.5664 |\n",
       "| NOB.nxr | 6 | NOB.nxr    |  258.693282 |  186.4819 |  288.05738 |  253.5605 |  177.748706 |  275.5250 |  213.543200 |  379.5519 | ⋯ |   24.6555 |   53.02874 |   65.8688 |   64.16367 |   21.61064 |   55.1174 |        NA |   35.62015 |   23.51489 |   57.7415 |\n",
       "\n"
      ],
      "text/plain": [
       "           OTU Guild      Sandmound_TuleA_D1 Sandmound_TuleA_D2\n",
       "HydA       1   HydA        777.227242         831.6287         \n",
       "DsrAB.red  2   DsrAB.red   708.613317        1196.3888         \n",
       "DsrAB.ox   3   DsrAB.ox    987.409809        1532.6127         \n",
       "NxrA.other 4   NxrA.other    9.479931         428.8606         \n",
       "NxrB.other 5   NxrB.other 1782.076039        1705.5446         \n",
       "NOB.nxr    6   NOB.nxr     258.693282         186.4819         \n",
       "           Sandmound_TuleB_D1 Sandmound_TuleB_D2 Sandmound_TuleC_D1\n",
       "HydA        809.84469         1013.4313           455.378464       \n",
       "DsrAB.red   659.86150         1639.9994           538.066795       \n",
       "DsrAB.ox    740.07809         1377.9632           645.383924       \n",
       "NxrA.other    4.14647          666.9269             7.979445       \n",
       "NxrB.other 1368.82776         1719.0226          1031.150915       \n",
       "NOB.nxr     288.05738          253.5605           177.748706       \n",
       "           Sandmound_TuleC_D2 Sandmound_ThreeSqA_D1_rd Sandmound_ThreeSqA_D2 ⋯\n",
       "HydA        478.9970           290.906683               230.9858             ⋯\n",
       "DsrAB.red   871.9104           279.086689               416.1491             ⋯\n",
       "DsrAB.ox    865.6130           667.353474               993.6599             ⋯\n",
       "NxrA.other  512.5471             5.004855               525.4155             ⋯\n",
       "NxrB.other 1053.8742          1345.806043              1356.6468             ⋯\n",
       "NOB.nxr     275.5250           213.543200               379.5519             ⋯\n",
       "           China_Galinas_PWC_D2 Muzzi_CordA_D2 Muzzi_CordB_D2 Muzzi_CordC_D2\n",
       "HydA        518.3087             835.01421      617.0771       754.09228    \n",
       "DsrAB.red  2239.6725            3617.94294     2408.9628      2714.74181    \n",
       "DsrAB.ox   1369.4167            1421.50636     1592.7139      2381.74072    \n",
       "NxrA.other  605.0980             618.81808      657.2921       588.78007    \n",
       "NxrB.other 1316.8337            1473.66360     1241.8710      1312.93650    \n",
       "NOB.nxr      24.6555              53.02874       65.8688        64.16367    \n",
       "           Muzzi_PWA_D1 Muzzi_PWA_D2 Muzzi_PWB_D1 Muzzi_PWB_D2 Muzzi_PWC_D1\n",
       "HydA        695.67480    476.8717     962.7019     454.05013    587.90475  \n",
       "DsrAB.red   854.70489   2113.3422     766.3686    1717.32556   1213.29373  \n",
       "DsrAB.ox   1598.80421   1676.9571    1565.5454    2526.37394   2723.58706  \n",
       "NxrA.other  581.99347    956.5006     412.3770     725.94846    530.74815  \n",
       "NxrB.other  841.73339   1881.4930     715.4902    1637.79416   1298.75980  \n",
       "NOB.nxr      21.61064     55.1174           NA      35.62015     23.51489  \n",
       "           Muzzi_PWC_D2\n",
       "HydA        494.5545   \n",
       "DsrAB.red  1903.3232   \n",
       "DsrAB.ox   2044.6511   \n",
       "NxrA.other 1032.9234   \n",
       "NxrB.other 1767.5664   \n",
       "NOB.nxr      57.7415   "
      ]
     },
     "metadata": {},
     "output_type": "display_data"
    }
   ],
   "source": [
    "head(TS_guilds_CPM)"
   ]
  },
  {
   "cell_type": "code",
   "execution_count": 8,
   "metadata": {},
   "outputs": [],
   "source": [
    "TS_guild_cols <- read.table(\"../data/colors/TreeSAPP_Guild_color_palette2.txt\", sep='\\t', header=T) \n",
    "TS_guild_cols$Index <- rev(TS_guild_cols$Index)"
   ]
  },
  {
   "cell_type": "code",
   "execution_count": 9,
   "metadata": {},
   "outputs": [],
   "source": [
    "# TS_Site_sort_G <- abund_loc_barplot(guild_data3, \"Guild\", Meta_iTag, \"EWsiteHyd_index\", \"\", TS_guild_cols)"
   ]
  },
  {
   "cell_type": "markdown",
   "metadata": {},
   "source": [
    "### c) combine 16S & TreeSAPP data"
   ]
  },
  {
   "cell_type": "code",
   "execution_count": 10,
   "metadata": {},
   "outputs": [],
   "source": [
    "# Get sample names from 16S guilds (to remove \"OTU\", \"Guild\" from TreeSAPP -- Guild is rowname)\n",
    "samples = row.names(Guild16S)\n",
    "# Guild16S$Sample <- row.names(Guild16S)"
   ]
  },
  {
   "cell_type": "code",
   "execution_count": 11,
   "metadata": {},
   "outputs": [],
   "source": [
    "GuildTS <- t(TS_guilds_CPM[colnames(TS_guilds_CPM) %in% samples])\n",
    "# GuildTS$Sample <- unlist(list(as.character(row.names(GuildTS))))"
   ]
  },
  {
   "cell_type": "code",
   "execution_count": 12,
   "metadata": {},
   "outputs": [],
   "source": [
    "# row.names(GuildTS)"
   ]
  },
  {
   "cell_type": "code",
   "execution_count": 13,
   "metadata": {},
   "outputs": [],
   "source": [
    "# GuildTS"
   ]
  },
  {
   "cell_type": "code",
   "execution_count": 14,
   "metadata": {},
   "outputs": [],
   "source": [
    "# Merge 16S and TreeSAPP guilds\n",
    "# Combined_guilds <- data.frame(merge(Guild16S, Guild_TS, all.y=T))\n",
    "Combined_guilds <- data.frame(merge(Guild16S, GuildTS, by.x =0, by.y = 0, all.y=T))\n",
    "Combined_guilds[is.na(Combined_guilds)] <-1\n",
    "colnames(Combined_guilds)[1] <- 'Sample'\n",
    "Combined_guilds$Sample <- as.character(Combined_guilds$Sample)\n",
    "\n",
    "# Combined_guilds <- data.frame(merge(Guild16S, GuildTS, by=\"Sample\", all.y=T))\n",
    "# Combined_guilds[is.na(Combined_guilds)] <-1\n",
    "# Combined_guilds"
   ]
  },
  {
   "cell_type": "markdown",
   "metadata": {},
   "source": [
    "# 3) define plots\n",
    "- the ugly way, a should be function over list"
   ]
  },
  {
   "cell_type": "code",
   "execution_count": 15,
   "metadata": {},
   "outputs": [
    {
     "name": "stdout",
     "output_type": "stream",
     "text": [
      "[1] \"CH4_ac\"\n"
     ]
    },
    {
     "data": {
      "text/html": [
       "0.29"
      ],
      "text/latex": [
       "0.29"
      ],
      "text/markdown": [
       "0.29"
      ],
      "text/plain": [
       "[1] 0.29"
      ]
     },
     "metadata": {},
     "output_type": "display_data"
    },
    {
     "data": {
      "text/html": [
       "3.24608823636456e-11"
      ],
      "text/latex": [
       "3.24608823636456e-11"
      ],
      "text/markdown": [
       "3.24608823636456e-11"
      ],
      "text/plain": [
       "[1] 3.246088e-11"
      ]
     },
     "metadata": {},
     "output_type": "display_data"
    },
    {
     "name": "stdout",
     "output_type": "stream",
     "text": [
      "[1] \"CH4_H2\"\n"
     ]
    },
    {
     "data": {
      "text/html": [
       "0.89"
      ],
      "text/latex": [
       "0.89"
      ],
      "text/markdown": [
       "0.89"
      ],
      "text/plain": [
       "[1] 0.89"
      ]
     },
     "metadata": {},
     "output_type": "display_data"
    },
    {
     "data": {
      "text/html": [
       "5.03633326426425e-65"
      ],
      "text/latex": [
       "5.03633326426425e-65"
      ],
      "text/markdown": [
       "5.03633326426425e-65"
      ],
      "text/plain": [
       "[1] 5.036333e-65"
      ]
     },
     "metadata": {},
     "output_type": "display_data"
    },
    {
     "name": "stdout",
     "output_type": "stream",
     "text": [
      "[1] \"SRB\"\n"
     ]
    },
    {
     "data": {
      "text/html": [
       "0.51"
      ],
      "text/latex": [
       "0.51"
      ],
      "text/markdown": [
       "0.51"
      ],
      "text/plain": [
       "[1] 0.51"
      ]
     },
     "metadata": {},
     "output_type": "display_data"
    },
    {
     "data": {
      "text/html": [
       "1.19519264407648e-21"
      ],
      "text/latex": [
       "1.19519264407648e-21"
      ],
      "text/markdown": [
       "1.19519264407648e-21"
      ],
      "text/plain": [
       "[1] 1.195193e-21"
      ]
     },
     "metadata": {},
     "output_type": "display_data"
    },
    {
     "name": "stdout",
     "output_type": "stream",
     "text": [
      "[1] \"MOBI\"\n"
     ]
    },
    {
     "data": {
      "text/html": [
       "0.69"
      ],
      "text/latex": [
       "0.69"
      ],
      "text/markdown": [
       "0.69"
      ],
      "text/plain": [
       "[1] 0.69"
      ]
     },
     "metadata": {},
     "output_type": "display_data"
    },
    {
     "data": {
      "text/html": [
       "3.73237522446401e-35"
      ],
      "text/latex": [
       "3.73237522446401e-35"
      ],
      "text/markdown": [
       "3.73237522446401e-35"
      ],
      "text/plain": [
       "[1] 3.732375e-35"
      ]
     },
     "metadata": {},
     "output_type": "display_data"
    },
    {
     "name": "stdout",
     "output_type": "stream",
     "text": [
      "[1] \"MOBIIa\"\n"
     ]
    },
    {
     "data": {
      "text/html": [
       "0.77"
      ],
      "text/latex": [
       "0.77"
      ],
      "text/markdown": [
       "0.77"
      ],
      "text/plain": [
       "[1] 0.77"
      ]
     },
     "metadata": {},
     "output_type": "display_data"
    },
    {
     "data": {
      "text/html": [
       "1.04610710035736e-42"
      ],
      "text/latex": [
       "1.04610710035736e-42"
      ],
      "text/markdown": [
       "1.04610710035736e-42"
      ],
      "text/plain": [
       "[1] 1.046107e-42"
      ]
     },
     "metadata": {},
     "output_type": "display_data"
    },
    {
     "name": "stdout",
     "output_type": "stream",
     "text": [
      "[1] \"MOBII\"\n"
     ]
    },
    {
     "data": {
      "text/html": [
       "0"
      ],
      "text/latex": [
       "0"
      ],
      "text/markdown": [
       "0"
      ],
      "text/plain": [
       "[1] 0"
      ]
     },
     "metadata": {},
     "output_type": "display_data"
    },
    {
     "data": {
      "text/html": [
       "0.563776532698244"
      ],
      "text/latex": [
       "0.563776532698244"
      ],
      "text/markdown": [
       "0.563776532698244"
      ],
      "text/plain": [
       "[1] 0.5637765"
      ]
     },
     "metadata": {},
     "output_type": "display_data"
    },
    {
     "name": "stdout",
     "output_type": "stream",
     "text": [
      "[1] \"AOA\"\n"
     ]
    },
    {
     "data": {
      "text/html": [
       "0.77"
      ],
      "text/latex": [
       "0.77"
      ],
      "text/markdown": [
       "0.77"
      ],
      "text/plain": [
       "[1] 0.77"
      ]
     },
     "metadata": {},
     "output_type": "display_data"
    },
    {
     "data": {
      "text/html": [
       "9.81912269757889e-43"
      ],
      "text/latex": [
       "9.81912269757889e-43"
      ],
      "text/markdown": [
       "9.81912269757889e-43"
      ],
      "text/plain": [
       "[1] 9.819123e-43"
      ]
     },
     "metadata": {},
     "output_type": "display_data"
    },
    {
     "name": "stdout",
     "output_type": "stream",
     "text": [
      "[1] \"AOB\"\n"
     ]
    },
    {
     "data": {
      "text/html": [
       "0.14"
      ],
      "text/latex": [
       "0.14"
      ],
      "text/markdown": [
       "0.14"
      ],
      "text/plain": [
       "[1] 0.14"
      ]
     },
     "metadata": {},
     "output_type": "display_data"
    },
    {
     "data": {
      "text/html": [
       "9.72217535407921e-06"
      ],
      "text/latex": [
       "9.72217535407921e-06"
      ],
      "text/markdown": [
       "9.72217535407921e-06"
      ],
      "text/plain": [
       "[1] 9.722175e-06"
      ]
     },
     "metadata": {},
     "output_type": "display_data"
    },
    {
     "name": "stdout",
     "output_type": "stream",
     "text": [
      "[1] \"NOB\"\n"
     ]
    },
    {
     "data": {
      "text/html": [
       "0.56"
      ],
      "text/latex": [
       "0.56"
      ],
      "text/markdown": [
       "0.56"
      ],
      "text/plain": [
       "[1] 0.56"
      ]
     },
     "metadata": {},
     "output_type": "display_data"
    },
    {
     "data": {
      "text/html": [
       "3.02592193604206e-25"
      ],
      "text/latex": [
       "3.02592193604206e-25"
      ],
      "text/markdown": [
       "3.02592193604206e-25"
      ],
      "text/plain": [
       "[1] 3.025922e-25"
      ]
     },
     "metadata": {},
     "output_type": "display_data"
    }
   ],
   "source": [
    "# Run stats - add R2 and p values to plot\n",
    "# Ugly way individually\n",
    "print('CH4_ac')\n",
    "m1 <- lm(mcr.Ac ~ CH4_ac, data = Combined_guilds)\n",
    "round(summary(m1)$r.squared, digits = 2)\n",
    "summary(m1)$coefficients[2,4]\n",
    "print('CH4_H2')\n",
    "m2 <- lm(mcr.H2 ~ CH4_H2, data = Combined_guilds)\n",
    "round(summary(m2)$r.squared, digits = 2)\n",
    "summary(m2)$coefficients[2,4]\n",
    "print('SRB')\n",
    "m3 <- lm(DsrAB.red ~ SRB, data = Combined_guilds)\n",
    "round(summary(m3)$r.squared, digits = 2)\n",
    "summary(m3)$coefficients[2,4]\n",
    "print('MOBI')\n",
    "m4 <- lm((MOB.Ia + MOB.Ib+ MOB.Ic) ~ MOB_I, data = Combined_guilds)\n",
    "round(summary(m4)$r.squared, digits = 2)\n",
    "summary(m4)$coefficients[2,4]\n",
    "print('MOBIIa')\n",
    "m5 <- lm(MOB.IIa ~ MOB_IIa, data = Combined_guilds)\n",
    "round(summary(m5)$r.squared, digits = 2)\n",
    "summary(m5)$coefficients[2,4]\n",
    "print('MOBII')\n",
    "m6 <- lm(MOB.IIb ~ MOB_II, data = Combined_guilds)\n",
    "round(summary(m6)$r.squared, digits = 2)\n",
    "summary(m6)$coefficients[2,4]\n",
    "print('AOA')\n",
    "m7 <- lm(amoA.AOA ~ AOA, data = Combined_guilds)\n",
    "round(summary(m7)$r.squared, digits = 2)\n",
    "summary(m7)$coefficients[2,4]\n",
    "print('AOB')\n",
    "m8 <- lm(amoA.AOB ~ AOB, data = Combined_guilds)\n",
    "round(summary(m8)$r.squared, digits = 2)\n",
    "summary(m8)$coefficients[2,4]\n",
    "print('NOB')\n",
    "m9 <- lm(NOB.nxr ~ NOB, data = Combined_guilds)\n",
    "round(summary(m9)$r.squared, digits = 2)\n",
    "summary(m9)$coefficients[2,4]"
   ]
  },
  {
   "cell_type": "code",
   "execution_count": 16,
   "metadata": {},
   "outputs": [
    {
     "name": "stderr",
     "output_type": "stream",
     "text": [
      "Warning message:\n",
      "“\u001b[1m\u001b[22mUsing `size` aesthetic for lines was deprecated in ggplot2 3.4.0.\n",
      "\u001b[36mℹ\u001b[39m Please use `linewidth` instead.”\n"
     ]
    }
   ],
   "source": [
    "# LOG VERSION\n",
    "# Also showing 1:1 line - this shows that the 16S has more counts than the TreeSAPP\n",
    "mcr_Ac <- ggplot(Combined_guilds, aes(x=CH4_ac, y=mcr.Ac)) + geom_point(color=\"#8B3626\") +theme_bw() + \n",
    "            stat_smooth(method = \"lm\", se = F, color=\"#8B3626\", size=0.5, linetype = 1) +\n",
    "            geom_abline(slope = 1, intercept = 0, linetype = \"dashed\", size = 0.2, color = \"grey10\") +\n",
    "            scale_x_continuous(trans='log10') + scale_y_continuous(trans='log10') +\n",
    "            geom_text(aes(x = 0, y = Inf, hjust = -0.1, vjust = 2, label = \"R^2 == 0.79\"), parse = TRUE, size = 2,\n",
    "                     check_overlap = TRUE) +\n",
    "            geom_text(aes(x = 0, y = Inf, hjust = -0.1, vjust = 5, label = \"p < 0.001\"), size = 2,\n",
    "                     check_overlap = TRUE) +\n",
    "            theme(plot.margin = unit(c(0.1, 0.4, 0.1, 0.1), \"cm\"),\n",
    "                  axis.text = element_text(size = 8),\n",
    "                  axis.title = element_text(size = 10))\n",
    "\n",
    "mcr_H2 <- ggplot(Combined_guilds, aes(x=CH4_H2, y=mcr.H2)) + geom_point(color=\"#CD4F39\") +theme_bw() + \n",
    "            stat_smooth(method = \"lm\", se = F, color=\"#CD4F39\", size=0.5, linetype = 1) +\n",
    "            geom_abline(slope = 1, intercept = 0, linetype = \"dashed\", size = 0.2, color = \"grey10\") +\n",
    "            scale_x_continuous(trans='log10') + scale_y_continuous(trans='log10') +\n",
    "            geom_text(aes(x = 0, y = Inf, hjust = -0.1, vjust = 2, label = \"R^2 == 0.91\"), parse = TRUE, size = 2,\n",
    "                     check_overlap = TRUE) +\n",
    "            geom_text(aes(x = 0, y = Inf, hjust = -0.1, vjust = 5, label = \"p < 0.001\"), size = 2,\n",
    "                     check_overlap = TRUE) +\n",
    "            theme(plot.margin = unit(c(0.1, 0.4, 0.1, 0.1), \"cm\"),\n",
    "                  axis.text = element_text(size = 8),\n",
    "                  axis.title = element_text(size = 10))\n",
    "\n",
    "SRB <- ggplot(Combined_guilds, aes(x=SRB, DsrAB.red)) + geom_point(color=\"#8B008B\") +theme_bw() + \n",
    "            stat_smooth(method = \"lm\", se = F, color=\"#8B008B\", size=0.5, linetype = 1) +\n",
    "            geom_abline(slope = 1, intercept = 0, linetype = \"dashed\", size = 0.2, color = \"grey10\") +\n",
    "            scale_x_continuous(trans='log10') + scale_y_continuous(trans='log10') +\n",
    "            geom_text(aes(x = 0, y = Inf, hjust = -0.1, vjust = 2, label = \"R^2 == 0.39\"), parse = TRUE, size = 2,\n",
    "                     check_overlap = TRUE) +\n",
    "            geom_text(aes(x = 0, y = Inf, hjust = -0.1, vjust = 5, label = \"p < 0.001\"), size = 2,\n",
    "                     check_overlap = TRUE) +\n",
    "            theme(plot.margin = unit(c(0.1, 0.4, 0.1, 0.1), \"cm\"),\n",
    "                  axis.text = element_text(size = 8),\n",
    "                  axis.title = element_text(size = 10))"
   ]
  },
  {
   "cell_type": "code",
   "execution_count": 17,
   "metadata": {},
   "outputs": [],
   "source": [
    "MOB_I <- ggplot(Combined_guilds, aes(x=MOB_I, y=(MOB.Ia + MOB.Ib+ MOB.Ic))) + geom_point(color=\"#63B8FF\") +theme_bw()  + \n",
    "            stat_smooth(method = \"lm\", se = F, color=\"#63B8FF\", size=0.5, linetype = 1) +\n",
    "            geom_abline(slope = 1, intercept = 0, linetype = \"dashed\", size = 0.2, color = \"grey10\") +\n",
    "            scale_x_continuous(trans='log10') + scale_y_continuous(trans='log10') +\n",
    "            ylab(\"MOB.Ia+MOB.Ib+MOB.Ic\") +\n",
    "            geom_text(aes(x = 0, y = Inf, hjust = -0.1, vjust = 2, label = \"R^2 == 0.69\"), parse = TRUE, size = 2,\n",
    "                     check_overlap = TRUE) +\n",
    "            geom_text(aes(x = 0, y = Inf, hjust = -0.1, vjust = 5, label = \"p < 0.001\"), size = 2,\n",
    "                     check_overlap = TRUE) +\n",
    "            theme(plot.margin = unit(c(0.1, 0.4, 0.1, 0.1), \"cm\"),\n",
    "                  axis.text = element_text(size = 8),\n",
    "                  axis.title = element_text(size = 10))\n",
    "\n",
    "MOB_IIa <- ggplot(Combined_guilds, aes(x=MOB_IIa, y=MOB.IIa)) + geom_point(color=\"#36648B\") +theme_bw() + \n",
    "            stat_smooth(method = \"lm\", se = F, color=\"#36648B\", size=0.5, linetype = 1) +\n",
    "            geom_abline(slope = 1, intercept = 0, linetype = \"dashed\", size = 0.2, color = \"grey10\") +\n",
    "            scale_x_continuous(trans='log10') + scale_y_continuous(trans='log10') +\n",
    "            geom_text(aes(x = 0, y = Inf, hjust = -0.1, vjust = 2, label = \"R^2 == 0.77\"), parse = TRUE, size = 2,\n",
    "                     check_overlap = TRUE) +\n",
    "            geom_text(aes(x = 0, y = Inf, hjust = -0.1, vjust = 5, label = \"p < 0.001\"), size = 2,\n",
    "                     check_overlap = TRUE) +\n",
    "            theme(plot.margin = unit(c(0.1, 0.4, 0.1, 0.1), \"cm\"),\n",
    "                  axis.text = element_text(size = 8),\n",
    "                  axis.title = element_text(size = 10))\n",
    "\n",
    "MOB_II <- ggplot(Combined_guilds, aes(x=MOB_II, y=MOB.IIb)) + geom_point(color=\"#4F94CD\") +theme_bw()  + \n",
    "            geom_abline(slope = 1, intercept = 0, linetype = \"dashed\", size = 0.2, color = \"grey10\") +\n",
    "            scale_x_continuous(trans='log10') + scale_y_continuous(trans='log10') +\n",
    "            geom_text(aes(x = 0, y = Inf, hjust = -0.1, vjust = 2, label = \"R^2 == 0.00\"), parse = TRUE, size = 2,\n",
    "                     check_overlap = TRUE) +\n",
    "            geom_text(aes(x = 0, y = Inf, hjust = -0.1, vjust = 5, label = \"p = 0.564\"), size = 2,\n",
    "                     check_overlap = TRUE) +\n",
    "            theme(plot.margin = unit(c(0.1, 0.4, 0.1, 0.1), \"cm\"),\n",
    "                  axis.text = element_text(size = 8),\n",
    "                  axis.title = element_text(size = 10))\n",
    "\n",
    "# MOB_III <- ggplot(Combined_guilds, aes(x=MOB_II, y=MOB.III)) + geom_point(color=\"#4F94CD\") +theme_bw() + \n",
    "            # scale_x_continuous(trans='log10') + scale_y_continuous(trans='log10')\n",
    "\n"
   ]
  },
  {
   "cell_type": "code",
   "execution_count": 18,
   "metadata": {},
   "outputs": [],
   "source": [
    "AOA <- ggplot(Combined_guilds, aes(x=AOA, y=amoA.AOA)) + geom_point(color=\"#7CFC00\") +theme_bw() + \n",
    "            stat_smooth(method = \"lm\", se = F, color=\"#7CFC00\", size=0.5, linetype = 1) +\n",
    "            geom_abline(slope = 1, intercept = 0, linetype = \"dashed\", size = 0.2, color = \"grey10\") +\n",
    "            scale_x_continuous(trans='log10') + scale_y_continuous(trans='log10') +\n",
    "            geom_text(aes(x = 0, y = Inf, hjust = -0.1, vjust = 2, label = \"R^2 == 0.77\"), parse = TRUE, size = 2,\n",
    "                     check_overlap = TRUE) +\n",
    "            geom_text(aes(x = 0, y = Inf, hjust = -0.1, vjust = 5, label = \"p < 0.001\"), size = 2,\n",
    "                     check_overlap = TRUE) +\n",
    "            theme(plot.margin = unit(c(0.1, 0.4, 0.1, 0.1), \"cm\"),\n",
    "                  axis.text = element_text(size = 8),\n",
    "                  axis.title = element_text(size = 10))\n",
    "\n",
    "AOB <- ggplot(Combined_guilds, aes(x=AOB, y=amoA.AOB)) + geom_point(color=\"#00CD00\") +theme_bw() + \n",
    "            stat_smooth(method = \"lm\", se = F, color=\"#00CD00\", size=0.5, linetype = 1) +\n",
    "            geom_abline(slope = 1, intercept = 0, linetype = \"dashed\", size = 0.2, color = \"grey10\") +\n",
    "            scale_x_continuous(trans='log10') + scale_y_continuous(trans='log10') +\n",
    "            geom_text(aes(x = 0, y = Inf, hjust = -0.1, vjust = 2, label = \"R^2 == 0.14\"), parse = TRUE, size = 2,\n",
    "                     check_overlap = TRUE) +\n",
    "            geom_text(aes(x = 0, y = Inf, hjust = -0.1, vjust = 5, label = \"p < 0.001\"), size = 2,\n",
    "                     check_overlap = TRUE) +\n",
    "            theme(plot.margin = unit(c(0.1, 0.4, 0.1, 0.1), \"cm\"),\n",
    "                  axis.text = element_text(size = 8),\n",
    "                  axis.title = element_text(size = 10))\n",
    "\n",
    "NOB <- ggplot(Combined_guilds, aes(x=NOB, y=NOB.nxr)) + geom_point(color=\"#008B00\") +theme_bw() + \n",
    "            stat_smooth(method = \"lm\", se = F, color=\"#008B00\", size=0.5, linetype = 1) +\n",
    "            geom_abline(slope = 1, intercept = 0, linetype = \"dashed\", size = 0.2, color = \"grey10\") +\n",
    "            scale_x_continuous(trans='log10') + scale_y_continuous(trans='log10') +\n",
    "            geom_text(aes(x = 0, y = Inf, hjust = -0.1, vjust = 2, label = \"R^2 == 0.56\"), parse = TRUE, size = 2,\n",
    "                     check_overlap = TRUE) +\n",
    "            geom_text(aes(x = 0, y = Inf, hjust = -0.1, vjust = 5, label = \"p < 0.001\"), size = 2,\n",
    "                     check_overlap = TRUE) +\n",
    "            theme(plot.margin = unit(c(0.1, 0.4, 0.1, 0.1), \"cm\"),\n",
    "                  axis.text = element_text(size = 8),\n",
    "                  axis.title = element_text(size = 10))\n",
    "            #scale_x_continuous(trans='log10', breaks = 5, labels = c('10','100','1000','10000')) + scale_y_continuous(trans='log10')"
   ]
  },
  {
   "cell_type": "markdown",
   "metadata": {},
   "source": [
    "# 3) Plot the big grid (Figure S8)"
   ]
  },
  {
   "cell_type": "code",
   "execution_count": 19,
   "metadata": {},
   "outputs": [
    {
     "name": "stderr",
     "output_type": "stream",
     "text": [
      "\u001b[1m\u001b[22m`geom_smooth()` using formula = 'y ~ x'\n",
      "\u001b[1m\u001b[22m`geom_smooth()` using formula = 'y ~ x'\n",
      "\u001b[1m\u001b[22m`geom_smooth()` using formula = 'y ~ x'\n",
      "\u001b[1m\u001b[22m`geom_smooth()` using formula = 'y ~ x'\n",
      "\u001b[1m\u001b[22m`geom_smooth()` using formula = 'y ~ x'\n",
      "\u001b[1m\u001b[22m`geom_smooth()` using formula = 'y ~ x'\n",
      "\u001b[1m\u001b[22m`geom_smooth()` using formula = 'y ~ x'\n",
      "\u001b[1m\u001b[22m`geom_smooth()` using formula = 'y ~ x'\n"
     ]
    },
    {
     "data": {
      "text/html": [
       "<strong>pdf:</strong> 2"
      ],
      "text/latex": [
       "\\textbf{pdf:} 2"
      ],
      "text/markdown": [
       "**pdf:** 2"
      ],
      "text/plain": [
       "pdf \n",
       "  2 "
      ]
     },
     "metadata": {},
     "output_type": "display_data"
    }
   ],
   "source": [
    "pdf(\"../figs/FigureS8.pdf\", width = 7.5, height = 7.5)\n",
    "plot <- suppressWarnings(plot_grid(mcr_Ac, mcr_H2, SRB, MOB_I, MOB_IIa, MOB_II, AOA, AOB, NOB, \n",
    "          ncol = 3, nrow = 3, labels = \"auto\", vjust = 1, align = \"hv\"))\n",
    "y.grob <- textGrob(\"TreeSAPP CPM\", \n",
    "                   gp=gpar(fontface=\"bold\", col=\"black\", fontsize=14), rot=90)\n",
    "x.grob <- textGrob(\"16S CPM\", \n",
    "                   gp=gpar(fontface=\"bold\", col=\"black\", fontsize=14))\n",
    "grid.arrange(arrangeGrob(plot, left = y.grob, bottom = x.grob))\n",
    "dev.off()"
   ]
  },
  {
   "cell_type": "markdown",
   "metadata": {},
   "source": [
    "# 4) Plot TreeSAPP guild abundances "
   ]
  },
  {
   "cell_type": "code",
   "execution_count": 20,
   "metadata": {},
   "outputs": [],
   "source": [
    "# source(\"../modules/5_OTU_barplots_module_v0.3.7.4.R\")       # working under R 4.0.2. But not uploaded to the repo\n",
    "source(\"../modules/5_OTU_barplots_module_v0.4.R\")"
   ]
  },
  {
   "cell_type": "code",
   "execution_count": 21,
   "metadata": {},
   "outputs": [],
   "source": [
    "# TS_guilds_CPM"
   ]
  },
  {
   "cell_type": "code",
   "execution_count": 22,
   "metadata": {},
   "outputs": [],
   "source": [
    "# import TreeSAPP colors \n",
    "TS_guild_cols <- read.table(\"../data/colors/TreeSAPP_Guild_color_palette2.txt\", sep='\\t', header=T)\n",
    "TS_guild_cols$Index <-rev(TS_guild_cols$Index)"
   ]
  },
  {
   "cell_type": "markdown",
   "metadata": {},
   "source": [
    "### a) import metadata "
   ]
  },
  {
   "cell_type": "code",
   "execution_count": 23,
   "metadata": {},
   "outputs": [],
   "source": [
    "# Import site colors\n",
    "site_colors <- read.table(\"../data/colors/Sal_siteColors_testR.txt\", sep='\\t', header=T, row.names=1)               # site_colors\n",
    "colnames(site_colors) <-c('color','Location') "
   ]
  },
  {
   "cell_type": "code",
   "execution_count": 24,
   "metadata": {},
   "outputs": [],
   "source": [
    "metaDB <-read.table(\"../data/meta/SF_sal_meta_FIX3.5.txt\", sep=\"\\t\", header=TRUE)               # import Mapping    # # try keeping all params..."
   ]
  },
  {
   "cell_type": "markdown",
   "metadata": {},
   "source": [
    "### b) prune guild data  "
   ]
  },
  {
   "cell_type": "code",
   "execution_count": 25,
   "metadata": {},
   "outputs": [],
   "source": [
    "# TS_guilds_CPM\n",
    "TS_clean_guilds0 <- TS_guilds_CPM[!TS_guilds_CPM$Guild==\"DsrAB.red\",]\n",
    "TS_clean_guilds <- TS_clean_guilds0[!TS_clean_guilds0$Guild==\"NxrA.other\",]\n",
    "TS_clean_guilds <- TS_clean_guilds[!TS_clean_guilds$Guild==\"NxrB.other\",]\n",
    "TS_clean_guilds <- TS_clean_guilds[!TS_clean_guilds$Guild==\"DsrAB.ox\",]\n",
    "TS_clean_guilds <- TS_clean_guilds[!TS_clean_guilds$Guild==\"emoA\",]\n",
    "TS_clean_guilds <- TS_clean_guilds[!TS_clean_guilds$Guild==\"pxmA\",]\n",
    "TS_clean_guilds <- TS_clean_guilds[!TS_clean_guilds$Guild==\"HydA\",]\n",
    "TS_clean_guilds[is.na(TS_clean_guilds)] <- 0"
   ]
  },
  {
   "cell_type": "markdown",
   "metadata": {},
   "source": [
    "### c) plot guild abundances "
   ]
  },
  {
   "cell_type": "code",
   "execution_count": 26,
   "metadata": {},
   "outputs": [
    {
     "name": "stderr",
     "output_type": "stream",
     "text": [
      "Using Guild as id variables\n",
      "\n",
      "Warning message:\n",
      "“\u001b[1m\u001b[22mRemoved 61 rows containing missing values (`position_stack()`).”\n",
      "Warning message:\n",
      "“\u001b[1m\u001b[22mRemoved 61 rows containing missing values (`position_stack()`).”\n"
     ]
    }
   ],
   "source": [
    "TS_Site_sort_G <- abund_loc_barplot(TS_guilds_CPM, \"Guild\", metaDB, \"EWsiteHyd_index\", \"\", TS_guild_cols)"
   ]
  },
  {
   "cell_type": "code",
   "execution_count": 27,
   "metadata": {},
   "outputs": [
    {
     "data": {
      "image/png": "[encoded data removed]",
      "text/plain": [
       "plot without title"
      ]
     },
     "metadata": {
      "image/png": {
       "height": 240,
       "width": 360
      }
     },
     "output_type": "display_data"
    }
   ],
   "source": [
    "options(repr.plot.width=6, repr.plot.height=4) \n",
    "TS_Site_sort_G"
   ]
  },
  {
   "cell_type": "code",
   "execution_count": 28,
   "metadata": {},
   "outputs": [
    {
     "name": "stderr",
     "output_type": "stream",
     "text": [
      "Using Guild as id variables\n",
      "\n"
     ]
    }
   ],
   "source": [
    "TS_reduced_Gs <- abund_loc_barplot(TS_clean_guilds, \"Guild\", metaDB, \"EWsiteHyd_index\", \"\", TS_guild_cols)"
   ]
  },
  {
   "cell_type": "code",
   "execution_count": 32,
   "metadata": {},
   "outputs": [
    {
     "data": {
      "image/png": "[encoded data removed]",
      "text/plain": [
       "plot without title"
      ]
     },
     "metadata": {
      "image/png": {
       "height": 240,
       "width": 360
      }
     },
     "output_type": "display_data"
    }
   ],
   "source": [
    "TS_reduced_Gs"
   ]
  },
  {
   "cell_type": "code",
   "execution_count": null,
   "metadata": {},
   "outputs": [],
   "source": []
  }
 ],
 "metadata": {
  "anaconda-cloud": {},
  "kernelspec": {
   "display_name": "R",
   "language": "R",
   "name": "ir"
  },
  "language_info": {
   "codemirror_mode": "r",
   "file_extension": ".r",
   "mimetype": "text/x-r-source",
   "name": "R",
   "pygments_lexer": "r",
   "version": "4.2.3"
  }
 },
 "nbformat": 4,
 "nbformat_minor": 4
}
