{
 "cells": [
  {
   "cell_type": "markdown",
   "metadata": {},
   "source": [
    "# New OTU data from SILVA / QIIME 2\n",
    "- from Cliff"
   ]
  },
  {
   "cell_type": "markdown",
   "metadata": {},
   "source": [
    "# 1)  Get & reformat OTU table"
   ]
  },
  {
   "cell_type": "markdown",
   "metadata": {},
   "source": [
    "### a) load as is from rds (contains taxa, OTUs, metadata)"
   ]
  },
  {
   "cell_type": "code",
   "execution_count": 1,
   "metadata": {},
   "outputs": [],
   "source": [
    "data <- readRDS(\"input_filt.rds\")\n",
    "#data # slow "
   ]
  },
  {
   "cell_type": "code",
   "execution_count": 2,
   "metadata": {},
   "outputs": [],
   "source": [
    "# split data\n",
    "taxa = data$taxonomy\n",
    "OTUs = data$data_loaded\n",
    "# metadata = data$map_loaded\n",
    "# head(OTUs)"
   ]
  },
  {
   "cell_type": "code",
   "execution_count": 3,
   "metadata": {},
   "outputs": [],
   "source": [
    "# note taxa do not match old format, around which all downstream processing is built! \n",
    "# head(taxa)"
   ]
  },
  {
   "cell_type": "code",
   "execution_count": 4,
   "metadata": {},
   "outputs": [],
   "source": [
    "# Gather raw OTU table - had checked alignment\n",
    "raw_OTU_table = data.frame(OTUs, taxa)  # note here that asv ordering is preserved -- will use it!\n",
    "# head(raw_OTU_table)#; tail(raw_OTU_table)  # also note, split taxa not format I want! \n",
    "\n",
    "write.table(raw_OTU_table, \"Silva_OTU_raw.txt\", sep = '\\t')"
   ]
  },
  {
   "cell_type": "markdown",
   "metadata": {},
   "source": [
    "### b)  reformat taxonomy \n",
    "- to match older OTU table version with \"Consensus.lineage\"\n",
    "- So can consistently use 1_OTU_preprocess_module & label terminal confident taxonomic assignment\n",
    "- This was initially a single string \"Consensus.lineage\"\n",
    "- ranks were \";\" separated, led with \"k__\", \"p__\", \"c__\", \"o__\", \"f__\", \"g__\"  \n",
    "- does not appear that there were species?  or these were just OTUs.\n",
    "- NO SPECIES INCLUDED HERE!  will need to worry about ASV IDs for later?"
   ]
  },
  {
   "cell_type": "code",
   "execution_count": 5,
   "metadata": {},
   "outputs": [],
   "source": [
    "# old format had no NAs\n",
    "taxa[taxa=='NA'] <-\"\"   # no NAs\n",
    "# head(taxa) "
   ]
  },
  {
   "cell_type": "code",
   "execution_count": 6,
   "metadata": {},
   "outputs": [],
   "source": [
    "# make small data for test\n",
    "sm_taxa = head(taxa)\n",
    "\n",
    "# Add back in tax rank markers \"k__\", \"p__\", \"c__\", \"o__\", \"f__\", \"g__\"\n",
    "\n",
    "paste_ranks = function(sm_taxa){\n",
    "    k = data.frame(k =\"k__\", sm_taxa['taxonomy1'])\n",
    "    k2 <- do.call(paste, c(k, sep = \"\"))\n",
    "\n",
    "    p = data.frame(k =\"p__\", sm_taxa['taxonomy2'])\n",
    "    p2 <- do.call(paste, c(p, sep = \"\"))\n",
    "\n",
    "    c = data.frame(k =\"c__\", sm_taxa['taxonomy3'])\n",
    "    c2 <- do.call(paste, c(c, sep = \"\"))\n",
    "\n",
    "    o = data.frame(k =\"o__\", sm_taxa['taxonomy4'])\n",
    "    o2 <- do.call(paste, c(o, sep = \"\"))\n",
    "\n",
    "    f = data.frame(k =\"f__\", sm_taxa['taxonomy5'])\n",
    "    f2 <- do.call(paste, c(f, sep = \"\"))\n",
    "\n",
    "    g = data.frame(k =\"g__\", sm_taxa['taxonomy6'])\n",
    "    g2 <- do.call(paste, c(g, sep = \"\"))\n",
    "\n",
    "    # NOT USING SPECIES HERE! OTU preprocessing doesn't!\n",
    "    s = data.frame(k =\"s__\", sm_taxa['taxonomy7'])\n",
    "    s2 <- do.call(paste, c(s, sep = \"\"))\n",
    "\n",
    "    # combine all\n",
    "    lineage_df = data.frame(k2, p2, c2, o2, f2, g2)\n",
    "    lineage = do.call(paste, c(lineage_df, sep = ';'))\n",
    "    return(lineage)\n",
    "}"
   ]
  },
  {
   "cell_type": "code",
   "execution_count": 7,
   "metadata": {},
   "outputs": [],
   "source": [
    "# check this maps for small taxa test\n",
    "sm_lineage = paste_ranks(sm_taxa)\n",
    "# sm_taxa['Consensus.lineage'] = sm_lineage\n",
    "# sm_taxa"
   ]
  },
  {
   "cell_type": "code",
   "execution_count": 8,
   "metadata": {},
   "outputs": [],
   "source": [
    "# make a small OTU table for testing next steps\n",
    "sm_otu = head(OTUs)\n",
    "Consensus.lineage = sm_lineage\n",
    "\n",
    "sm_OTU_table = data.frame(sm_otu, Consensus.lineage)  # note here that asv ordering is preserved -- will use it!\n",
    "# head(sm_OTU_table)#; tail(raw_OTU_table)  # also note, split taxa not format I want! \n",
    "\n",
    "write.table(sm_OTU_table, \"sm_reformed_Silva_OTU_table.txt\", sep = '\\t')"
   ]
  },
  {
   "cell_type": "code",
   "execution_count": 9,
   "metadata": {},
   "outputs": [],
   "source": [
    "# Make & export the real thing\n",
    "Consensus.lineage = paste_ranks(taxa)\n",
    "reformed_OTU_table = data.frame(OTUs, Consensus.lineage)  # note here that asv ordering is preserved -- will use it!\n",
    "\n",
    "write.table(reformed_OTU_table, \"reformed_Silva_OTU_table.txt\", sep = '\\t')"
   ]
  },
  {
   "cell_type": "markdown",
   "metadata": {},
   "source": [
    "# 2) OTU table preprocessing "
   ]
  },
  {
   "cell_type": "code",
   "execution_count": 10,
   "metadata": {},
   "outputs": [],
   "source": [
    "#source(\"../modules/1_OTU_preprocess_module_0.2.r\")\n",
    "source(\"../modules/1_OTU_preprocessing.r\")"
   ]
  },
  {
   "cell_type": "markdown",
   "metadata": {},
   "source": [
    "### small test shows a problem with sample ordering: \n",
    "- Sandmound_Cattail sites were supposed to be dropped (only 2 cores, not v. important habitat) \n",
    "- Still there, and now \"Sandmound_Tule_C_D1\tSandmound_Tule_C_D2\" at the end after Consensus.lineage()\n",
    "- Above samples have an extra dash before \"C_D1, C_D2), fix it."
   ]
  },
  {
   "cell_type": "code",
   "execution_count": 45,
   "metadata": {},
   "outputs": [],
   "source": [
    "### IMPORT Sample mapping\n",
    "metaDB <-read.table(\"../data/meta/SF_sal_meta_FIX3.txt\", sep=\"\\t\", header=TRUE)               # import Mapping    # # try keeping all params...\n",
    "row.names(metaDB) <- metaDB$Sample                                                            # Row names are samples for phyloseq             #head(map_iTag)\n",
    "metaDB = metaDB[,-1]                                                                          # Drop only old index, keep everything else            \n",
    "# colnames(metaDB)\n",
    "\n",
    "## IMPORT OTU TABLE          \n",
    "# sm_test done first\n",
    "# otu_raw <- reformed_OTU_table\n",
    "otu_raw <- read.table(\"reformed_Silva_OTU_table.txt\", sep='\\t', header=TRUE)      # add to fxn below?\n",
    "#otu_tax <-data.frame(OTU= row.names(otu_raw), Taxonomy = otu_raw$Consensus.lineage)      \n",
    "\n",
    "# Fix sample names to match metadata !!   - discovered with small data test\n",
    "oldnames = c('Sandmound_Tule_C_D1','Sandmound_Tule_C_D2')\n",
    "newnames = c('Sandmound_TuleC_D1','Sandmound_TuleC_D2')\n",
    "for(i in 1:2) names(otu_raw)[names(otu_raw) == oldnames[i]] = newnames[i]\n",
    "\n",
    "# PREPROCESS OTU TABLE (site sort, filter, taxonomy)\n",
    "otu_PP = otu_t_preproc(otu_raw, 500, metaDB, \"Sample\", \"EWsiteHyd_index\")\n",
    "# dim(otu_PP); head(otu_PP) # names(otu_PP)\n",
    "\n",
    "# for unknown reasons, need to make OTU counts NUMERIC\n",
    "exclude <- c(\"OTU\", 'Consensus.lineage', 'Kingdom', 'Phylum', 'Class', 'Order', 'Family', 'Genus')\n",
    "all_cols <-colnames(otu_PP)\n",
    "sites = all_cols[all_cols != exclude]\n",
    "otu_PP[sites] <- lapply(otu_PP[sites], as.numeric)\n"
   ]
  },
  {
   "cell_type": "code",
   "execution_count": 47,
   "metadata": {},
   "outputs": [],
   "source": [
    "#head(otu_PP)"
   ]
  },
  {
   "cell_type": "code",
   "execution_count": 48,
   "metadata": {},
   "outputs": [],
   "source": [
    "# write table\n",
    "write.table(otu_PP, \"Silva_OTU_PP.txt\", sep='\\t')"
   ]
  },
  {
   "cell_type": "markdown",
   "metadata": {},
   "source": [
    "# 3) DESeq2 normalize data\n",
    "- VST_CPM here is variance stablized transform, returned as Counts Per Million"
   ]
  },
  {
   "cell_type": "code",
   "execution_count": 54,
   "metadata": {},
   "outputs": [],
   "source": [
    "source(\"../modules/2_OTU_table_to_DESeq2_and_VST_cpm_0.7.r\")"
   ]
  },
  {
   "cell_type": "code",
   "execution_count": 55,
   "metadata": {},
   "outputs": [],
   "source": [
    "# Reimport from file! \n",
    "otu_PP = read.table(\"Silva_OTU_PP.txt\", sep='\\t')\n",
    "\n",
    "### IMPORT Sample mapping\n",
    "metaDB <-read.table(\"../data/meta/SF_sal_meta_FIX3.txt\", sep=\"\\t\", header=TRUE)               # import Mapping    # # try keeping all params...\n",
    "row.names(metaDB) <- metaDB$Sample                                                            # Row names are samples for phyloseq             #head(map_iTag)\n",
    "metaDB = metaDB[,-1]                                                                          # Drop only old index, keep everything else            "
   ]
  },
  {
   "cell_type": "code",
   "execution_count": 56,
   "metadata": {},
   "outputs": [
    {
     "name": "stderr",
     "output_type": "stream",
     "text": [
      "Warning message in .local(object):\n",
      "“Coercing from data.frame class to character matrix \n",
      "prior to building taxonomyTable. \n",
      "This could introduce artifacts. \n",
      "Check your taxonomyTable, or coerce to matrix manually.”\n"
     ]
    },
    {
     "name": "stdout",
     "output_type": "stream",
     "text": [
      "phyloseq-class experiment-level object\n",
      "otu_table()   OTU Table:         [ 11043 taxa and 168 samples ]\n",
      "sample_data() Sample Data:       [ 168 samples by 66 sample variables ]\n",
      "tax_table()   Taxonomy Table:    [ 11043 taxa by 8 taxonomic ranks ]\n"
     ]
    },
    {
     "name": "stderr",
     "output_type": "stream",
     "text": [
      "converting counts to integer mode\n",
      "\n",
      "Warning message in DESeq(OTU_phy2des, test = \"Wald\", fitType = \"parametric\"):\n",
      "“the design is ~ 1 (just an intercept). is this intended?”\n",
      "estimating size factors\n",
      "\n",
      "estimating dispersions\n",
      "\n",
      "gene-wise dispersion estimates\n",
      "\n",
      "mean-dispersion relationship\n",
      "\n",
      "-- note: fitType='parametric', but the dispersion trend was not well captured by the\n",
      "   function: y = a/x + b, and a local regression fit was automatically substituted.\n",
      "   specify fitType='local' or 'mean' to avoid this message next time.\n",
      "\n",
      "final dispersion estimates\n",
      "\n",
      "fitting model and testing\n",
      "\n",
      "-- replacing outliers and refitting for 5559 genes\n",
      "-- DESeq argument 'minReplicatesForReplace' = 7 \n",
      "-- original counts are preserved in counts(dds)\n",
      "\n",
      "estimating dispersions\n",
      "\n",
      "fitting model and testing\n",
      "\n"
     ]
    },
    {
     "name": "stdout",
     "output_type": "stream",
     "text": [
      "[1] \"Deseq2 finished computing\"\n"
     ]
    }
   ],
   "source": [
    "# oversight in the module, looks like fxn 4 needs to take physeq, pass to fxn 5 too.\n",
    "# just add to global env here, sigh.  or fix in v0.7 new vs v0.6\n",
    "# physeq = make_Phyloseq_data(otu_PP, metaDB)  \n",
    "\n",
    "### Get DESeq2 normalized counts per million ###\n",
    "OTU_vstCPM = calc_DESeq2_CPM(otu_PP, metaDB)"
   ]
  },
  {
   "cell_type": "code",
   "execution_count": 57,
   "metadata": {},
   "outputs": [
    {
     "data": {
      "text/html": [
       "<table>\n",
       "<caption>A data.frame: 6 × 176</caption>\n",
       "<thead>\n",
       "\t<tr><th></th><th scope=col>OTU</th><th scope=col>Sandmound_TuleA_D1</th><th scope=col>Sandmound_TuleA_D2</th><th scope=col>Sandmound_TuleB_D1</th><th scope=col>Sandmound_TuleB_D2</th><th scope=col>Sandmound_TuleC_D1</th><th scope=col>Sandmound_TuleC_D2</th><th scope=col>Sandmound_CattailA_D1</th><th scope=col>Sandmound_CattailA_D2</th><th scope=col>Sandmound_ThreeSqA_D1</th><th scope=col>⋯</th><th scope=col>Muzzi_PWB_D2</th><th scope=col>Muzzi_PWC_D1</th><th scope=col>Muzzi_PWC_D2</th><th scope=col>Consensus.lineage</th><th scope=col>Kingdom</th><th scope=col>Phylum</th><th scope=col>Class</th><th scope=col>Order</th><th scope=col>Family</th><th scope=col>Genus</th></tr>\n",
       "\t<tr><th></th><th scope=col>&lt;chr&gt;</th><th scope=col>&lt;dbl&gt;</th><th scope=col>&lt;dbl&gt;</th><th scope=col>&lt;dbl&gt;</th><th scope=col>&lt;dbl&gt;</th><th scope=col>&lt;dbl&gt;</th><th scope=col>&lt;dbl&gt;</th><th scope=col>&lt;dbl&gt;</th><th scope=col>&lt;dbl&gt;</th><th scope=col>&lt;dbl&gt;</th><th scope=col>⋯</th><th scope=col>&lt;dbl&gt;</th><th scope=col>&lt;dbl&gt;</th><th scope=col>&lt;dbl&gt;</th><th scope=col>&lt;fct&gt;</th><th scope=col>&lt;fct&gt;</th><th scope=col>&lt;fct&gt;</th><th scope=col>&lt;fct&gt;</th><th scope=col>&lt;fct&gt;</th><th scope=col>&lt;fct&gt;</th><th scope=col>&lt;fct&gt;</th></tr>\n",
       "</thead>\n",
       "<tbody>\n",
       "\t<tr><th scope=row>1</th><td>otu_ASV_1    </td><td>533.31738</td><td>703.04175</td><td> 684.77517</td><td>1163.60699</td><td>404.94027</td><td>1087.48518</td><td>848.29488</td><td>656.35256</td><td>867.92732</td><td>⋯</td><td>852.51492</td><td>1467.043076</td><td>1111.978438</td><td>k__Bacteria;p__Firmicutes;c__Bacilli;o__Bacillales;f__;g__                                                </td><td>Bacteria</td><td>Firmicutes       </td><td>Bacilli            </td><td>Bacillales        </td><td>BacillalesOR   </td><td>BacillalesOR     </td></tr>\n",
       "\t<tr><th scope=row>2</th><td>otu_ASV_10   </td><td>264.16655</td><td>554.74388</td><td>1673.89485</td><td> 201.94832</td><td> 20.94519</td><td> 377.06772</td><td>553.46068</td><td> 15.62744</td><td> 30.77756</td><td>⋯</td><td>738.84626</td><td>2426.568547</td><td> 832.142805</td><td>k__Bacteria;p__Desulfobacterota;c__Desulfuromonadia;o__Desulfuromonadales;f__Sva1033;g__                  </td><td>Bacteria</td><td>Desulfobacterota </td><td>Desulfuromonadia   </td><td>Desulfuromonadales</td><td>Sva1033        </td><td>Sva1033FA        </td></tr>\n",
       "\t<tr><th scope=row>3</th><td>otu_ASV_100  </td><td>368.83632</td><td>131.82033</td><td> 380.43065</td><td>  57.69952</td><td> 62.83556</td><td>  27.32375</td><td>517.25297</td><td>161.48357</td><td> 36.93308</td><td>⋯</td><td> 56.83433</td><td>  23.789888</td><td>  22.092287</td><td>k__Bacteria;p__Proteobacteria;c__Gammaproteobacteria;o__Arenicellales;f__Arenicellaceae;g__               </td><td>Bacteria</td><td>Proteobacteria   </td><td>Gammaproteobacteria</td><td>Arenicellales     </td><td>Arenicellaceae </td><td>ArenicellaceaeFA </td></tr>\n",
       "\t<tr><th scope=row>4</th><td>otu_ASV_1000 </td><td>588.14440</td><td>488.83372</td><td>  76.08613</td><td> 394.28005</td><td>858.75264</td><td> 699.48795</td><td>501.73538</td><td>916.80992</td><td>178.50987</td><td>⋯</td><td> 56.83433</td><td>   7.929963</td><td>   7.364096</td><td>k__Bacteria;p__Myxococcota;c__Polyangia;o__Polyangiales;f__BIrii41;g__                                    </td><td>Bacteria</td><td>Myxococcota      </td><td>Polyangia          </td><td>Polyangiales      </td><td>BIrii41        </td><td>BIrii41FA        </td></tr>\n",
       "\t<tr><th scope=row>5</th><td>otu_ASV_10000</td><td> 84.73267</td><td> 27.46257</td><td>  76.08613</td><td> 105.78245</td><td>104.72593</td><td>  27.32375</td><td>134.48577</td><td> 41.67318</td><td>153.88782</td><td>⋯</td><td> 56.83433</td><td>   7.929963</td><td>   7.364096</td><td>k__Bacteria;p__Proteobacteria;c__Gammaproteobacteria;o__Burkholderiales;f__Comamonadaceae;g__Aquabacterium</td><td>Bacteria</td><td>Proteobacteria   </td><td>Gammaproteobacteria</td><td>Burkholderiales   </td><td>Comamonadaceae </td><td>Aquabacterium    </td></tr>\n",
       "\t<tr><th scope=row>6</th><td>otu_ASV_10001</td><td>284.10365</td><td> 60.41765</td><td>  76.08613</td><td>  28.84976</td><td>300.21434</td><td> 103.83024</td><td> 67.24289</td><td> 26.04574</td><td>289.30911</td><td>⋯</td><td> 56.83433</td><td>   7.929963</td><td>   7.364096</td><td>k__Bacteria;p__Verrucomicrobiota;c__Verrucomicrobiae;o__Pedosphaerales;f__Pedosphaeraceae;g__             </td><td>Bacteria</td><td>Verrucomicrobiota</td><td>Verrucomicrobiae   </td><td>Pedosphaerales    </td><td>Pedosphaeraceae</td><td>PedosphaeraceaeFA</td></tr>\n",
       "</tbody>\n",
       "</table>\n"
      ],
      "text/latex": [
       "A data.frame: 6 × 176\n",
       "\\begin{tabular}{r|lllllllllllllllllllll}\n",
       "  & OTU & Sandmound\\_TuleA\\_D1 & Sandmound\\_TuleA\\_D2 & Sandmound\\_TuleB\\_D1 & Sandmound\\_TuleB\\_D2 & Sandmound\\_TuleC\\_D1 & Sandmound\\_TuleC\\_D2 & Sandmound\\_CattailA\\_D1 & Sandmound\\_CattailA\\_D2 & Sandmound\\_ThreeSqA\\_D1 & ⋯ & Muzzi\\_PWB\\_D2 & Muzzi\\_PWC\\_D1 & Muzzi\\_PWC\\_D2 & Consensus.lineage & Kingdom & Phylum & Class & Order & Family & Genus\\\\\n",
       "  & <chr> & <dbl> & <dbl> & <dbl> & <dbl> & <dbl> & <dbl> & <dbl> & <dbl> & <dbl> & ⋯ & <dbl> & <dbl> & <dbl> & <fct> & <fct> & <fct> & <fct> & <fct> & <fct> & <fct>\\\\\n",
       "\\hline\n",
       "\t1 & otu\\_ASV\\_1     & 533.31738 & 703.04175 &  684.77517 & 1163.60699 & 404.94027 & 1087.48518 & 848.29488 & 656.35256 & 867.92732 & ⋯ & 852.51492 & 1467.043076 & 1111.978438 & k\\_\\_Bacteria;p\\_\\_Firmicutes;c\\_\\_Bacilli;o\\_\\_Bacillales;f\\_\\_;g\\_\\_                                                 & Bacteria & Firmicutes        & Bacilli             & Bacillales         & BacillalesOR    & BacillalesOR     \\\\\n",
       "\t2 & otu\\_ASV\\_10    & 264.16655 & 554.74388 & 1673.89485 &  201.94832 &  20.94519 &  377.06772 & 553.46068 &  15.62744 &  30.77756 & ⋯ & 738.84626 & 2426.568547 &  832.142805 & k\\_\\_Bacteria;p\\_\\_Desulfobacterota;c\\_\\_Desulfuromonadia;o\\_\\_Desulfuromonadales;f\\_\\_Sva1033;g\\_\\_                   & Bacteria & Desulfobacterota  & Desulfuromonadia    & Desulfuromonadales & Sva1033         & Sva1033FA        \\\\\n",
       "\t3 & otu\\_ASV\\_100   & 368.83632 & 131.82033 &  380.43065 &   57.69952 &  62.83556 &   27.32375 & 517.25297 & 161.48357 &  36.93308 & ⋯ &  56.83433 &   23.789888 &   22.092287 & k\\_\\_Bacteria;p\\_\\_Proteobacteria;c\\_\\_Gammaproteobacteria;o\\_\\_Arenicellales;f\\_\\_Arenicellaceae;g\\_\\_                & Bacteria & Proteobacteria    & Gammaproteobacteria & Arenicellales      & Arenicellaceae  & ArenicellaceaeFA \\\\\n",
       "\t4 & otu\\_ASV\\_1000  & 588.14440 & 488.83372 &   76.08613 &  394.28005 & 858.75264 &  699.48795 & 501.73538 & 916.80992 & 178.50987 & ⋯ &  56.83433 &    7.929963 &    7.364096 & k\\_\\_Bacteria;p\\_\\_Myxococcota;c\\_\\_Polyangia;o\\_\\_Polyangiales;f\\_\\_BIrii41;g\\_\\_                                     & Bacteria & Myxococcota       & Polyangia           & Polyangiales       & BIrii41         & BIrii41FA        \\\\\n",
       "\t5 & otu\\_ASV\\_10000 &  84.73267 &  27.46257 &   76.08613 &  105.78245 & 104.72593 &   27.32375 & 134.48577 &  41.67318 & 153.88782 & ⋯ &  56.83433 &    7.929963 &    7.364096 & k\\_\\_Bacteria;p\\_\\_Proteobacteria;c\\_\\_Gammaproteobacteria;o\\_\\_Burkholderiales;f\\_\\_Comamonadaceae;g\\_\\_Aquabacterium & Bacteria & Proteobacteria    & Gammaproteobacteria & Burkholderiales    & Comamonadaceae  & Aquabacterium    \\\\\n",
       "\t6 & otu\\_ASV\\_10001 & 284.10365 &  60.41765 &   76.08613 &   28.84976 & 300.21434 &  103.83024 &  67.24289 &  26.04574 & 289.30911 & ⋯ &  56.83433 &    7.929963 &    7.364096 & k\\_\\_Bacteria;p\\_\\_Verrucomicrobiota;c\\_\\_Verrucomicrobiae;o\\_\\_Pedosphaerales;f\\_\\_Pedosphaeraceae;g\\_\\_              & Bacteria & Verrucomicrobiota & Verrucomicrobiae    & Pedosphaerales     & Pedosphaeraceae & PedosphaeraceaeFA\\\\\n",
       "\\end{tabular}\n"
      ],
      "text/markdown": [
       "\n",
       "A data.frame: 6 × 176\n",
       "\n",
       "| <!--/--> | OTU &lt;chr&gt; | Sandmound_TuleA_D1 &lt;dbl&gt; | Sandmound_TuleA_D2 &lt;dbl&gt; | Sandmound_TuleB_D1 &lt;dbl&gt; | Sandmound_TuleB_D2 &lt;dbl&gt; | Sandmound_TuleC_D1 &lt;dbl&gt; | Sandmound_TuleC_D2 &lt;dbl&gt; | Sandmound_CattailA_D1 &lt;dbl&gt; | Sandmound_CattailA_D2 &lt;dbl&gt; | Sandmound_ThreeSqA_D1 &lt;dbl&gt; | ⋯ ⋯ | Muzzi_PWB_D2 &lt;dbl&gt; | Muzzi_PWC_D1 &lt;dbl&gt; | Muzzi_PWC_D2 &lt;dbl&gt; | Consensus.lineage &lt;fct&gt; | Kingdom &lt;fct&gt; | Phylum &lt;fct&gt; | Class &lt;fct&gt; | Order &lt;fct&gt; | Family &lt;fct&gt; | Genus &lt;fct&gt; |\n",
       "|---|---|---|---|---|---|---|---|---|---|---|---|---|---|---|---|---|---|---|---|---|---|\n",
       "| 1 | otu_ASV_1     | 533.31738 | 703.04175 |  684.77517 | 1163.60699 | 404.94027 | 1087.48518 | 848.29488 | 656.35256 | 867.92732 | ⋯ | 852.51492 | 1467.043076 | 1111.978438 | k__Bacteria;p__Firmicutes;c__Bacilli;o__Bacillales;f__;g__                                                 | Bacteria | Firmicutes        | Bacilli             | Bacillales         | BacillalesOR    | BacillalesOR      |\n",
       "| 2 | otu_ASV_10    | 264.16655 | 554.74388 | 1673.89485 |  201.94832 |  20.94519 |  377.06772 | 553.46068 |  15.62744 |  30.77756 | ⋯ | 738.84626 | 2426.568547 |  832.142805 | k__Bacteria;p__Desulfobacterota;c__Desulfuromonadia;o__Desulfuromonadales;f__Sva1033;g__                   | Bacteria | Desulfobacterota  | Desulfuromonadia    | Desulfuromonadales | Sva1033         | Sva1033FA         |\n",
       "| 3 | otu_ASV_100   | 368.83632 | 131.82033 |  380.43065 |   57.69952 |  62.83556 |   27.32375 | 517.25297 | 161.48357 |  36.93308 | ⋯ |  56.83433 |   23.789888 |   22.092287 | k__Bacteria;p__Proteobacteria;c__Gammaproteobacteria;o__Arenicellales;f__Arenicellaceae;g__                | Bacteria | Proteobacteria    | Gammaproteobacteria | Arenicellales      | Arenicellaceae  | ArenicellaceaeFA  |\n",
       "| 4 | otu_ASV_1000  | 588.14440 | 488.83372 |   76.08613 |  394.28005 | 858.75264 |  699.48795 | 501.73538 | 916.80992 | 178.50987 | ⋯ |  56.83433 |    7.929963 |    7.364096 | k__Bacteria;p__Myxococcota;c__Polyangia;o__Polyangiales;f__BIrii41;g__                                     | Bacteria | Myxococcota       | Polyangia           | Polyangiales       | BIrii41         | BIrii41FA         |\n",
       "| 5 | otu_ASV_10000 |  84.73267 |  27.46257 |   76.08613 |  105.78245 | 104.72593 |   27.32375 | 134.48577 |  41.67318 | 153.88782 | ⋯ |  56.83433 |    7.929963 |    7.364096 | k__Bacteria;p__Proteobacteria;c__Gammaproteobacteria;o__Burkholderiales;f__Comamonadaceae;g__Aquabacterium | Bacteria | Proteobacteria    | Gammaproteobacteria | Burkholderiales    | Comamonadaceae  | Aquabacterium     |\n",
       "| 6 | otu_ASV_10001 | 284.10365 |  60.41765 |   76.08613 |   28.84976 | 300.21434 |  103.83024 |  67.24289 |  26.04574 | 289.30911 | ⋯ |  56.83433 |    7.929963 |    7.364096 | k__Bacteria;p__Verrucomicrobiota;c__Verrucomicrobiae;o__Pedosphaerales;f__Pedosphaeraceae;g__              | Bacteria | Verrucomicrobiota | Verrucomicrobiae    | Pedosphaerales     | Pedosphaeraceae | PedosphaeraceaeFA |\n",
       "\n"
      ],
      "text/plain": [
       "  OTU           Sandmound_TuleA_D1 Sandmound_TuleA_D2 Sandmound_TuleB_D1\n",
       "1 otu_ASV_1     533.31738          703.04175           684.77517        \n",
       "2 otu_ASV_10    264.16655          554.74388          1673.89485        \n",
       "3 otu_ASV_100   368.83632          131.82033           380.43065        \n",
       "4 otu_ASV_1000  588.14440          488.83372            76.08613        \n",
       "5 otu_ASV_10000  84.73267           27.46257            76.08613        \n",
       "6 otu_ASV_10001 284.10365           60.41765            76.08613        \n",
       "  Sandmound_TuleB_D2 Sandmound_TuleC_D1 Sandmound_TuleC_D2\n",
       "1 1163.60699         404.94027          1087.48518        \n",
       "2  201.94832          20.94519           377.06772        \n",
       "3   57.69952          62.83556            27.32375        \n",
       "4  394.28005         858.75264           699.48795        \n",
       "5  105.78245         104.72593            27.32375        \n",
       "6   28.84976         300.21434           103.83024        \n",
       "  Sandmound_CattailA_D1 Sandmound_CattailA_D2 Sandmound_ThreeSqA_D1 ⋯\n",
       "1 848.29488             656.35256             867.92732             ⋯\n",
       "2 553.46068              15.62744              30.77756             ⋯\n",
       "3 517.25297             161.48357              36.93308             ⋯\n",
       "4 501.73538             916.80992             178.50987             ⋯\n",
       "5 134.48577              41.67318             153.88782             ⋯\n",
       "6  67.24289              26.04574             289.30911             ⋯\n",
       "  Muzzi_PWB_D2 Muzzi_PWC_D1 Muzzi_PWC_D2\n",
       "1 852.51492    1467.043076  1111.978438 \n",
       "2 738.84626    2426.568547   832.142805 \n",
       "3  56.83433      23.789888    22.092287 \n",
       "4  56.83433       7.929963     7.364096 \n",
       "5  56.83433       7.929963     7.364096 \n",
       "6  56.83433       7.929963     7.364096 \n",
       "  Consensus.lineage                                                                                         \n",
       "1 k__Bacteria;p__Firmicutes;c__Bacilli;o__Bacillales;f__;g__                                                \n",
       "2 k__Bacteria;p__Desulfobacterota;c__Desulfuromonadia;o__Desulfuromonadales;f__Sva1033;g__                  \n",
       "3 k__Bacteria;p__Proteobacteria;c__Gammaproteobacteria;o__Arenicellales;f__Arenicellaceae;g__               \n",
       "4 k__Bacteria;p__Myxococcota;c__Polyangia;o__Polyangiales;f__BIrii41;g__                                    \n",
       "5 k__Bacteria;p__Proteobacteria;c__Gammaproteobacteria;o__Burkholderiales;f__Comamonadaceae;g__Aquabacterium\n",
       "6 k__Bacteria;p__Verrucomicrobiota;c__Verrucomicrobiae;o__Pedosphaerales;f__Pedosphaeraceae;g__             \n",
       "  Kingdom  Phylum            Class               Order             \n",
       "1 Bacteria Firmicutes        Bacilli             Bacillales        \n",
       "2 Bacteria Desulfobacterota  Desulfuromonadia    Desulfuromonadales\n",
       "3 Bacteria Proteobacteria    Gammaproteobacteria Arenicellales     \n",
       "4 Bacteria Myxococcota       Polyangia           Polyangiales      \n",
       "5 Bacteria Proteobacteria    Gammaproteobacteria Burkholderiales   \n",
       "6 Bacteria Verrucomicrobiota Verrucomicrobiae    Pedosphaerales    \n",
       "  Family          Genus            \n",
       "1 BacillalesOR    BacillalesOR     \n",
       "2 Sva1033         Sva1033FA        \n",
       "3 Arenicellaceae  ArenicellaceaeFA \n",
       "4 BIrii41         BIrii41FA        \n",
       "5 Comamonadaceae  Aquabacterium    \n",
       "6 Pedosphaeraceae PedosphaeraceaeFA"
      ]
     },
     "metadata": {},
     "output_type": "display_data"
    }
   ],
   "source": [
    "head(OTU_vstCPM)"
   ]
  },
  {
   "cell_type": "code",
   "execution_count": 58,
   "metadata": {},
   "outputs": [],
   "source": [
    "# export it\n",
    "write.table(otu_PP, \"Silva_OTU_VST_CPM.txt\", sep='\\t')"
   ]
  },
  {
   "cell_type": "code",
   "execution_count": null,
   "metadata": {},
   "outputs": [],
   "source": []
  }
 ],
 "metadata": {
  "anaconda-cloud": {},
  "kernelspec": {
   "display_name": "R [r-environment]",
   "language": "R",
   "name": "R [r-environment]"
  },
  "language_info": {
   "codemirror_mode": "r",
   "file_extension": ".r",
   "mimetype": "text/x-r-source",
   "name": "R",
   "pygments_lexer": "r",
   "version": "3.6.1"
  }
 },
 "nbformat": 4,
 "nbformat_minor": 4
}
