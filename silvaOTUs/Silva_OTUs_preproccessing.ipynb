{
 "cells": [
  {
   "cell_type": "markdown",
   "id": "874768fa",
   "metadata": {},
   "source": [
    "# Preprocessing of updated OTU data from SILVA / DADA2\n",
    "- Data from Cliff, used DADA2 assignTaxonomy() and SILVA version 138.\n",
    "\n",
    "**Steps are:**\n",
    "\n",
    "**1)** Preprocessing: sort samples by west to east, min samples total >= 500/168 samples\n",
    "- `Silva_OTU_PP.txt`\n",
    "\n",
    "**2)** DESeq normalization: Variance Stablized Counts Per Million \n",
    "- `Silva_OTU_VSTcpm.txt`\n",
    "\n",
    "# 1) OTU table preprocessing "
   ]
  },
  {
   "cell_type": "code",
   "execution_count": 3,
   "id": "ca728f2b",
   "metadata": {},
   "outputs": [],
   "source": [
    "#source(\"../modules/1_OTU_preprocess_module_0.2.r\")\n",
    "source(\"../modules/1_OTU_preprocessing.r\")"
   ]
  },
  {
   "cell_type": "markdown",
   "id": "7ac80e8f",
   "metadata": {},
   "source": [
    "### small test shows a problem with sample ordering: \n",
    "- Sandmound_Cattail sites were supposed to be dropped (only 2 cores, not v. important habitat) \n",
    "- Still there, and now \"Sandmound_Tule_C_D1\tSandmound_Tule_C_D2\" at the end after Consensus.lineage()\n",
    "- Above samples have an extra dash before \"C_D1, C_D2), fix it."
   ]
  },
  {
   "cell_type": "code",
   "execution_count": 4,
   "id": "18c88f8c",
   "metadata": {},
   "outputs": [],
   "source": [
    "### IMPORT Sample mapping\n",
    "metaDB <-read.table(\"../data/meta/SF_sal_meta_FIX3.txt\", sep=\"\\t\", header=TRUE)               # import Mapping    # # try keeping all params...\n",
    "row.names(metaDB) <- metaDB$Sample                                                            # Row names are samples for phyloseq             #head(map_iTag)\n",
    "metaDB = metaDB[,-1]                                                                          # Drop only old index, keep everything else            \n",
    "# colnames(metaDB)\n",
    "\n",
    "## IMPORT OTU TABLE (This is the exact same OTU table as the iTagger (i.e., 79380 OTUs) but with SILVA instead of Greengenes)          \n",
    "otu_raw <- read.table(\"SF_Salinity_gradient_OTU_table_SILVA.txt\", sep='\\t', header=TRUE, row.names = 1)      # add to fxn below?\n",
    "#otu_tax <-data.frame(OTU= row.names(otu_raw), Taxonomy = otu_raw$Consensus.lineage)      \n",
    "\n",
    "# Fix sample names to match metadata !!   - discovered with small data test\n",
    "oldnames = c('Sandmound_Tule_C_D1','Sandmound_Tule_C_D2')\n",
    "newnames = c('Sandmound_TuleC_D1','Sandmound_TuleC_D2')\n",
    "for(i in 1:2) names(otu_raw)[names(otu_raw) == oldnames[i]] = newnames[i]\n",
    "\n",
    "# PREPROCESS OTU TABLE (site sort, filter, taxonomy)\n",
    "otu_PP = otu_t_preproc(otu_raw, 500, metaDB, \"Sample\", \"EWsiteHyd_index\")\n",
    "# otu_PP = otu_t_preproc(otu_raw, 50, metaDB, \"Sample\", \"EWsiteHyd_index\")\n",
    "# dim(otu_PP); head(otu_PP) # names(otu_PP)\n",
    "\n",
    "# for unknown reasons, need to make OTU counts NUMERIC\n",
    "exclude <- c(\"OTU\", 'Consensus.lineage', 'Kingdom', 'Phylum', 'Class', 'Order', 'Family', 'Genus')\n",
    "all_cols <-colnames(otu_PP)\n",
    "sites = all_cols[all_cols != exclude]\n",
    "otu_PP[sites] <- lapply(otu_PP[sites], as.numeric)"
   ]
  },
  {
   "cell_type": "code",
   "execution_count": 5,
   "id": "1a9ce6e3",
   "metadata": {},
   "outputs": [],
   "source": [
    "# head(otu_PP)"
   ]
  },
  {
   "cell_type": "code",
   "execution_count": 6,
   "id": "5afe7676",
   "metadata": {},
   "outputs": [],
   "source": [
    "# write table\n",
    "write.table(otu_PP, \"Silva_OTU_PP.txt\", sep='\\t')\n",
    "# write.table(otu_PP, \"Silva_OTU_PP_50.txt\", sep='\\t')"
   ]
  },
  {
   "cell_type": "markdown",
   "id": "2fa46bb7",
   "metadata": {},
   "source": [
    "# 2) DESeq2 normalize data\n",
    "- VST_CPM here is variance stablized transform, returned as Counts Per Million"
   ]
  },
  {
   "cell_type": "code",
   "execution_count": 7,
   "id": "bb3e1eb3",
   "metadata": {},
   "outputs": [],
   "source": [
    "source(\"../modules/2_OTU_table_to_DESeq2_and_VST_cpm_0.7.r\")"
   ]
  },
  {
   "cell_type": "code",
   "execution_count": 8,
   "id": "2a1442fb",
   "metadata": {},
   "outputs": [],
   "source": [
    "# Reimport from file - this is the one with the 500 cutoff\n",
    "otu_PP = read.table(\"Silva_OTU_PP.txt\", sep='\\t', row.names = 1) %>%\n",
    "  dplyr::mutate_if(is.character, as.factor)\n",
    "# otu_PP50 = read.table(\"Silva_OTU_PP_50.txt\", sep='\\t')\n",
    "\n",
    "\n",
    "### IMPORT Sample mapping\n",
    "metaDB <-read.table(\"../data/meta/SF_sal_meta_FIX3.txt\", sep=\"\\t\", header=TRUE)               # import Mapping    # # try keeping all params...\n",
    "row.names(metaDB) <- metaDB$Sample                                                            # Row names are samples for phyloseq             #head(map_iTag)\n",
    "metaDB = metaDB[,-1]                                                                          # Drop only old index, keep everything else            "
   ]
  },
  {
   "cell_type": "code",
   "execution_count": 9,
   "id": "03d716c5",
   "metadata": {},
   "outputs": [
    {
     "name": "stderr",
     "output_type": "stream",
     "text": [
      "Warning message in .local(object):\n",
      "“Coercing from data.frame class to character matrix \n",
      "prior to building taxonomyTable. \n",
      "This could introduce artifacts. \n",
      "Check your taxonomyTable, or coerce to matrix manually.”\n"
     ]
    },
    {
     "name": "stdout",
     "output_type": "stream",
     "text": [
      "phyloseq-class experiment-level object\n",
      "otu_table()   OTU Table:         [ 6275 taxa and 168 samples ]\n",
      "sample_data() Sample Data:       [ 168 samples by 66 sample variables ]\n",
      "tax_table()   Taxonomy Table:    [ 6275 taxa by 8 taxonomic ranks ]\n"
     ]
    },
    {
     "name": "stderr",
     "output_type": "stream",
     "text": [
      "converting counts to integer mode\n",
      "\n",
      "Warning message in DESeq(OTU_phy2des, test = \"Wald\", fitType = \"parametric\"):\n",
      "“the design is ~ 1 (just an intercept). is this intended?”\n",
      "estimating size factors\n",
      "\n",
      "estimating dispersions\n",
      "\n",
      "gene-wise dispersion estimates\n",
      "\n",
      "mean-dispersion relationship\n",
      "\n",
      "final dispersion estimates\n",
      "\n",
      "fitting model and testing\n",
      "\n",
      "-- replacing outliers and refitting for 3683 genes\n",
      "-- DESeq argument 'minReplicatesForReplace' = 7 \n",
      "-- original counts are preserved in counts(dds)\n",
      "\n",
      "estimating dispersions\n",
      "\n",
      "fitting model and testing\n",
      "\n"
     ]
    },
    {
     "name": "stdout",
     "output_type": "stream",
     "text": [
      "[1] \"Deseq2 finished computing\"\n"
     ]
    }
   ],
   "source": [
    "# oversight in the module, looks like fxn 4 needs to take physeq, pass to fxn 5 too.\n",
    "# just add to global env here, sigh.  or fix in v0.7 new vs v0.6\n",
    "# physeq = make_Phyloseq_data(otu_PP, metaDB)\n",
    "\n",
    "### Get DESeq2 normalized counts per million ###\n",
    "OTU_vstCPM = calc_DESeq2_CPM(otu_PP, metaDB)"
   ]
  },
  {
   "cell_type": "code",
   "execution_count": 10,
   "id": "2712d50d",
   "metadata": {},
   "outputs": [],
   "source": [
    "# head(OTU_vstCPM)"
   ]
  },
  {
   "cell_type": "code",
   "execution_count": 11,
   "id": "31481635",
   "metadata": {
    "lines_to_next_cell": 0
   },
   "outputs": [],
   "source": [
    "# export it\n",
    "write.table(OTU_vstCPM, \"Silva_OTU_VSTcpm.txt\", sep='\\t')"
   ]
  },
  {
   "cell_type": "code",
   "execution_count": null,
   "id": "5562f9d4-329f-46ab-b677-b297a1eb579c",
   "metadata": {},
   "outputs": [],
   "source": []
  }
 ],
 "metadata": {
  "jupytext": {
   "cell_metadata_filter": "-all",
   "main_language": "R",
   "notebook_metadata_filter": "-all"
  },
  "kernelspec": {
   "display_name": "R",
   "language": "R",
   "name": "ir"
  },
  "language_info": {
   "codemirror_mode": "r",
   "file_extension": ".r",
   "mimetype": "text/x-r-source",
   "name": "R",
   "pygments_lexer": "r",
   "version": "4.0.2"
  }
 },
 "nbformat": 4,
 "nbformat_minor": 5
}
